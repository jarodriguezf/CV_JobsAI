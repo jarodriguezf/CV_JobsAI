{
 "cells": [
  {
   "cell_type": "code",
   "execution_count": 93,
   "metadata": {},
   "outputs": [],
   "source": [
    "import numpy as np\n",
    "import re"
   ]
  },
  {
   "cell_type": "code",
   "execution_count": 88,
   "metadata": {},
   "outputs": [],
   "source": [
    "# Menu de opciones tipos de cv y ofertas de trabajo\n",
    "def options_menu(id_name):\n",
    "    option_cv_job=id_name.lower()\n",
    "\n",
    "    while True:\n",
    "        print('¿Qué tipo de CV o oferta deseas guardar? (Software Developer, IA Developer, Network Engineer)')\n",
    "        print('Escribe \"software\", \"ia\" o \"network\":')\n",
    "        option_categories = input().lower()\n",
    "        if option_categories not in ['software', 'ia', 'network']:\n",
    "            print('Error. Solo puedes especificar la opción como \"software\", \"ia\" o \"network\".')\n",
    "        else:\n",
    "            return option_cv_job, option_categories"
   ]
  },
  {
   "cell_type": "code",
   "execution_count": 89,
   "metadata": {},
   "outputs": [],
   "source": [
    "# Extraemos la ultima posicion del archivo txt (sea cv o jobs)\n",
    "def insert_position_txt(filename, id_name):\n",
    "    try:\n",
    "        with open(filename, 'r', encoding='utf-8') as archivo:\n",
    "            contenido = archivo.read()\n",
    "    except FileNotFoundError:\n",
    "        print(f\"El archivo {filename} no fue encontrado.\")\n",
    "    except Exception as e:\n",
    "        print(f\"Error al leer el archivo {filename}: {e}\")\n",
    "        return None\n",
    "    \n",
    "    # Extraer digitos de cada id_name 'id'\n",
    "    numeros = re.findall(f'{id_name} (\\d+)', contenido)\n",
    "\n",
    "    # Si encontramos numeros en id_name, retornamos el ultimo\n",
    "    if numeros:\n",
    "        entero_numero = int(numeros[-1])\n",
    "        return entero_numero\n",
    "    else:\n",
    "        print(f\"No se encontraron números de {id_name} en el archivo.\")\n",
    "        return None"
   ]
  },
  {
   "cell_type": "code",
   "execution_count": 90,
   "metadata": {},
   "outputs": [],
   "source": [
    "# Guardar los nuevos datos al final de cada archivo (correspondientemente a su naturaleza)\n",
    "def save_data(data, id_name):\n",
    "    option_cv_job, option_categories = options_menu(id_name)\n",
    "    \n",
    "    # Mapeamos cada categoria con su ruta en el .txt\n",
    "    opciones_archivo = {\n",
    "        'software': f'../raw_data/Data_{id_name}_SoftwareDeveloper.txt',\n",
    "        'ia': f'../raw_data/Data_{id_name}_IADeveloper.txt',\n",
    "        'network': f'../raw_data/Data_{id_name}_NetworkEngineer.txt'\n",
    "    }\n",
    "    # Comprobamos para los 'cv' la categoria dada\n",
    "    if option_cv_job == id_name.lower() and option_categories in opciones_archivo:\n",
    "        filename = opciones_archivo[option_categories]\n",
    "        position = insert_position_txt(filename, id_name)  # último posicion del cv en el archivo.\n",
    "        position += 1  # Aumentamos la posición +1\n",
    "        string_position = str(position) # Convertimos a string\n",
    "        try:\n",
    "            with open(filename, 'a') as archivo:\n",
    "                archivo.write(f'\\n\\n\\n{id_name} {string_position}: {data}')\n",
    "            print(f\"Los datos se han añadido correctamente en {filename}\")\n",
    "        except Exception as e:\n",
    "            print(f\"Error al añadir los datos en {filename}: {e}\")\n",
    "    else:\n",
    "        print(f\"Opción de {id_name} o categoría no válida.\")"
   ]
  },
  {
   "cell_type": "code",
   "execution_count": null,
   "metadata": {},
   "outputs": [],
   "source": [
    "data = 'prueba de insercion de datos'\n",
    "save_data(data, '') # el segundo parametro insertaremos como curriculum o oferta de trabajo (CV/Jobs)"
   ]
  }
 ],
 "metadata": {
  "kernelspec": {
   "display_name": "Python 3",
   "language": "python",
   "name": "python3"
  },
  "language_info": {
   "codemirror_mode": {
    "name": "ipython",
    "version": 3
   },
   "file_extension": ".py",
   "mimetype": "text/x-python",
   "name": "python",
   "nbconvert_exporter": "python",
   "pygments_lexer": "ipython3",
   "version": "3.11.7"
  }
 },
 "nbformat": 4,
 "nbformat_minor": 2
}
