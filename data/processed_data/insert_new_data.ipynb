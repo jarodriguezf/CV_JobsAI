{
 "cells": [
  {
   "cell_type": "code",
   "execution_count": 1,
   "metadata": {},
   "outputs": [],
   "source": [
    "import numpy as np\n",
    "import re"
   ]
  },
  {
   "cell_type": "code",
   "execution_count": 2,
   "metadata": {},
   "outputs": [],
   "source": [
    "# Constantes de categorias tanto para CV como ofertas de trabajo, rutas de guardado para CV y ofertas.\n",
    "CATEGORIES = ['software', 'ia', 'network']\n",
    "FILE_PATHS = {\n",
    "    'software': '../raw_data/Data_{id_name}_SoftwareDeveloper.txt',\n",
    "    'ia': '../raw_data/Data_{id_name}_IADeveloper.txt',\n",
    "    'network': '../raw_data/Data_{id_name}_NetworkEngineer.txt'\n",
    "}"
   ]
  },
  {
   "cell_type": "code",
   "execution_count": 3,
   "metadata": {},
   "outputs": [],
   "source": [
    "# Validamos si la opcion elegida es la correcta\n",
    "def validate_input(prompt, options):\n",
    "    while True:\n",
    "        print(prompt) # Mostramos el menu por pantalla\n",
    "        option = input().lower()\n",
    "        if option not in options:\n",
    "            print(f'Error. Solo puedes especificar la opción como {\", \".join(options)}.')\n",
    "        else:\n",
    "            return option"
   ]
  },
  {
   "cell_type": "code",
   "execution_count": 4,
   "metadata": {},
   "outputs": [],
   "source": [
    "# Pintamos el menu de opciones (software, ia, network)\n",
    "def options_menu(id_name):\n",
    "    if not isinstance(id_name, str):\n",
    "        print('Error. Solo se puede introducir cadenas de texto')\n",
    "    else:    \n",
    "        option_cv_job = id_name.lower()\n",
    "        prompt = f'¿Qué tipo de {id_name} deseas guardar? (software, ia, network)'\n",
    "        option_categories = validate_input(prompt, CATEGORIES) # funcion para validar categoria elegida\n",
    "        return option_cv_job, option_categories"
   ]
  },
  {
   "cell_type": "code",
   "execution_count": 5,
   "metadata": {},
   "outputs": [],
   "source": [
    "# Recorremos cada txt correspondiente a la ruta seleccionada y devolvemos id ultimo registro.\n",
    "def insert_position_txt(filename, id_name):\n",
    "    try:\n",
    "        with open(filename, 'r', encoding='utf-8') as archivo:\n",
    "            contenido = archivo.read()\n",
    "    except Exception as e:\n",
    "        print(f\"Error al leer el archivo {filename}: {e}\")\n",
    "        return None\n",
    "    \n",
    "    # Extraemos el id de cada registro\n",
    "    numeros = re.findall(f'{id_name} (\\d+)', contenido)\n",
    "    if numeros:\n",
    "        return int(numeros[-1]) # Obtenemos el ultido id\n",
    "    else:\n",
    "        print(f\"No se encontraron números de {id_name} en el archivo.\")\n",
    "        return None"
   ]
  },
  {
   "cell_type": "code",
   "execution_count": 8,
   "metadata": {},
   "outputs": [],
   "source": [
    "# Guarda los datos en funcion de si es una oferta o un cv. Además de la categoria de cada uno de ellos.\n",
    "def save_data(data, id_name):\n",
    "    if not isinstance(id_name, str):\n",
    "        print('Error. Solo se puede introducir cadenas de texto')\n",
    "    else:\n",
    "        option_cv_job, option_categories = options_menu(id_name)# funcion de opciones menu\n",
    "\n",
    "        # Comprobamos si el nombre de la oferta o cv es igual al pasado por parametros.\n",
    "        # Comprobamos si la clave del FILE_PATHS es igual a las categorias elegidas en las opciones del menu\n",
    "        if option_cv_job == id_name.lower() and option_categories in FILE_PATHS:\n",
    "\n",
    "            #Contruimos el filename con el nombre correspondiente a la ruta elegida\n",
    "            filename = FILE_PATHS[option_categories].format(id_name=id_name)\n",
    "\n",
    "            position = insert_position_txt(filename, id_name)# funcion de calculo id ultimo registro\n",
    "            if position is not None:\n",
    "                position += 1\n",
    "                try:\n",
    "                    with open(filename, 'a', encoding='utf-8') as archivo:\n",
    "                        archivo.write(f'\\n\\n\\n{id_name} {str(position)}: {data}') # añadimos nuevos datos\n",
    "                    print(f\"Los datos se han añadido correctamente en {filename}\")\n",
    "                except Exception as e:\n",
    "                    print(f\"Error al añadir los datos en {filename}: {e}\")\n",
    "        else:\n",
    "            print(f\"Opción de {id_name} o categoría no válida.\")"
   ]
  },
  {
   "cell_type": "code",
   "execution_count": 9,
   "metadata": {},
   "outputs": [
    {
     "name": "stdout",
     "output_type": "stream",
     "text": [
      "¿Qué tipo de CV deseas guardar? (software, ia, network)\n",
      "Los datos se han añadido correctamente en ../raw_data/Data_CV_SoftwareDeveloper.txt\n"
     ]
    }
   ],
   "source": [
    "data = 'prueba de insercion de datos'\n",
    "save_data(data, 'CV') # Guarda Curriculums o ofertas de trabajo (CV/Jobs)"
   ]
  }
 ],
 "metadata": {
  "kernelspec": {
   "display_name": "Python 3",
   "language": "python",
   "name": "python3"
  },
  "language_info": {
   "codemirror_mode": {
    "name": "ipython",
    "version": 3
   },
   "file_extension": ".py",
   "mimetype": "text/x-python",
   "name": "python",
   "nbconvert_exporter": "python",
   "pygments_lexer": "ipython3",
   "version": "3.11.7"
  }
 },
 "nbformat": 4,
 "nbformat_minor": 2
}
