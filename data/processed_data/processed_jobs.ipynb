{
 "cells": [
  {
   "cell_type": "code",
   "execution_count": 1,
   "metadata": {},
   "outputs": [],
   "source": [
    "import pandas as pd\n",
    "import numpy as np\n",
    "import re\n",
    "import string"
   ]
  },
  {
   "cell_type": "markdown",
   "metadata": {},
   "source": [
    "**Carga de datos**"
   ]
  },
  {
   "cell_type": "code",
   "execution_count": 2,
   "metadata": {},
   "outputs": [],
   "source": [
    "raw_jobs_SoftwareDev = open('../raw_data/Data_Jobs_SoftwareDeveloper.txt',encoding='utf-8').read()\n",
    "raw_jobs_NetworkEng = open('../raw_data/Data_Jobs_NetworkEngineer.txt',encoding='utf-8').read()\n",
    "raw_jobs_IADev= open('../raw_data/Data_Jobs_IADeveloper.txt',encoding='utf-8').read()"
   ]
  },
  {
   "cell_type": "code",
   "execution_count": 3,
   "metadata": {},
   "outputs": [
    {
     "data": {
      "text/plain": [
       "'Jobs 1: Desarrollador de Software Junior - Aplicaciones Móviles\\n\\nAcerca del empleo: Buscamos un Desarrollador de Software Junior para unirse a nuestro equipo y contribuir al desarrollo de aplicaciones móviles innovadoras. Esta posición ofrece la oportunidad de trabajar en un entorno colaborativo y aprender de profesionales experimentados en el campo.\\n\\nResponsabilidades:\\n\\nColaborar en el diseño, desarrollo y prueba de aplicaciones móviles.\\nContribuir al mantenimiento y mejora continua de las aplicaciones existentes.\\nParticipar en reuniones de equipo y compartir ideas para optimizar procesos de desarrollo.\\nCualificación:\\n\\nLicenciatura en Informática, Ingeniería de Software o campo relacionado.\\nExperiencia mínima de 1 año en desarrollo de aplicaciones móviles (iOS/Android).\\nConocimientos básicos de lenguajes de programación como Java, Kotlin, Swift o Flutter.\\nLo que ofrecemos:\\n\\nOportunidad de crecimiento profesional y desarrollo de habilidades.\\nAmbiente de trabajo colaborativo y equipo multidisciplinario.\\nSalario competitivo y beneficios adicionales.\\n\\n\\nJobs 2: Ingeniero de Software Full Stack - Tecnologías Web Modernas\\n\\nAcerca del empleo: Estamos buscando un Ingeniero de Software Full Stack para unirse a nuestro equipo y trabajar en proyectos emocionantes que utilicen las últimas tecnologías web. Esta posición ofrece la oportunidad de contribuir al desarrollo completo de soluciones digitales y mejorar tus habilidades técnicas.\\n\\nResponsabilidades:\\n\\nDesarrollar aplicaciones web utilizando tecnologías frontend y backend.\\nColaborar con diseñadores y otros desarrolladores para implementar interfaces de usuario atractivas y funcionales.\\nParticipar en el diseño de arquitecturas de software escalables y eficientes.\\nCualificación:\\n\\nGrado en Ciencias de la Computación, Ingeniería de Software o similar.\\nExperiencia demostrable de al menos 3 años en desarrollo full stack.\\nProfundo conocimiento de tecnologías web modernas como JavaScript, Node.js, React.js, Angular, y bases de datos relacionales y no relacionales.\\nLo que ofrecemos:\\n\\nProyectos desafiantes y ambiente de trabajo dinámico.\\nOportunidades de formación y desarrollo profesional.\\nRemuneración competitiva y beneficios adicionales.\\n\\n\\nJobs 3: Desarrollador de Software Frontend - Experiencia de Usuario (UX)\\n\\nAcerca del empleo: Estamos en busca de un Desarrollador de Software Frontend apasionado por la experiencia de usuario para unirse a nuestro equipo. Esta posición ofrece la oportunidad de trabajar en la creación de interfaces de usuario intuitivas y atractivas para aplicaciones web y móviles.\\n\\nResponsabilidades:\\n\\nDesarrollar interfaces de usuario responsivas y visualmente atractivas utilizando HTML, CSS y JavaScript.\\nColaborar con diseñadores UX/UI para implementar soluciones que mejoren la experiencia del usuario.\\nOptimizar el rendimiento de las aplicaciones frontend y asegurar la compatibilidad con diferentes dispositivos y navegadores.\\nCualificación:\\n\\nMínimo de 2 años de experiencia en desarrollo frontend.\\nProfundo conocimiento de HTML, CSS y JavaScript.\\nExperiencia en frameworks modernos como React, Vue.js o Angular.\\nLo que ofrecemos:\\n\\nProyectos emocionantes con un enfoque en la experiencia del usuario.\\nOportunidades de crecimiento profesional y desarrollo de habilidades.\\nAmbiente de trabajo colaborativo y creativo.\\n\\n\\nJobs 4: Desarrollador de Software Backend - Arquitectura de Microservicios\\n\\nAcerca del empleo: Estamos en búsqueda de un Desarrollador de Software Backend con experiencia en arquitectura de microservicios para unirse a nuestro equipo. Esta posición ofrece la oportunidad de trabajar en proyectos escalables y colaborar con un equipo multidisciplinario.\\n\\nResponsabilidades:\\n\\nDiseñar, desarrollar y mantener servicios backend escalables utilizando arquitectura de microservicios.\\nColaborar estrechamente con equipos frontend y otros miembros del equipo para integrar servicios backend con interfaces de usuario.\\nImplementar prácticas de desarrollo ágil y participar en la revisión de código y pruebas unitarias.\\nCualificación:\\n\\nMínimo de 3 años de experiencia en desarrollo backend.\\nConocimiento profundo de lenguajes como Java, Python o Go.\\nExperiencia en el diseño e implementación de arquitecturas de microservicios.\\nLo que ofrecemos:\\n\\nProyectos desafiantes en un entorno colaborativo y ágil.\\nOportunidades de crecimiento profesional y desarrollo de habilidades.\\nAmbiente de trabajo flexible y cultura de innovación.\\n\\n\\nJobs 5: Ingeniero de Software de Juegos - Desarrollo de Videojuegos\\n\\nAcerca del empleo: Estamos buscando un Ingeniero de Software con experiencia en desarrollo de videojuegos para unirse a nuestro equipo. Esta posición ofrece la oportunidad de trabajar en proyectos emocionantes y contribuir al desarrollo de experiencias de juego únicas.\\n\\nResponsabilidades:\\n\\nDesarrollar código limpio y eficiente para juegos utilizando Unity o Unreal Engine.\\nImplementar mecánicas de juego, gráficos 2D/3D y optimización de rendimiento.\\nColaborar con diseñadores y artistas para integrar contenido en los juegos.\\nCualificación:\\n\\nGrado en Ciencias de la Computación, Ingeniería de Software o campo relacionado.\\nExperiencia demostrable en el desarrollo de videojuegos, preferiblemente con Unity o Unreal Engine.\\nConocimientos sólidos de lenguajes como C# o C++.\\nLo que ofrecemos:\\n\\nProyectos creativos en un ambiente dinámico y colaborativo.\\nOportunidades de crecimiento profesional en la industria del entretenimiento.\\nCultura de trabajo flexible y equilibrio entre vida laboral y personal.\\n\\n\\nJobs 6: Desarrollador de Software DevOps - Automatización de Infraestructura\\n\\nAcerca del empleo: Estamos en busca de un Desarrollador de Software DevOps con experiencia en automatización de infraestructura para unirse a nuestro equipo. Esta posición ofrece la oportunidad de trabajar en el diseño y la implementación de pipelines de entrega continua y mejorar la eficiencia operativa de nuestros sistemas.\\n\\nResponsabilidades:\\n\\nAutomatizar la infraestructura y los procesos de despliegue utilizando herramientas como Ansible, Chef o Puppet.\\nColaborar con equipos de desarrollo y operaciones para implementar prácticas de entrega continua y despliegue automatizado.\\nMonitorear y mantener la infraestructura de producción, identificando y resolviendo problemas de manera proactiva.\\nCualificación:\\n\\nMínimo de 2 años de experiencia en administración de sistemas o desarrollo DevOps.\\nExperiencia práctica con herramientas de automatización como Ansible, Chef o Puppet.\\nFamiliaridad con plataformas de orquestación de contenedores como Kubernetes.\\nLo que ofrecemos:\\n\\nProyectos desafiantes en un entorno ágil y colaborativo.\\nOportunidades de desarrollo profesional en el campo de la automatización de infraestructura.\\nCultura de trabajo flexible y equilibrio entre vida laboral y personal.\\n\\n\\nJobs 7: Ingeniero de Software Full Stack - Desarrollo de Aplicaciones Escalables en la Nube\\nAcerca del empleo: Estamos buscando un Ingeniero de Software Full Stack para contribuir al desarrollo de aplicaciones escalables en la nube. Esta posición ofrece la oportunidad de trabajar en proyectos desafiantes que aprovechan tecnologías en la nube para ofrecer soluciones innovadoras.\\n\\nResponsabilidades:\\n\\nDiseñar, desarrollar y mantener aplicaciones web escalables utilizando tecnologías frontend y backend.\\nImplementar prácticas de desarrollo ágil y colaborar en la mejora continua de los procesos de desarrollo.\\nIntegrar servicios en la nube y optimizar el rendimiento de aplicaciones para alta disponibilidad y escalabilidad.\\nCualificación:\\n\\nExperiencia demostrable en el desarrollo full stack, preferiblemente en entornos de nube.\\nConocimiento profundo de tecnologías frontend como HTML, CSS y JavaScript, así como de frameworks modernos como React.js o Angular.\\nExperiencia con lenguajes y tecnologías backend como Node.js, Python, Java o .NET Core.\\nLo que ofrecemos:\\n\\nProyectos emocionantes en un entorno cloud-native y escalable.\\nOportunidades de desarrollo profesional y crecimiento dentro de la empresa.\\nAmbiente de trabajo colaborativo y cultura de innovación.\\n\\n\\nJobs 8: Desarrollador de Software Sénior - Experiencia en Integración de Sistemas Empresariales\\nAcerca del empleo: Estamos en búsqueda de un Desarrollador de Software Senior con experiencia en integración de sistemas empresariales para unirse a nuestro equipo. Esta posición ofrece la oportunidad de trabajar en proyectos complejos de integración y colaborar con equipos multidisciplinarios.\\n\\nResponsabilidades:\\n\\nDiseñar e implementar soluciones de integración de sistemas utilizando herramientas como MuleSoft, Apache Camel o similar.\\nColaborar con equipos de negocio y técnicos para entender los requisitos de integración y diseñar soluciones eficientes.\\nDesarrollar y mantener interfaces de programación de aplicaciones (APIs) y servicios web para la integración de sistemas.\\nCualificación:\\n\\nExperiencia significativa en el desarrollo de software, con enfoque en la integración de sistemas empresariales.\\nConocimiento profundo de herramientas de integración como MuleSoft, Apache Camel o similar.\\nExperiencia con tecnologías de comunicación como REST, SOAP, XML, JSON, etc.\\nLo que ofrecemos:\\n\\nProyectos desafiantes en un entorno empresarial y de integración de sistemas.\\nOportunidades de crecimiento profesional y desarrollo de habilidades técnicas.\\nAmbiente de trabajo colaborativo y equipo comprometido con el éxito del proyecto.\\n\\n\\nJobs 9: Desarrollador de WordPress - Implementación de Sitios Web y Personalización de Temas\\nAcerca del empleo: Estamos en búsqueda de un Desarrollador de WordPress para unirse a nuestro equipo y liderar la implementación de sitios web y la personalización de temas. Esta posición ofrece la oportunidad de trabajar en proyectos diversos y colaborar con clientes para cumplir con sus requisitos específicos.\\n\\nResponsabilidades:\\n\\nConfigurar, instalar y mantener sitios web utilizando WordPress.\\nPersonalizar temas y plugins de WordPress para satisfacer las necesidades del cliente.\\nColaborar con diseñadores y clientes para traducir requisitos de diseño en soluciones técnicas efectivas.\\nCualificación:\\n\\nExperiencia demostrable en el desarrollo de sitios web utilizando WordPress.\\nConocimiento profundo de HTML, CSS, JavaScript y PHP.\\nExperiencia en la personalización de temas y plugins de WordPress.\\nLo que ofrecemos:\\n\\nProyectos interesantes y variados en un entorno WordPress.\\nOportunidades de aprendizaje y desarrollo profesional.\\nAmbiente de trabajo colaborativo y flexible.\\n\\n\\nJobs 10: Ingeniero de Desarrollo Java - Desarrollo de Aplicaciones Empresariales\\nAcerca del empleo: Estamos buscando un Ingeniero de Desarrollo Java para unirse a nuestro equipo y trabajar en el desarrollo de aplicaciones empresariales escalables y seguras. Esta posición ofrece la oportunidad de trabajar en proyectos desafiantes y contribuir al éxito de nuestros clientes.\\n\\nResponsabilidades:\\n\\nDiseñar, desarrollar y mantener aplicaciones empresariales utilizando Java y frameworks asociados.\\nColaborar con equipos multidisciplinarios para comprender y traducir los requisitos del cliente en soluciones técnicas.\\nImplementar prácticas de desarrollo ágil y participar en la revisión de código y pruebas unitarias.\\nCualificación:\\n\\nExperiencia significativa en el desarrollo de aplicaciones Java empresariales.\\nConocimiento profundo de Java EE, Spring Framework y otras tecnologías relacionadas.\\nExperiencia con bases de datos relacionales como MySQL, PostgreSQL o Oracle.\\nLo que ofrecemos:\\n\\nProyectos desafiantes en un entorno empresarial y orientado a resultados.\\nOportunidades de crecimiento profesional y desarrollo de habilidades técnicas.\\nAmbiente de trabajo colaborativo y cultura de innovación.'"
      ]
     },
     "execution_count": 3,
     "metadata": {},
     "output_type": "execute_result"
    }
   ],
   "source": [
    "raw_jobs_SoftwareDev"
   ]
  },
  {
   "cell_type": "code",
   "execution_count": 4,
   "metadata": {},
   "outputs": [
    {
     "data": {
      "text/plain": [
       "'Jobs 1: Ingeniero de Redes Senior\\nAcerca del Empleo:\\nEstamos buscando un Ingeniero de Redes Senior para unirse a nuestro equipo dinámico. En este papel, serás responsable de diseñar, implementar y mantener nuestra infraestructura de red para garantizar la conectividad y la seguridad de nuestros sistemas.\\n\\nResponsabilidades:\\n\\nDiseñar y configurar redes LAN/WAN para garantizar un rendimiento óptimo.\\nImplementar medidas de seguridad de red, como firewalls y sistemas de detección de intrusiones.\\nColaborar con otros equipos para resolver problemas de red y optimizar el rendimiento.\\nRealizar pruebas de rendimiento y diagnóstico para identificar y resolver problemas de red.\\nMantener la documentación técnica actualizada sobre la infraestructura de red.\\nCualificaciones:\\n\\nLicenciatura en Ingeniería Informática, Telecomunicaciones o campo relacionado.\\nExperiencia previa en la configuración y administración de dispositivos de red (switches, routers, firewalls).\\nConocimiento sólido de protocolos de red, como TCP/IP, DNS, DHCP.\\nCapacidad para resolver problemas de manera efectiva y trabajar en equipo.\\nCertificaciones relevantes, como CCNA, CCNP, serán valoradas.\\nLo que Ofrecemos:\\n\\nOportunidad de trabajar en un entorno colaborativo y desafiante.\\nCapacitación continua y desarrollo profesional.\\nSalario competitivo y beneficios adicionales.\\nPosibilidad de crecimiento dentro de la empresa.\\n\\n\\nJobs 2: Ingeniero de Redes Principal\\nAcerca del Empleo:\\nEstamos en busca de un Ingeniero de Redes Principal con experiencia para unirse a nuestro equipo en crecimiento. Serás responsable de mantener y mejorar nuestra infraestructura de red para satisfacer las necesidades de nuestra empresa en constante evolución.\\n\\nResponsabilidades:\\n\\nDiseñar e implementar soluciones de red escalables y seguras.\\nRealizar monitoreo proactivo de la red y tomar medidas correctivas según sea necesario.\\nColaborar con otros equipos para planificar e implementar cambios en la infraestructura de red.\\nInvestigar y recomendar nuevas tecnologías para mejorar la eficiencia y la seguridad de la red.\\nMantenerse al día con las mejores prácticas de la industria en redes y seguridad de la información.\\nCualificaciones:\\n\\nExperiencia comprobada en la administración de redes en entornos empresariales.\\nConocimiento profundo de protocolos de enrutamiento y conmutación.\\nExperiencia en la implementación y administración de soluciones de seguridad de red.\\nHabilidades de resolución de problemas y capacidad para trabajar bajo presión.\\nCertificaciones como CCNP, CCIE, serán consideradas una ventaja.\\nLo que Ofrecemos:\\n\\nAmbiente de trabajo dinámico y colaborativo.\\nOportunidades de aprendizaje y desarrollo profesional.\\nSalario competitivo y beneficios adicionales.\\nPosibilidad de trabajar con tecnologías de vanguardia.\\n\\n\\nJobs 3: Ingeniero de Redes Junior\\nAcerca del Empleo:\\nEstamos buscando un Ingeniero de Redes Junior para unirse a nuestro equipo. En este papel, tendrás la oportunidad de aprender y crecer bajo la tutela de ingenieros experimentados mientras contribuyes al mantenimiento y desarrollo de nuestra infraestructura de red.\\n\\nResponsabilidades:\\n\\nAsistir en la configuración y mantenimiento de dispositivos de red.\\nParticipar en la resolución de problemas de red y en la implementación de soluciones.\\nAyudar en el monitoreo y análisis del rendimiento de la red.\\nColaborar con otros equipos para implementar cambios y actualizaciones de red.\\nMantener la documentación técnica actualizada.\\nCualificaciones:\\n\\nLicenciatura o grado técnico en Informática, Ingeniería de Telecomunicaciones o campo relacionado.\\nConocimiento básico de redes y protocolos TCP/IP.\\nFuertes habilidades de resolución de problemas y capacidad para aprender rápidamente.\\nCertificaciones como CCNA serán consideradas una ventaja.\\nExcelentes habilidades de comunicación y trabajo en equipo.\\nLo que Ofrecemos:\\n\\nOportunidad de crecimiento y desarrollo profesional.\\nEntorno de trabajo colaborativo y de apoyo.\\nFormación técnica y oportunidades de certificación.\\nRemuneración competitiva y beneficios adicionales.\\n\\n\\nJobs 4: Técnico de Redes en Formación\\nAcerca del Empleo:\\nEstamos buscando un Técnico de Redes en Formación para unirse a nuestro equipo. Esta posición es ideal para alguien que está comenzando su carrera en redes y está buscando una oportunidad para aprender y crecer en un entorno profesional.\\n\\nResponsabilidades:\\n\\nAsistir en la configuración y mantenimiento de dispositivos de red.\\nAyudar en la resolución de problemas de red y en la implementación de soluciones.\\nParticipar en actividades de monitoreo y análisis del rendimiento de la red.\\nColaborar con equipos multidisciplinarios en proyectos relacionados con la red.\\nContribuir a la documentación técnica y al seguimiento de procedimientos.\\nCualificaciones:\\n\\nFormación técnica o universitaria en Informática, Ingeniería de Telecomunicaciones o similar.\\nConocimientos básicos de redes y protocolos TCP/IP.\\nMotivación para aprender y desarrollarse en el campo de las redes.\\nHabilidades de comunicación y capacidad para trabajar en equipo.\\nCertificaciones como CCENT serán valoradas.\\nLo que Ofrecemos:\\n\\nEntorno de trabajo estimulante y colaborativo.\\nPrograma de formación y desarrollo profesional.\\nExposición a tecnologías de redes de última generación.\\nRemuneración competitiva y beneficios adicionales.'"
      ]
     },
     "execution_count": 4,
     "metadata": {},
     "output_type": "execute_result"
    }
   ],
   "source": [
    "raw_jobs_NetworkEng"
   ]
  },
  {
   "cell_type": "code",
   "execution_count": 5,
   "metadata": {},
   "outputs": [
    {
     "data": {
      "text/plain": [
       "'Jobs 1: Científico de Datos Senior\\nAcerca del empleo: Únete a nuestro equipo como Científico de Datos Senior y lidera proyectos de análisis de datos de vanguardia para impulsar la innovación y la toma de decisiones estratégicas.\\n\\nResponsabilidades:\\n\\nLiderar la investigación y el desarrollo de modelos de machine learning y análisis predictivo para optimizar operaciones y generar insights.\\nColaborar con equipos interdisciplinarios para identificar oportunidades de mejora y optimización utilizando datos.\\nGuiar y mentorizar a analistas de datos junior en técnicas y mejores prácticas de análisis.\\nCualificación:\\n\\nMaestría en Ciencia de Datos, Estadística, Matemáticas o campo relacionado.\\nMás de 5 años de experiencia en análisis de datos, preferiblemente en entornos empresariales.\\nExperiencia demostrada en Python, R y SQL para análisis de datos y modelado predictivo.\\nHabilidades sólidas de comunicación y capacidad para presentar resultados de manera efectiva a partes interesadas técnicas y no técnicas.\\nLo que ofrecemos:\\n\\nOportunidad de liderar proyectos de datos innovadores en una empresa líder en su industria.\\nSalario competitivo y paquete de beneficios atractivos.\\nAmbiente de trabajo colaborativo y enfocado en el crecimiento profesional.\\n\\n\\nJobs 2: Ingeniero de Datos Junior\\nAcerca del empleo: Estamos buscando un Ingeniero de Datos Junior para unirse a nuestro equipo y contribuir al diseño y mantenimiento de nuestras infraestructuras de datos.\\n\\nResponsabilidades:\\n\\nAyudar en el desarrollo y mantenimiento de pipelines de datos para la ingestión, limpieza y procesamiento de datos.\\nColaborar con equipos de ingeniería y análisis para garantizar la integridad y disponibilidad de los datos.\\nParticipar en la implementación y optimización de bases de datos SQL y NoSQL.\\nCualificación:\\n\\nLicenciatura en Ingeniería Informática, Ciencias de la Computación o campo relacionado.\\nConocimiento básico de programación en Python, Java o Scala.\\nInterés en aprender y desarrollarse en el campo de la ingeniería de datos.\\nHabilidades de resolución de problemas y capacidad para trabajar en equipo.\\nLo que ofrecemos:\\n\\nEntorno de trabajo dinámico y colaborativo con oportunidades de crecimiento profesional.\\nCapacitación en tecnologías y herramientas de ingeniería de datos.\\nOportunidad de contribuir a proyectos innovadores desde el principio.\\n\\n\\nJobs 3: Analista de Datos de Marketing Digital\\nAcerca del empleo: Únete a nuestro equipo como Analista de Datos especializado en el análisis de campañas de marketing digital para impulsar el crecimiento y la conversión de clientes.\\n\\nResponsabilidades:\\n\\nAnalizar datos de campañas digitales para identificar patrones y tendencias.\\nDesarrollar modelos predictivos para la segmentación y personalización de audiencias.\\nColaborar con equipos de marketing para optimizar estrategias y presupuestos de marketing.\\nCualificación:\\n\\nExperiencia previa en análisis de datos de marketing digital.\\nConocimiento de herramientas como Google Analytics, Adobe Analytics o similar.\\nFuertes habilidades analíticas y capacidad para traducir datos en insights accionables.\\nExperiencia en la visualización de datos preferida, pero no obligatoria.\\nLo que ofrecemos:\\n\\nOportunidad de trabajar en un entorno de marketing dinámico y en crecimiento.\\nColaboración con equipos multidisciplinarios y oportunidades de desarrollo profesional.\\nCompensación competitiva y beneficios adicionales.\\n\\n\\nJobs 4: Científico de Datos en Bioinformática\\nAcerca del empleo: Buscamos un Científico de Datos con experiencia en bioinformática para liderar proyectos de análisis genómico y molecular.\\n\\nResponsabilidades:\\n\\nAnalizar datos genómicos para identificar variantes genéticas y relaciones entre genes y enfermedades.\\nDesarrollar algoritmos y herramientas de análisis de datos para el descubrimiento de biomarcadores.\\nColaborar con equipos de investigación en la interpretación de resultados y la generación de hipótesis científicas.\\nCualificación:\\n\\nDoctorado en Bioinformática, Genética Computacional o campo relacionado.\\nExperiencia en análisis de datos genómicos utilizando herramientas como BLAST, Bowtie o similar.\\nFuertes habilidades de programación en Python, R o Perl.\\nConocimiento de bases de datos genómicas y herramientas de visualización.\\nLo que ofrecemos:\\n\\nOportunidad de contribuir a la investigación biomédica y el desarrollo de terapias personalizadas.\\nColaboración con investigadores de clase mundial y acceso a recursos tecnológicos de vanguardia.\\nAmbiente de trabajo estimulante y enfocado en la innovación científica.\\n\\n\\nJobs 5: Científico de Datos en Retail - Especializado en Deep Learning\\nAcerca del empleo: Únete a nuestro equipo como Científico de Datos especializado en Deep Learning para impulsar la innovación en el sector minorista y mejorar la experiencia del cliente.\\n\\nResponsabilidades:\\n\\nInvestigar, desarrollar y desplegar modelos de deep learning para mejorar la personalización de recomendaciones de productos.\\nAnalizar grandes volúmenes de datos transaccionales para identificar patrones de comportamiento del cliente y tendencias de mercado.\\nColaborar con equipos de negocio para traducir insights de datos en estrategias comerciales efectivas.\\nCualificación:\\n\\nMaestría o Doctorado en Ciencia de Datos, Inteligencia Artificial o campo relacionado.\\nExperiencia demostrada en el desarrollo y despliegue de modelos de deep learning en entornos comerciales.\\nDominio de herramientas y bibliotecas como TensorFlow, PyTorch y Keras.\\nExperiencia previa en el sector minorista o de comercio electrónico es una ventaja.\\nLo que ofrecemos:\\n\\nOportunidad de trabajar en un entorno minorista dinámico y en crecimiento.\\nColaboración con equipos multidisciplinarios y acceso a tecnologías de vanguardia.\\nCompensación competitiva y beneficios adicionales.\\n\\n\\nJobs 6: Asistente de Ciencia de Datos Junior\\nAcerca del empleo: Estamos buscando un Asistente de Ciencia de Datos Junior para unirse a nuestro equipo y aprender sobre el emocionante campo de la ciencia de datos, brindando apoyo en diversas tareas y proyectos.\\n\\nResponsabilidades:\\n\\nAsistir en la recopilación, limpieza y preparación de datos para análisis.\\nApoyar en el desarrollo y evaluación de modelos de aprendizaje automático bajo la supervisión de científicos de datos senior.\\nParticipar en la creación de visualizaciones de datos y presentaciones para comunicar resultados.\\nCualificación:\\n\\nLicenciatura o título en curso en Ciencia de Datos, Estadística, Matemáticas, Informática o campo relacionado.\\nConocimientos básicos de programación en Python, R o SQL.\\nInterés genuino en aprender y desarrollarse en el campo de la ciencia de datos.\\nHabilidades de resolución de problemas y capacidad para trabajar en equipo.\\nLo que ofrecemos:\\n\\nOportunidad de adquirir experiencia práctica en un entorno de ciencia de datos.\\nMentores y capacitación para desarrollar habilidades técnicas y profesionales.\\nAmbiente de trabajo colaborativo y enfocado en el crecimiento profesional.\\n\\n\\nJobs 7: Ingeniero de Datos Senior\\nAcerca del empleo: Estamos buscando un Ingeniero de Datos Senior con experiencia para liderar proyectos de desarrollo de infraestructura de datos y pipelines de datos escalables y eficientes.\\n\\nResponsabilidades:\\n\\nDiseñar, implementar y mantener pipelines de datos para la ingestión, procesamiento y almacenamiento de grandes volúmenes de datos.\\nOptimizar el rendimiento y la escalabilidad de las soluciones de almacenamiento y procesamiento de datos.\\nColaborar con equipos multidisciplinarios para satisfacer las necesidades de datos de la organización.\\nCualificación:\\n\\nExperiencia previa en diseño e implementación de infraestructuras de datos.\\nConocimiento profundo de herramientas como Hadoop, Spark, Kafka y bases de datos distribuidas.\\nExperiencia en programación en Python, Java, Scala o similar.\\nHabilidades de liderazgo técnico y capacidad para trabajar en equipos distribuidos.\\nLo que ofrecemos:\\n\\nOportunidad de liderar proyectos de datos estratégicos en una empresa líder en su industria.\\nSalario competitivo y beneficios adicionales.\\nAmbiente de trabajo colaborativo y enfocado en la innovación tecnológica.\\n\\n\\nJobs 8: Asistente de Analista de Datos\\nAcerca del empleo: Estamos buscando un Asistente de Analista de Datos para unirse a nuestro equipo y aprender sobre el emocionante campo del análisis de datos, brindando apoyo en diversas tareas y proyectos.\\n\\nResponsabilidades:\\n\\nAsistir en la recopilación, limpieza y preparación de datos para análisis.\\nAyudar en la generación de informes y visualizaciones de datos para comunicar resultados.\\nParticipar en el análisis exploratorio de datos bajo la supervisión de analistas de datos senior.\\nCualificación:\\n\\nLicenciatura o título en curso en Estadística, Matemáticas, Ciencia de Datos o campo relacionado.\\nConocimientos básicos de herramientas de análisis de datos como Python, R, SQL, Excel, etc.\\nInterés genuino en aprender y desarrollarse en el campo del análisis de datos.\\nHabilidades de resolución de problemas y capacidad para trabajar en equipo.\\nLo que ofrecemos:\\n\\nOportunidad de adquirir experiencia práctica en un entorno de análisis de datos.\\nMentores y capacitación para desarrollar habilidades técnicas y profesionales.\\nAmbiente de trabajo colaborativo y enfocado en el crecimiento profesional.\\n\\nJobs 9: Científico de Datos Experto en Procesamiento del Lenguaje Natural (NLP)\\nAcerca del empleo: Estamos buscando un Científico de Datos con experiencia y especialización en Procesamiento del Lenguaje Natural (NLP) para liderar proyectos innovadores y aplicar técnicas avanzadas de NLP para obtener insights valiosos de los datos textuales.\\n\\nResponsabilidades:\\n\\nDesarrollar y desplegar modelos avanzados de NLP para análisis de sentimientos, extracción de información, clasificación de documentos, entre otros.\\nInvestigar y experimentar con nuevas técnicas y algoritmos de NLP para mejorar la precisión y eficacia de los modelos.\\nColaborar con equipos multidisciplinarios para integrar soluciones de NLP en productos y servicios empresariales.\\nCualificación:\\n\\nDoctorado en Ciencia de Datos, Ingeniería Informática, Lingüística Computacional o campo relacionado.\\nExperiencia demostrada en el desarrollo de modelos de NLP en entornos empresariales.\\nConocimiento profundo de herramientas y bibliotecas de NLP como NLTK, spaCy, Transformers, etc.\\nFuertes habilidades de programación en Python y experiencia en el procesamiento de grandes volúmenes de datos textuales.\\nLo que ofrecemos:\\n\\nOportunidad de liderar proyectos de NLP innovadores en una empresa líder en su industria.\\nSalario competitivo y paquete de beneficios atractivos.\\nAmbiente de trabajo colaborativo y enfocado en la investigación y desarrollo tecnológico.\\n\\n\\nJobs 10: Científico de Datos con Experiencia en Plataformas Cloud\\nAcerca del empleo: Estamos buscando un Científico de Datos con experiencia en el manejo y análisis de datos en entornos de computación en la nube para liderar proyectos de análisis de datos escalables y eficientes.\\n\\nResponsabilidades:\\n\\nDiseñar y desarrollar soluciones de análisis de datos en plataformas en la nube como AWS, Azure o Google Cloud Platform.\\nImplementar pipelines de datos eficientes y escalables utilizando servicios de almacenamiento y procesamiento en la nube.\\nOptimizar el rendimiento y la eficiencia de los procesos de análisis de datos en entornos de nube distribuida.\\nCualificación:\\n\\nExperiencia previa en el diseño y desarrollo de soluciones de análisis de datos en plataformas en la nube.\\nConocimiento profundo de servicios en la nube como AWS S3, EC2, Lambda, Azure Blob Storage, Google BigQuery, etc.\\nHabilidades avanzadas en programación en Python, SQL y herramientas de análisis de datos.\\nExperiencia en la implementación de arquitecturas de datos escalables y seguras en entornos de nube.\\nLo que ofrecemos:\\n\\nOportunidad de liderar proyectos de análisis de datos en entornos de nube de clase mundial.\\nSalario competitivo y beneficios adicionales.\\nAmbiente de trabajo colaborativo y enfocado en la innovación tecnológica en la nube.'"
      ]
     },
     "execution_count": 5,
     "metadata": {},
     "output_type": "execute_result"
    }
   ],
   "source": [
    "raw_jobs_IADev"
   ]
  },
  {
   "cell_type": "markdown",
   "metadata": {},
   "source": [
    "**Dividimos los puestos por cada categoria**"
   ]
  },
  {
   "cell_type": "code",
   "execution_count": 3,
   "metadata": {},
   "outputs": [],
   "source": [
    "def division_jobs(text):\n",
    "    text_div =text.split('Jobs ')\n",
    "    text_div=text_div[1:]# Elimina fila vacia\n",
    "    return  text_div"
   ]
  },
  {
   "cell_type": "code",
   "execution_count": 5,
   "metadata": {},
   "outputs": [],
   "source": [
    "div_job_SoftwareDev = division_jobs(raw_jobs_SoftwareDev)\n",
    "div_job_NetworkEng= division_jobs(raw_jobs_NetworkEng)\n",
    "div_job_IADev=division_jobs(raw_jobs_IADev)"
   ]
  },
  {
   "cell_type": "code",
   "execution_count": 9,
   "metadata": {},
   "outputs": [
    {
     "data": {
      "text/plain": [
       "['1: Desarrollador de Software Junior - Aplicaciones Móviles\\n\\nAcerca del empleo: Buscamos un Desarrollador de Software Junior para unirse a nuestro equipo y contribuir al desarrollo de aplicaciones móviles innovadoras. Esta posición ofrece la oportunidad de trabajar en un entorno colaborativo y aprender de profesionales experimentados en el campo.\\n\\nResponsabilidades:\\n\\nColaborar en el diseño, desarrollo y prueba de aplicaciones móviles.\\nContribuir al mantenimiento y mejora continua de las aplicaciones existentes.\\nParticipar en reuniones de equipo y compartir ideas para optimizar procesos de desarrollo.\\nCualificación:\\n\\nLicenciatura en Informática, Ingeniería de Software o campo relacionado.\\nExperiencia mínima de 1 año en desarrollo de aplicaciones móviles (iOS/Android).\\nConocimientos básicos de lenguajes de programación como Java, Kotlin, Swift o Flutter.\\nLo que ofrecemos:\\n\\nOportunidad de crecimiento profesional y desarrollo de habilidades.\\nAmbiente de trabajo colaborativo y equipo multidisciplinario.\\nSalario competitivo y beneficios adicionales.\\n\\n\\n',\n",
       " '2: Ingeniero de Software Full Stack - Tecnologías Web Modernas\\n\\nAcerca del empleo: Estamos buscando un Ingeniero de Software Full Stack para unirse a nuestro equipo y trabajar en proyectos emocionantes que utilicen las últimas tecnologías web. Esta posición ofrece la oportunidad de contribuir al desarrollo completo de soluciones digitales y mejorar tus habilidades técnicas.\\n\\nResponsabilidades:\\n\\nDesarrollar aplicaciones web utilizando tecnologías frontend y backend.\\nColaborar con diseñadores y otros desarrolladores para implementar interfaces de usuario atractivas y funcionales.\\nParticipar en el diseño de arquitecturas de software escalables y eficientes.\\nCualificación:\\n\\nGrado en Ciencias de la Computación, Ingeniería de Software o similar.\\nExperiencia demostrable de al menos 3 años en desarrollo full stack.\\nProfundo conocimiento de tecnologías web modernas como JavaScript, Node.js, React.js, Angular, y bases de datos relacionales y no relacionales.\\nLo que ofrecemos:\\n\\nProyectos desafiantes y ambiente de trabajo dinámico.\\nOportunidades de formación y desarrollo profesional.\\nRemuneración competitiva y beneficios adicionales.\\n\\n\\n',\n",
       " '3: Desarrollador de Software Frontend - Experiencia de Usuario (UX)\\n\\nAcerca del empleo: Estamos en busca de un Desarrollador de Software Frontend apasionado por la experiencia de usuario para unirse a nuestro equipo. Esta posición ofrece la oportunidad de trabajar en la creación de interfaces de usuario intuitivas y atractivas para aplicaciones web y móviles.\\n\\nResponsabilidades:\\n\\nDesarrollar interfaces de usuario responsivas y visualmente atractivas utilizando HTML, CSS y JavaScript.\\nColaborar con diseñadores UX/UI para implementar soluciones que mejoren la experiencia del usuario.\\nOptimizar el rendimiento de las aplicaciones frontend y asegurar la compatibilidad con diferentes dispositivos y navegadores.\\nCualificación:\\n\\nMínimo de 2 años de experiencia en desarrollo frontend.\\nProfundo conocimiento de HTML, CSS y JavaScript.\\nExperiencia en frameworks modernos como React, Vue.js o Angular.\\nLo que ofrecemos:\\n\\nProyectos emocionantes con un enfoque en la experiencia del usuario.\\nOportunidades de crecimiento profesional y desarrollo de habilidades.\\nAmbiente de trabajo colaborativo y creativo.\\n\\n\\n',\n",
       " '4: Desarrollador de Software Backend - Arquitectura de Microservicios\\n\\nAcerca del empleo: Estamos en búsqueda de un Desarrollador de Software Backend con experiencia en arquitectura de microservicios para unirse a nuestro equipo. Esta posición ofrece la oportunidad de trabajar en proyectos escalables y colaborar con un equipo multidisciplinario.\\n\\nResponsabilidades:\\n\\nDiseñar, desarrollar y mantener servicios backend escalables utilizando arquitectura de microservicios.\\nColaborar estrechamente con equipos frontend y otros miembros del equipo para integrar servicios backend con interfaces de usuario.\\nImplementar prácticas de desarrollo ágil y participar en la revisión de código y pruebas unitarias.\\nCualificación:\\n\\nMínimo de 3 años de experiencia en desarrollo backend.\\nConocimiento profundo de lenguajes como Java, Python o Go.\\nExperiencia en el diseño e implementación de arquitecturas de microservicios.\\nLo que ofrecemos:\\n\\nProyectos desafiantes en un entorno colaborativo y ágil.\\nOportunidades de crecimiento profesional y desarrollo de habilidades.\\nAmbiente de trabajo flexible y cultura de innovación.\\n\\n\\n',\n",
       " '5: Ingeniero de Software de Juegos - Desarrollo de Videojuegos\\n\\nAcerca del empleo: Estamos buscando un Ingeniero de Software con experiencia en desarrollo de videojuegos para unirse a nuestro equipo. Esta posición ofrece la oportunidad de trabajar en proyectos emocionantes y contribuir al desarrollo de experiencias de juego únicas.\\n\\nResponsabilidades:\\n\\nDesarrollar código limpio y eficiente para juegos utilizando Unity o Unreal Engine.\\nImplementar mecánicas de juego, gráficos 2D/3D y optimización de rendimiento.\\nColaborar con diseñadores y artistas para integrar contenido en los juegos.\\nCualificación:\\n\\nGrado en Ciencias de la Computación, Ingeniería de Software o campo relacionado.\\nExperiencia demostrable en el desarrollo de videojuegos, preferiblemente con Unity o Unreal Engine.\\nConocimientos sólidos de lenguajes como C# o C++.\\nLo que ofrecemos:\\n\\nProyectos creativos en un ambiente dinámico y colaborativo.\\nOportunidades de crecimiento profesional en la industria del entretenimiento.\\nCultura de trabajo flexible y equilibrio entre vida laboral y personal.\\n\\n\\n',\n",
       " '6: Desarrollador de Software DevOps - Automatización de Infraestructura\\n\\nAcerca del empleo: Estamos en busca de un Desarrollador de Software DevOps con experiencia en automatización de infraestructura para unirse a nuestro equipo. Esta posición ofrece la oportunidad de trabajar en el diseño y la implementación de pipelines de entrega continua y mejorar la eficiencia operativa de nuestros sistemas.\\n\\nResponsabilidades:\\n\\nAutomatizar la infraestructura y los procesos de despliegue utilizando herramientas como Ansible, Chef o Puppet.\\nColaborar con equipos de desarrollo y operaciones para implementar prácticas de entrega continua y despliegue automatizado.\\nMonitorear y mantener la infraestructura de producción, identificando y resolviendo problemas de manera proactiva.\\nCualificación:\\n\\nMínimo de 2 años de experiencia en administración de sistemas o desarrollo DevOps.\\nExperiencia práctica con herramientas de automatización como Ansible, Chef o Puppet.\\nFamiliaridad con plataformas de orquestación de contenedores como Kubernetes.\\nLo que ofrecemos:\\n\\nProyectos desafiantes en un entorno ágil y colaborativo.\\nOportunidades de desarrollo profesional en el campo de la automatización de infraestructura.\\nCultura de trabajo flexible y equilibrio entre vida laboral y personal.\\n\\n\\n',\n",
       " '7: Ingeniero de Software Full Stack - Desarrollo de Aplicaciones Escalables en la Nube\\nAcerca del empleo: Estamos buscando un Ingeniero de Software Full Stack para contribuir al desarrollo de aplicaciones escalables en la nube. Esta posición ofrece la oportunidad de trabajar en proyectos desafiantes que aprovechan tecnologías en la nube para ofrecer soluciones innovadoras.\\n\\nResponsabilidades:\\n\\nDiseñar, desarrollar y mantener aplicaciones web escalables utilizando tecnologías frontend y backend.\\nImplementar prácticas de desarrollo ágil y colaborar en la mejora continua de los procesos de desarrollo.\\nIntegrar servicios en la nube y optimizar el rendimiento de aplicaciones para alta disponibilidad y escalabilidad.\\nCualificación:\\n\\nExperiencia demostrable en el desarrollo full stack, preferiblemente en entornos de nube.\\nConocimiento profundo de tecnologías frontend como HTML, CSS y JavaScript, así como de frameworks modernos como React.js o Angular.\\nExperiencia con lenguajes y tecnologías backend como Node.js, Python, Java o .NET Core.\\nLo que ofrecemos:\\n\\nProyectos emocionantes en un entorno cloud-native y escalable.\\nOportunidades de desarrollo profesional y crecimiento dentro de la empresa.\\nAmbiente de trabajo colaborativo y cultura de innovación.\\n\\n\\n',\n",
       " '8: Desarrollador de Software Sénior - Experiencia en Integración de Sistemas Empresariales\\nAcerca del empleo: Estamos en búsqueda de un Desarrollador de Software Senior con experiencia en integración de sistemas empresariales para unirse a nuestro equipo. Esta posición ofrece la oportunidad de trabajar en proyectos complejos de integración y colaborar con equipos multidisciplinarios.\\n\\nResponsabilidades:\\n\\nDiseñar e implementar soluciones de integración de sistemas utilizando herramientas como MuleSoft, Apache Camel o similar.\\nColaborar con equipos de negocio y técnicos para entender los requisitos de integración y diseñar soluciones eficientes.\\nDesarrollar y mantener interfaces de programación de aplicaciones (APIs) y servicios web para la integración de sistemas.\\nCualificación:\\n\\nExperiencia significativa en el desarrollo de software, con enfoque en la integración de sistemas empresariales.\\nConocimiento profundo de herramientas de integración como MuleSoft, Apache Camel o similar.\\nExperiencia con tecnologías de comunicación como REST, SOAP, XML, JSON, etc.\\nLo que ofrecemos:\\n\\nProyectos desafiantes en un entorno empresarial y de integración de sistemas.\\nOportunidades de crecimiento profesional y desarrollo de habilidades técnicas.\\nAmbiente de trabajo colaborativo y equipo comprometido con el éxito del proyecto.\\n\\n\\n',\n",
       " '9: Desarrollador de WordPress - Implementación de Sitios Web y Personalización de Temas\\nAcerca del empleo: Estamos en búsqueda de un Desarrollador de WordPress para unirse a nuestro equipo y liderar la implementación de sitios web y la personalización de temas. Esta posición ofrece la oportunidad de trabajar en proyectos diversos y colaborar con clientes para cumplir con sus requisitos específicos.\\n\\nResponsabilidades:\\n\\nConfigurar, instalar y mantener sitios web utilizando WordPress.\\nPersonalizar temas y plugins de WordPress para satisfacer las necesidades del cliente.\\nColaborar con diseñadores y clientes para traducir requisitos de diseño en soluciones técnicas efectivas.\\nCualificación:\\n\\nExperiencia demostrable en el desarrollo de sitios web utilizando WordPress.\\nConocimiento profundo de HTML, CSS, JavaScript y PHP.\\nExperiencia en la personalización de temas y plugins de WordPress.\\nLo que ofrecemos:\\n\\nProyectos interesantes y variados en un entorno WordPress.\\nOportunidades de aprendizaje y desarrollo profesional.\\nAmbiente de trabajo colaborativo y flexible.\\n\\n\\n',\n",
       " '10: Ingeniero de Desarrollo Java - Desarrollo de Aplicaciones Empresariales\\nAcerca del empleo: Estamos buscando un Ingeniero de Desarrollo Java para unirse a nuestro equipo y trabajar en el desarrollo de aplicaciones empresariales escalables y seguras. Esta posición ofrece la oportunidad de trabajar en proyectos desafiantes y contribuir al éxito de nuestros clientes.\\n\\nResponsabilidades:\\n\\nDiseñar, desarrollar y mantener aplicaciones empresariales utilizando Java y frameworks asociados.\\nColaborar con equipos multidisciplinarios para comprender y traducir los requisitos del cliente en soluciones técnicas.\\nImplementar prácticas de desarrollo ágil y participar en la revisión de código y pruebas unitarias.\\nCualificación:\\n\\nExperiencia significativa en el desarrollo de aplicaciones Java empresariales.\\nConocimiento profundo de Java EE, Spring Framework y otras tecnologías relacionadas.\\nExperiencia con bases de datos relacionales como MySQL, PostgreSQL o Oracle.\\nLo que ofrecemos:\\n\\nProyectos desafiantes en un entorno empresarial y orientado a resultados.\\nOportunidades de crecimiento profesional y desarrollo de habilidades técnicas.\\nAmbiente de trabajo colaborativo y cultura de innovación.']"
      ]
     },
     "execution_count": 9,
     "metadata": {},
     "output_type": "execute_result"
    }
   ],
   "source": [
    "div_job_SoftwareDev"
   ]
  },
  {
   "cell_type": "code",
   "execution_count": 10,
   "metadata": {},
   "outputs": [
    {
     "data": {
      "text/plain": [
       "['1: Ingeniero de Redes Senior\\nAcerca del Empleo:\\nEstamos buscando un Ingeniero de Redes Senior para unirse a nuestro equipo dinámico. En este papel, serás responsable de diseñar, implementar y mantener nuestra infraestructura de red para garantizar la conectividad y la seguridad de nuestros sistemas.\\n\\nResponsabilidades:\\n\\nDiseñar y configurar redes LAN/WAN para garantizar un rendimiento óptimo.\\nImplementar medidas de seguridad de red, como firewalls y sistemas de detección de intrusiones.\\nColaborar con otros equipos para resolver problemas de red y optimizar el rendimiento.\\nRealizar pruebas de rendimiento y diagnóstico para identificar y resolver problemas de red.\\nMantener la documentación técnica actualizada sobre la infraestructura de red.\\nCualificaciones:\\n\\nLicenciatura en Ingeniería Informática, Telecomunicaciones o campo relacionado.\\nExperiencia previa en la configuración y administración de dispositivos de red (switches, routers, firewalls).\\nConocimiento sólido de protocolos de red, como TCP/IP, DNS, DHCP.\\nCapacidad para resolver problemas de manera efectiva y trabajar en equipo.\\nCertificaciones relevantes, como CCNA, CCNP, serán valoradas.\\nLo que Ofrecemos:\\n\\nOportunidad de trabajar en un entorno colaborativo y desafiante.\\nCapacitación continua y desarrollo profesional.\\nSalario competitivo y beneficios adicionales.\\nPosibilidad de crecimiento dentro de la empresa.\\n\\n\\n',\n",
       " '2: Ingeniero de Redes Principal\\nAcerca del Empleo:\\nEstamos en busca de un Ingeniero de Redes Principal con experiencia para unirse a nuestro equipo en crecimiento. Serás responsable de mantener y mejorar nuestra infraestructura de red para satisfacer las necesidades de nuestra empresa en constante evolución.\\n\\nResponsabilidades:\\n\\nDiseñar e implementar soluciones de red escalables y seguras.\\nRealizar monitoreo proactivo de la red y tomar medidas correctivas según sea necesario.\\nColaborar con otros equipos para planificar e implementar cambios en la infraestructura de red.\\nInvestigar y recomendar nuevas tecnologías para mejorar la eficiencia y la seguridad de la red.\\nMantenerse al día con las mejores prácticas de la industria en redes y seguridad de la información.\\nCualificaciones:\\n\\nExperiencia comprobada en la administración de redes en entornos empresariales.\\nConocimiento profundo de protocolos de enrutamiento y conmutación.\\nExperiencia en la implementación y administración de soluciones de seguridad de red.\\nHabilidades de resolución de problemas y capacidad para trabajar bajo presión.\\nCertificaciones como CCNP, CCIE, serán consideradas una ventaja.\\nLo que Ofrecemos:\\n\\nAmbiente de trabajo dinámico y colaborativo.\\nOportunidades de aprendizaje y desarrollo profesional.\\nSalario competitivo y beneficios adicionales.\\nPosibilidad de trabajar con tecnologías de vanguardia.\\n\\n\\n',\n",
       " '3: Ingeniero de Redes Junior\\nAcerca del Empleo:\\nEstamos buscando un Ingeniero de Redes Junior para unirse a nuestro equipo. En este papel, tendrás la oportunidad de aprender y crecer bajo la tutela de ingenieros experimentados mientras contribuyes al mantenimiento y desarrollo de nuestra infraestructura de red.\\n\\nResponsabilidades:\\n\\nAsistir en la configuración y mantenimiento de dispositivos de red.\\nParticipar en la resolución de problemas de red y en la implementación de soluciones.\\nAyudar en el monitoreo y análisis del rendimiento de la red.\\nColaborar con otros equipos para implementar cambios y actualizaciones de red.\\nMantener la documentación técnica actualizada.\\nCualificaciones:\\n\\nLicenciatura o grado técnico en Informática, Ingeniería de Telecomunicaciones o campo relacionado.\\nConocimiento básico de redes y protocolos TCP/IP.\\nFuertes habilidades de resolución de problemas y capacidad para aprender rápidamente.\\nCertificaciones como CCNA serán consideradas una ventaja.\\nExcelentes habilidades de comunicación y trabajo en equipo.\\nLo que Ofrecemos:\\n\\nOportunidad de crecimiento y desarrollo profesional.\\nEntorno de trabajo colaborativo y de apoyo.\\nFormación técnica y oportunidades de certificación.\\nRemuneración competitiva y beneficios adicionales.\\n\\n\\n',\n",
       " '4: Técnico de Redes en Formación\\nAcerca del Empleo:\\nEstamos buscando un Técnico de Redes en Formación para unirse a nuestro equipo. Esta posición es ideal para alguien que está comenzando su carrera en redes y está buscando una oportunidad para aprender y crecer en un entorno profesional.\\n\\nResponsabilidades:\\n\\nAsistir en la configuración y mantenimiento de dispositivos de red.\\nAyudar en la resolución de problemas de red y en la implementación de soluciones.\\nParticipar en actividades de monitoreo y análisis del rendimiento de la red.\\nColaborar con equipos multidisciplinarios en proyectos relacionados con la red.\\nContribuir a la documentación técnica y al seguimiento de procedimientos.\\nCualificaciones:\\n\\nFormación técnica o universitaria en Informática, Ingeniería de Telecomunicaciones o similar.\\nConocimientos básicos de redes y protocolos TCP/IP.\\nMotivación para aprender y desarrollarse en el campo de las redes.\\nHabilidades de comunicación y capacidad para trabajar en equipo.\\nCertificaciones como CCENT serán valoradas.\\nLo que Ofrecemos:\\n\\nEntorno de trabajo estimulante y colaborativo.\\nPrograma de formación y desarrollo profesional.\\nExposición a tecnologías de redes de última generación.\\nRemuneración competitiva y beneficios adicionales.']"
      ]
     },
     "execution_count": 10,
     "metadata": {},
     "output_type": "execute_result"
    }
   ],
   "source": [
    "div_job_NetworkEng"
   ]
  },
  {
   "cell_type": "code",
   "execution_count": 11,
   "metadata": {},
   "outputs": [
    {
     "data": {
      "text/plain": [
       "['1: Científico de Datos Senior\\nAcerca del empleo: Únete a nuestro equipo como Científico de Datos Senior y lidera proyectos de análisis de datos de vanguardia para impulsar la innovación y la toma de decisiones estratégicas.\\n\\nResponsabilidades:\\n\\nLiderar la investigación y el desarrollo de modelos de machine learning y análisis predictivo para optimizar operaciones y generar insights.\\nColaborar con equipos interdisciplinarios para identificar oportunidades de mejora y optimización utilizando datos.\\nGuiar y mentorizar a analistas de datos junior en técnicas y mejores prácticas de análisis.\\nCualificación:\\n\\nMaestría en Ciencia de Datos, Estadística, Matemáticas o campo relacionado.\\nMás de 5 años de experiencia en análisis de datos, preferiblemente en entornos empresariales.\\nExperiencia demostrada en Python, R y SQL para análisis de datos y modelado predictivo.\\nHabilidades sólidas de comunicación y capacidad para presentar resultados de manera efectiva a partes interesadas técnicas y no técnicas.\\nLo que ofrecemos:\\n\\nOportunidad de liderar proyectos de datos innovadores en una empresa líder en su industria.\\nSalario competitivo y paquete de beneficios atractivos.\\nAmbiente de trabajo colaborativo y enfocado en el crecimiento profesional.\\n\\n\\n',\n",
       " '2: Ingeniero de Datos Junior\\nAcerca del empleo: Estamos buscando un Ingeniero de Datos Junior para unirse a nuestro equipo y contribuir al diseño y mantenimiento de nuestras infraestructuras de datos.\\n\\nResponsabilidades:\\n\\nAyudar en el desarrollo y mantenimiento de pipelines de datos para la ingestión, limpieza y procesamiento de datos.\\nColaborar con equipos de ingeniería y análisis para garantizar la integridad y disponibilidad de los datos.\\nParticipar en la implementación y optimización de bases de datos SQL y NoSQL.\\nCualificación:\\n\\nLicenciatura en Ingeniería Informática, Ciencias de la Computación o campo relacionado.\\nConocimiento básico de programación en Python, Java o Scala.\\nInterés en aprender y desarrollarse en el campo de la ingeniería de datos.\\nHabilidades de resolución de problemas y capacidad para trabajar en equipo.\\nLo que ofrecemos:\\n\\nEntorno de trabajo dinámico y colaborativo con oportunidades de crecimiento profesional.\\nCapacitación en tecnologías y herramientas de ingeniería de datos.\\nOportunidad de contribuir a proyectos innovadores desde el principio.\\n\\n\\n',\n",
       " '3: Analista de Datos de Marketing Digital\\nAcerca del empleo: Únete a nuestro equipo como Analista de Datos especializado en el análisis de campañas de marketing digital para impulsar el crecimiento y la conversión de clientes.\\n\\nResponsabilidades:\\n\\nAnalizar datos de campañas digitales para identificar patrones y tendencias.\\nDesarrollar modelos predictivos para la segmentación y personalización de audiencias.\\nColaborar con equipos de marketing para optimizar estrategias y presupuestos de marketing.\\nCualificación:\\n\\nExperiencia previa en análisis de datos de marketing digital.\\nConocimiento de herramientas como Google Analytics, Adobe Analytics o similar.\\nFuertes habilidades analíticas y capacidad para traducir datos en insights accionables.\\nExperiencia en la visualización de datos preferida, pero no obligatoria.\\nLo que ofrecemos:\\n\\nOportunidad de trabajar en un entorno de marketing dinámico y en crecimiento.\\nColaboración con equipos multidisciplinarios y oportunidades de desarrollo profesional.\\nCompensación competitiva y beneficios adicionales.\\n\\n\\n',\n",
       " '4: Científico de Datos en Bioinformática\\nAcerca del empleo: Buscamos un Científico de Datos con experiencia en bioinformática para liderar proyectos de análisis genómico y molecular.\\n\\nResponsabilidades:\\n\\nAnalizar datos genómicos para identificar variantes genéticas y relaciones entre genes y enfermedades.\\nDesarrollar algoritmos y herramientas de análisis de datos para el descubrimiento de biomarcadores.\\nColaborar con equipos de investigación en la interpretación de resultados y la generación de hipótesis científicas.\\nCualificación:\\n\\nDoctorado en Bioinformática, Genética Computacional o campo relacionado.\\nExperiencia en análisis de datos genómicos utilizando herramientas como BLAST, Bowtie o similar.\\nFuertes habilidades de programación en Python, R o Perl.\\nConocimiento de bases de datos genómicas y herramientas de visualización.\\nLo que ofrecemos:\\n\\nOportunidad de contribuir a la investigación biomédica y el desarrollo de terapias personalizadas.\\nColaboración con investigadores de clase mundial y acceso a recursos tecnológicos de vanguardia.\\nAmbiente de trabajo estimulante y enfocado en la innovación científica.\\n\\n\\n',\n",
       " '5: Científico de Datos en Retail - Especializado en Deep Learning\\nAcerca del empleo: Únete a nuestro equipo como Científico de Datos especializado en Deep Learning para impulsar la innovación en el sector minorista y mejorar la experiencia del cliente.\\n\\nResponsabilidades:\\n\\nInvestigar, desarrollar y desplegar modelos de deep learning para mejorar la personalización de recomendaciones de productos.\\nAnalizar grandes volúmenes de datos transaccionales para identificar patrones de comportamiento del cliente y tendencias de mercado.\\nColaborar con equipos de negocio para traducir insights de datos en estrategias comerciales efectivas.\\nCualificación:\\n\\nMaestría o Doctorado en Ciencia de Datos, Inteligencia Artificial o campo relacionado.\\nExperiencia demostrada en el desarrollo y despliegue de modelos de deep learning en entornos comerciales.\\nDominio de herramientas y bibliotecas como TensorFlow, PyTorch y Keras.\\nExperiencia previa en el sector minorista o de comercio electrónico es una ventaja.\\nLo que ofrecemos:\\n\\nOportunidad de trabajar en un entorno minorista dinámico y en crecimiento.\\nColaboración con equipos multidisciplinarios y acceso a tecnologías de vanguardia.\\nCompensación competitiva y beneficios adicionales.\\n\\n\\n',\n",
       " '6: Asistente de Ciencia de Datos Junior\\nAcerca del empleo: Estamos buscando un Asistente de Ciencia de Datos Junior para unirse a nuestro equipo y aprender sobre el emocionante campo de la ciencia de datos, brindando apoyo en diversas tareas y proyectos.\\n\\nResponsabilidades:\\n\\nAsistir en la recopilación, limpieza y preparación de datos para análisis.\\nApoyar en el desarrollo y evaluación de modelos de aprendizaje automático bajo la supervisión de científicos de datos senior.\\nParticipar en la creación de visualizaciones de datos y presentaciones para comunicar resultados.\\nCualificación:\\n\\nLicenciatura o título en curso en Ciencia de Datos, Estadística, Matemáticas, Informática o campo relacionado.\\nConocimientos básicos de programación en Python, R o SQL.\\nInterés genuino en aprender y desarrollarse en el campo de la ciencia de datos.\\nHabilidades de resolución de problemas y capacidad para trabajar en equipo.\\nLo que ofrecemos:\\n\\nOportunidad de adquirir experiencia práctica en un entorno de ciencia de datos.\\nMentores y capacitación para desarrollar habilidades técnicas y profesionales.\\nAmbiente de trabajo colaborativo y enfocado en el crecimiento profesional.\\n\\n\\n',\n",
       " '7: Ingeniero de Datos Senior\\nAcerca del empleo: Estamos buscando un Ingeniero de Datos Senior con experiencia para liderar proyectos de desarrollo de infraestructura de datos y pipelines de datos escalables y eficientes.\\n\\nResponsabilidades:\\n\\nDiseñar, implementar y mantener pipelines de datos para la ingestión, procesamiento y almacenamiento de grandes volúmenes de datos.\\nOptimizar el rendimiento y la escalabilidad de las soluciones de almacenamiento y procesamiento de datos.\\nColaborar con equipos multidisciplinarios para satisfacer las necesidades de datos de la organización.\\nCualificación:\\n\\nExperiencia previa en diseño e implementación de infraestructuras de datos.\\nConocimiento profundo de herramientas como Hadoop, Spark, Kafka y bases de datos distribuidas.\\nExperiencia en programación en Python, Java, Scala o similar.\\nHabilidades de liderazgo técnico y capacidad para trabajar en equipos distribuidos.\\nLo que ofrecemos:\\n\\nOportunidad de liderar proyectos de datos estratégicos en una empresa líder en su industria.\\nSalario competitivo y beneficios adicionales.\\nAmbiente de trabajo colaborativo y enfocado en la innovación tecnológica.\\n\\n\\n',\n",
       " '8: Asistente de Analista de Datos\\nAcerca del empleo: Estamos buscando un Asistente de Analista de Datos para unirse a nuestro equipo y aprender sobre el emocionante campo del análisis de datos, brindando apoyo en diversas tareas y proyectos.\\n\\nResponsabilidades:\\n\\nAsistir en la recopilación, limpieza y preparación de datos para análisis.\\nAyudar en la generación de informes y visualizaciones de datos para comunicar resultados.\\nParticipar en el análisis exploratorio de datos bajo la supervisión de analistas de datos senior.\\nCualificación:\\n\\nLicenciatura o título en curso en Estadística, Matemáticas, Ciencia de Datos o campo relacionado.\\nConocimientos básicos de herramientas de análisis de datos como Python, R, SQL, Excel, etc.\\nInterés genuino en aprender y desarrollarse en el campo del análisis de datos.\\nHabilidades de resolución de problemas y capacidad para trabajar en equipo.\\nLo que ofrecemos:\\n\\nOportunidad de adquirir experiencia práctica en un entorno de análisis de datos.\\nMentores y capacitación para desarrollar habilidades técnicas y profesionales.\\nAmbiente de trabajo colaborativo y enfocado en el crecimiento profesional.\\n\\n',\n",
       " '9: Científico de Datos Experto en Procesamiento del Lenguaje Natural (NLP)\\nAcerca del empleo: Estamos buscando un Científico de Datos con experiencia y especialización en Procesamiento del Lenguaje Natural (NLP) para liderar proyectos innovadores y aplicar técnicas avanzadas de NLP para obtener insights valiosos de los datos textuales.\\n\\nResponsabilidades:\\n\\nDesarrollar y desplegar modelos avanzados de NLP para análisis de sentimientos, extracción de información, clasificación de documentos, entre otros.\\nInvestigar y experimentar con nuevas técnicas y algoritmos de NLP para mejorar la precisión y eficacia de los modelos.\\nColaborar con equipos multidisciplinarios para integrar soluciones de NLP en productos y servicios empresariales.\\nCualificación:\\n\\nDoctorado en Ciencia de Datos, Ingeniería Informática, Lingüística Computacional o campo relacionado.\\nExperiencia demostrada en el desarrollo de modelos de NLP en entornos empresariales.\\nConocimiento profundo de herramientas y bibliotecas de NLP como NLTK, spaCy, Transformers, etc.\\nFuertes habilidades de programación en Python y experiencia en el procesamiento de grandes volúmenes de datos textuales.\\nLo que ofrecemos:\\n\\nOportunidad de liderar proyectos de NLP innovadores en una empresa líder en su industria.\\nSalario competitivo y paquete de beneficios atractivos.\\nAmbiente de trabajo colaborativo y enfocado en la investigación y desarrollo tecnológico.\\n\\n\\n',\n",
       " '10: Científico de Datos con Experiencia en Plataformas Cloud\\nAcerca del empleo: Estamos buscando un Científico de Datos con experiencia en el manejo y análisis de datos en entornos de computación en la nube para liderar proyectos de análisis de datos escalables y eficientes.\\n\\nResponsabilidades:\\n\\nDiseñar y desarrollar soluciones de análisis de datos en plataformas en la nube como AWS, Azure o Google Cloud Platform.\\nImplementar pipelines de datos eficientes y escalables utilizando servicios de almacenamiento y procesamiento en la nube.\\nOptimizar el rendimiento y la eficiencia de los procesos de análisis de datos en entornos de nube distribuida.\\nCualificación:\\n\\nExperiencia previa en el diseño y desarrollo de soluciones de análisis de datos en plataformas en la nube.\\nConocimiento profundo de servicios en la nube como AWS S3, EC2, Lambda, Azure Blob Storage, Google BigQuery, etc.\\nHabilidades avanzadas en programación en Python, SQL y herramientas de análisis de datos.\\nExperiencia en la implementación de arquitecturas de datos escalables y seguras en entornos de nube.\\nLo que ofrecemos:\\n\\nOportunidad de liderar proyectos de análisis de datos en entornos de nube de clase mundial.\\nSalario competitivo y beneficios adicionales.\\nAmbiente de trabajo colaborativo y enfocado en la innovación tecnológica en la nube.']"
      ]
     },
     "execution_count": 11,
     "metadata": {},
     "output_type": "execute_result"
    }
   ],
   "source": [
    "div_job_IADev"
   ]
  },
  {
   "cell_type": "markdown",
   "metadata": {},
   "source": [
    "**Fusionar las categorias**"
   ]
  },
  {
   "cell_type": "code",
   "execution_count": 6,
   "metadata": {},
   "outputs": [],
   "source": [
    "def merge_jobs(first_text, second_text, third_text):\n",
    "    merged_texts = []\n",
    "    \n",
    "    # Agregar a lista nueva los datos de los tres tipos de jobs\n",
    "    merged_texts.extend(first_text)\n",
    "    merged_texts.extend(second_text)\n",
    "    merged_texts.extend(third_text)\n",
    "\n",
    "    return merged_texts "
   ]
  },
  {
   "cell_type": "code",
   "execution_count": 7,
   "metadata": {},
   "outputs": [
    {
     "data": {
      "text/plain": [
       "['1: Desarrollador de Software Junior - Aplicaciones Móviles\\n\\nAcerca del empleo: Buscamos un Desarrollador de Software Junior para unirse a nuestro equipo y contribuir al desarrollo de aplicaciones móviles innovadoras. Esta posición ofrece la oportunidad de trabajar en un entorno colaborativo y aprender de profesionales experimentados en el campo.\\n\\nResponsabilidades:\\n\\nColaborar en el diseño, desarrollo y prueba de aplicaciones móviles.\\nContribuir al mantenimiento y mejora continua de las aplicaciones existentes.\\nParticipar en reuniones de equipo y compartir ideas para optimizar procesos de desarrollo.\\nCualificación:\\n\\nLicenciatura en Informática, Ingeniería de Software o campo relacionado.\\nExperiencia mínima de 1 año en desarrollo de aplicaciones móviles (iOS/Android).\\nConocimientos básicos de lenguajes de programación como Java, Kotlin, Swift o Flutter.\\nLo que ofrecemos:\\n\\nOportunidad de crecimiento profesional y desarrollo de habilidades.\\nAmbiente de trabajo colaborativo y equipo multidisciplinario.\\nSalario competitivo y beneficios adicionales.\\n\\n\\n',\n",
       " '2: Ingeniero de Software Full Stack - Tecnologías Web Modernas\\n\\nAcerca del empleo: Estamos buscando un Ingeniero de Software Full Stack para unirse a nuestro equipo y trabajar en proyectos emocionantes que utilicen las últimas tecnologías web. Esta posición ofrece la oportunidad de contribuir al desarrollo completo de soluciones digitales y mejorar tus habilidades técnicas.\\n\\nResponsabilidades:\\n\\nDesarrollar aplicaciones web utilizando tecnologías frontend y backend.\\nColaborar con diseñadores y otros desarrolladores para implementar interfaces de usuario atractivas y funcionales.\\nParticipar en el diseño de arquitecturas de software escalables y eficientes.\\nCualificación:\\n\\nGrado en Ciencias de la Computación, Ingeniería de Software o similar.\\nExperiencia demostrable de al menos 3 años en desarrollo full stack.\\nProfundo conocimiento de tecnologías web modernas como JavaScript, Node.js, React.js, Angular, y bases de datos relacionales y no relacionales.\\nLo que ofrecemos:\\n\\nProyectos desafiantes y ambiente de trabajo dinámico.\\nOportunidades de formación y desarrollo profesional.\\nRemuneración competitiva y beneficios adicionales.\\n\\n\\n',\n",
       " '3: Desarrollador de Software Frontend - Experiencia de Usuario (UX)\\n\\nAcerca del empleo: Estamos en busca de un Desarrollador de Software Frontend apasionado por la experiencia de usuario para unirse a nuestro equipo. Esta posición ofrece la oportunidad de trabajar en la creación de interfaces de usuario intuitivas y atractivas para aplicaciones web y móviles.\\n\\nResponsabilidades:\\n\\nDesarrollar interfaces de usuario responsivas y visualmente atractivas utilizando HTML, CSS y JavaScript.\\nColaborar con diseñadores UX/UI para implementar soluciones que mejoren la experiencia del usuario.\\nOptimizar el rendimiento de las aplicaciones frontend y asegurar la compatibilidad con diferentes dispositivos y navegadores.\\nCualificación:\\n\\nMínimo de 2 años de experiencia en desarrollo frontend.\\nProfundo conocimiento de HTML, CSS y JavaScript.\\nExperiencia en frameworks modernos como React, Vue.js o Angular.\\nLo que ofrecemos:\\n\\nProyectos emocionantes con un enfoque en la experiencia del usuario.\\nOportunidades de crecimiento profesional y desarrollo de habilidades.\\nAmbiente de trabajo colaborativo y creativo.\\n\\n\\n',\n",
       " '4: Desarrollador de Software Backend - Arquitectura de Microservicios\\n\\nAcerca del empleo: Estamos en búsqueda de un Desarrollador de Software Backend con experiencia en arquitectura de microservicios para unirse a nuestro equipo. Esta posición ofrece la oportunidad de trabajar en proyectos escalables y colaborar con un equipo multidisciplinario.\\n\\nResponsabilidades:\\n\\nDiseñar, desarrollar y mantener servicios backend escalables utilizando arquitectura de microservicios.\\nColaborar estrechamente con equipos frontend y otros miembros del equipo para integrar servicios backend con interfaces de usuario.\\nImplementar prácticas de desarrollo ágil y participar en la revisión de código y pruebas unitarias.\\nCualificación:\\n\\nMínimo de 3 años de experiencia en desarrollo backend.\\nConocimiento profundo de lenguajes como Java, Python o Go.\\nExperiencia en el diseño e implementación de arquitecturas de microservicios.\\nLo que ofrecemos:\\n\\nProyectos desafiantes en un entorno colaborativo y ágil.\\nOportunidades de crecimiento profesional y desarrollo de habilidades.\\nAmbiente de trabajo flexible y cultura de innovación.\\n\\n\\n',\n",
       " '5: Ingeniero de Software de Juegos - Desarrollo de Videojuegos\\n\\nAcerca del empleo: Estamos buscando un Ingeniero de Software con experiencia en desarrollo de videojuegos para unirse a nuestro equipo. Esta posición ofrece la oportunidad de trabajar en proyectos emocionantes y contribuir al desarrollo de experiencias de juego únicas.\\n\\nResponsabilidades:\\n\\nDesarrollar código limpio y eficiente para juegos utilizando Unity o Unreal Engine.\\nImplementar mecánicas de juego, gráficos 2D/3D y optimización de rendimiento.\\nColaborar con diseñadores y artistas para integrar contenido en los juegos.\\nCualificación:\\n\\nGrado en Ciencias de la Computación, Ingeniería de Software o campo relacionado.\\nExperiencia demostrable en el desarrollo de videojuegos, preferiblemente con Unity o Unreal Engine.\\nConocimientos sólidos de lenguajes como C# o C++.\\nLo que ofrecemos:\\n\\nProyectos creativos en un ambiente dinámico y colaborativo.\\nOportunidades de crecimiento profesional en la industria del entretenimiento.\\nCultura de trabajo flexible y equilibrio entre vida laboral y personal.\\n\\n\\n',\n",
       " '6: Desarrollador de Software DevOps - Automatización de Infraestructura\\n\\nAcerca del empleo: Estamos en busca de un Desarrollador de Software DevOps con experiencia en automatización de infraestructura para unirse a nuestro equipo. Esta posición ofrece la oportunidad de trabajar en el diseño y la implementación de pipelines de entrega continua y mejorar la eficiencia operativa de nuestros sistemas.\\n\\nResponsabilidades:\\n\\nAutomatizar la infraestructura y los procesos de despliegue utilizando herramientas como Ansible, Chef o Puppet.\\nColaborar con equipos de desarrollo y operaciones para implementar prácticas de entrega continua y despliegue automatizado.\\nMonitorear y mantener la infraestructura de producción, identificando y resolviendo problemas de manera proactiva.\\nCualificación:\\n\\nMínimo de 2 años de experiencia en administración de sistemas o desarrollo DevOps.\\nExperiencia práctica con herramientas de automatización como Ansible, Chef o Puppet.\\nFamiliaridad con plataformas de orquestación de contenedores como Kubernetes.\\nLo que ofrecemos:\\n\\nProyectos desafiantes en un entorno ágil y colaborativo.\\nOportunidades de desarrollo profesional en el campo de la automatización de infraestructura.\\nCultura de trabajo flexible y equilibrio entre vida laboral y personal.\\n\\n\\n',\n",
       " '7: Ingeniero de Software Full Stack - Desarrollo de Aplicaciones Escalables en la Nube\\nAcerca del empleo: Estamos buscando un Ingeniero de Software Full Stack para contribuir al desarrollo de aplicaciones escalables en la nube. Esta posición ofrece la oportunidad de trabajar en proyectos desafiantes que aprovechan tecnologías en la nube para ofrecer soluciones innovadoras.\\n\\nResponsabilidades:\\n\\nDiseñar, desarrollar y mantener aplicaciones web escalables utilizando tecnologías frontend y backend.\\nImplementar prácticas de desarrollo ágil y colaborar en la mejora continua de los procesos de desarrollo.\\nIntegrar servicios en la nube y optimizar el rendimiento de aplicaciones para alta disponibilidad y escalabilidad.\\nCualificación:\\n\\nExperiencia demostrable en el desarrollo full stack, preferiblemente en entornos de nube.\\nConocimiento profundo de tecnologías frontend como HTML, CSS y JavaScript, así como de frameworks modernos como React.js o Angular.\\nExperiencia con lenguajes y tecnologías backend como Node.js, Python, Java o .NET Core.\\nLo que ofrecemos:\\n\\nProyectos emocionantes en un entorno cloud-native y escalable.\\nOportunidades de desarrollo profesional y crecimiento dentro de la empresa.\\nAmbiente de trabajo colaborativo y cultura de innovación.\\n\\n\\n',\n",
       " '8: Desarrollador de Software Sénior - Experiencia en Integración de Sistemas Empresariales\\nAcerca del empleo: Estamos en búsqueda de un Desarrollador de Software Senior con experiencia en integración de sistemas empresariales para unirse a nuestro equipo. Esta posición ofrece la oportunidad de trabajar en proyectos complejos de integración y colaborar con equipos multidisciplinarios.\\n\\nResponsabilidades:\\n\\nDiseñar e implementar soluciones de integración de sistemas utilizando herramientas como MuleSoft, Apache Camel o similar.\\nColaborar con equipos de negocio y técnicos para entender los requisitos de integración y diseñar soluciones eficientes.\\nDesarrollar y mantener interfaces de programación de aplicaciones (APIs) y servicios web para la integración de sistemas.\\nCualificación:\\n\\nExperiencia significativa en el desarrollo de software, con enfoque en la integración de sistemas empresariales.\\nConocimiento profundo de herramientas de integración como MuleSoft, Apache Camel o similar.\\nExperiencia con tecnologías de comunicación como REST, SOAP, XML, JSON, etc.\\nLo que ofrecemos:\\n\\nProyectos desafiantes en un entorno empresarial y de integración de sistemas.\\nOportunidades de crecimiento profesional y desarrollo de habilidades técnicas.\\nAmbiente de trabajo colaborativo y equipo comprometido con el éxito del proyecto.\\n\\n\\n',\n",
       " '9: Desarrollador de WordPress - Implementación de Sitios Web y Personalización de Temas\\nAcerca del empleo: Estamos en búsqueda de un Desarrollador de WordPress para unirse a nuestro equipo y liderar la implementación de sitios web y la personalización de temas. Esta posición ofrece la oportunidad de trabajar en proyectos diversos y colaborar con clientes para cumplir con sus requisitos específicos.\\n\\nResponsabilidades:\\n\\nConfigurar, instalar y mantener sitios web utilizando WordPress.\\nPersonalizar temas y plugins de WordPress para satisfacer las necesidades del cliente.\\nColaborar con diseñadores y clientes para traducir requisitos de diseño en soluciones técnicas efectivas.\\nCualificación:\\n\\nExperiencia demostrable en el desarrollo de sitios web utilizando WordPress.\\nConocimiento profundo de HTML, CSS, JavaScript y PHP.\\nExperiencia en la personalización de temas y plugins de WordPress.\\nLo que ofrecemos:\\n\\nProyectos interesantes y variados en un entorno WordPress.\\nOportunidades de aprendizaje y desarrollo profesional.\\nAmbiente de trabajo colaborativo y flexible.\\n\\n\\n',\n",
       " '10: Ingeniero de Desarrollo Java - Desarrollo de Aplicaciones Empresariales\\nAcerca del empleo: Estamos buscando un Ingeniero de Desarrollo Java para unirse a nuestro equipo y trabajar en el desarrollo de aplicaciones empresariales escalables y seguras. Esta posición ofrece la oportunidad de trabajar en proyectos desafiantes y contribuir al éxito de nuestros clientes.\\n\\nResponsabilidades:\\n\\nDiseñar, desarrollar y mantener aplicaciones empresariales utilizando Java y frameworks asociados.\\nColaborar con equipos multidisciplinarios para comprender y traducir los requisitos del cliente en soluciones técnicas.\\nImplementar prácticas de desarrollo ágil y participar en la revisión de código y pruebas unitarias.\\nCualificación:\\n\\nExperiencia significativa en el desarrollo de aplicaciones Java empresariales.\\nConocimiento profundo de Java EE, Spring Framework y otras tecnologías relacionadas.\\nExperiencia con bases de datos relacionales como MySQL, PostgreSQL o Oracle.\\nLo que ofrecemos:\\n\\nProyectos desafiantes en un entorno empresarial y orientado a resultados.\\nOportunidades de crecimiento profesional y desarrollo de habilidades técnicas.\\nAmbiente de trabajo colaborativo y cultura de innovación.',\n",
       " '1: Ingeniero de Redes Senior\\nAcerca del Empleo:\\nEstamos buscando un Ingeniero de Redes Senior para unirse a nuestro equipo dinámico. En este papel, serás responsable de diseñar, implementar y mantener nuestra infraestructura de red para garantizar la conectividad y la seguridad de nuestros sistemas.\\n\\nResponsabilidades:\\n\\nDiseñar y configurar redes LAN/WAN para garantizar un rendimiento óptimo.\\nImplementar medidas de seguridad de red, como firewalls y sistemas de detección de intrusiones.\\nColaborar con otros equipos para resolver problemas de red y optimizar el rendimiento.\\nRealizar pruebas de rendimiento y diagnóstico para identificar y resolver problemas de red.\\nMantener la documentación técnica actualizada sobre la infraestructura de red.\\nCualificaciones:\\n\\nLicenciatura en Ingeniería Informática, Telecomunicaciones o campo relacionado.\\nExperiencia previa en la configuración y administración de dispositivos de red (switches, routers, firewalls).\\nConocimiento sólido de protocolos de red, como TCP/IP, DNS, DHCP.\\nCapacidad para resolver problemas de manera efectiva y trabajar en equipo.\\nCertificaciones relevantes, como CCNA, CCNP, serán valoradas.\\nLo que Ofrecemos:\\n\\nOportunidad de trabajar en un entorno colaborativo y desafiante.\\nCapacitación continua y desarrollo profesional.\\nSalario competitivo y beneficios adicionales.\\nPosibilidad de crecimiento dentro de la empresa.\\n\\n\\n',\n",
       " '2: Ingeniero de Redes Principal\\nAcerca del Empleo:\\nEstamos en busca de un Ingeniero de Redes Principal con experiencia para unirse a nuestro equipo en crecimiento. Serás responsable de mantener y mejorar nuestra infraestructura de red para satisfacer las necesidades de nuestra empresa en constante evolución.\\n\\nResponsabilidades:\\n\\nDiseñar e implementar soluciones de red escalables y seguras.\\nRealizar monitoreo proactivo de la red y tomar medidas correctivas según sea necesario.\\nColaborar con otros equipos para planificar e implementar cambios en la infraestructura de red.\\nInvestigar y recomendar nuevas tecnologías para mejorar la eficiencia y la seguridad de la red.\\nMantenerse al día con las mejores prácticas de la industria en redes y seguridad de la información.\\nCualificaciones:\\n\\nExperiencia comprobada en la administración de redes en entornos empresariales.\\nConocimiento profundo de protocolos de enrutamiento y conmutación.\\nExperiencia en la implementación y administración de soluciones de seguridad de red.\\nHabilidades de resolución de problemas y capacidad para trabajar bajo presión.\\nCertificaciones como CCNP, CCIE, serán consideradas una ventaja.\\nLo que Ofrecemos:\\n\\nAmbiente de trabajo dinámico y colaborativo.\\nOportunidades de aprendizaje y desarrollo profesional.\\nSalario competitivo y beneficios adicionales.\\nPosibilidad de trabajar con tecnologías de vanguardia.\\n\\n\\n',\n",
       " '3: Ingeniero de Redes Junior\\nAcerca del Empleo:\\nEstamos buscando un Ingeniero de Redes Junior para unirse a nuestro equipo. En este papel, tendrás la oportunidad de aprender y crecer bajo la tutela de ingenieros experimentados mientras contribuyes al mantenimiento y desarrollo de nuestra infraestructura de red.\\n\\nResponsabilidades:\\n\\nAsistir en la configuración y mantenimiento de dispositivos de red.\\nParticipar en la resolución de problemas de red y en la implementación de soluciones.\\nAyudar en el monitoreo y análisis del rendimiento de la red.\\nColaborar con otros equipos para implementar cambios y actualizaciones de red.\\nMantener la documentación técnica actualizada.\\nCualificaciones:\\n\\nLicenciatura o grado técnico en Informática, Ingeniería de Telecomunicaciones o campo relacionado.\\nConocimiento básico de redes y protocolos TCP/IP.\\nFuertes habilidades de resolución de problemas y capacidad para aprender rápidamente.\\nCertificaciones como CCNA serán consideradas una ventaja.\\nExcelentes habilidades de comunicación y trabajo en equipo.\\nLo que Ofrecemos:\\n\\nOportunidad de crecimiento y desarrollo profesional.\\nEntorno de trabajo colaborativo y de apoyo.\\nFormación técnica y oportunidades de certificación.\\nRemuneración competitiva y beneficios adicionales.\\n\\n\\n',\n",
       " '4: Técnico de Redes en Formación\\nAcerca del Empleo:\\nEstamos buscando un Técnico de Redes en Formación para unirse a nuestro equipo. Esta posición es ideal para alguien que está comenzando su carrera en redes y está buscando una oportunidad para aprender y crecer en un entorno profesional.\\n\\nResponsabilidades:\\n\\nAsistir en la configuración y mantenimiento de dispositivos de red.\\nAyudar en la resolución de problemas de red y en la implementación de soluciones.\\nParticipar en actividades de monitoreo y análisis del rendimiento de la red.\\nColaborar con equipos multidisciplinarios en proyectos relacionados con la red.\\nContribuir a la documentación técnica y al seguimiento de procedimientos.\\nCualificaciones:\\n\\nFormación técnica o universitaria en Informática, Ingeniería de Telecomunicaciones o similar.\\nConocimientos básicos de redes y protocolos TCP/IP.\\nMotivación para aprender y desarrollarse en el campo de las redes.\\nHabilidades de comunicación y capacidad para trabajar en equipo.\\nCertificaciones como CCENT serán valoradas.\\nLo que Ofrecemos:\\n\\nEntorno de trabajo estimulante y colaborativo.\\nPrograma de formación y desarrollo profesional.\\nExposición a tecnologías de redes de última generación.\\nRemuneración competitiva y beneficios adicionales.',\n",
       " '1: Científico de Datos Senior\\nAcerca del empleo: Únete a nuestro equipo como Científico de Datos Senior y lidera proyectos de análisis de datos de vanguardia para impulsar la innovación y la toma de decisiones estratégicas.\\n\\nResponsabilidades:\\n\\nLiderar la investigación y el desarrollo de modelos de machine learning y análisis predictivo para optimizar operaciones y generar insights.\\nColaborar con equipos interdisciplinarios para identificar oportunidades de mejora y optimización utilizando datos.\\nGuiar y mentorizar a analistas de datos junior en técnicas y mejores prácticas de análisis.\\nCualificación:\\n\\nMaestría en Ciencia de Datos, Estadística, Matemáticas o campo relacionado.\\nMás de 5 años de experiencia en análisis de datos, preferiblemente en entornos empresariales.\\nExperiencia demostrada en Python, R y SQL para análisis de datos y modelado predictivo.\\nHabilidades sólidas de comunicación y capacidad para presentar resultados de manera efectiva a partes interesadas técnicas y no técnicas.\\nLo que ofrecemos:\\n\\nOportunidad de liderar proyectos de datos innovadores en una empresa líder en su industria.\\nSalario competitivo y paquete de beneficios atractivos.\\nAmbiente de trabajo colaborativo y enfocado en el crecimiento profesional.\\n\\n\\n',\n",
       " '2: Ingeniero de Datos Junior\\nAcerca del empleo: Estamos buscando un Ingeniero de Datos Junior para unirse a nuestro equipo y contribuir al diseño y mantenimiento de nuestras infraestructuras de datos.\\n\\nResponsabilidades:\\n\\nAyudar en el desarrollo y mantenimiento de pipelines de datos para la ingestión, limpieza y procesamiento de datos.\\nColaborar con equipos de ingeniería y análisis para garantizar la integridad y disponibilidad de los datos.\\nParticipar en la implementación y optimización de bases de datos SQL y NoSQL.\\nCualificación:\\n\\nLicenciatura en Ingeniería Informática, Ciencias de la Computación o campo relacionado.\\nConocimiento básico de programación en Python, Java o Scala.\\nInterés en aprender y desarrollarse en el campo de la ingeniería de datos.\\nHabilidades de resolución de problemas y capacidad para trabajar en equipo.\\nLo que ofrecemos:\\n\\nEntorno de trabajo dinámico y colaborativo con oportunidades de crecimiento profesional.\\nCapacitación en tecnologías y herramientas de ingeniería de datos.\\nOportunidad de contribuir a proyectos innovadores desde el principio.\\n\\n\\n',\n",
       " '3: Analista de Datos de Marketing Digital\\nAcerca del empleo: Únete a nuestro equipo como Analista de Datos especializado en el análisis de campañas de marketing digital para impulsar el crecimiento y la conversión de clientes.\\n\\nResponsabilidades:\\n\\nAnalizar datos de campañas digitales para identificar patrones y tendencias.\\nDesarrollar modelos predictivos para la segmentación y personalización de audiencias.\\nColaborar con equipos de marketing para optimizar estrategias y presupuestos de marketing.\\nCualificación:\\n\\nExperiencia previa en análisis de datos de marketing digital.\\nConocimiento de herramientas como Google Analytics, Adobe Analytics o similar.\\nFuertes habilidades analíticas y capacidad para traducir datos en insights accionables.\\nExperiencia en la visualización de datos preferida, pero no obligatoria.\\nLo que ofrecemos:\\n\\nOportunidad de trabajar en un entorno de marketing dinámico y en crecimiento.\\nColaboración con equipos multidisciplinarios y oportunidades de desarrollo profesional.\\nCompensación competitiva y beneficios adicionales.\\n\\n\\n',\n",
       " '4: Científico de Datos en Bioinformática\\nAcerca del empleo: Buscamos un Científico de Datos con experiencia en bioinformática para liderar proyectos de análisis genómico y molecular.\\n\\nResponsabilidades:\\n\\nAnalizar datos genómicos para identificar variantes genéticas y relaciones entre genes y enfermedades.\\nDesarrollar algoritmos y herramientas de análisis de datos para el descubrimiento de biomarcadores.\\nColaborar con equipos de investigación en la interpretación de resultados y la generación de hipótesis científicas.\\nCualificación:\\n\\nDoctorado en Bioinformática, Genética Computacional o campo relacionado.\\nExperiencia en análisis de datos genómicos utilizando herramientas como BLAST, Bowtie o similar.\\nFuertes habilidades de programación en Python, R o Perl.\\nConocimiento de bases de datos genómicas y herramientas de visualización.\\nLo que ofrecemos:\\n\\nOportunidad de contribuir a la investigación biomédica y el desarrollo de terapias personalizadas.\\nColaboración con investigadores de clase mundial y acceso a recursos tecnológicos de vanguardia.\\nAmbiente de trabajo estimulante y enfocado en la innovación científica.\\n\\n\\n',\n",
       " '5: Científico de Datos en Retail - Especializado en Deep Learning\\nAcerca del empleo: Únete a nuestro equipo como Científico de Datos especializado en Deep Learning para impulsar la innovación en el sector minorista y mejorar la experiencia del cliente.\\n\\nResponsabilidades:\\n\\nInvestigar, desarrollar y desplegar modelos de deep learning para mejorar la personalización de recomendaciones de productos.\\nAnalizar grandes volúmenes de datos transaccionales para identificar patrones de comportamiento del cliente y tendencias de mercado.\\nColaborar con equipos de negocio para traducir insights de datos en estrategias comerciales efectivas.\\nCualificación:\\n\\nMaestría o Doctorado en Ciencia de Datos, Inteligencia Artificial o campo relacionado.\\nExperiencia demostrada en el desarrollo y despliegue de modelos de deep learning en entornos comerciales.\\nDominio de herramientas y bibliotecas como TensorFlow, PyTorch y Keras.\\nExperiencia previa en el sector minorista o de comercio electrónico es una ventaja.\\nLo que ofrecemos:\\n\\nOportunidad de trabajar en un entorno minorista dinámico y en crecimiento.\\nColaboración con equipos multidisciplinarios y acceso a tecnologías de vanguardia.\\nCompensación competitiva y beneficios adicionales.\\n\\n\\n',\n",
       " '6: Asistente de Ciencia de Datos Junior\\nAcerca del empleo: Estamos buscando un Asistente de Ciencia de Datos Junior para unirse a nuestro equipo y aprender sobre el emocionante campo de la ciencia de datos, brindando apoyo en diversas tareas y proyectos.\\n\\nResponsabilidades:\\n\\nAsistir en la recopilación, limpieza y preparación de datos para análisis.\\nApoyar en el desarrollo y evaluación de modelos de aprendizaje automático bajo la supervisión de científicos de datos senior.\\nParticipar en la creación de visualizaciones de datos y presentaciones para comunicar resultados.\\nCualificación:\\n\\nLicenciatura o título en curso en Ciencia de Datos, Estadística, Matemáticas, Informática o campo relacionado.\\nConocimientos básicos de programación en Python, R o SQL.\\nInterés genuino en aprender y desarrollarse en el campo de la ciencia de datos.\\nHabilidades de resolución de problemas y capacidad para trabajar en equipo.\\nLo que ofrecemos:\\n\\nOportunidad de adquirir experiencia práctica en un entorno de ciencia de datos.\\nMentores y capacitación para desarrollar habilidades técnicas y profesionales.\\nAmbiente de trabajo colaborativo y enfocado en el crecimiento profesional.\\n\\n\\n',\n",
       " '7: Ingeniero de Datos Senior\\nAcerca del empleo: Estamos buscando un Ingeniero de Datos Senior con experiencia para liderar proyectos de desarrollo de infraestructura de datos y pipelines de datos escalables y eficientes.\\n\\nResponsabilidades:\\n\\nDiseñar, implementar y mantener pipelines de datos para la ingestión, procesamiento y almacenamiento de grandes volúmenes de datos.\\nOptimizar el rendimiento y la escalabilidad de las soluciones de almacenamiento y procesamiento de datos.\\nColaborar con equipos multidisciplinarios para satisfacer las necesidades de datos de la organización.\\nCualificación:\\n\\nExperiencia previa en diseño e implementación de infraestructuras de datos.\\nConocimiento profundo de herramientas como Hadoop, Spark, Kafka y bases de datos distribuidas.\\nExperiencia en programación en Python, Java, Scala o similar.\\nHabilidades de liderazgo técnico y capacidad para trabajar en equipos distribuidos.\\nLo que ofrecemos:\\n\\nOportunidad de liderar proyectos de datos estratégicos en una empresa líder en su industria.\\nSalario competitivo y beneficios adicionales.\\nAmbiente de trabajo colaborativo y enfocado en la innovación tecnológica.\\n\\n\\n',\n",
       " '8: Asistente de Analista de Datos\\nAcerca del empleo: Estamos buscando un Asistente de Analista de Datos para unirse a nuestro equipo y aprender sobre el emocionante campo del análisis de datos, brindando apoyo en diversas tareas y proyectos.\\n\\nResponsabilidades:\\n\\nAsistir en la recopilación, limpieza y preparación de datos para análisis.\\nAyudar en la generación de informes y visualizaciones de datos para comunicar resultados.\\nParticipar en el análisis exploratorio de datos bajo la supervisión de analistas de datos senior.\\nCualificación:\\n\\nLicenciatura o título en curso en Estadística, Matemáticas, Ciencia de Datos o campo relacionado.\\nConocimientos básicos de herramientas de análisis de datos como Python, R, SQL, Excel, etc.\\nInterés genuino en aprender y desarrollarse en el campo del análisis de datos.\\nHabilidades de resolución de problemas y capacidad para trabajar en equipo.\\nLo que ofrecemos:\\n\\nOportunidad de adquirir experiencia práctica en un entorno de análisis de datos.\\nMentores y capacitación para desarrollar habilidades técnicas y profesionales.\\nAmbiente de trabajo colaborativo y enfocado en el crecimiento profesional.\\n\\n',\n",
       " '9: Científico de Datos Experto en Procesamiento del Lenguaje Natural (NLP)\\nAcerca del empleo: Estamos buscando un Científico de Datos con experiencia y especialización en Procesamiento del Lenguaje Natural (NLP) para liderar proyectos innovadores y aplicar técnicas avanzadas de NLP para obtener insights valiosos de los datos textuales.\\n\\nResponsabilidades:\\n\\nDesarrollar y desplegar modelos avanzados de NLP para análisis de sentimientos, extracción de información, clasificación de documentos, entre otros.\\nInvestigar y experimentar con nuevas técnicas y algoritmos de NLP para mejorar la precisión y eficacia de los modelos.\\nColaborar con equipos multidisciplinarios para integrar soluciones de NLP en productos y servicios empresariales.\\nCualificación:\\n\\nDoctorado en Ciencia de Datos, Ingeniería Informática, Lingüística Computacional o campo relacionado.\\nExperiencia demostrada en el desarrollo de modelos de NLP en entornos empresariales.\\nConocimiento profundo de herramientas y bibliotecas de NLP como NLTK, spaCy, Transformers, etc.\\nFuertes habilidades de programación en Python y experiencia en el procesamiento de grandes volúmenes de datos textuales.\\nLo que ofrecemos:\\n\\nOportunidad de liderar proyectos de NLP innovadores en una empresa líder en su industria.\\nSalario competitivo y paquete de beneficios atractivos.\\nAmbiente de trabajo colaborativo y enfocado en la investigación y desarrollo tecnológico.\\n\\n\\n',\n",
       " '10: Científico de Datos con Experiencia en Plataformas Cloud\\nAcerca del empleo: Estamos buscando un Científico de Datos con experiencia en el manejo y análisis de datos en entornos de computación en la nube para liderar proyectos de análisis de datos escalables y eficientes.\\n\\nResponsabilidades:\\n\\nDiseñar y desarrollar soluciones de análisis de datos en plataformas en la nube como AWS, Azure o Google Cloud Platform.\\nImplementar pipelines de datos eficientes y escalables utilizando servicios de almacenamiento y procesamiento en la nube.\\nOptimizar el rendimiento y la eficiencia de los procesos de análisis de datos en entornos de nube distribuida.\\nCualificación:\\n\\nExperiencia previa en el diseño y desarrollo de soluciones de análisis de datos en plataformas en la nube.\\nConocimiento profundo de servicios en la nube como AWS S3, EC2, Lambda, Azure Blob Storage, Google BigQuery, etc.\\nHabilidades avanzadas en programación en Python, SQL y herramientas de análisis de datos.\\nExperiencia en la implementación de arquitecturas de datos escalables y seguras en entornos de nube.\\nLo que ofrecemos:\\n\\nOportunidad de liderar proyectos de análisis de datos en entornos de nube de clase mundial.\\nSalario competitivo y beneficios adicionales.\\nAmbiente de trabajo colaborativo y enfocado en la innovación tecnológica en la nube.']"
      ]
     },
     "execution_count": 7,
     "metadata": {},
     "output_type": "execute_result"
    }
   ],
   "source": [
    "merged_texts = merge_jobs(div_job_SoftwareDev, div_job_NetworkEng, div_job_IADev)\n",
    "merged_texts"
   ]
  },
  {
   "cell_type": "markdown",
   "metadata": {},
   "source": [
    "**Operaciones de borrado y insercion**"
   ]
  },
  {
   "cell_type": "code",
   "execution_count": 8,
   "metadata": {},
   "outputs": [],
   "source": [
    "# Borramos numeros correspondiente a cada job ej. 1: Desarrollador,2: Ingeniero, etc.\n",
    "def delete_numbersJobs (texts):\n",
    "    new_texts = []\n",
    "    for text in texts:\n",
    "        # Revisar si primer caracter es un digito\n",
    "        if text[0].isdigit():\n",
    "            # Si son dos sigitos seguidos de : eliminamos los tres primeros caracteres\n",
    "            if len(text) >= 3 and text[2] == ':':\n",
    "                new_texts.append(text[4:])\n",
    "            # Si es un digito seguido de :, eliminamos los dos primeros caracteres\n",
    "            elif len(text) >= 2 and text[1] == ':':\n",
    "                new_texts.append(text[3:])\n",
    "            else:\n",
    "                # Si el primer caracter es un digito pero no le sigue :, mantener texto original\n",
    "                new_texts.append(text)\n",
    "        else:\n",
    "            # Si el primer caracter no es digito, mantener texto original\n",
    "            new_texts.append(text)\n",
    "    return new_texts"
   ]
  },
  {
   "cell_type": "code",
   "execution_count": 9,
   "metadata": {},
   "outputs": [
    {
     "data": {
      "text/plain": [
       "['Desarrollador de Software Junior - Aplicaciones Móviles\\n\\nAcerca del empleo: Buscamos un Desarrollador de Software Junior para unirse a nuestro equipo y contribuir al desarrollo de aplicaciones móviles innovadoras. Esta posición ofrece la oportunidad de trabajar en un entorno colaborativo y aprender de profesionales experimentados en el campo.\\n\\nResponsabilidades:\\n\\nColaborar en el diseño, desarrollo y prueba de aplicaciones móviles.\\nContribuir al mantenimiento y mejora continua de las aplicaciones existentes.\\nParticipar en reuniones de equipo y compartir ideas para optimizar procesos de desarrollo.\\nCualificación:\\n\\nLicenciatura en Informática, Ingeniería de Software o campo relacionado.\\nExperiencia mínima de 1 año en desarrollo de aplicaciones móviles (iOS/Android).\\nConocimientos básicos de lenguajes de programación como Java, Kotlin, Swift o Flutter.\\nLo que ofrecemos:\\n\\nOportunidad de crecimiento profesional y desarrollo de habilidades.\\nAmbiente de trabajo colaborativo y equipo multidisciplinario.\\nSalario competitivo y beneficios adicionales.\\n\\n\\n',\n",
       " 'Ingeniero de Software Full Stack - Tecnologías Web Modernas\\n\\nAcerca del empleo: Estamos buscando un Ingeniero de Software Full Stack para unirse a nuestro equipo y trabajar en proyectos emocionantes que utilicen las últimas tecnologías web. Esta posición ofrece la oportunidad de contribuir al desarrollo completo de soluciones digitales y mejorar tus habilidades técnicas.\\n\\nResponsabilidades:\\n\\nDesarrollar aplicaciones web utilizando tecnologías frontend y backend.\\nColaborar con diseñadores y otros desarrolladores para implementar interfaces de usuario atractivas y funcionales.\\nParticipar en el diseño de arquitecturas de software escalables y eficientes.\\nCualificación:\\n\\nGrado en Ciencias de la Computación, Ingeniería de Software o similar.\\nExperiencia demostrable de al menos 3 años en desarrollo full stack.\\nProfundo conocimiento de tecnologías web modernas como JavaScript, Node.js, React.js, Angular, y bases de datos relacionales y no relacionales.\\nLo que ofrecemos:\\n\\nProyectos desafiantes y ambiente de trabajo dinámico.\\nOportunidades de formación y desarrollo profesional.\\nRemuneración competitiva y beneficios adicionales.\\n\\n\\n',\n",
       " 'Desarrollador de Software Frontend - Experiencia de Usuario (UX)\\n\\nAcerca del empleo: Estamos en busca de un Desarrollador de Software Frontend apasionado por la experiencia de usuario para unirse a nuestro equipo. Esta posición ofrece la oportunidad de trabajar en la creación de interfaces de usuario intuitivas y atractivas para aplicaciones web y móviles.\\n\\nResponsabilidades:\\n\\nDesarrollar interfaces de usuario responsivas y visualmente atractivas utilizando HTML, CSS y JavaScript.\\nColaborar con diseñadores UX/UI para implementar soluciones que mejoren la experiencia del usuario.\\nOptimizar el rendimiento de las aplicaciones frontend y asegurar la compatibilidad con diferentes dispositivos y navegadores.\\nCualificación:\\n\\nMínimo de 2 años de experiencia en desarrollo frontend.\\nProfundo conocimiento de HTML, CSS y JavaScript.\\nExperiencia en frameworks modernos como React, Vue.js o Angular.\\nLo que ofrecemos:\\n\\nProyectos emocionantes con un enfoque en la experiencia del usuario.\\nOportunidades de crecimiento profesional y desarrollo de habilidades.\\nAmbiente de trabajo colaborativo y creativo.\\n\\n\\n',\n",
       " 'Desarrollador de Software Backend - Arquitectura de Microservicios\\n\\nAcerca del empleo: Estamos en búsqueda de un Desarrollador de Software Backend con experiencia en arquitectura de microservicios para unirse a nuestro equipo. Esta posición ofrece la oportunidad de trabajar en proyectos escalables y colaborar con un equipo multidisciplinario.\\n\\nResponsabilidades:\\n\\nDiseñar, desarrollar y mantener servicios backend escalables utilizando arquitectura de microservicios.\\nColaborar estrechamente con equipos frontend y otros miembros del equipo para integrar servicios backend con interfaces de usuario.\\nImplementar prácticas de desarrollo ágil y participar en la revisión de código y pruebas unitarias.\\nCualificación:\\n\\nMínimo de 3 años de experiencia en desarrollo backend.\\nConocimiento profundo de lenguajes como Java, Python o Go.\\nExperiencia en el diseño e implementación de arquitecturas de microservicios.\\nLo que ofrecemos:\\n\\nProyectos desafiantes en un entorno colaborativo y ágil.\\nOportunidades de crecimiento profesional y desarrollo de habilidades.\\nAmbiente de trabajo flexible y cultura de innovación.\\n\\n\\n',\n",
       " 'Ingeniero de Software de Juegos - Desarrollo de Videojuegos\\n\\nAcerca del empleo: Estamos buscando un Ingeniero de Software con experiencia en desarrollo de videojuegos para unirse a nuestro equipo. Esta posición ofrece la oportunidad de trabajar en proyectos emocionantes y contribuir al desarrollo de experiencias de juego únicas.\\n\\nResponsabilidades:\\n\\nDesarrollar código limpio y eficiente para juegos utilizando Unity o Unreal Engine.\\nImplementar mecánicas de juego, gráficos 2D/3D y optimización de rendimiento.\\nColaborar con diseñadores y artistas para integrar contenido en los juegos.\\nCualificación:\\n\\nGrado en Ciencias de la Computación, Ingeniería de Software o campo relacionado.\\nExperiencia demostrable en el desarrollo de videojuegos, preferiblemente con Unity o Unreal Engine.\\nConocimientos sólidos de lenguajes como C# o C++.\\nLo que ofrecemos:\\n\\nProyectos creativos en un ambiente dinámico y colaborativo.\\nOportunidades de crecimiento profesional en la industria del entretenimiento.\\nCultura de trabajo flexible y equilibrio entre vida laboral y personal.\\n\\n\\n',\n",
       " 'Desarrollador de Software DevOps - Automatización de Infraestructura\\n\\nAcerca del empleo: Estamos en busca de un Desarrollador de Software DevOps con experiencia en automatización de infraestructura para unirse a nuestro equipo. Esta posición ofrece la oportunidad de trabajar en el diseño y la implementación de pipelines de entrega continua y mejorar la eficiencia operativa de nuestros sistemas.\\n\\nResponsabilidades:\\n\\nAutomatizar la infraestructura y los procesos de despliegue utilizando herramientas como Ansible, Chef o Puppet.\\nColaborar con equipos de desarrollo y operaciones para implementar prácticas de entrega continua y despliegue automatizado.\\nMonitorear y mantener la infraestructura de producción, identificando y resolviendo problemas de manera proactiva.\\nCualificación:\\n\\nMínimo de 2 años de experiencia en administración de sistemas o desarrollo DevOps.\\nExperiencia práctica con herramientas de automatización como Ansible, Chef o Puppet.\\nFamiliaridad con plataformas de orquestación de contenedores como Kubernetes.\\nLo que ofrecemos:\\n\\nProyectos desafiantes en un entorno ágil y colaborativo.\\nOportunidades de desarrollo profesional en el campo de la automatización de infraestructura.\\nCultura de trabajo flexible y equilibrio entre vida laboral y personal.\\n\\n\\n',\n",
       " 'Ingeniero de Software Full Stack - Desarrollo de Aplicaciones Escalables en la Nube\\nAcerca del empleo: Estamos buscando un Ingeniero de Software Full Stack para contribuir al desarrollo de aplicaciones escalables en la nube. Esta posición ofrece la oportunidad de trabajar en proyectos desafiantes que aprovechan tecnologías en la nube para ofrecer soluciones innovadoras.\\n\\nResponsabilidades:\\n\\nDiseñar, desarrollar y mantener aplicaciones web escalables utilizando tecnologías frontend y backend.\\nImplementar prácticas de desarrollo ágil y colaborar en la mejora continua de los procesos de desarrollo.\\nIntegrar servicios en la nube y optimizar el rendimiento de aplicaciones para alta disponibilidad y escalabilidad.\\nCualificación:\\n\\nExperiencia demostrable en el desarrollo full stack, preferiblemente en entornos de nube.\\nConocimiento profundo de tecnologías frontend como HTML, CSS y JavaScript, así como de frameworks modernos como React.js o Angular.\\nExperiencia con lenguajes y tecnologías backend como Node.js, Python, Java o .NET Core.\\nLo que ofrecemos:\\n\\nProyectos emocionantes en un entorno cloud-native y escalable.\\nOportunidades de desarrollo profesional y crecimiento dentro de la empresa.\\nAmbiente de trabajo colaborativo y cultura de innovación.\\n\\n\\n',\n",
       " 'Desarrollador de Software Sénior - Experiencia en Integración de Sistemas Empresariales\\nAcerca del empleo: Estamos en búsqueda de un Desarrollador de Software Senior con experiencia en integración de sistemas empresariales para unirse a nuestro equipo. Esta posición ofrece la oportunidad de trabajar en proyectos complejos de integración y colaborar con equipos multidisciplinarios.\\n\\nResponsabilidades:\\n\\nDiseñar e implementar soluciones de integración de sistemas utilizando herramientas como MuleSoft, Apache Camel o similar.\\nColaborar con equipos de negocio y técnicos para entender los requisitos de integración y diseñar soluciones eficientes.\\nDesarrollar y mantener interfaces de programación de aplicaciones (APIs) y servicios web para la integración de sistemas.\\nCualificación:\\n\\nExperiencia significativa en el desarrollo de software, con enfoque en la integración de sistemas empresariales.\\nConocimiento profundo de herramientas de integración como MuleSoft, Apache Camel o similar.\\nExperiencia con tecnologías de comunicación como REST, SOAP, XML, JSON, etc.\\nLo que ofrecemos:\\n\\nProyectos desafiantes en un entorno empresarial y de integración de sistemas.\\nOportunidades de crecimiento profesional y desarrollo de habilidades técnicas.\\nAmbiente de trabajo colaborativo y equipo comprometido con el éxito del proyecto.\\n\\n\\n',\n",
       " 'Desarrollador de WordPress - Implementación de Sitios Web y Personalización de Temas\\nAcerca del empleo: Estamos en búsqueda de un Desarrollador de WordPress para unirse a nuestro equipo y liderar la implementación de sitios web y la personalización de temas. Esta posición ofrece la oportunidad de trabajar en proyectos diversos y colaborar con clientes para cumplir con sus requisitos específicos.\\n\\nResponsabilidades:\\n\\nConfigurar, instalar y mantener sitios web utilizando WordPress.\\nPersonalizar temas y plugins de WordPress para satisfacer las necesidades del cliente.\\nColaborar con diseñadores y clientes para traducir requisitos de diseño en soluciones técnicas efectivas.\\nCualificación:\\n\\nExperiencia demostrable en el desarrollo de sitios web utilizando WordPress.\\nConocimiento profundo de HTML, CSS, JavaScript y PHP.\\nExperiencia en la personalización de temas y plugins de WordPress.\\nLo que ofrecemos:\\n\\nProyectos interesantes y variados en un entorno WordPress.\\nOportunidades de aprendizaje y desarrollo profesional.\\nAmbiente de trabajo colaborativo y flexible.\\n\\n\\n',\n",
       " 'Ingeniero de Desarrollo Java - Desarrollo de Aplicaciones Empresariales\\nAcerca del empleo: Estamos buscando un Ingeniero de Desarrollo Java para unirse a nuestro equipo y trabajar en el desarrollo de aplicaciones empresariales escalables y seguras. Esta posición ofrece la oportunidad de trabajar en proyectos desafiantes y contribuir al éxito de nuestros clientes.\\n\\nResponsabilidades:\\n\\nDiseñar, desarrollar y mantener aplicaciones empresariales utilizando Java y frameworks asociados.\\nColaborar con equipos multidisciplinarios para comprender y traducir los requisitos del cliente en soluciones técnicas.\\nImplementar prácticas de desarrollo ágil y participar en la revisión de código y pruebas unitarias.\\nCualificación:\\n\\nExperiencia significativa en el desarrollo de aplicaciones Java empresariales.\\nConocimiento profundo de Java EE, Spring Framework y otras tecnologías relacionadas.\\nExperiencia con bases de datos relacionales como MySQL, PostgreSQL o Oracle.\\nLo que ofrecemos:\\n\\nProyectos desafiantes en un entorno empresarial y orientado a resultados.\\nOportunidades de crecimiento profesional y desarrollo de habilidades técnicas.\\nAmbiente de trabajo colaborativo y cultura de innovación.',\n",
       " 'Ingeniero de Redes Senior\\nAcerca del Empleo:\\nEstamos buscando un Ingeniero de Redes Senior para unirse a nuestro equipo dinámico. En este papel, serás responsable de diseñar, implementar y mantener nuestra infraestructura de red para garantizar la conectividad y la seguridad de nuestros sistemas.\\n\\nResponsabilidades:\\n\\nDiseñar y configurar redes LAN/WAN para garantizar un rendimiento óptimo.\\nImplementar medidas de seguridad de red, como firewalls y sistemas de detección de intrusiones.\\nColaborar con otros equipos para resolver problemas de red y optimizar el rendimiento.\\nRealizar pruebas de rendimiento y diagnóstico para identificar y resolver problemas de red.\\nMantener la documentación técnica actualizada sobre la infraestructura de red.\\nCualificaciones:\\n\\nLicenciatura en Ingeniería Informática, Telecomunicaciones o campo relacionado.\\nExperiencia previa en la configuración y administración de dispositivos de red (switches, routers, firewalls).\\nConocimiento sólido de protocolos de red, como TCP/IP, DNS, DHCP.\\nCapacidad para resolver problemas de manera efectiva y trabajar en equipo.\\nCertificaciones relevantes, como CCNA, CCNP, serán valoradas.\\nLo que Ofrecemos:\\n\\nOportunidad de trabajar en un entorno colaborativo y desafiante.\\nCapacitación continua y desarrollo profesional.\\nSalario competitivo y beneficios adicionales.\\nPosibilidad de crecimiento dentro de la empresa.\\n\\n\\n',\n",
       " 'Ingeniero de Redes Principal\\nAcerca del Empleo:\\nEstamos en busca de un Ingeniero de Redes Principal con experiencia para unirse a nuestro equipo en crecimiento. Serás responsable de mantener y mejorar nuestra infraestructura de red para satisfacer las necesidades de nuestra empresa en constante evolución.\\n\\nResponsabilidades:\\n\\nDiseñar e implementar soluciones de red escalables y seguras.\\nRealizar monitoreo proactivo de la red y tomar medidas correctivas según sea necesario.\\nColaborar con otros equipos para planificar e implementar cambios en la infraestructura de red.\\nInvestigar y recomendar nuevas tecnologías para mejorar la eficiencia y la seguridad de la red.\\nMantenerse al día con las mejores prácticas de la industria en redes y seguridad de la información.\\nCualificaciones:\\n\\nExperiencia comprobada en la administración de redes en entornos empresariales.\\nConocimiento profundo de protocolos de enrutamiento y conmutación.\\nExperiencia en la implementación y administración de soluciones de seguridad de red.\\nHabilidades de resolución de problemas y capacidad para trabajar bajo presión.\\nCertificaciones como CCNP, CCIE, serán consideradas una ventaja.\\nLo que Ofrecemos:\\n\\nAmbiente de trabajo dinámico y colaborativo.\\nOportunidades de aprendizaje y desarrollo profesional.\\nSalario competitivo y beneficios adicionales.\\nPosibilidad de trabajar con tecnologías de vanguardia.\\n\\n\\n',\n",
       " 'Ingeniero de Redes Junior\\nAcerca del Empleo:\\nEstamos buscando un Ingeniero de Redes Junior para unirse a nuestro equipo. En este papel, tendrás la oportunidad de aprender y crecer bajo la tutela de ingenieros experimentados mientras contribuyes al mantenimiento y desarrollo de nuestra infraestructura de red.\\n\\nResponsabilidades:\\n\\nAsistir en la configuración y mantenimiento de dispositivos de red.\\nParticipar en la resolución de problemas de red y en la implementación de soluciones.\\nAyudar en el monitoreo y análisis del rendimiento de la red.\\nColaborar con otros equipos para implementar cambios y actualizaciones de red.\\nMantener la documentación técnica actualizada.\\nCualificaciones:\\n\\nLicenciatura o grado técnico en Informática, Ingeniería de Telecomunicaciones o campo relacionado.\\nConocimiento básico de redes y protocolos TCP/IP.\\nFuertes habilidades de resolución de problemas y capacidad para aprender rápidamente.\\nCertificaciones como CCNA serán consideradas una ventaja.\\nExcelentes habilidades de comunicación y trabajo en equipo.\\nLo que Ofrecemos:\\n\\nOportunidad de crecimiento y desarrollo profesional.\\nEntorno de trabajo colaborativo y de apoyo.\\nFormación técnica y oportunidades de certificación.\\nRemuneración competitiva y beneficios adicionales.\\n\\n\\n',\n",
       " 'Técnico de Redes en Formación\\nAcerca del Empleo:\\nEstamos buscando un Técnico de Redes en Formación para unirse a nuestro equipo. Esta posición es ideal para alguien que está comenzando su carrera en redes y está buscando una oportunidad para aprender y crecer en un entorno profesional.\\n\\nResponsabilidades:\\n\\nAsistir en la configuración y mantenimiento de dispositivos de red.\\nAyudar en la resolución de problemas de red y en la implementación de soluciones.\\nParticipar en actividades de monitoreo y análisis del rendimiento de la red.\\nColaborar con equipos multidisciplinarios en proyectos relacionados con la red.\\nContribuir a la documentación técnica y al seguimiento de procedimientos.\\nCualificaciones:\\n\\nFormación técnica o universitaria en Informática, Ingeniería de Telecomunicaciones o similar.\\nConocimientos básicos de redes y protocolos TCP/IP.\\nMotivación para aprender y desarrollarse en el campo de las redes.\\nHabilidades de comunicación y capacidad para trabajar en equipo.\\nCertificaciones como CCENT serán valoradas.\\nLo que Ofrecemos:\\n\\nEntorno de trabajo estimulante y colaborativo.\\nPrograma de formación y desarrollo profesional.\\nExposición a tecnologías de redes de última generación.\\nRemuneración competitiva y beneficios adicionales.',\n",
       " 'Científico de Datos Senior\\nAcerca del empleo: Únete a nuestro equipo como Científico de Datos Senior y lidera proyectos de análisis de datos de vanguardia para impulsar la innovación y la toma de decisiones estratégicas.\\n\\nResponsabilidades:\\n\\nLiderar la investigación y el desarrollo de modelos de machine learning y análisis predictivo para optimizar operaciones y generar insights.\\nColaborar con equipos interdisciplinarios para identificar oportunidades de mejora y optimización utilizando datos.\\nGuiar y mentorizar a analistas de datos junior en técnicas y mejores prácticas de análisis.\\nCualificación:\\n\\nMaestría en Ciencia de Datos, Estadística, Matemáticas o campo relacionado.\\nMás de 5 años de experiencia en análisis de datos, preferiblemente en entornos empresariales.\\nExperiencia demostrada en Python, R y SQL para análisis de datos y modelado predictivo.\\nHabilidades sólidas de comunicación y capacidad para presentar resultados de manera efectiva a partes interesadas técnicas y no técnicas.\\nLo que ofrecemos:\\n\\nOportunidad de liderar proyectos de datos innovadores en una empresa líder en su industria.\\nSalario competitivo y paquete de beneficios atractivos.\\nAmbiente de trabajo colaborativo y enfocado en el crecimiento profesional.\\n\\n\\n',\n",
       " 'Ingeniero de Datos Junior\\nAcerca del empleo: Estamos buscando un Ingeniero de Datos Junior para unirse a nuestro equipo y contribuir al diseño y mantenimiento de nuestras infraestructuras de datos.\\n\\nResponsabilidades:\\n\\nAyudar en el desarrollo y mantenimiento de pipelines de datos para la ingestión, limpieza y procesamiento de datos.\\nColaborar con equipos de ingeniería y análisis para garantizar la integridad y disponibilidad de los datos.\\nParticipar en la implementación y optimización de bases de datos SQL y NoSQL.\\nCualificación:\\n\\nLicenciatura en Ingeniería Informática, Ciencias de la Computación o campo relacionado.\\nConocimiento básico de programación en Python, Java o Scala.\\nInterés en aprender y desarrollarse en el campo de la ingeniería de datos.\\nHabilidades de resolución de problemas y capacidad para trabajar en equipo.\\nLo que ofrecemos:\\n\\nEntorno de trabajo dinámico y colaborativo con oportunidades de crecimiento profesional.\\nCapacitación en tecnologías y herramientas de ingeniería de datos.\\nOportunidad de contribuir a proyectos innovadores desde el principio.\\n\\n\\n',\n",
       " 'Analista de Datos de Marketing Digital\\nAcerca del empleo: Únete a nuestro equipo como Analista de Datos especializado en el análisis de campañas de marketing digital para impulsar el crecimiento y la conversión de clientes.\\n\\nResponsabilidades:\\n\\nAnalizar datos de campañas digitales para identificar patrones y tendencias.\\nDesarrollar modelos predictivos para la segmentación y personalización de audiencias.\\nColaborar con equipos de marketing para optimizar estrategias y presupuestos de marketing.\\nCualificación:\\n\\nExperiencia previa en análisis de datos de marketing digital.\\nConocimiento de herramientas como Google Analytics, Adobe Analytics o similar.\\nFuertes habilidades analíticas y capacidad para traducir datos en insights accionables.\\nExperiencia en la visualización de datos preferida, pero no obligatoria.\\nLo que ofrecemos:\\n\\nOportunidad de trabajar en un entorno de marketing dinámico y en crecimiento.\\nColaboración con equipos multidisciplinarios y oportunidades de desarrollo profesional.\\nCompensación competitiva y beneficios adicionales.\\n\\n\\n',\n",
       " 'Científico de Datos en Bioinformática\\nAcerca del empleo: Buscamos un Científico de Datos con experiencia en bioinformática para liderar proyectos de análisis genómico y molecular.\\n\\nResponsabilidades:\\n\\nAnalizar datos genómicos para identificar variantes genéticas y relaciones entre genes y enfermedades.\\nDesarrollar algoritmos y herramientas de análisis de datos para el descubrimiento de biomarcadores.\\nColaborar con equipos de investigación en la interpretación de resultados y la generación de hipótesis científicas.\\nCualificación:\\n\\nDoctorado en Bioinformática, Genética Computacional o campo relacionado.\\nExperiencia en análisis de datos genómicos utilizando herramientas como BLAST, Bowtie o similar.\\nFuertes habilidades de programación en Python, R o Perl.\\nConocimiento de bases de datos genómicas y herramientas de visualización.\\nLo que ofrecemos:\\n\\nOportunidad de contribuir a la investigación biomédica y el desarrollo de terapias personalizadas.\\nColaboración con investigadores de clase mundial y acceso a recursos tecnológicos de vanguardia.\\nAmbiente de trabajo estimulante y enfocado en la innovación científica.\\n\\n\\n',\n",
       " 'Científico de Datos en Retail - Especializado en Deep Learning\\nAcerca del empleo: Únete a nuestro equipo como Científico de Datos especializado en Deep Learning para impulsar la innovación en el sector minorista y mejorar la experiencia del cliente.\\n\\nResponsabilidades:\\n\\nInvestigar, desarrollar y desplegar modelos de deep learning para mejorar la personalización de recomendaciones de productos.\\nAnalizar grandes volúmenes de datos transaccionales para identificar patrones de comportamiento del cliente y tendencias de mercado.\\nColaborar con equipos de negocio para traducir insights de datos en estrategias comerciales efectivas.\\nCualificación:\\n\\nMaestría o Doctorado en Ciencia de Datos, Inteligencia Artificial o campo relacionado.\\nExperiencia demostrada en el desarrollo y despliegue de modelos de deep learning en entornos comerciales.\\nDominio de herramientas y bibliotecas como TensorFlow, PyTorch y Keras.\\nExperiencia previa en el sector minorista o de comercio electrónico es una ventaja.\\nLo que ofrecemos:\\n\\nOportunidad de trabajar en un entorno minorista dinámico y en crecimiento.\\nColaboración con equipos multidisciplinarios y acceso a tecnologías de vanguardia.\\nCompensación competitiva y beneficios adicionales.\\n\\n\\n',\n",
       " 'Asistente de Ciencia de Datos Junior\\nAcerca del empleo: Estamos buscando un Asistente de Ciencia de Datos Junior para unirse a nuestro equipo y aprender sobre el emocionante campo de la ciencia de datos, brindando apoyo en diversas tareas y proyectos.\\n\\nResponsabilidades:\\n\\nAsistir en la recopilación, limpieza y preparación de datos para análisis.\\nApoyar en el desarrollo y evaluación de modelos de aprendizaje automático bajo la supervisión de científicos de datos senior.\\nParticipar en la creación de visualizaciones de datos y presentaciones para comunicar resultados.\\nCualificación:\\n\\nLicenciatura o título en curso en Ciencia de Datos, Estadística, Matemáticas, Informática o campo relacionado.\\nConocimientos básicos de programación en Python, R o SQL.\\nInterés genuino en aprender y desarrollarse en el campo de la ciencia de datos.\\nHabilidades de resolución de problemas y capacidad para trabajar en equipo.\\nLo que ofrecemos:\\n\\nOportunidad de adquirir experiencia práctica en un entorno de ciencia de datos.\\nMentores y capacitación para desarrollar habilidades técnicas y profesionales.\\nAmbiente de trabajo colaborativo y enfocado en el crecimiento profesional.\\n\\n\\n',\n",
       " 'Ingeniero de Datos Senior\\nAcerca del empleo: Estamos buscando un Ingeniero de Datos Senior con experiencia para liderar proyectos de desarrollo de infraestructura de datos y pipelines de datos escalables y eficientes.\\n\\nResponsabilidades:\\n\\nDiseñar, implementar y mantener pipelines de datos para la ingestión, procesamiento y almacenamiento de grandes volúmenes de datos.\\nOptimizar el rendimiento y la escalabilidad de las soluciones de almacenamiento y procesamiento de datos.\\nColaborar con equipos multidisciplinarios para satisfacer las necesidades de datos de la organización.\\nCualificación:\\n\\nExperiencia previa en diseño e implementación de infraestructuras de datos.\\nConocimiento profundo de herramientas como Hadoop, Spark, Kafka y bases de datos distribuidas.\\nExperiencia en programación en Python, Java, Scala o similar.\\nHabilidades de liderazgo técnico y capacidad para trabajar en equipos distribuidos.\\nLo que ofrecemos:\\n\\nOportunidad de liderar proyectos de datos estratégicos en una empresa líder en su industria.\\nSalario competitivo y beneficios adicionales.\\nAmbiente de trabajo colaborativo y enfocado en la innovación tecnológica.\\n\\n\\n',\n",
       " 'Asistente de Analista de Datos\\nAcerca del empleo: Estamos buscando un Asistente de Analista de Datos para unirse a nuestro equipo y aprender sobre el emocionante campo del análisis de datos, brindando apoyo en diversas tareas y proyectos.\\n\\nResponsabilidades:\\n\\nAsistir en la recopilación, limpieza y preparación de datos para análisis.\\nAyudar en la generación de informes y visualizaciones de datos para comunicar resultados.\\nParticipar en el análisis exploratorio de datos bajo la supervisión de analistas de datos senior.\\nCualificación:\\n\\nLicenciatura o título en curso en Estadística, Matemáticas, Ciencia de Datos o campo relacionado.\\nConocimientos básicos de herramientas de análisis de datos como Python, R, SQL, Excel, etc.\\nInterés genuino en aprender y desarrollarse en el campo del análisis de datos.\\nHabilidades de resolución de problemas y capacidad para trabajar en equipo.\\nLo que ofrecemos:\\n\\nOportunidad de adquirir experiencia práctica en un entorno de análisis de datos.\\nMentores y capacitación para desarrollar habilidades técnicas y profesionales.\\nAmbiente de trabajo colaborativo y enfocado en el crecimiento profesional.\\n\\n',\n",
       " 'Científico de Datos Experto en Procesamiento del Lenguaje Natural (NLP)\\nAcerca del empleo: Estamos buscando un Científico de Datos con experiencia y especialización en Procesamiento del Lenguaje Natural (NLP) para liderar proyectos innovadores y aplicar técnicas avanzadas de NLP para obtener insights valiosos de los datos textuales.\\n\\nResponsabilidades:\\n\\nDesarrollar y desplegar modelos avanzados de NLP para análisis de sentimientos, extracción de información, clasificación de documentos, entre otros.\\nInvestigar y experimentar con nuevas técnicas y algoritmos de NLP para mejorar la precisión y eficacia de los modelos.\\nColaborar con equipos multidisciplinarios para integrar soluciones de NLP en productos y servicios empresariales.\\nCualificación:\\n\\nDoctorado en Ciencia de Datos, Ingeniería Informática, Lingüística Computacional o campo relacionado.\\nExperiencia demostrada en el desarrollo de modelos de NLP en entornos empresariales.\\nConocimiento profundo de herramientas y bibliotecas de NLP como NLTK, spaCy, Transformers, etc.\\nFuertes habilidades de programación en Python y experiencia en el procesamiento de grandes volúmenes de datos textuales.\\nLo que ofrecemos:\\n\\nOportunidad de liderar proyectos de NLP innovadores en una empresa líder en su industria.\\nSalario competitivo y paquete de beneficios atractivos.\\nAmbiente de trabajo colaborativo y enfocado en la investigación y desarrollo tecnológico.\\n\\n\\n',\n",
       " 'Científico de Datos con Experiencia en Plataformas Cloud\\nAcerca del empleo: Estamos buscando un Científico de Datos con experiencia en el manejo y análisis de datos en entornos de computación en la nube para liderar proyectos de análisis de datos escalables y eficientes.\\n\\nResponsabilidades:\\n\\nDiseñar y desarrollar soluciones de análisis de datos en plataformas en la nube como AWS, Azure o Google Cloud Platform.\\nImplementar pipelines de datos eficientes y escalables utilizando servicios de almacenamiento y procesamiento en la nube.\\nOptimizar el rendimiento y la eficiencia de los procesos de análisis de datos en entornos de nube distribuida.\\nCualificación:\\n\\nExperiencia previa en el diseño y desarrollo de soluciones de análisis de datos en plataformas en la nube.\\nConocimiento profundo de servicios en la nube como AWS S3, EC2, Lambda, Azure Blob Storage, Google BigQuery, etc.\\nHabilidades avanzadas en programación en Python, SQL y herramientas de análisis de datos.\\nExperiencia en la implementación de arquitecturas de datos escalables y seguras en entornos de nube.\\nLo que ofrecemos:\\n\\nOportunidad de liderar proyectos de análisis de datos en entornos de nube de clase mundial.\\nSalario competitivo y beneficios adicionales.\\nAmbiente de trabajo colaborativo y enfocado en la innovación tecnológica en la nube.']"
      ]
     },
     "execution_count": 9,
     "metadata": {},
     "output_type": "execute_result"
    }
   ],
   "source": [
    "merged_texts= delete_numbersJobs(merged_texts)\n",
    "merged_texts"
   ]
  },
  {
   "cell_type": "code",
   "execution_count": 10,
   "metadata": {},
   "outputs": [],
   "source": [
    "# Agregar ID a cada registro (puesto o job)\n",
    "def set_id(texts):\n",
    "    new_texts = [(id_, text) for id_, text in enumerate(texts)]\n",
    "    return new_texts"
   ]
  },
  {
   "cell_type": "code",
   "execution_count": 11,
   "metadata": {},
   "outputs": [
    {
     "data": {
      "text/plain": [
       "[(0,\n",
       "  'Desarrollador de Software Junior - Aplicaciones Móviles\\n\\nAcerca del empleo: Buscamos un Desarrollador de Software Junior para unirse a nuestro equipo y contribuir al desarrollo de aplicaciones móviles innovadoras. Esta posición ofrece la oportunidad de trabajar en un entorno colaborativo y aprender de profesionales experimentados en el campo.\\n\\nResponsabilidades:\\n\\nColaborar en el diseño, desarrollo y prueba de aplicaciones móviles.\\nContribuir al mantenimiento y mejora continua de las aplicaciones existentes.\\nParticipar en reuniones de equipo y compartir ideas para optimizar procesos de desarrollo.\\nCualificación:\\n\\nLicenciatura en Informática, Ingeniería de Software o campo relacionado.\\nExperiencia mínima de 1 año en desarrollo de aplicaciones móviles (iOS/Android).\\nConocimientos básicos de lenguajes de programación como Java, Kotlin, Swift o Flutter.\\nLo que ofrecemos:\\n\\nOportunidad de crecimiento profesional y desarrollo de habilidades.\\nAmbiente de trabajo colaborativo y equipo multidisciplinario.\\nSalario competitivo y beneficios adicionales.\\n\\n\\n'),\n",
       " (1,\n",
       "  'Ingeniero de Software Full Stack - Tecnologías Web Modernas\\n\\nAcerca del empleo: Estamos buscando un Ingeniero de Software Full Stack para unirse a nuestro equipo y trabajar en proyectos emocionantes que utilicen las últimas tecnologías web. Esta posición ofrece la oportunidad de contribuir al desarrollo completo de soluciones digitales y mejorar tus habilidades técnicas.\\n\\nResponsabilidades:\\n\\nDesarrollar aplicaciones web utilizando tecnologías frontend y backend.\\nColaborar con diseñadores y otros desarrolladores para implementar interfaces de usuario atractivas y funcionales.\\nParticipar en el diseño de arquitecturas de software escalables y eficientes.\\nCualificación:\\n\\nGrado en Ciencias de la Computación, Ingeniería de Software o similar.\\nExperiencia demostrable de al menos 3 años en desarrollo full stack.\\nProfundo conocimiento de tecnologías web modernas como JavaScript, Node.js, React.js, Angular, y bases de datos relacionales y no relacionales.\\nLo que ofrecemos:\\n\\nProyectos desafiantes y ambiente de trabajo dinámico.\\nOportunidades de formación y desarrollo profesional.\\nRemuneración competitiva y beneficios adicionales.\\n\\n\\n'),\n",
       " (2,\n",
       "  'Desarrollador de Software Frontend - Experiencia de Usuario (UX)\\n\\nAcerca del empleo: Estamos en busca de un Desarrollador de Software Frontend apasionado por la experiencia de usuario para unirse a nuestro equipo. Esta posición ofrece la oportunidad de trabajar en la creación de interfaces de usuario intuitivas y atractivas para aplicaciones web y móviles.\\n\\nResponsabilidades:\\n\\nDesarrollar interfaces de usuario responsivas y visualmente atractivas utilizando HTML, CSS y JavaScript.\\nColaborar con diseñadores UX/UI para implementar soluciones que mejoren la experiencia del usuario.\\nOptimizar el rendimiento de las aplicaciones frontend y asegurar la compatibilidad con diferentes dispositivos y navegadores.\\nCualificación:\\n\\nMínimo de 2 años de experiencia en desarrollo frontend.\\nProfundo conocimiento de HTML, CSS y JavaScript.\\nExperiencia en frameworks modernos como React, Vue.js o Angular.\\nLo que ofrecemos:\\n\\nProyectos emocionantes con un enfoque en la experiencia del usuario.\\nOportunidades de crecimiento profesional y desarrollo de habilidades.\\nAmbiente de trabajo colaborativo y creativo.\\n\\n\\n'),\n",
       " (3,\n",
       "  'Desarrollador de Software Backend - Arquitectura de Microservicios\\n\\nAcerca del empleo: Estamos en búsqueda de un Desarrollador de Software Backend con experiencia en arquitectura de microservicios para unirse a nuestro equipo. Esta posición ofrece la oportunidad de trabajar en proyectos escalables y colaborar con un equipo multidisciplinario.\\n\\nResponsabilidades:\\n\\nDiseñar, desarrollar y mantener servicios backend escalables utilizando arquitectura de microservicios.\\nColaborar estrechamente con equipos frontend y otros miembros del equipo para integrar servicios backend con interfaces de usuario.\\nImplementar prácticas de desarrollo ágil y participar en la revisión de código y pruebas unitarias.\\nCualificación:\\n\\nMínimo de 3 años de experiencia en desarrollo backend.\\nConocimiento profundo de lenguajes como Java, Python o Go.\\nExperiencia en el diseño e implementación de arquitecturas de microservicios.\\nLo que ofrecemos:\\n\\nProyectos desafiantes en un entorno colaborativo y ágil.\\nOportunidades de crecimiento profesional y desarrollo de habilidades.\\nAmbiente de trabajo flexible y cultura de innovación.\\n\\n\\n'),\n",
       " (4,\n",
       "  'Ingeniero de Software de Juegos - Desarrollo de Videojuegos\\n\\nAcerca del empleo: Estamos buscando un Ingeniero de Software con experiencia en desarrollo de videojuegos para unirse a nuestro equipo. Esta posición ofrece la oportunidad de trabajar en proyectos emocionantes y contribuir al desarrollo de experiencias de juego únicas.\\n\\nResponsabilidades:\\n\\nDesarrollar código limpio y eficiente para juegos utilizando Unity o Unreal Engine.\\nImplementar mecánicas de juego, gráficos 2D/3D y optimización de rendimiento.\\nColaborar con diseñadores y artistas para integrar contenido en los juegos.\\nCualificación:\\n\\nGrado en Ciencias de la Computación, Ingeniería de Software o campo relacionado.\\nExperiencia demostrable en el desarrollo de videojuegos, preferiblemente con Unity o Unreal Engine.\\nConocimientos sólidos de lenguajes como C# o C++.\\nLo que ofrecemos:\\n\\nProyectos creativos en un ambiente dinámico y colaborativo.\\nOportunidades de crecimiento profesional en la industria del entretenimiento.\\nCultura de trabajo flexible y equilibrio entre vida laboral y personal.\\n\\n\\n'),\n",
       " (5,\n",
       "  'Desarrollador de Software DevOps - Automatización de Infraestructura\\n\\nAcerca del empleo: Estamos en busca de un Desarrollador de Software DevOps con experiencia en automatización de infraestructura para unirse a nuestro equipo. Esta posición ofrece la oportunidad de trabajar en el diseño y la implementación de pipelines de entrega continua y mejorar la eficiencia operativa de nuestros sistemas.\\n\\nResponsabilidades:\\n\\nAutomatizar la infraestructura y los procesos de despliegue utilizando herramientas como Ansible, Chef o Puppet.\\nColaborar con equipos de desarrollo y operaciones para implementar prácticas de entrega continua y despliegue automatizado.\\nMonitorear y mantener la infraestructura de producción, identificando y resolviendo problemas de manera proactiva.\\nCualificación:\\n\\nMínimo de 2 años de experiencia en administración de sistemas o desarrollo DevOps.\\nExperiencia práctica con herramientas de automatización como Ansible, Chef o Puppet.\\nFamiliaridad con plataformas de orquestación de contenedores como Kubernetes.\\nLo que ofrecemos:\\n\\nProyectos desafiantes en un entorno ágil y colaborativo.\\nOportunidades de desarrollo profesional en el campo de la automatización de infraestructura.\\nCultura de trabajo flexible y equilibrio entre vida laboral y personal.\\n\\n\\n'),\n",
       " (6,\n",
       "  'Ingeniero de Software Full Stack - Desarrollo de Aplicaciones Escalables en la Nube\\nAcerca del empleo: Estamos buscando un Ingeniero de Software Full Stack para contribuir al desarrollo de aplicaciones escalables en la nube. Esta posición ofrece la oportunidad de trabajar en proyectos desafiantes que aprovechan tecnologías en la nube para ofrecer soluciones innovadoras.\\n\\nResponsabilidades:\\n\\nDiseñar, desarrollar y mantener aplicaciones web escalables utilizando tecnologías frontend y backend.\\nImplementar prácticas de desarrollo ágil y colaborar en la mejora continua de los procesos de desarrollo.\\nIntegrar servicios en la nube y optimizar el rendimiento de aplicaciones para alta disponibilidad y escalabilidad.\\nCualificación:\\n\\nExperiencia demostrable en el desarrollo full stack, preferiblemente en entornos de nube.\\nConocimiento profundo de tecnologías frontend como HTML, CSS y JavaScript, así como de frameworks modernos como React.js o Angular.\\nExperiencia con lenguajes y tecnologías backend como Node.js, Python, Java o .NET Core.\\nLo que ofrecemos:\\n\\nProyectos emocionantes en un entorno cloud-native y escalable.\\nOportunidades de desarrollo profesional y crecimiento dentro de la empresa.\\nAmbiente de trabajo colaborativo y cultura de innovación.\\n\\n\\n'),\n",
       " (7,\n",
       "  'Desarrollador de Software Sénior - Experiencia en Integración de Sistemas Empresariales\\nAcerca del empleo: Estamos en búsqueda de un Desarrollador de Software Senior con experiencia en integración de sistemas empresariales para unirse a nuestro equipo. Esta posición ofrece la oportunidad de trabajar en proyectos complejos de integración y colaborar con equipos multidisciplinarios.\\n\\nResponsabilidades:\\n\\nDiseñar e implementar soluciones de integración de sistemas utilizando herramientas como MuleSoft, Apache Camel o similar.\\nColaborar con equipos de negocio y técnicos para entender los requisitos de integración y diseñar soluciones eficientes.\\nDesarrollar y mantener interfaces de programación de aplicaciones (APIs) y servicios web para la integración de sistemas.\\nCualificación:\\n\\nExperiencia significativa en el desarrollo de software, con enfoque en la integración de sistemas empresariales.\\nConocimiento profundo de herramientas de integración como MuleSoft, Apache Camel o similar.\\nExperiencia con tecnologías de comunicación como REST, SOAP, XML, JSON, etc.\\nLo que ofrecemos:\\n\\nProyectos desafiantes en un entorno empresarial y de integración de sistemas.\\nOportunidades de crecimiento profesional y desarrollo de habilidades técnicas.\\nAmbiente de trabajo colaborativo y equipo comprometido con el éxito del proyecto.\\n\\n\\n'),\n",
       " (8,\n",
       "  'Desarrollador de WordPress - Implementación de Sitios Web y Personalización de Temas\\nAcerca del empleo: Estamos en búsqueda de un Desarrollador de WordPress para unirse a nuestro equipo y liderar la implementación de sitios web y la personalización de temas. Esta posición ofrece la oportunidad de trabajar en proyectos diversos y colaborar con clientes para cumplir con sus requisitos específicos.\\n\\nResponsabilidades:\\n\\nConfigurar, instalar y mantener sitios web utilizando WordPress.\\nPersonalizar temas y plugins de WordPress para satisfacer las necesidades del cliente.\\nColaborar con diseñadores y clientes para traducir requisitos de diseño en soluciones técnicas efectivas.\\nCualificación:\\n\\nExperiencia demostrable en el desarrollo de sitios web utilizando WordPress.\\nConocimiento profundo de HTML, CSS, JavaScript y PHP.\\nExperiencia en la personalización de temas y plugins de WordPress.\\nLo que ofrecemos:\\n\\nProyectos interesantes y variados en un entorno WordPress.\\nOportunidades de aprendizaje y desarrollo profesional.\\nAmbiente de trabajo colaborativo y flexible.\\n\\n\\n'),\n",
       " (9,\n",
       "  'Ingeniero de Desarrollo Java - Desarrollo de Aplicaciones Empresariales\\nAcerca del empleo: Estamos buscando un Ingeniero de Desarrollo Java para unirse a nuestro equipo y trabajar en el desarrollo de aplicaciones empresariales escalables y seguras. Esta posición ofrece la oportunidad de trabajar en proyectos desafiantes y contribuir al éxito de nuestros clientes.\\n\\nResponsabilidades:\\n\\nDiseñar, desarrollar y mantener aplicaciones empresariales utilizando Java y frameworks asociados.\\nColaborar con equipos multidisciplinarios para comprender y traducir los requisitos del cliente en soluciones técnicas.\\nImplementar prácticas de desarrollo ágil y participar en la revisión de código y pruebas unitarias.\\nCualificación:\\n\\nExperiencia significativa en el desarrollo de aplicaciones Java empresariales.\\nConocimiento profundo de Java EE, Spring Framework y otras tecnologías relacionadas.\\nExperiencia con bases de datos relacionales como MySQL, PostgreSQL o Oracle.\\nLo que ofrecemos:\\n\\nProyectos desafiantes en un entorno empresarial y orientado a resultados.\\nOportunidades de crecimiento profesional y desarrollo de habilidades técnicas.\\nAmbiente de trabajo colaborativo y cultura de innovación.'),\n",
       " (10,\n",
       "  'Ingeniero de Redes Senior\\nAcerca del Empleo:\\nEstamos buscando un Ingeniero de Redes Senior para unirse a nuestro equipo dinámico. En este papel, serás responsable de diseñar, implementar y mantener nuestra infraestructura de red para garantizar la conectividad y la seguridad de nuestros sistemas.\\n\\nResponsabilidades:\\n\\nDiseñar y configurar redes LAN/WAN para garantizar un rendimiento óptimo.\\nImplementar medidas de seguridad de red, como firewalls y sistemas de detección de intrusiones.\\nColaborar con otros equipos para resolver problemas de red y optimizar el rendimiento.\\nRealizar pruebas de rendimiento y diagnóstico para identificar y resolver problemas de red.\\nMantener la documentación técnica actualizada sobre la infraestructura de red.\\nCualificaciones:\\n\\nLicenciatura en Ingeniería Informática, Telecomunicaciones o campo relacionado.\\nExperiencia previa en la configuración y administración de dispositivos de red (switches, routers, firewalls).\\nConocimiento sólido de protocolos de red, como TCP/IP, DNS, DHCP.\\nCapacidad para resolver problemas de manera efectiva y trabajar en equipo.\\nCertificaciones relevantes, como CCNA, CCNP, serán valoradas.\\nLo que Ofrecemos:\\n\\nOportunidad de trabajar en un entorno colaborativo y desafiante.\\nCapacitación continua y desarrollo profesional.\\nSalario competitivo y beneficios adicionales.\\nPosibilidad de crecimiento dentro de la empresa.\\n\\n\\n'),\n",
       " (11,\n",
       "  'Ingeniero de Redes Principal\\nAcerca del Empleo:\\nEstamos en busca de un Ingeniero de Redes Principal con experiencia para unirse a nuestro equipo en crecimiento. Serás responsable de mantener y mejorar nuestra infraestructura de red para satisfacer las necesidades de nuestra empresa en constante evolución.\\n\\nResponsabilidades:\\n\\nDiseñar e implementar soluciones de red escalables y seguras.\\nRealizar monitoreo proactivo de la red y tomar medidas correctivas según sea necesario.\\nColaborar con otros equipos para planificar e implementar cambios en la infraestructura de red.\\nInvestigar y recomendar nuevas tecnologías para mejorar la eficiencia y la seguridad de la red.\\nMantenerse al día con las mejores prácticas de la industria en redes y seguridad de la información.\\nCualificaciones:\\n\\nExperiencia comprobada en la administración de redes en entornos empresariales.\\nConocimiento profundo de protocolos de enrutamiento y conmutación.\\nExperiencia en la implementación y administración de soluciones de seguridad de red.\\nHabilidades de resolución de problemas y capacidad para trabajar bajo presión.\\nCertificaciones como CCNP, CCIE, serán consideradas una ventaja.\\nLo que Ofrecemos:\\n\\nAmbiente de trabajo dinámico y colaborativo.\\nOportunidades de aprendizaje y desarrollo profesional.\\nSalario competitivo y beneficios adicionales.\\nPosibilidad de trabajar con tecnologías de vanguardia.\\n\\n\\n'),\n",
       " (12,\n",
       "  'Ingeniero de Redes Junior\\nAcerca del Empleo:\\nEstamos buscando un Ingeniero de Redes Junior para unirse a nuestro equipo. En este papel, tendrás la oportunidad de aprender y crecer bajo la tutela de ingenieros experimentados mientras contribuyes al mantenimiento y desarrollo de nuestra infraestructura de red.\\n\\nResponsabilidades:\\n\\nAsistir en la configuración y mantenimiento de dispositivos de red.\\nParticipar en la resolución de problemas de red y en la implementación de soluciones.\\nAyudar en el monitoreo y análisis del rendimiento de la red.\\nColaborar con otros equipos para implementar cambios y actualizaciones de red.\\nMantener la documentación técnica actualizada.\\nCualificaciones:\\n\\nLicenciatura o grado técnico en Informática, Ingeniería de Telecomunicaciones o campo relacionado.\\nConocimiento básico de redes y protocolos TCP/IP.\\nFuertes habilidades de resolución de problemas y capacidad para aprender rápidamente.\\nCertificaciones como CCNA serán consideradas una ventaja.\\nExcelentes habilidades de comunicación y trabajo en equipo.\\nLo que Ofrecemos:\\n\\nOportunidad de crecimiento y desarrollo profesional.\\nEntorno de trabajo colaborativo y de apoyo.\\nFormación técnica y oportunidades de certificación.\\nRemuneración competitiva y beneficios adicionales.\\n\\n\\n'),\n",
       " (13,\n",
       "  'Técnico de Redes en Formación\\nAcerca del Empleo:\\nEstamos buscando un Técnico de Redes en Formación para unirse a nuestro equipo. Esta posición es ideal para alguien que está comenzando su carrera en redes y está buscando una oportunidad para aprender y crecer en un entorno profesional.\\n\\nResponsabilidades:\\n\\nAsistir en la configuración y mantenimiento de dispositivos de red.\\nAyudar en la resolución de problemas de red y en la implementación de soluciones.\\nParticipar en actividades de monitoreo y análisis del rendimiento de la red.\\nColaborar con equipos multidisciplinarios en proyectos relacionados con la red.\\nContribuir a la documentación técnica y al seguimiento de procedimientos.\\nCualificaciones:\\n\\nFormación técnica o universitaria en Informática, Ingeniería de Telecomunicaciones o similar.\\nConocimientos básicos de redes y protocolos TCP/IP.\\nMotivación para aprender y desarrollarse en el campo de las redes.\\nHabilidades de comunicación y capacidad para trabajar en equipo.\\nCertificaciones como CCENT serán valoradas.\\nLo que Ofrecemos:\\n\\nEntorno de trabajo estimulante y colaborativo.\\nPrograma de formación y desarrollo profesional.\\nExposición a tecnologías de redes de última generación.\\nRemuneración competitiva y beneficios adicionales.'),\n",
       " (14,\n",
       "  'Científico de Datos Senior\\nAcerca del empleo: Únete a nuestro equipo como Científico de Datos Senior y lidera proyectos de análisis de datos de vanguardia para impulsar la innovación y la toma de decisiones estratégicas.\\n\\nResponsabilidades:\\n\\nLiderar la investigación y el desarrollo de modelos de machine learning y análisis predictivo para optimizar operaciones y generar insights.\\nColaborar con equipos interdisciplinarios para identificar oportunidades de mejora y optimización utilizando datos.\\nGuiar y mentorizar a analistas de datos junior en técnicas y mejores prácticas de análisis.\\nCualificación:\\n\\nMaestría en Ciencia de Datos, Estadística, Matemáticas o campo relacionado.\\nMás de 5 años de experiencia en análisis de datos, preferiblemente en entornos empresariales.\\nExperiencia demostrada en Python, R y SQL para análisis de datos y modelado predictivo.\\nHabilidades sólidas de comunicación y capacidad para presentar resultados de manera efectiva a partes interesadas técnicas y no técnicas.\\nLo que ofrecemos:\\n\\nOportunidad de liderar proyectos de datos innovadores en una empresa líder en su industria.\\nSalario competitivo y paquete de beneficios atractivos.\\nAmbiente de trabajo colaborativo y enfocado en el crecimiento profesional.\\n\\n\\n'),\n",
       " (15,\n",
       "  'Ingeniero de Datos Junior\\nAcerca del empleo: Estamos buscando un Ingeniero de Datos Junior para unirse a nuestro equipo y contribuir al diseño y mantenimiento de nuestras infraestructuras de datos.\\n\\nResponsabilidades:\\n\\nAyudar en el desarrollo y mantenimiento de pipelines de datos para la ingestión, limpieza y procesamiento de datos.\\nColaborar con equipos de ingeniería y análisis para garantizar la integridad y disponibilidad de los datos.\\nParticipar en la implementación y optimización de bases de datos SQL y NoSQL.\\nCualificación:\\n\\nLicenciatura en Ingeniería Informática, Ciencias de la Computación o campo relacionado.\\nConocimiento básico de programación en Python, Java o Scala.\\nInterés en aprender y desarrollarse en el campo de la ingeniería de datos.\\nHabilidades de resolución de problemas y capacidad para trabajar en equipo.\\nLo que ofrecemos:\\n\\nEntorno de trabajo dinámico y colaborativo con oportunidades de crecimiento profesional.\\nCapacitación en tecnologías y herramientas de ingeniería de datos.\\nOportunidad de contribuir a proyectos innovadores desde el principio.\\n\\n\\n'),\n",
       " (16,\n",
       "  'Analista de Datos de Marketing Digital\\nAcerca del empleo: Únete a nuestro equipo como Analista de Datos especializado en el análisis de campañas de marketing digital para impulsar el crecimiento y la conversión de clientes.\\n\\nResponsabilidades:\\n\\nAnalizar datos de campañas digitales para identificar patrones y tendencias.\\nDesarrollar modelos predictivos para la segmentación y personalización de audiencias.\\nColaborar con equipos de marketing para optimizar estrategias y presupuestos de marketing.\\nCualificación:\\n\\nExperiencia previa en análisis de datos de marketing digital.\\nConocimiento de herramientas como Google Analytics, Adobe Analytics o similar.\\nFuertes habilidades analíticas y capacidad para traducir datos en insights accionables.\\nExperiencia en la visualización de datos preferida, pero no obligatoria.\\nLo que ofrecemos:\\n\\nOportunidad de trabajar en un entorno de marketing dinámico y en crecimiento.\\nColaboración con equipos multidisciplinarios y oportunidades de desarrollo profesional.\\nCompensación competitiva y beneficios adicionales.\\n\\n\\n'),\n",
       " (17,\n",
       "  'Científico de Datos en Bioinformática\\nAcerca del empleo: Buscamos un Científico de Datos con experiencia en bioinformática para liderar proyectos de análisis genómico y molecular.\\n\\nResponsabilidades:\\n\\nAnalizar datos genómicos para identificar variantes genéticas y relaciones entre genes y enfermedades.\\nDesarrollar algoritmos y herramientas de análisis de datos para el descubrimiento de biomarcadores.\\nColaborar con equipos de investigación en la interpretación de resultados y la generación de hipótesis científicas.\\nCualificación:\\n\\nDoctorado en Bioinformática, Genética Computacional o campo relacionado.\\nExperiencia en análisis de datos genómicos utilizando herramientas como BLAST, Bowtie o similar.\\nFuertes habilidades de programación en Python, R o Perl.\\nConocimiento de bases de datos genómicas y herramientas de visualización.\\nLo que ofrecemos:\\n\\nOportunidad de contribuir a la investigación biomédica y el desarrollo de terapias personalizadas.\\nColaboración con investigadores de clase mundial y acceso a recursos tecnológicos de vanguardia.\\nAmbiente de trabajo estimulante y enfocado en la innovación científica.\\n\\n\\n'),\n",
       " (18,\n",
       "  'Científico de Datos en Retail - Especializado en Deep Learning\\nAcerca del empleo: Únete a nuestro equipo como Científico de Datos especializado en Deep Learning para impulsar la innovación en el sector minorista y mejorar la experiencia del cliente.\\n\\nResponsabilidades:\\n\\nInvestigar, desarrollar y desplegar modelos de deep learning para mejorar la personalización de recomendaciones de productos.\\nAnalizar grandes volúmenes de datos transaccionales para identificar patrones de comportamiento del cliente y tendencias de mercado.\\nColaborar con equipos de negocio para traducir insights de datos en estrategias comerciales efectivas.\\nCualificación:\\n\\nMaestría o Doctorado en Ciencia de Datos, Inteligencia Artificial o campo relacionado.\\nExperiencia demostrada en el desarrollo y despliegue de modelos de deep learning en entornos comerciales.\\nDominio de herramientas y bibliotecas como TensorFlow, PyTorch y Keras.\\nExperiencia previa en el sector minorista o de comercio electrónico es una ventaja.\\nLo que ofrecemos:\\n\\nOportunidad de trabajar en un entorno minorista dinámico y en crecimiento.\\nColaboración con equipos multidisciplinarios y acceso a tecnologías de vanguardia.\\nCompensación competitiva y beneficios adicionales.\\n\\n\\n'),\n",
       " (19,\n",
       "  'Asistente de Ciencia de Datos Junior\\nAcerca del empleo: Estamos buscando un Asistente de Ciencia de Datos Junior para unirse a nuestro equipo y aprender sobre el emocionante campo de la ciencia de datos, brindando apoyo en diversas tareas y proyectos.\\n\\nResponsabilidades:\\n\\nAsistir en la recopilación, limpieza y preparación de datos para análisis.\\nApoyar en el desarrollo y evaluación de modelos de aprendizaje automático bajo la supervisión de científicos de datos senior.\\nParticipar en la creación de visualizaciones de datos y presentaciones para comunicar resultados.\\nCualificación:\\n\\nLicenciatura o título en curso en Ciencia de Datos, Estadística, Matemáticas, Informática o campo relacionado.\\nConocimientos básicos de programación en Python, R o SQL.\\nInterés genuino en aprender y desarrollarse en el campo de la ciencia de datos.\\nHabilidades de resolución de problemas y capacidad para trabajar en equipo.\\nLo que ofrecemos:\\n\\nOportunidad de adquirir experiencia práctica en un entorno de ciencia de datos.\\nMentores y capacitación para desarrollar habilidades técnicas y profesionales.\\nAmbiente de trabajo colaborativo y enfocado en el crecimiento profesional.\\n\\n\\n'),\n",
       " (20,\n",
       "  'Ingeniero de Datos Senior\\nAcerca del empleo: Estamos buscando un Ingeniero de Datos Senior con experiencia para liderar proyectos de desarrollo de infraestructura de datos y pipelines de datos escalables y eficientes.\\n\\nResponsabilidades:\\n\\nDiseñar, implementar y mantener pipelines de datos para la ingestión, procesamiento y almacenamiento de grandes volúmenes de datos.\\nOptimizar el rendimiento y la escalabilidad de las soluciones de almacenamiento y procesamiento de datos.\\nColaborar con equipos multidisciplinarios para satisfacer las necesidades de datos de la organización.\\nCualificación:\\n\\nExperiencia previa en diseño e implementación de infraestructuras de datos.\\nConocimiento profundo de herramientas como Hadoop, Spark, Kafka y bases de datos distribuidas.\\nExperiencia en programación en Python, Java, Scala o similar.\\nHabilidades de liderazgo técnico y capacidad para trabajar en equipos distribuidos.\\nLo que ofrecemos:\\n\\nOportunidad de liderar proyectos de datos estratégicos en una empresa líder en su industria.\\nSalario competitivo y beneficios adicionales.\\nAmbiente de trabajo colaborativo y enfocado en la innovación tecnológica.\\n\\n\\n'),\n",
       " (21,\n",
       "  'Asistente de Analista de Datos\\nAcerca del empleo: Estamos buscando un Asistente de Analista de Datos para unirse a nuestro equipo y aprender sobre el emocionante campo del análisis de datos, brindando apoyo en diversas tareas y proyectos.\\n\\nResponsabilidades:\\n\\nAsistir en la recopilación, limpieza y preparación de datos para análisis.\\nAyudar en la generación de informes y visualizaciones de datos para comunicar resultados.\\nParticipar en el análisis exploratorio de datos bajo la supervisión de analistas de datos senior.\\nCualificación:\\n\\nLicenciatura o título en curso en Estadística, Matemáticas, Ciencia de Datos o campo relacionado.\\nConocimientos básicos de herramientas de análisis de datos como Python, R, SQL, Excel, etc.\\nInterés genuino en aprender y desarrollarse en el campo del análisis de datos.\\nHabilidades de resolución de problemas y capacidad para trabajar en equipo.\\nLo que ofrecemos:\\n\\nOportunidad de adquirir experiencia práctica en un entorno de análisis de datos.\\nMentores y capacitación para desarrollar habilidades técnicas y profesionales.\\nAmbiente de trabajo colaborativo y enfocado en el crecimiento profesional.\\n\\n'),\n",
       " (22,\n",
       "  'Científico de Datos Experto en Procesamiento del Lenguaje Natural (NLP)\\nAcerca del empleo: Estamos buscando un Científico de Datos con experiencia y especialización en Procesamiento del Lenguaje Natural (NLP) para liderar proyectos innovadores y aplicar técnicas avanzadas de NLP para obtener insights valiosos de los datos textuales.\\n\\nResponsabilidades:\\n\\nDesarrollar y desplegar modelos avanzados de NLP para análisis de sentimientos, extracción de información, clasificación de documentos, entre otros.\\nInvestigar y experimentar con nuevas técnicas y algoritmos de NLP para mejorar la precisión y eficacia de los modelos.\\nColaborar con equipos multidisciplinarios para integrar soluciones de NLP en productos y servicios empresariales.\\nCualificación:\\n\\nDoctorado en Ciencia de Datos, Ingeniería Informática, Lingüística Computacional o campo relacionado.\\nExperiencia demostrada en el desarrollo de modelos de NLP en entornos empresariales.\\nConocimiento profundo de herramientas y bibliotecas de NLP como NLTK, spaCy, Transformers, etc.\\nFuertes habilidades de programación en Python y experiencia en el procesamiento de grandes volúmenes de datos textuales.\\nLo que ofrecemos:\\n\\nOportunidad de liderar proyectos de NLP innovadores en una empresa líder en su industria.\\nSalario competitivo y paquete de beneficios atractivos.\\nAmbiente de trabajo colaborativo y enfocado en la investigación y desarrollo tecnológico.\\n\\n\\n'),\n",
       " (23,\n",
       "  'Científico de Datos con Experiencia en Plataformas Cloud\\nAcerca del empleo: Estamos buscando un Científico de Datos con experiencia en el manejo y análisis de datos en entornos de computación en la nube para liderar proyectos de análisis de datos escalables y eficientes.\\n\\nResponsabilidades:\\n\\nDiseñar y desarrollar soluciones de análisis de datos en plataformas en la nube como AWS, Azure o Google Cloud Platform.\\nImplementar pipelines de datos eficientes y escalables utilizando servicios de almacenamiento y procesamiento en la nube.\\nOptimizar el rendimiento y la eficiencia de los procesos de análisis de datos en entornos de nube distribuida.\\nCualificación:\\n\\nExperiencia previa en el diseño y desarrollo de soluciones de análisis de datos en plataformas en la nube.\\nConocimiento profundo de servicios en la nube como AWS S3, EC2, Lambda, Azure Blob Storage, Google BigQuery, etc.\\nHabilidades avanzadas en programación en Python, SQL y herramientas de análisis de datos.\\nExperiencia en la implementación de arquitecturas de datos escalables y seguras en entornos de nube.\\nLo que ofrecemos:\\n\\nOportunidad de liderar proyectos de análisis de datos en entornos de nube de clase mundial.\\nSalario competitivo y beneficios adicionales.\\nAmbiente de trabajo colaborativo y enfocado en la innovación tecnológica en la nube.')]"
      ]
     },
     "execution_count": 11,
     "metadata": {},
     "output_type": "execute_result"
    }
   ],
   "source": [
    "texts_ = set_id(merged_texts)\n",
    "texts_"
   ]
  },
  {
   "cell_type": "markdown",
   "metadata": {},
   "source": [
    "**Convertir a Dataframe**"
   ]
  },
  {
   "cell_type": "code",
   "execution_count": 12,
   "metadata": {},
   "outputs": [
    {
     "data": {
      "text/html": [
       "<div>\n",
       "<style scoped>\n",
       "    .dataframe tbody tr th:only-of-type {\n",
       "        vertical-align: middle;\n",
       "    }\n",
       "\n",
       "    .dataframe tbody tr th {\n",
       "        vertical-align: top;\n",
       "    }\n",
       "\n",
       "    .dataframe thead th {\n",
       "        text-align: right;\n",
       "    }\n",
       "</style>\n",
       "<table border=\"1\" class=\"dataframe\">\n",
       "  <thead>\n",
       "    <tr style=\"text-align: right;\">\n",
       "      <th></th>\n",
       "      <th>id</th>\n",
       "      <th>job</th>\n",
       "    </tr>\n",
       "  </thead>\n",
       "  <tbody>\n",
       "    <tr>\n",
       "      <th>0</th>\n",
       "      <td>0</td>\n",
       "      <td>Desarrollador de Software Junior - Aplicacione...</td>\n",
       "    </tr>\n",
       "    <tr>\n",
       "      <th>1</th>\n",
       "      <td>1</td>\n",
       "      <td>Ingeniero de Software Full Stack - Tecnologías...</td>\n",
       "    </tr>\n",
       "    <tr>\n",
       "      <th>2</th>\n",
       "      <td>2</td>\n",
       "      <td>Desarrollador de Software Frontend - Experienc...</td>\n",
       "    </tr>\n",
       "    <tr>\n",
       "      <th>3</th>\n",
       "      <td>3</td>\n",
       "      <td>Desarrollador de Software Backend - Arquitectu...</td>\n",
       "    </tr>\n",
       "    <tr>\n",
       "      <th>4</th>\n",
       "      <td>4</td>\n",
       "      <td>Ingeniero de Software de Juegos - Desarrollo d...</td>\n",
       "    </tr>\n",
       "    <tr>\n",
       "      <th>5</th>\n",
       "      <td>5</td>\n",
       "      <td>Desarrollador de Software DevOps - Automatizac...</td>\n",
       "    </tr>\n",
       "    <tr>\n",
       "      <th>6</th>\n",
       "      <td>6</td>\n",
       "      <td>Ingeniero de Software Full Stack - Desarrollo ...</td>\n",
       "    </tr>\n",
       "    <tr>\n",
       "      <th>7</th>\n",
       "      <td>7</td>\n",
       "      <td>Desarrollador de Software Sénior - Experiencia...</td>\n",
       "    </tr>\n",
       "    <tr>\n",
       "      <th>8</th>\n",
       "      <td>8</td>\n",
       "      <td>Desarrollador de WordPress - Implementación de...</td>\n",
       "    </tr>\n",
       "    <tr>\n",
       "      <th>9</th>\n",
       "      <td>9</td>\n",
       "      <td>Ingeniero de Desarrollo Java - Desarrollo de A...</td>\n",
       "    </tr>\n",
       "    <tr>\n",
       "      <th>10</th>\n",
       "      <td>10</td>\n",
       "      <td>Ingeniero de Redes Senior\\nAcerca del Empleo:\\...</td>\n",
       "    </tr>\n",
       "    <tr>\n",
       "      <th>11</th>\n",
       "      <td>11</td>\n",
       "      <td>Ingeniero de Redes Principal\\nAcerca del Emple...</td>\n",
       "    </tr>\n",
       "    <tr>\n",
       "      <th>12</th>\n",
       "      <td>12</td>\n",
       "      <td>Ingeniero de Redes Junior\\nAcerca del Empleo:\\...</td>\n",
       "    </tr>\n",
       "    <tr>\n",
       "      <th>13</th>\n",
       "      <td>13</td>\n",
       "      <td>Técnico de Redes en Formación\\nAcerca del Empl...</td>\n",
       "    </tr>\n",
       "    <tr>\n",
       "      <th>14</th>\n",
       "      <td>14</td>\n",
       "      <td>Científico de Datos Senior\\nAcerca del empleo:...</td>\n",
       "    </tr>\n",
       "    <tr>\n",
       "      <th>15</th>\n",
       "      <td>15</td>\n",
       "      <td>Ingeniero de Datos Junior\\nAcerca del empleo: ...</td>\n",
       "    </tr>\n",
       "    <tr>\n",
       "      <th>16</th>\n",
       "      <td>16</td>\n",
       "      <td>Analista de Datos de Marketing Digital\\nAcerca...</td>\n",
       "    </tr>\n",
       "    <tr>\n",
       "      <th>17</th>\n",
       "      <td>17</td>\n",
       "      <td>Científico de Datos en Bioinformática\\nAcerca ...</td>\n",
       "    </tr>\n",
       "    <tr>\n",
       "      <th>18</th>\n",
       "      <td>18</td>\n",
       "      <td>Científico de Datos en Retail - Especializado ...</td>\n",
       "    </tr>\n",
       "    <tr>\n",
       "      <th>19</th>\n",
       "      <td>19</td>\n",
       "      <td>Asistente de Ciencia de Datos Junior\\nAcerca d...</td>\n",
       "    </tr>\n",
       "    <tr>\n",
       "      <th>20</th>\n",
       "      <td>20</td>\n",
       "      <td>Ingeniero de Datos Senior\\nAcerca del empleo: ...</td>\n",
       "    </tr>\n",
       "    <tr>\n",
       "      <th>21</th>\n",
       "      <td>21</td>\n",
       "      <td>Asistente de Analista de Datos\\nAcerca del emp...</td>\n",
       "    </tr>\n",
       "    <tr>\n",
       "      <th>22</th>\n",
       "      <td>22</td>\n",
       "      <td>Científico de Datos Experto en Procesamiento d...</td>\n",
       "    </tr>\n",
       "    <tr>\n",
       "      <th>23</th>\n",
       "      <td>23</td>\n",
       "      <td>Científico de Datos con Experiencia en Platafo...</td>\n",
       "    </tr>\n",
       "  </tbody>\n",
       "</table>\n",
       "</div>"
      ],
      "text/plain": [
       "    id                                                job\n",
       "0    0  Desarrollador de Software Junior - Aplicacione...\n",
       "1    1  Ingeniero de Software Full Stack - Tecnologías...\n",
       "2    2  Desarrollador de Software Frontend - Experienc...\n",
       "3    3  Desarrollador de Software Backend - Arquitectu...\n",
       "4    4  Ingeniero de Software de Juegos - Desarrollo d...\n",
       "5    5  Desarrollador de Software DevOps - Automatizac...\n",
       "6    6  Ingeniero de Software Full Stack - Desarrollo ...\n",
       "7    7  Desarrollador de Software Sénior - Experiencia...\n",
       "8    8  Desarrollador de WordPress - Implementación de...\n",
       "9    9  Ingeniero de Desarrollo Java - Desarrollo de A...\n",
       "10  10  Ingeniero de Redes Senior\\nAcerca del Empleo:\\...\n",
       "11  11  Ingeniero de Redes Principal\\nAcerca del Emple...\n",
       "12  12  Ingeniero de Redes Junior\\nAcerca del Empleo:\\...\n",
       "13  13  Técnico de Redes en Formación\\nAcerca del Empl...\n",
       "14  14  Científico de Datos Senior\\nAcerca del empleo:...\n",
       "15  15  Ingeniero de Datos Junior\\nAcerca del empleo: ...\n",
       "16  16  Analista de Datos de Marketing Digital\\nAcerca...\n",
       "17  17  Científico de Datos en Bioinformática\\nAcerca ...\n",
       "18  18  Científico de Datos en Retail - Especializado ...\n",
       "19  19  Asistente de Ciencia de Datos Junior\\nAcerca d...\n",
       "20  20  Ingeniero de Datos Senior\\nAcerca del empleo: ...\n",
       "21  21  Asistente de Analista de Datos\\nAcerca del emp...\n",
       "22  22  Científico de Datos Experto en Procesamiento d...\n",
       "23  23  Científico de Datos con Experiencia en Platafo..."
      ]
     },
     "execution_count": 12,
     "metadata": {},
     "output_type": "execute_result"
    }
   ],
   "source": [
    "df_data = pd.DataFrame(texts_, columns=['id', 'job'])\n",
    "df_data"
   ]
  },
  {
   "cell_type": "markdown",
   "metadata": {},
   "source": [
    "**Limpieza de datos**"
   ]
  },
  {
   "cell_type": "code",
   "execution_count": 13,
   "metadata": {},
   "outputs": [],
   "source": [
    "def clean_texts(df):\n",
    "    df_copy = df.copy()\n",
    "    words_split = []\n",
    "    # Separamos en palabras eliminando caracteres especiales\n",
    "    for text in df_copy['job']:\n",
    "        words = re.split(r'\\W+', text)\n",
    "        words = [word.lower() for word in words]\n",
    "        words_split.append(words)\n",
    "    # Eliminar ultimo elemento de words_split (es un elemento vacio)\n",
    "    words_split = [words[:-1] for words in words_split]\n",
    "    # Eliminar columna job y añadir nueva columna con tokens limpios\n",
    "    df_copy.drop('job', axis=1, inplace=True)\n",
    "    df_copy['job_tokens'] = words_split\n",
    "\n",
    "    return df_copy"
   ]
  },
  {
   "cell_type": "code",
   "execution_count": 14,
   "metadata": {},
   "outputs": [],
   "source": [
    "df_clean = clean_texts(df_data)"
   ]
  },
  {
   "cell_type": "code",
   "execution_count": 15,
   "metadata": {},
   "outputs": [
    {
     "data": {
      "text/html": [
       "<div>\n",
       "<style scoped>\n",
       "    .dataframe tbody tr th:only-of-type {\n",
       "        vertical-align: middle;\n",
       "    }\n",
       "\n",
       "    .dataframe tbody tr th {\n",
       "        vertical-align: top;\n",
       "    }\n",
       "\n",
       "    .dataframe thead th {\n",
       "        text-align: right;\n",
       "    }\n",
       "</style>\n",
       "<table border=\"1\" class=\"dataframe\">\n",
       "  <thead>\n",
       "    <tr style=\"text-align: right;\">\n",
       "      <th></th>\n",
       "      <th>id</th>\n",
       "      <th>job_tokens</th>\n",
       "    </tr>\n",
       "  </thead>\n",
       "  <tbody>\n",
       "    <tr>\n",
       "      <th>0</th>\n",
       "      <td>0</td>\n",
       "      <td>[desarrollador, de, software, junior, aplicaci...</td>\n",
       "    </tr>\n",
       "    <tr>\n",
       "      <th>1</th>\n",
       "      <td>1</td>\n",
       "      <td>[ingeniero, de, software, full, stack, tecnolo...</td>\n",
       "    </tr>\n",
       "    <tr>\n",
       "      <th>2</th>\n",
       "      <td>2</td>\n",
       "      <td>[desarrollador, de, software, frontend, experi...</td>\n",
       "    </tr>\n",
       "    <tr>\n",
       "      <th>3</th>\n",
       "      <td>3</td>\n",
       "      <td>[desarrollador, de, software, backend, arquite...</td>\n",
       "    </tr>\n",
       "    <tr>\n",
       "      <th>4</th>\n",
       "      <td>4</td>\n",
       "      <td>[ingeniero, de, software, de, juegos, desarrol...</td>\n",
       "    </tr>\n",
       "    <tr>\n",
       "      <th>5</th>\n",
       "      <td>5</td>\n",
       "      <td>[desarrollador, de, software, devops, automati...</td>\n",
       "    </tr>\n",
       "    <tr>\n",
       "      <th>6</th>\n",
       "      <td>6</td>\n",
       "      <td>[ingeniero, de, software, full, stack, desarro...</td>\n",
       "    </tr>\n",
       "    <tr>\n",
       "      <th>7</th>\n",
       "      <td>7</td>\n",
       "      <td>[desarrollador, de, software, sénior, experien...</td>\n",
       "    </tr>\n",
       "    <tr>\n",
       "      <th>8</th>\n",
       "      <td>8</td>\n",
       "      <td>[desarrollador, de, wordpress, implementación,...</td>\n",
       "    </tr>\n",
       "    <tr>\n",
       "      <th>9</th>\n",
       "      <td>9</td>\n",
       "      <td>[ingeniero, de, desarrollo, java, desarrollo, ...</td>\n",
       "    </tr>\n",
       "    <tr>\n",
       "      <th>10</th>\n",
       "      <td>10</td>\n",
       "      <td>[ingeniero, de, redes, senior, acerca, del, em...</td>\n",
       "    </tr>\n",
       "    <tr>\n",
       "      <th>11</th>\n",
       "      <td>11</td>\n",
       "      <td>[ingeniero, de, redes, principal, acerca, del,...</td>\n",
       "    </tr>\n",
       "    <tr>\n",
       "      <th>12</th>\n",
       "      <td>12</td>\n",
       "      <td>[ingeniero, de, redes, junior, acerca, del, em...</td>\n",
       "    </tr>\n",
       "    <tr>\n",
       "      <th>13</th>\n",
       "      <td>13</td>\n",
       "      <td>[técnico, de, redes, en, formación, acerca, de...</td>\n",
       "    </tr>\n",
       "    <tr>\n",
       "      <th>14</th>\n",
       "      <td>14</td>\n",
       "      <td>[científico, de, datos, senior, acerca, del, e...</td>\n",
       "    </tr>\n",
       "    <tr>\n",
       "      <th>15</th>\n",
       "      <td>15</td>\n",
       "      <td>[ingeniero, de, datos, junior, acerca, del, em...</td>\n",
       "    </tr>\n",
       "    <tr>\n",
       "      <th>16</th>\n",
       "      <td>16</td>\n",
       "      <td>[analista, de, datos, de, marketing, digital, ...</td>\n",
       "    </tr>\n",
       "    <tr>\n",
       "      <th>17</th>\n",
       "      <td>17</td>\n",
       "      <td>[científico, de, datos, en, bioinformática, ac...</td>\n",
       "    </tr>\n",
       "    <tr>\n",
       "      <th>18</th>\n",
       "      <td>18</td>\n",
       "      <td>[científico, de, datos, en, retail, especializ...</td>\n",
       "    </tr>\n",
       "    <tr>\n",
       "      <th>19</th>\n",
       "      <td>19</td>\n",
       "      <td>[asistente, de, ciencia, de, datos, junior, ac...</td>\n",
       "    </tr>\n",
       "    <tr>\n",
       "      <th>20</th>\n",
       "      <td>20</td>\n",
       "      <td>[ingeniero, de, datos, senior, acerca, del, em...</td>\n",
       "    </tr>\n",
       "    <tr>\n",
       "      <th>21</th>\n",
       "      <td>21</td>\n",
       "      <td>[asistente, de, analista, de, datos, acerca, d...</td>\n",
       "    </tr>\n",
       "    <tr>\n",
       "      <th>22</th>\n",
       "      <td>22</td>\n",
       "      <td>[científico, de, datos, experto, en, procesami...</td>\n",
       "    </tr>\n",
       "    <tr>\n",
       "      <th>23</th>\n",
       "      <td>23</td>\n",
       "      <td>[científico, de, datos, con, experiencia, en, ...</td>\n",
       "    </tr>\n",
       "  </tbody>\n",
       "</table>\n",
       "</div>"
      ],
      "text/plain": [
       "    id                                         job_tokens\n",
       "0    0  [desarrollador, de, software, junior, aplicaci...\n",
       "1    1  [ingeniero, de, software, full, stack, tecnolo...\n",
       "2    2  [desarrollador, de, software, frontend, experi...\n",
       "3    3  [desarrollador, de, software, backend, arquite...\n",
       "4    4  [ingeniero, de, software, de, juegos, desarrol...\n",
       "5    5  [desarrollador, de, software, devops, automati...\n",
       "6    6  [ingeniero, de, software, full, stack, desarro...\n",
       "7    7  [desarrollador, de, software, sénior, experien...\n",
       "8    8  [desarrollador, de, wordpress, implementación,...\n",
       "9    9  [ingeniero, de, desarrollo, java, desarrollo, ...\n",
       "10  10  [ingeniero, de, redes, senior, acerca, del, em...\n",
       "11  11  [ingeniero, de, redes, principal, acerca, del,...\n",
       "12  12  [ingeniero, de, redes, junior, acerca, del, em...\n",
       "13  13  [técnico, de, redes, en, formación, acerca, de...\n",
       "14  14  [científico, de, datos, senior, acerca, del, e...\n",
       "15  15  [ingeniero, de, datos, junior, acerca, del, em...\n",
       "16  16  [analista, de, datos, de, marketing, digital, ...\n",
       "17  17  [científico, de, datos, en, bioinformática, ac...\n",
       "18  18  [científico, de, datos, en, retail, especializ...\n",
       "19  19  [asistente, de, ciencia, de, datos, junior, ac...\n",
       "20  20  [ingeniero, de, datos, senior, acerca, del, em...\n",
       "21  21  [asistente, de, analista, de, datos, acerca, d...\n",
       "22  22  [científico, de, datos, experto, en, procesami...\n",
       "23  23  [científico, de, datos, con, experiencia, en, ..."
      ]
     },
     "execution_count": 15,
     "metadata": {},
     "output_type": "execute_result"
    }
   ],
   "source": [
    "df_clean"
   ]
  },
  {
   "cell_type": "code",
   "execution_count": 16,
   "metadata": {},
   "outputs": [],
   "source": [
    "df_clean.to_csv('../raw_data/datasets/job_clean_V0', index=False)# tokens divididos\n",
    "df_data.to_csv('../raw_data/datasets/job_raw_V0', index=False)# tokens no divididos"
   ]
  }
 ],
 "metadata": {
  "kernelspec": {
   "display_name": "Python 3",
   "language": "python",
   "name": "python3"
  },
  "language_info": {
   "codemirror_mode": {
    "name": "ipython",
    "version": 3
   },
   "file_extension": ".py",
   "mimetype": "text/x-python",
   "name": "python",
   "nbconvert_exporter": "python",
   "pygments_lexer": "ipython3",
   "version": "3.11.7"
  }
 },
 "nbformat": 4,
 "nbformat_minor": 2
}
