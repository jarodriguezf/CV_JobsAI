{
 "cells": [
  {
   "cell_type": "code",
   "execution_count": 67,
   "metadata": {},
   "outputs": [],
   "source": [
    "import pandas as pd\n",
    "import numpy as np\n",
    "import re\n",
    "import string"
   ]
  },
  {
   "cell_type": "markdown",
   "metadata": {},
   "source": [
    "**Carga de datos**"
   ]
  },
  {
   "cell_type": "code",
   "execution_count": 2,
   "metadata": {},
   "outputs": [],
   "source": [
    "raw_cvs_SoftwareDev = open('../raw_data/Data_CV_SoftwareDeveloper.txt',encoding='utf-8').read()\n",
    "raw_cvs_NetworkEng = open('../raw_data/Data_CV_NetworkEngineer.txt',encoding='utf-8').read()\n",
    "raw_cvs_IADev= open('../raw_data/Data_CV_IADeveloper.txt',encoding='utf-8').read()"
   ]
  },
  {
   "cell_type": "code",
   "execution_count": 6,
   "metadata": {},
   "outputs": [
    {
     "data": {
      "text/plain": [
       "'CV 1: Desarrollador Full-Stack Experimentado\\nNombre: Juan Pérez\\n\\nResumen Profesional: Desarrollador Full-Stack con más de 8 años de experiencia en el diseño, desarrollo y despliegue de aplicaciones web y móviles. Expertise en tecnologías como JavaScript (Node.js, React.js, Angular), HTML5, CSS3 y bases de datos SQL y NoSQL. Amplia experiencia en trabajo en equipo y liderazgo técnico.\\n\\nExperiencia Laboral:\\n\\nSenior Full-Stack Developer, Tech Solutions Inc.\\nLideré el desarrollo de una plataforma de gestión de proyectos utilizando Node.js y React.js, reduciendo los tiempos de entrega en un 30%.\\nDesarrollador Front-End, WebTech Co.\\nContribuí al diseño y desarrollo de una aplicación web de e-commerce utilizando Angular y MongoDB.\\nEducación:\\n\\nIngeniería Informática, Universidad Nacional de Ingeniería (UNI)\\nAptitudes:\\n\\nDesarrollo Full-Stack\\nLiderazgo Técnico\\nResolución de Problemas\\n\\n\\nCV 2: Desarrollador Móvil Junior\\nNombre: Ana García\\n\\nResumen Profesional: Desarrolladora Móvil con experiencia en el diseño y desarrollo de aplicaciones nativas para Android e iOS. Conocimientos en Kotlin, Java, Swift y experiencia en el uso de APIs y servicios web.\\n\\nExperiencia Laboral:\\n\\nDesarrolladora Móvil Junior, AppDev Solutions\\nContribuí al desarrollo de aplicaciones móviles utilizando Kotlin y Swift.\\nEducación:\\n\\nIngeniería en Sistemas de Información, Universidad Tecnológica Nacional (UTN)\\nAptitudes:\\n\\nDesarrollo Móvil (Android e iOS)\\nColaboración en Equipo\\nAprendizaje Rápido\\n\\n\\nCV 3: Desarrollador Back-End Especializado\\nNombre: María López\\n\\nResumen Profesional: Desarrolladora Back-End con experiencia en el diseño e implementación de APIs y servicios web escalables y seguros. Experta en lenguajes como Python, Java y frameworks como Flask y Spring Boot.\\n\\nExperiencia Laboral:\\n\\nDesarrolladora Back-End, DataTech Solutions\\nDiseñé e implementé APIs RESTful utilizando Python y Flask, mejorando la eficiencia en el intercambio de datos en un 40%.\\nEducación:\\n\\nIngeniería en Informática, Universidad de Buenos Aires (UBA)\\nAptitudes:\\n\\nDesarrollo Back-End\\nSeguridad Informática\\nAnálisis de Rendimiento\\n\\n\\nCV 4: Desarrollador Web Front-End Creativo\\nNombre: David Martínez\\n\\nResumen Profesional: Desarrollador Front-End con pasión por el diseño y la experiencia de usuario. Experto en HTML5, CSS3 y JavaScript, con conocimientos en frameworks como React.js y Vue.js. Capacidad demostrada para traducir diseños creativos en interfaces web funcionales y atractivas.\\n\\nExperiencia Laboral:\\n\\nDesarrollador Front-End, CreativeWeb Agency\\nLideré la implementación de interfaces web interactivas utilizando React.js, mejorando la experiencia del usuario y aumentando la retención en un 20%.\\nEducación:\\n\\nLicenciatura en Diseño Web, Universidad Autónoma de Barcelona (UAB)\\nAptitudes:\\n\\nDesarrollo Front-End\\nDiseño de Interfaces de Usuario (UI)\\nCreatividad\\n\\n\\nCV 5: Desarrollador de Juegos Independiente\\nNombre: Pedro Ramírez\\n\\nResumen Profesional: Desarrollador independiente con experiencia en el diseño y desarrollo de videojuegos multiplataforma. Conocimientos en Unity3D, C#, y experiencia en el ciclo completo de desarrollo de juegos, desde la conceptualización hasta el lanzamiento.\\n\\nExperiencia Laboral:\\n\\nDesarrollador de Juegos Independiente\\nLanzamiento exitoso de dos juegos móviles en iOS y Android, con más de 100,000 descargas combinadas.\\nEducación:\\n\\nIngeniería de Videojuegos, Universidad Politécnica de Madrid (UPM)\\nAptitudes:\\n\\nDesarrollo de Videojuegos\\nAutogestión\\nCreatividad y Originalidad\\n\\n\\nCV 6: Desarrollador Front-End Senior\\nNombre: Laura Fernández\\n\\nResumen Profesional: Desarrolladora Front-End con más de 6 años de experiencia en la creación de interfaces web interactivas y amigables. Experta en HTML, CSS, JavaScript y frameworks como React.js y Angular. Capacidad demostrada para trabajar en equipo y gestionar proyectos de principio a fin.\\n\\nExperiencia Laboral:\\n\\nDesarrolladora Front-End Senior, WebDev Solutions\\nDirigí el equipo de desarrollo en la implementación de una plataforma de gestión de contenidos utilizando React.js, mejorando la velocidad de carga en un 50%.\\nEducación:\\n\\nIngeniería Informática, Universidad Politécnica de Madrid (UPM)\\nAptitudes:\\n\\nDesarrollo Front-End\\nGestión de Proyectos\\nColaboración en Equipo\\n\\n\\nCV 7: Desarrollador Back-End Junior\\nNombre: Carlos Sánchez\\n\\nResumen Profesional: Desarrollador Back-End con experiencia en el diseño y desarrollo de aplicaciones escalables y seguras. Conocimientos en Python, Django y bases de datos SQL. Capacidad para aprender rápidamente nuevas tecnologías y resolver problemas de manera eficiente.\\n\\nExperiencia Laboral:\\n\\nDesarrollador Back-End Junior, TechStartUp Co.\\nContribuí al desarrollo de un sistema de gestión de inventario utilizando Python y Django, reduciendo los errores de almacenamiento en un 20%.\\nEducación:\\n\\nIngeniería de Sistemas, Universidad Nacional de Colombia (UNAL)\\nAptitudes:\\n\\nDesarrollo Back-End\\nResolución de Problemas\\nAprendizaje Rápido\\n\\n\\nCV 8: Desarrollador Web Junior\\nNombre: Marta López\\n\\nResumen Profesional: Desarrolladora web junior apasionada por aprender y crecer en el campo del desarrollo web. Recién graduada con un título en Desarrollo de Aplicaciones Web. Conocimientos básicos en HTML, CSS y JavaScript. Busco oportunidades para adquirir experiencia práctica y contribuir al desarrollo de proyectos web.\\n\\nEducación:\\n\\nGrado en Desarrollo de Aplicaciones Web, Universidad Politécnica de Valencia (UPV)\\nProyectos Destacados:\\n\\nDesarrollo de una página web estática utilizando HTML, CSS y JavaScript para la presentación de un negocio local.\\nAptitudes:\\n\\nAprendizaje Rápido\\nTrabajo en Equipo\\nResolución de Problemas\\n\\n\\nCV 9: Desarrollador Web Senior\\nNombre: Andrés Martínez\\n\\nResumen Profesional: Desarrollador web senior con más de 10 años de experiencia en el diseño y desarrollo de sitios web dinámicos y aplicaciones web. Expertise en HTML5, CSS3, JavaScript y frameworks como React.js y Vue.js. Demostrada capacidad para liderar equipos y gestionar proyectos de principio a fin.\\n\\nExperiencia Laboral:\\n\\nDesarrollador Web Senior, WebTech Solutions\\nLideré el equipo de desarrollo en la implementación de una plataforma de comercio electrónico utilizando React.js, incrementando las ventas en un 40%.\\nEducación:\\n\\nIngeniería Informática, Universidad Autónoma de Madrid (UAM)\\nAptitudes:\\n\\nDesarrollo Web Full-Stack\\nGestión de Proyectos\\nLiderazgo Técnico\\n\\n\\nCV 10: Desarrollador Web Full-Stack con Experiencia en E-Commerce\\nNombre: María González\\n\\nResumen Profesional: Desarrolladora web full-stack con experiencia en el diseño, desarrollo y mantenimiento de sitios web de comercio electrónico. Conocimientos en HTML, CSS, JavaScript, PHP y experiencia en el uso de CMS como WordPress y plataformas de e-commerce como WooCommerce. Enfoque en la creación de experiencias de usuario intuitivas y seguras.\\n\\nExperiencia Laboral:\\n\\nDesarrolladora Web Full-Stack, E-Commerce Solutions Ltd.\\nContribuí al desarrollo y mantenimiento de múltiples sitios web de comercio electrónico utilizando WordPress y WooCommerce, mejorando la experiencia del usuario y aumentando las conversiones.\\nEducación:\\n\\nLicenciatura en Ingeniería de Sistemas, Universidad Nacional de Educación a Distancia (UNED)\\nAptitudes:\\n\\nDesarrollo Web Full-Stack\\nE-Commerce\\nExperiencia de Usuario (UX)'"
      ]
     },
     "execution_count": 6,
     "metadata": {},
     "output_type": "execute_result"
    }
   ],
   "source": [
    "raw_cvs_SoftwareDev"
   ]
  },
  {
   "cell_type": "code",
   "execution_count": 7,
   "metadata": {},
   "outputs": [
    {
     "data": {
      "text/plain": [
       "'CV 1: Enfoque en la experiencia en Cisco\\n\\nNombre: Juan Pérez\\n\\nResumen: Ingeniero de Redes con más de 5 años de experiencia en diseño, implementación y mantenimiento de redes Cisco. Especializado en enrutamiento y conmutación, seguridad de red y administración de dispositivos Cisco.\\n\\nExperiencia Laboral:\\n\\nIngeniero de Redes en ABC Solutions (2018 - Presente)\\nLideró el diseño e implementación de una red empresarial basada en Cisco para una empresa de manufactura.\\nRealizó la configuración de dispositivos Cisco ISR, switches Catalyst y firewalls ASA.\\nTécnico de Redes en XYZ Networking (2015 - 2018)\\nProporcionó soporte técnico y mantenimiento preventivo a la infraestructura de red de clientes, incluida la resolución de problemas y actualizaciones de firmware.\\nEducación:\\n\\nLicenciatura en Ingeniería de Telecomunicaciones, Universidad Nacional (2014)\\nCertificaciones:\\n\\nCisco Certified Network Professional (CCNP)\\nCisco Certified Network Associate (CCNA)\\nCisco Certified Design Associate (CCDA)\\nHabilidades Técnicas:\\n\\nRouting y Switching: OSPF, EIGRP, VLANs, STP\\nSeguridad de Red: Firewalls Cisco ASA, VPN\\nHerramientas: Cisco Packet Tracer, Wireshark\\n\\n\\nCV 2: Enfoque en experiencia en redes inalámbricas\\n\\nNombre: María García\\n\\nResumen: Ingeniera de Redes con experiencia en diseño, implementación y optimización de redes inalámbricas. Especializada en tecnologías Wi-Fi y soluciones de movilidad empresarial.\\n\\nExperiencia Laboral:\\n\\nIngeniera de Redes en WirelessTech Solutions (2017 - Presente)\\nLideró proyectos de implementación de redes Wi-Fi empresariales para clientes en diversos sectores, incluyendo educación y hospitalidad.\\nRealizó encuestas de sitio, diseño de cobertura y configuración de controladores inalámbricos Cisco y Aruba.\\nIngeniera de Soporte en TechSupport Inc. (2015 - 2017)\\nBrindó soporte técnico de nivel 3 para problemas de conectividad Wi-Fi, incluida la resolución de problemas de interferencia y congestión de canales.\\nEducación:\\n\\nIngeniería en Telecomunicaciones, Universidad Politécnica (2015)\\nCertificaciones:\\n\\nCertified Wireless Network Professional (CWNP)\\nCisco Certified Network Associate (CCNA)\\nHabilidades Técnicas:\\n\\nTecnologías Wi-Fi: 802.11ac, WPA2, roaming rápido\\nControladores WLAN: Cisco Wireless LAN Controller, Aruba Mobility Controller\\nHerramientas: Ekahau Site Survey, AirMagnet WiFi Analyzer\\n\\n\\nCV 3: Recién graduado con experiencia de proyecto\\n\\nNombre: Ana López\\n\\nResumen: Recién graduada en Ingeniería de Redes con habilidades en diseño, configuración y administración de redes. Apasionada por la resolución de problemas y el aprendizaje continuo. Experiencia práctica a través de proyectos universitarios y pasantías.\\n\\nExperiencia Laboral:\\n\\nPasante en Redes en XYZ Tech (Verano 2023)\\nColaboró en la configuración y mantenimiento de dispositivos de red, incluidos switches y routers.\\nParticipó en la resolución de problemas de conectividad y seguridad de red bajo la supervisión del equipo de ingeniería.\\nEducación:\\n\\nLicenciatura en Ingeniería de Redes, Universidad Nacional (2023)\\nProyectos Universitarios:\\n\\nDiseño e implementación de una red empresarial simulada utilizando enrutadores Cisco y switches Catalyst.\\nConfiguración de una red inalámbrica segura utilizando tecnologías WPA2 y autenticación 802.1X.\\nHabilidades Técnicas:\\n\\nConocimiento básico en enrutamiento y conmutación: VLANs, enrutamiento estático.\\nFamiliaridad con tecnologías inalámbricas: estándares 802.11, seguridad Wi-Fi.\\nHerramientas: Cisco Packet Tracer, GNS3, Wireshark.\\n\\n\\nCV 4: Graduado con certificaciones y proyectos personales\\n\\nNombre: Carlos Martínez\\n\\nResumen: Graduado en Ingeniería de Redes con pasión por la tecnología y el diseño de redes. Certificaciones relevantes y experiencia práctica a través de proyectos personales. Buscando oportunidades para aplicar y ampliar mis conocimientos en un entorno profesional.\\n\\nEducación:\\n\\nLicenciatura en Ingeniería de Redes, Instituto Tecnológico (2022)\\nCertificaciones:\\n\\nCisco Certified Network Associate (CCNA)\\nCompTIA Network+\\nProyectos Personales:\\n\\nConfiguración de una red doméstica utilizando routers y switches Cisco.\\nImplementación de un servidor DHCP y DNS en un entorno de laboratorio.\\nHabilidades Técnicas:\\n\\nConocimiento en enrutamiento y conmutación básicos.\\nFamiliaridad con conceptos de seguridad de red.\\nHerramientas: Cisco Packet Tracer, VirtualBox, Linux.'"
      ]
     },
     "execution_count": 7,
     "metadata": {},
     "output_type": "execute_result"
    }
   ],
   "source": [
    "raw_cvs_NetworkEng"
   ]
  },
  {
   "cell_type": "code",
   "execution_count": 8,
   "metadata": {},
   "outputs": [
    {
     "data": {
      "text/plain": [
       "'CV 1: Ingeniero de Datos Experimentado\\n\\nNombre: Ana García\\n\\nResumen Profesional: Ingeniera de Datos con más de 6 años de experiencia en la gestión, procesamiento y análisis de grandes volúmenes de datos. Especializada en el diseño e implementación de pipelines de datos utilizando herramientas como Apache Spark, Hadoop y Kafka. Amplios conocimientos en lenguajes de programación como Python, R y Scala, así como en bases de datos SQL y NoSQL. Capacidad para trabajar en equipo y comunicar resultados técnicos de manera efectiva.\\n\\nExperiencia Laboral:\\n\\nIngeniero de Datos Senior, DataTech Solutions\\nLideré la implementación de pipelines de datos en tiempo real utilizando Apache Kafka, mejorando la eficiencia del procesamiento de datos en un 40%.\\nAnalista de Datos, Analytic Corp.\\nDesarrollé modelos de machine learning para la predicción de demanda utilizando Python y TensorFlow, lo que resultó en una mejora del 25% en la precisión de las predicciones.\\nEducación:\\n\\nIngeniería en Sistemas de Información, Universidad Politécnica\\nAptitudes:\\n\\nGestión de Datos\\nProcesamiento de Datos a Gran Escala\\nMachine Learning\\nComunicación Técnica\\n\\n\\nCV 2: Ingeniero de Datos y Científico de Datos\\n\\nNombre: Javier Martínez\\n\\nResumen Profesional: Ingeniero de Datos y Científico de Datos con más de 7 años de experiencia en el diseño, desarrollo y despliegue de soluciones analíticas. Especializado en el procesamiento y análisis de grandes volúmenes de datos utilizando tecnologías como Python, Apache Spark y Hadoop. Experiencia en la implementación de modelos de machine learning y deep learning para la extracción de insights y la toma de decisiones basada en datos.\\n\\nExperiencia Laboral:\\n\\nIngeniero de Datos, DataTech Solutions\\nLideré el diseño e implementación de pipelines de datos utilizando Apache Spark y Hadoop, mejorando la eficiencia del procesamiento de datos en un 50%.\\nCientífico de Datos, Analytics Corp.\\nDesarrollé modelos predictivos utilizando técnicas de machine learning y deep learning para predecir la demanda de productos, lo que resultó en una reducción del 20% en los costos de inventario.\\nEducación:\\n\\nMaestría en Ciencia de Datos, Universidad de Ciencias Aplicadas\\nAptitudes:\\n\\nProcesamiento de Grandes Volúmenes de Datos\\nModelado Predictivo\\nMachine Learning y Deep Learning\\n\\n\\nCV 3: Ingeniera de Datos con Experiencia en Cloud Computing\\n\\nNombre: María Fernández\\n\\nResumen Profesional: Ingeniera de Datos con experiencia en la implementación de soluciones de datos en entornos de nube. Amplios conocimientos en tecnologías como AWS, Google Cloud Platform y Azure, así como en herramientas para el almacenamiento y procesamiento de datos a escala. Experiencia en el diseño e implementación de pipelines de datos utilizando Apache Airflow y AWS Glue.\\n\\nExperiencia Laboral:\\n\\nIngeniera de Datos, Cloud Data Solutions\\nDiseñé e implementé pipelines de datos en la nube utilizando servicios como AWS Glue y Amazon Redshift, mejorando la escalabilidad y la eficiencia del procesamiento de datos.\\nAnalista de Datos, CloudTech Co.\\nMigré la infraestructura de datos a la nube utilizando Google BigQuery y Google Cloud Storage, reduciendo los costos operativos en un 30%.\\nEducación:\\n\\nIngeniería en Sistemas de Información, Universidad Nacional\\nAptitudes:\\n\\nCloud Computing\\nAWS, Google Cloud Platform, Azure\\nApache Airflow, AWS Glue\\n\\n\\nCV 4: Científico de Datos Especializado en NLP\\n\\nNombre: Laura Rodríguez\\n\\nResumen Profesional: Científico de Datos con especialización en Procesamiento de Lenguaje Natural (NLP). Amplia experiencia en el desarrollo de modelos de NLP para la extracción de información, análisis de sentimientos y clasificación de textos. Competente en el uso de herramientas y bibliotecas como NLTK, spaCy y TensorFlow para el procesamiento y análisis de texto.\\n\\nExperiencia Laboral:\\n\\nCientífico de Datos, NLP Analytics\\nDesarrollé modelos de NLP para la extracción de información de textos médicos, mejorando la precisión en un 25%.\\nAnalista de Datos, TextTech Solutions\\nImplementé un sistema de análisis de sentimientos en redes sociales utilizando técnicas de NLP, lo que permitió a la empresa tomar decisiones estratégicas basadas en la opinión de los clientes.\\nEducación:\\n\\nMaestría en Ciencia de Datos, Universidad de Ciencias Aplicadas\\nAptitudes:\\n\\nProcesamiento de Lenguaje Natural (NLP)\\nAnálisis de Sentimientos\\nModelado de Texto\\n\\n\\nCV 5: Analista de Datos con Experiencia en Visualización\\n\\nNombre: Carlos Gómez\\n\\nResumen Profesional: Analista de Datos con experiencia en la creación de visualizaciones interactivas y paneles de control para comunicar insights derivados del análisis de datos. Competente en herramientas como Tableau, Power BI y D3.js para la creación de visualizaciones efectivas. Habilidades en el análisis exploratorio de datos y la identificación de tendencias utilizando técnicas estadísticas y herramientas de visualización.\\n\\nExperiencia Laboral:\\n\\nAnalista de Datos, Visual Analytics Co.\\nDesarrollé paneles de control interactivos utilizando Tableau para proporcionar insights en tiempo real sobre el rendimiento de las operaciones de la empresa.\\nCientífico de Datos Junior, Data Insights Ltd.\\nRealicé análisis exploratorio de datos utilizando Python y R para identificar patrones y tendencias en conjuntos de datos complejos.\\nEducación:\\n\\nLicenciatura en Estadística, Universidad Nacional\\nAptitudes:\\n\\nVisualización de Datos\\nTableau, Power BI, D3.js\\nAnálisis Exploratorio de Datos\\n\\n\\nCV 6: Ingeniero de Datos con Experiencia en Big Data\\n\\nNombre: Marta Martínez\\n\\nResumen Profesional: Ingeniera de Datos con experiencia en el procesamiento y análisis de grandes volúmenes de datos utilizando tecnologías de Big Data como Apache Spark y Hadoop. Experiencia en el diseño e implementación de pipelines de datos escalables y eficientes para el procesamiento de datos en tiempo real y por lotes.\\n\\nExperiencia Laboral:\\n\\nIngeniera de Datos, Big Data Solutions\\nDiseñé e implementé pipelines de datos utilizando Apache Spark y Hadoop para el procesamiento de datos en tiempo real y por lotes, mejorando la eficiencia en un 40%.\\nAnalista de Datos, DataTech Co.\\nDesarrollé algoritmos de machine learning para la detección de fraudes en transacciones financieras utilizando datos de gran volumen, lo que resultó en una reducción del 30% en los casos de fraude.\\nEducación:\\n\\nIngeniería en Informática, Universidad Politécnica\\nAptitudes:\\n\\nProcesamiento de Big Data\\nApache Spark, Hadoop\\nMachine Learning\\n\\n\\nCV 7: Analista de Datos con Experiencia en Minería de Datos\\n\\nNombre: Sofía Martínez\\n\\nResumen Profesional: Analista de Datos con experiencia en la minería de datos y el descubrimiento de patrones en conjuntos de datos complejos. Amplios conocimientos en técnicas de minería de datos y aprendizaje automático, así como en herramientas como Python, R y Weka. Experiencia en la identificación de patrones, tendencias y correlaciones en datos para la toma de decisiones empresariales.\\n\\nExperiencia Laboral:\\n\\nAnalista de Datos, Data Mining Co.\\nDesarrollé modelos predictivos utilizando técnicas de minería de datos y aprendizaje automático para predecir el comportamiento del cliente, lo que resultó en un aumento del 20% en las ventas.\\nCientífico de Datos Junior, Analytics Corp.\\nRealicé análisis exploratorio de datos utilizando Python y R para identificar patrones y tendencias en conjuntos de datos complejos.\\nEducación:\\n\\nMaestría en Minería de Datos, Universidad de Ciencias Aplicadas\\nAptitudes:\\n\\nMinería de Datos\\nAprendizaje Automático\\nAnálisis Exploratorio de Datos\\n\\n\\nCV 8: Ingeniero de Datos con Experiencia en IoT\\n\\nNombre: David Gómez\\n\\nResumen Profesional: Ingeniero de Datos con experiencia en el procesamiento y análisis de datos provenientes de dispositivos IoT (Internet de las Cosas). Especializado en la implementación de soluciones de IoT para la recopilación, almacenamiento y análisis de datos en tiempo real. Amplios conocimientos en tecnologías de IoT, bases de datos distribuidas y análisis de datos a gran escala.\\n\\nExperiencia Laboral:\\n\\nIngeniero de Datos, IoT Solutions\\nDiseñé e implementé soluciones de IoT para la recopilación y análisis de datos en tiempo real, mejorando la eficiencia operativa en un 30%.\\nDesarrollador Full-Stack, WebTech Co.\\nDesarrollé aplicaciones web para la visualización de datos provenientes de dispositivos IoT, utilizando tecnologías como React.js y Node.js.\\nEducación:\\n\\nIngeniería en Sistemas de Información, Universidad Nacional\\nAptitudes:\\n\\nInternet de las Cosas (IoT)\\nProcesamiento de Datos en Tiempo Real\\nDesarrollo Full-Stack\\n\\n\\nCV 9: Aspirante a Científico de Datos\\n\\nNombre: Andrea Sánchez\\n\\nResumen Profesional: Recién graduada en Ciencia de Datos con una pasión por el análisis de datos y el desarrollo de modelos predictivos. Conocimientos en lenguajes de programación como Python y R, así como en herramientas de análisis de datos como Pandas, NumPy y scikit-learn. Interesada en aprender y aplicar técnicas de machine learning y estadística para resolver problemas del mundo real.\\n\\nEducación:\\n\\nLicenciatura en Ciencia de Datos, Universidad Nacional\\nProyectos Destacados:\\n\\nDesarrollo de un modelo de clasificación utilizando el conjunto de datos Iris para predecir especies de flores utilizando Python y scikit-learn.\\nAnálisis exploratorio de datos de un conjunto de datos de viviendas utilizando Pandas y Matplotlib para identificar patrones y tendencias.\\nAptitudes:\\n\\nAnálisis de Datos\\nPython y R\\nMachine Learning\\n\\n\\nCV 10: Aspirante a Analista de Datos\\n\\nNombre: Alejandro Martínez\\n\\nResumen Profesional: Graduado recientemente en Estadística con un fuerte interés en el análisis de datos y la visualización de datos. Conocimientos en herramientas estadísticas como R y Python, así como en técnicas de visualización de datos utilizando ggplot2 y Matplotlib. En busca de oportunidades para aplicar habilidades analíticas en entornos empresariales y adquirir experiencia práctica en el campo del análisis de datos.\\n\\nEducación:\\n\\nLicenciatura en Estadística, Universidad Politécnica\\nProyectos Destacados:\\n\\nAnálisis exploratorio de datos utilizando R y ggplot2 para visualizar patrones y tendencias en un conjunto de datos de accidentes de tráfico.\\nDesarrollo de un panel interactivo de visualización de datos utilizando Python y Matplotlib para representar datos económicos.\\nAptitudes:\\n\\nAnálisis de Datos\\nVisualización de Datos\\nR y Python'"
      ]
     },
     "execution_count": 8,
     "metadata": {},
     "output_type": "execute_result"
    }
   ],
   "source": [
    "raw_cvs_IADev"
   ]
  },
  {
   "cell_type": "markdown",
   "metadata": {},
   "source": [
    "**Dividimos de forma individual los CV en cada una de las catagorias cargadas**"
   ]
  },
  {
   "cell_type": "code",
   "execution_count": 31,
   "metadata": {},
   "outputs": [],
   "source": [
    "def division_cvs(text):\n",
    "    text_div =text.split('CV ')\n",
    "    text_div=text_div[1:]# Elimina fila vacia\n",
    "    return  text_div"
   ]
  },
  {
   "cell_type": "code",
   "execution_count": 32,
   "metadata": {},
   "outputs": [],
   "source": [
    "div_cv_SoftwareDev = division_cvs(raw_cvs_SoftwareDev)\n",
    "div_cv_NetworkEng= division_cvs(raw_cvs_NetworkEng)\n",
    "div_cv_IADev=division_cvs(raw_cvs_IADev)"
   ]
  },
  {
   "cell_type": "code",
   "execution_count": 37,
   "metadata": {},
   "outputs": [
    {
     "data": {
      "text/plain": [
       "['1: Desarrollador Full-Stack Experimentado\\nNombre: Juan Pérez\\n\\nResumen Profesional: Desarrollador Full-Stack con más de 8 años de experiencia en el diseño, desarrollo y despliegue de aplicaciones web y móviles. Expertise en tecnologías como JavaScript (Node.js, React.js, Angular), HTML5, CSS3 y bases de datos SQL y NoSQL. Amplia experiencia en trabajo en equipo y liderazgo técnico.\\n\\nExperiencia Laboral:\\n\\nSenior Full-Stack Developer, Tech Solutions Inc.\\nLideré el desarrollo de una plataforma de gestión de proyectos utilizando Node.js y React.js, reduciendo los tiempos de entrega en un 30%.\\nDesarrollador Front-End, WebTech Co.\\nContribuí al diseño y desarrollo de una aplicación web de e-commerce utilizando Angular y MongoDB.\\nEducación:\\n\\nIngeniería Informática, Universidad Nacional de Ingeniería (UNI)\\nAptitudes:\\n\\nDesarrollo Full-Stack\\nLiderazgo Técnico\\nResolución de Problemas\\n\\n\\n',\n",
       " '2: Desarrollador Móvil Junior\\nNombre: Ana García\\n\\nResumen Profesional: Desarrolladora Móvil con experiencia en el diseño y desarrollo de aplicaciones nativas para Android e iOS. Conocimientos en Kotlin, Java, Swift y experiencia en el uso de APIs y servicios web.\\n\\nExperiencia Laboral:\\n\\nDesarrolladora Móvil Junior, AppDev Solutions\\nContribuí al desarrollo de aplicaciones móviles utilizando Kotlin y Swift.\\nEducación:\\n\\nIngeniería en Sistemas de Información, Universidad Tecnológica Nacional (UTN)\\nAptitudes:\\n\\nDesarrollo Móvil (Android e iOS)\\nColaboración en Equipo\\nAprendizaje Rápido\\n\\n\\n',\n",
       " '3: Desarrollador Back-End Especializado\\nNombre: María López\\n\\nResumen Profesional: Desarrolladora Back-End con experiencia en el diseño e implementación de APIs y servicios web escalables y seguros. Experta en lenguajes como Python, Java y frameworks como Flask y Spring Boot.\\n\\nExperiencia Laboral:\\n\\nDesarrolladora Back-End, DataTech Solutions\\nDiseñé e implementé APIs RESTful utilizando Python y Flask, mejorando la eficiencia en el intercambio de datos en un 40%.\\nEducación:\\n\\nIngeniería en Informática, Universidad de Buenos Aires (UBA)\\nAptitudes:\\n\\nDesarrollo Back-End\\nSeguridad Informática\\nAnálisis de Rendimiento\\n\\n\\n',\n",
       " '4: Desarrollador Web Front-End Creativo\\nNombre: David Martínez\\n\\nResumen Profesional: Desarrollador Front-End con pasión por el diseño y la experiencia de usuario. Experto en HTML5, CSS3 y JavaScript, con conocimientos en frameworks como React.js y Vue.js. Capacidad demostrada para traducir diseños creativos en interfaces web funcionales y atractivas.\\n\\nExperiencia Laboral:\\n\\nDesarrollador Front-End, CreativeWeb Agency\\nLideré la implementación de interfaces web interactivas utilizando React.js, mejorando la experiencia del usuario y aumentando la retención en un 20%.\\nEducación:\\n\\nLicenciatura en Diseño Web, Universidad Autónoma de Barcelona (UAB)\\nAptitudes:\\n\\nDesarrollo Front-End\\nDiseño de Interfaces de Usuario (UI)\\nCreatividad\\n\\n\\n',\n",
       " '5: Desarrollador de Juegos Independiente\\nNombre: Pedro Ramírez\\n\\nResumen Profesional: Desarrollador independiente con experiencia en el diseño y desarrollo de videojuegos multiplataforma. Conocimientos en Unity3D, C#, y experiencia en el ciclo completo de desarrollo de juegos, desde la conceptualización hasta el lanzamiento.\\n\\nExperiencia Laboral:\\n\\nDesarrollador de Juegos Independiente\\nLanzamiento exitoso de dos juegos móviles en iOS y Android, con más de 100,000 descargas combinadas.\\nEducación:\\n\\nIngeniería de Videojuegos, Universidad Politécnica de Madrid (UPM)\\nAptitudes:\\n\\nDesarrollo de Videojuegos\\nAutogestión\\nCreatividad y Originalidad\\n\\n\\n',\n",
       " '6: Desarrollador Front-End Senior\\nNombre: Laura Fernández\\n\\nResumen Profesional: Desarrolladora Front-End con más de 6 años de experiencia en la creación de interfaces web interactivas y amigables. Experta en HTML, CSS, JavaScript y frameworks como React.js y Angular. Capacidad demostrada para trabajar en equipo y gestionar proyectos de principio a fin.\\n\\nExperiencia Laboral:\\n\\nDesarrolladora Front-End Senior, WebDev Solutions\\nDirigí el equipo de desarrollo en la implementación de una plataforma de gestión de contenidos utilizando React.js, mejorando la velocidad de carga en un 50%.\\nEducación:\\n\\nIngeniería Informática, Universidad Politécnica de Madrid (UPM)\\nAptitudes:\\n\\nDesarrollo Front-End\\nGestión de Proyectos\\nColaboración en Equipo\\n\\n\\n',\n",
       " '7: Desarrollador Back-End Junior\\nNombre: Carlos Sánchez\\n\\nResumen Profesional: Desarrollador Back-End con experiencia en el diseño y desarrollo de aplicaciones escalables y seguras. Conocimientos en Python, Django y bases de datos SQL. Capacidad para aprender rápidamente nuevas tecnologías y resolver problemas de manera eficiente.\\n\\nExperiencia Laboral:\\n\\nDesarrollador Back-End Junior, TechStartUp Co.\\nContribuí al desarrollo de un sistema de gestión de inventario utilizando Python y Django, reduciendo los errores de almacenamiento en un 20%.\\nEducación:\\n\\nIngeniería de Sistemas, Universidad Nacional de Colombia (UNAL)\\nAptitudes:\\n\\nDesarrollo Back-End\\nResolución de Problemas\\nAprendizaje Rápido\\n\\n\\n',\n",
       " '8: Desarrollador Web Junior\\nNombre: Marta López\\n\\nResumen Profesional: Desarrolladora web junior apasionada por aprender y crecer en el campo del desarrollo web. Recién graduada con un título en Desarrollo de Aplicaciones Web. Conocimientos básicos en HTML, CSS y JavaScript. Busco oportunidades para adquirir experiencia práctica y contribuir al desarrollo de proyectos web.\\n\\nEducación:\\n\\nGrado en Desarrollo de Aplicaciones Web, Universidad Politécnica de Valencia (UPV)\\nProyectos Destacados:\\n\\nDesarrollo de una página web estática utilizando HTML, CSS y JavaScript para la presentación de un negocio local.\\nAptitudes:\\n\\nAprendizaje Rápido\\nTrabajo en Equipo\\nResolución de Problemas\\n\\n\\n',\n",
       " '9: Desarrollador Web Senior\\nNombre: Andrés Martínez\\n\\nResumen Profesional: Desarrollador web senior con más de 10 años de experiencia en el diseño y desarrollo de sitios web dinámicos y aplicaciones web. Expertise en HTML5, CSS3, JavaScript y frameworks como React.js y Vue.js. Demostrada capacidad para liderar equipos y gestionar proyectos de principio a fin.\\n\\nExperiencia Laboral:\\n\\nDesarrollador Web Senior, WebTech Solutions\\nLideré el equipo de desarrollo en la implementación de una plataforma de comercio electrónico utilizando React.js, incrementando las ventas en un 40%.\\nEducación:\\n\\nIngeniería Informática, Universidad Autónoma de Madrid (UAM)\\nAptitudes:\\n\\nDesarrollo Web Full-Stack\\nGestión de Proyectos\\nLiderazgo Técnico\\n\\n\\n',\n",
       " '10: Desarrollador Web Full-Stack con Experiencia en E-Commerce\\nNombre: María González\\n\\nResumen Profesional: Desarrolladora web full-stack con experiencia en el diseño, desarrollo y mantenimiento de sitios web de comercio electrónico. Conocimientos en HTML, CSS, JavaScript, PHP y experiencia en el uso de CMS como WordPress y plataformas de e-commerce como WooCommerce. Enfoque en la creación de experiencias de usuario intuitivas y seguras.\\n\\nExperiencia Laboral:\\n\\nDesarrolladora Web Full-Stack, E-Commerce Solutions Ltd.\\nContribuí al desarrollo y mantenimiento de múltiples sitios web de comercio electrónico utilizando WordPress y WooCommerce, mejorando la experiencia del usuario y aumentando las conversiones.\\nEducación:\\n\\nLicenciatura en Ingeniería de Sistemas, Universidad Nacional de Educación a Distancia (UNED)\\nAptitudes:\\n\\nDesarrollo Web Full-Stack\\nE-Commerce\\nExperiencia de Usuario (UX)']"
      ]
     },
     "execution_count": 37,
     "metadata": {},
     "output_type": "execute_result"
    }
   ],
   "source": [
    "div_cv_SoftwareDev"
   ]
  },
  {
   "cell_type": "code",
   "execution_count": 38,
   "metadata": {},
   "outputs": [
    {
     "data": {
      "text/plain": [
       "['1: Enfoque en la experiencia en Cisco\\n\\nNombre: Juan Pérez\\n\\nResumen: Ingeniero de Redes con más de 5 años de experiencia en diseño, implementación y mantenimiento de redes Cisco. Especializado en enrutamiento y conmutación, seguridad de red y administración de dispositivos Cisco.\\n\\nExperiencia Laboral:\\n\\nIngeniero de Redes en ABC Solutions (2018 - Presente)\\nLideró el diseño e implementación de una red empresarial basada en Cisco para una empresa de manufactura.\\nRealizó la configuración de dispositivos Cisco ISR, switches Catalyst y firewalls ASA.\\nTécnico de Redes en XYZ Networking (2015 - 2018)\\nProporcionó soporte técnico y mantenimiento preventivo a la infraestructura de red de clientes, incluida la resolución de problemas y actualizaciones de firmware.\\nEducación:\\n\\nLicenciatura en Ingeniería de Telecomunicaciones, Universidad Nacional (2014)\\nCertificaciones:\\n\\nCisco Certified Network Professional (CCNP)\\nCisco Certified Network Associate (CCNA)\\nCisco Certified Design Associate (CCDA)\\nHabilidades Técnicas:\\n\\nRouting y Switching: OSPF, EIGRP, VLANs, STP\\nSeguridad de Red: Firewalls Cisco ASA, VPN\\nHerramientas: Cisco Packet Tracer, Wireshark\\n\\n\\n',\n",
       " '2: Enfoque en experiencia en redes inalámbricas\\n\\nNombre: María García\\n\\nResumen: Ingeniera de Redes con experiencia en diseño, implementación y optimización de redes inalámbricas. Especializada en tecnologías Wi-Fi y soluciones de movilidad empresarial.\\n\\nExperiencia Laboral:\\n\\nIngeniera de Redes en WirelessTech Solutions (2017 - Presente)\\nLideró proyectos de implementación de redes Wi-Fi empresariales para clientes en diversos sectores, incluyendo educación y hospitalidad.\\nRealizó encuestas de sitio, diseño de cobertura y configuración de controladores inalámbricos Cisco y Aruba.\\nIngeniera de Soporte en TechSupport Inc. (2015 - 2017)\\nBrindó soporte técnico de nivel 3 para problemas de conectividad Wi-Fi, incluida la resolución de problemas de interferencia y congestión de canales.\\nEducación:\\n\\nIngeniería en Telecomunicaciones, Universidad Politécnica (2015)\\nCertificaciones:\\n\\nCertified Wireless Network Professional (CWNP)\\nCisco Certified Network Associate (CCNA)\\nHabilidades Técnicas:\\n\\nTecnologías Wi-Fi: 802.11ac, WPA2, roaming rápido\\nControladores WLAN: Cisco Wireless LAN Controller, Aruba Mobility Controller\\nHerramientas: Ekahau Site Survey, AirMagnet WiFi Analyzer\\n\\n\\n',\n",
       " '3: Recién graduado con experiencia de proyecto\\n\\nNombre: Ana López\\n\\nResumen: Recién graduada en Ingeniería de Redes con habilidades en diseño, configuración y administración de redes. Apasionada por la resolución de problemas y el aprendizaje continuo. Experiencia práctica a través de proyectos universitarios y pasantías.\\n\\nExperiencia Laboral:\\n\\nPasante en Redes en XYZ Tech (Verano 2023)\\nColaboró en la configuración y mantenimiento de dispositivos de red, incluidos switches y routers.\\nParticipó en la resolución de problemas de conectividad y seguridad de red bajo la supervisión del equipo de ingeniería.\\nEducación:\\n\\nLicenciatura en Ingeniería de Redes, Universidad Nacional (2023)\\nProyectos Universitarios:\\n\\nDiseño e implementación de una red empresarial simulada utilizando enrutadores Cisco y switches Catalyst.\\nConfiguración de una red inalámbrica segura utilizando tecnologías WPA2 y autenticación 802.1X.\\nHabilidades Técnicas:\\n\\nConocimiento básico en enrutamiento y conmutación: VLANs, enrutamiento estático.\\nFamiliaridad con tecnologías inalámbricas: estándares 802.11, seguridad Wi-Fi.\\nHerramientas: Cisco Packet Tracer, GNS3, Wireshark.\\n\\n\\n',\n",
       " '4: Graduado con certificaciones y proyectos personales\\n\\nNombre: Carlos Martínez\\n\\nResumen: Graduado en Ingeniería de Redes con pasión por la tecnología y el diseño de redes. Certificaciones relevantes y experiencia práctica a través de proyectos personales. Buscando oportunidades para aplicar y ampliar mis conocimientos en un entorno profesional.\\n\\nEducación:\\n\\nLicenciatura en Ingeniería de Redes, Instituto Tecnológico (2022)\\nCertificaciones:\\n\\nCisco Certified Network Associate (CCNA)\\nCompTIA Network+\\nProyectos Personales:\\n\\nConfiguración de una red doméstica utilizando routers y switches Cisco.\\nImplementación de un servidor DHCP y DNS en un entorno de laboratorio.\\nHabilidades Técnicas:\\n\\nConocimiento en enrutamiento y conmutación básicos.\\nFamiliaridad con conceptos de seguridad de red.\\nHerramientas: Cisco Packet Tracer, VirtualBox, Linux.']"
      ]
     },
     "execution_count": 38,
     "metadata": {},
     "output_type": "execute_result"
    }
   ],
   "source": [
    "div_cv_NetworkEng"
   ]
  },
  {
   "cell_type": "code",
   "execution_count": 42,
   "metadata": {},
   "outputs": [
    {
     "data": {
      "text/plain": [
       "['1: Ingeniero de Datos Experimentado\\n\\nNombre: Ana García\\n\\nResumen Profesional: Ingeniera de Datos con más de 6 años de experiencia en la gestión, procesamiento y análisis de grandes volúmenes de datos. Especializada en el diseño e implementación de pipelines de datos utilizando herramientas como Apache Spark, Hadoop y Kafka. Amplios conocimientos en lenguajes de programación como Python, R y Scala, así como en bases de datos SQL y NoSQL. Capacidad para trabajar en equipo y comunicar resultados técnicos de manera efectiva.\\n\\nExperiencia Laboral:\\n\\nIngeniero de Datos Senior, DataTech Solutions\\nLideré la implementación de pipelines de datos en tiempo real utilizando Apache Kafka, mejorando la eficiencia del procesamiento de datos en un 40%.\\nAnalista de Datos, Analytic Corp.\\nDesarrollé modelos de machine learning para la predicción de demanda utilizando Python y TensorFlow, lo que resultó en una mejora del 25% en la precisión de las predicciones.\\nEducación:\\n\\nIngeniería en Sistemas de Información, Universidad Politécnica\\nAptitudes:\\n\\nGestión de Datos\\nProcesamiento de Datos a Gran Escala\\nMachine Learning\\nComunicación Técnica\\n\\n\\n',\n",
       " '2: Ingeniero de Datos y Científico de Datos\\n\\nNombre: Javier Martínez\\n\\nResumen Profesional: Ingeniero de Datos y Científico de Datos con más de 7 años de experiencia en el diseño, desarrollo y despliegue de soluciones analíticas. Especializado en el procesamiento y análisis de grandes volúmenes de datos utilizando tecnologías como Python, Apache Spark y Hadoop. Experiencia en la implementación de modelos de machine learning y deep learning para la extracción de insights y la toma de decisiones basada en datos.\\n\\nExperiencia Laboral:\\n\\nIngeniero de Datos, DataTech Solutions\\nLideré el diseño e implementación de pipelines de datos utilizando Apache Spark y Hadoop, mejorando la eficiencia del procesamiento de datos en un 50%.\\nCientífico de Datos, Analytics Corp.\\nDesarrollé modelos predictivos utilizando técnicas de machine learning y deep learning para predecir la demanda de productos, lo que resultó en una reducción del 20% en los costos de inventario.\\nEducación:\\n\\nMaestría en Ciencia de Datos, Universidad de Ciencias Aplicadas\\nAptitudes:\\n\\nProcesamiento de Grandes Volúmenes de Datos\\nModelado Predictivo\\nMachine Learning y Deep Learning\\n\\n\\n',\n",
       " '3: Ingeniera de Datos con Experiencia en Cloud Computing\\n\\nNombre: María Fernández\\n\\nResumen Profesional: Ingeniera de Datos con experiencia en la implementación de soluciones de datos en entornos de nube. Amplios conocimientos en tecnologías como AWS, Google Cloud Platform y Azure, así como en herramientas para el almacenamiento y procesamiento de datos a escala. Experiencia en el diseño e implementación de pipelines de datos utilizando Apache Airflow y AWS Glue.\\n\\nExperiencia Laboral:\\n\\nIngeniera de Datos, Cloud Data Solutions\\nDiseñé e implementé pipelines de datos en la nube utilizando servicios como AWS Glue y Amazon Redshift, mejorando la escalabilidad y la eficiencia del procesamiento de datos.\\nAnalista de Datos, CloudTech Co.\\nMigré la infraestructura de datos a la nube utilizando Google BigQuery y Google Cloud Storage, reduciendo los costos operativos en un 30%.\\nEducación:\\n\\nIngeniería en Sistemas de Información, Universidad Nacional\\nAptitudes:\\n\\nCloud Computing\\nAWS, Google Cloud Platform, Azure\\nApache Airflow, AWS Glue\\n\\n\\n',\n",
       " '4: Científico de Datos Especializado en NLP\\n\\nNombre: Laura Rodríguez\\n\\nResumen Profesional: Científico de Datos con especialización en Procesamiento de Lenguaje Natural (NLP). Amplia experiencia en el desarrollo de modelos de NLP para la extracción de información, análisis de sentimientos y clasificación de textos. Competente en el uso de herramientas y bibliotecas como NLTK, spaCy y TensorFlow para el procesamiento y análisis de texto.\\n\\nExperiencia Laboral:\\n\\nCientífico de Datos, NLP Analytics\\nDesarrollé modelos de NLP para la extracción de información de textos médicos, mejorando la precisión en un 25%.\\nAnalista de Datos, TextTech Solutions\\nImplementé un sistema de análisis de sentimientos en redes sociales utilizando técnicas de NLP, lo que permitió a la empresa tomar decisiones estratégicas basadas en la opinión de los clientes.\\nEducación:\\n\\nMaestría en Ciencia de Datos, Universidad de Ciencias Aplicadas\\nAptitudes:\\n\\nProcesamiento de Lenguaje Natural (NLP)\\nAnálisis de Sentimientos\\nModelado de Texto\\n\\n\\n',\n",
       " '5: Analista de Datos con Experiencia en Visualización\\n\\nNombre: Carlos Gómez\\n\\nResumen Profesional: Analista de Datos con experiencia en la creación de visualizaciones interactivas y paneles de control para comunicar insights derivados del análisis de datos. Competente en herramientas como Tableau, Power BI y D3.js para la creación de visualizaciones efectivas. Habilidades en el análisis exploratorio de datos y la identificación de tendencias utilizando técnicas estadísticas y herramientas de visualización.\\n\\nExperiencia Laboral:\\n\\nAnalista de Datos, Visual Analytics Co.\\nDesarrollé paneles de control interactivos utilizando Tableau para proporcionar insights en tiempo real sobre el rendimiento de las operaciones de la empresa.\\nCientífico de Datos Junior, Data Insights Ltd.\\nRealicé análisis exploratorio de datos utilizando Python y R para identificar patrones y tendencias en conjuntos de datos complejos.\\nEducación:\\n\\nLicenciatura en Estadística, Universidad Nacional\\nAptitudes:\\n\\nVisualización de Datos\\nTableau, Power BI, D3.js\\nAnálisis Exploratorio de Datos\\n\\n\\n',\n",
       " '6: Ingeniero de Datos con Experiencia en Big Data\\n\\nNombre: Marta Martínez\\n\\nResumen Profesional: Ingeniera de Datos con experiencia en el procesamiento y análisis de grandes volúmenes de datos utilizando tecnologías de Big Data como Apache Spark y Hadoop. Experiencia en el diseño e implementación de pipelines de datos escalables y eficientes para el procesamiento de datos en tiempo real y por lotes.\\n\\nExperiencia Laboral:\\n\\nIngeniera de Datos, Big Data Solutions\\nDiseñé e implementé pipelines de datos utilizando Apache Spark y Hadoop para el procesamiento de datos en tiempo real y por lotes, mejorando la eficiencia en un 40%.\\nAnalista de Datos, DataTech Co.\\nDesarrollé algoritmos de machine learning para la detección de fraudes en transacciones financieras utilizando datos de gran volumen, lo que resultó en una reducción del 30% en los casos de fraude.\\nEducación:\\n\\nIngeniería en Informática, Universidad Politécnica\\nAptitudes:\\n\\nProcesamiento de Big Data\\nApache Spark, Hadoop\\nMachine Learning\\n\\n\\n',\n",
       " '7: Analista de Datos con Experiencia en Minería de Datos\\n\\nNombre: Sofía Martínez\\n\\nResumen Profesional: Analista de Datos con experiencia en la minería de datos y el descubrimiento de patrones en conjuntos de datos complejos. Amplios conocimientos en técnicas de minería de datos y aprendizaje automático, así como en herramientas como Python, R y Weka. Experiencia en la identificación de patrones, tendencias y correlaciones en datos para la toma de decisiones empresariales.\\n\\nExperiencia Laboral:\\n\\nAnalista de Datos, Data Mining Co.\\nDesarrollé modelos predictivos utilizando técnicas de minería de datos y aprendizaje automático para predecir el comportamiento del cliente, lo que resultó en un aumento del 20% en las ventas.\\nCientífico de Datos Junior, Analytics Corp.\\nRealicé análisis exploratorio de datos utilizando Python y R para identificar patrones y tendencias en conjuntos de datos complejos.\\nEducación:\\n\\nMaestría en Minería de Datos, Universidad de Ciencias Aplicadas\\nAptitudes:\\n\\nMinería de Datos\\nAprendizaje Automático\\nAnálisis Exploratorio de Datos\\n\\n\\n',\n",
       " '8: Ingeniero de Datos con Experiencia en IoT\\n\\nNombre: David Gómez\\n\\nResumen Profesional: Ingeniero de Datos con experiencia en el procesamiento y análisis de datos provenientes de dispositivos IoT (Internet de las Cosas). Especializado en la implementación de soluciones de IoT para la recopilación, almacenamiento y análisis de datos en tiempo real. Amplios conocimientos en tecnologías de IoT, bases de datos distribuidas y análisis de datos a gran escala.\\n\\nExperiencia Laboral:\\n\\nIngeniero de Datos, IoT Solutions\\nDiseñé e implementé soluciones de IoT para la recopilación y análisis de datos en tiempo real, mejorando la eficiencia operativa en un 30%.\\nDesarrollador Full-Stack, WebTech Co.\\nDesarrollé aplicaciones web para la visualización de datos provenientes de dispositivos IoT, utilizando tecnologías como React.js y Node.js.\\nEducación:\\n\\nIngeniería en Sistemas de Información, Universidad Nacional\\nAptitudes:\\n\\nInternet de las Cosas (IoT)\\nProcesamiento de Datos en Tiempo Real\\nDesarrollo Full-Stack\\n\\n\\n',\n",
       " '9: Aspirante a Científico de Datos\\n\\nNombre: Andrea Sánchez\\n\\nResumen Profesional: Recién graduada en Ciencia de Datos con una pasión por el análisis de datos y el desarrollo de modelos predictivos. Conocimientos en lenguajes de programación como Python y R, así como en herramientas de análisis de datos como Pandas, NumPy y scikit-learn. Interesada en aprender y aplicar técnicas de machine learning y estadística para resolver problemas del mundo real.\\n\\nEducación:\\n\\nLicenciatura en Ciencia de Datos, Universidad Nacional\\nProyectos Destacados:\\n\\nDesarrollo de un modelo de clasificación utilizando el conjunto de datos Iris para predecir especies de flores utilizando Python y scikit-learn.\\nAnálisis exploratorio de datos de un conjunto de datos de viviendas utilizando Pandas y Matplotlib para identificar patrones y tendencias.\\nAptitudes:\\n\\nAnálisis de Datos\\nPython y R\\nMachine Learning\\n\\n\\n',\n",
       " '10: Aspirante a Analista de Datos\\n\\nNombre: Alejandro Martínez\\n\\nResumen Profesional: Graduado recientemente en Estadística con un fuerte interés en el análisis de datos y la visualización de datos. Conocimientos en herramientas estadísticas como R y Python, así como en técnicas de visualización de datos utilizando ggplot2 y Matplotlib. En busca de oportunidades para aplicar habilidades analíticas en entornos empresariales y adquirir experiencia práctica en el campo del análisis de datos.\\n\\nEducación:\\n\\nLicenciatura en Estadística, Universidad Politécnica\\nProyectos Destacados:\\n\\nAnálisis exploratorio de datos utilizando R y ggplot2 para visualizar patrones y tendencias en un conjunto de datos de accidentes de tráfico.\\nDesarrollo de un panel interactivo de visualización de datos utilizando Python y Matplotlib para representar datos económicos.\\nAptitudes:\\n\\nAnálisis de Datos\\nVisualización de Datos\\nR y Python']"
      ]
     },
     "execution_count": 42,
     "metadata": {},
     "output_type": "execute_result"
    }
   ],
   "source": [
    "div_cv_IADev"
   ]
  },
  {
   "cell_type": "markdown",
   "metadata": {},
   "source": [
    "**Fusionar los tres tipos de CV**"
   ]
  },
  {
   "cell_type": "code",
   "execution_count": 55,
   "metadata": {},
   "outputs": [],
   "source": [
    "def merge_cvs(first_text, second_text, third_text):\n",
    "    merged_texts = []\n",
    "    \n",
    "    # Agregar a lista nueva los datos de los trees tipos de cv\n",
    "    merged_texts.extend(first_text)\n",
    "    merged_texts.extend(second_text)\n",
    "    merged_texts.extend(third_text)\n",
    "\n",
    "    return merged_texts    "
   ]
  },
  {
   "cell_type": "code",
   "execution_count": 98,
   "metadata": {},
   "outputs": [
    {
     "data": {
      "text/plain": [
       "['1: Desarrollador Full-Stack Experimentado\\nNombre: Juan Pérez\\n\\nResumen Profesional: Desarrollador Full-Stack con más de 8 años de experiencia en el diseño, desarrollo y despliegue de aplicaciones web y móviles. Expertise en tecnologías como JavaScript (Node.js, React.js, Angular), HTML5, CSS3 y bases de datos SQL y NoSQL. Amplia experiencia en trabajo en equipo y liderazgo técnico.\\n\\nExperiencia Laboral:\\n\\nSenior Full-Stack Developer, Tech Solutions Inc.\\nLideré el desarrollo de una plataforma de gestión de proyectos utilizando Node.js y React.js, reduciendo los tiempos de entrega en un 30%.\\nDesarrollador Front-End, WebTech Co.\\nContribuí al diseño y desarrollo de una aplicación web de e-commerce utilizando Angular y MongoDB.\\nEducación:\\n\\nIngeniería Informática, Universidad Nacional de Ingeniería (UNI)\\nAptitudes:\\n\\nDesarrollo Full-Stack\\nLiderazgo Técnico\\nResolución de Problemas\\n\\n\\n',\n",
       " '2: Desarrollador Móvil Junior\\nNombre: Ana García\\n\\nResumen Profesional: Desarrolladora Móvil con experiencia en el diseño y desarrollo de aplicaciones nativas para Android e iOS. Conocimientos en Kotlin, Java, Swift y experiencia en el uso de APIs y servicios web.\\n\\nExperiencia Laboral:\\n\\nDesarrolladora Móvil Junior, AppDev Solutions\\nContribuí al desarrollo de aplicaciones móviles utilizando Kotlin y Swift.\\nEducación:\\n\\nIngeniería en Sistemas de Información, Universidad Tecnológica Nacional (UTN)\\nAptitudes:\\n\\nDesarrollo Móvil (Android e iOS)\\nColaboración en Equipo\\nAprendizaje Rápido\\n\\n\\n',\n",
       " '3: Desarrollador Back-End Especializado\\nNombre: María López\\n\\nResumen Profesional: Desarrolladora Back-End con experiencia en el diseño e implementación de APIs y servicios web escalables y seguros. Experta en lenguajes como Python, Java y frameworks como Flask y Spring Boot.\\n\\nExperiencia Laboral:\\n\\nDesarrolladora Back-End, DataTech Solutions\\nDiseñé e implementé APIs RESTful utilizando Python y Flask, mejorando la eficiencia en el intercambio de datos en un 40%.\\nEducación:\\n\\nIngeniería en Informática, Universidad de Buenos Aires (UBA)\\nAptitudes:\\n\\nDesarrollo Back-End\\nSeguridad Informática\\nAnálisis de Rendimiento\\n\\n\\n',\n",
       " '4: Desarrollador Web Front-End Creativo\\nNombre: David Martínez\\n\\nResumen Profesional: Desarrollador Front-End con pasión por el diseño y la experiencia de usuario. Experto en HTML5, CSS3 y JavaScript, con conocimientos en frameworks como React.js y Vue.js. Capacidad demostrada para traducir diseños creativos en interfaces web funcionales y atractivas.\\n\\nExperiencia Laboral:\\n\\nDesarrollador Front-End, CreativeWeb Agency\\nLideré la implementación de interfaces web interactivas utilizando React.js, mejorando la experiencia del usuario y aumentando la retención en un 20%.\\nEducación:\\n\\nLicenciatura en Diseño Web, Universidad Autónoma de Barcelona (UAB)\\nAptitudes:\\n\\nDesarrollo Front-End\\nDiseño de Interfaces de Usuario (UI)\\nCreatividad\\n\\n\\n',\n",
       " '5: Desarrollador de Juegos Independiente\\nNombre: Pedro Ramírez\\n\\nResumen Profesional: Desarrollador independiente con experiencia en el diseño y desarrollo de videojuegos multiplataforma. Conocimientos en Unity3D, C#, y experiencia en el ciclo completo de desarrollo de juegos, desde la conceptualización hasta el lanzamiento.\\n\\nExperiencia Laboral:\\n\\nDesarrollador de Juegos Independiente\\nLanzamiento exitoso de dos juegos móviles en iOS y Android, con más de 100,000 descargas combinadas.\\nEducación:\\n\\nIngeniería de Videojuegos, Universidad Politécnica de Madrid (UPM)\\nAptitudes:\\n\\nDesarrollo de Videojuegos\\nAutogestión\\nCreatividad y Originalidad\\n\\n\\n',\n",
       " '6: Desarrollador Front-End Senior\\nNombre: Laura Fernández\\n\\nResumen Profesional: Desarrolladora Front-End con más de 6 años de experiencia en la creación de interfaces web interactivas y amigables. Experta en HTML, CSS, JavaScript y frameworks como React.js y Angular. Capacidad demostrada para trabajar en equipo y gestionar proyectos de principio a fin.\\n\\nExperiencia Laboral:\\n\\nDesarrolladora Front-End Senior, WebDev Solutions\\nDirigí el equipo de desarrollo en la implementación de una plataforma de gestión de contenidos utilizando React.js, mejorando la velocidad de carga en un 50%.\\nEducación:\\n\\nIngeniería Informática, Universidad Politécnica de Madrid (UPM)\\nAptitudes:\\n\\nDesarrollo Front-End\\nGestión de Proyectos\\nColaboración en Equipo\\n\\n\\n',\n",
       " '7: Desarrollador Back-End Junior\\nNombre: Carlos Sánchez\\n\\nResumen Profesional: Desarrollador Back-End con experiencia en el diseño y desarrollo de aplicaciones escalables y seguras. Conocimientos en Python, Django y bases de datos SQL. Capacidad para aprender rápidamente nuevas tecnologías y resolver problemas de manera eficiente.\\n\\nExperiencia Laboral:\\n\\nDesarrollador Back-End Junior, TechStartUp Co.\\nContribuí al desarrollo de un sistema de gestión de inventario utilizando Python y Django, reduciendo los errores de almacenamiento en un 20%.\\nEducación:\\n\\nIngeniería de Sistemas, Universidad Nacional de Colombia (UNAL)\\nAptitudes:\\n\\nDesarrollo Back-End\\nResolución de Problemas\\nAprendizaje Rápido\\n\\n\\n',\n",
       " '8: Desarrollador Web Junior\\nNombre: Marta López\\n\\nResumen Profesional: Desarrolladora web junior apasionada por aprender y crecer en el campo del desarrollo web. Recién graduada con un título en Desarrollo de Aplicaciones Web. Conocimientos básicos en HTML, CSS y JavaScript. Busco oportunidades para adquirir experiencia práctica y contribuir al desarrollo de proyectos web.\\n\\nEducación:\\n\\nGrado en Desarrollo de Aplicaciones Web, Universidad Politécnica de Valencia (UPV)\\nProyectos Destacados:\\n\\nDesarrollo de una página web estática utilizando HTML, CSS y JavaScript para la presentación de un negocio local.\\nAptitudes:\\n\\nAprendizaje Rápido\\nTrabajo en Equipo\\nResolución de Problemas\\n\\n\\n',\n",
       " '9: Desarrollador Web Senior\\nNombre: Andrés Martínez\\n\\nResumen Profesional: Desarrollador web senior con más de 10 años de experiencia en el diseño y desarrollo de sitios web dinámicos y aplicaciones web. Expertise en HTML5, CSS3, JavaScript y frameworks como React.js y Vue.js. Demostrada capacidad para liderar equipos y gestionar proyectos de principio a fin.\\n\\nExperiencia Laboral:\\n\\nDesarrollador Web Senior, WebTech Solutions\\nLideré el equipo de desarrollo en la implementación de una plataforma de comercio electrónico utilizando React.js, incrementando las ventas en un 40%.\\nEducación:\\n\\nIngeniería Informática, Universidad Autónoma de Madrid (UAM)\\nAptitudes:\\n\\nDesarrollo Web Full-Stack\\nGestión de Proyectos\\nLiderazgo Técnico\\n\\n\\n',\n",
       " '10: Desarrollador Web Full-Stack con Experiencia en E-Commerce\\nNombre: María González\\n\\nResumen Profesional: Desarrolladora web full-stack con experiencia en el diseño, desarrollo y mantenimiento de sitios web de comercio electrónico. Conocimientos en HTML, CSS, JavaScript, PHP y experiencia en el uso de CMS como WordPress y plataformas de e-commerce como WooCommerce. Enfoque en la creación de experiencias de usuario intuitivas y seguras.\\n\\nExperiencia Laboral:\\n\\nDesarrolladora Web Full-Stack, E-Commerce Solutions Ltd.\\nContribuí al desarrollo y mantenimiento de múltiples sitios web de comercio electrónico utilizando WordPress y WooCommerce, mejorando la experiencia del usuario y aumentando las conversiones.\\nEducación:\\n\\nLicenciatura en Ingeniería de Sistemas, Universidad Nacional de Educación a Distancia (UNED)\\nAptitudes:\\n\\nDesarrollo Web Full-Stack\\nE-Commerce\\nExperiencia de Usuario (UX)',\n",
       " '1: Enfoque en la experiencia en Cisco\\n\\nNombre: Juan Pérez\\n\\nResumen: Ingeniero de Redes con más de 5 años de experiencia en diseño, implementación y mantenimiento de redes Cisco. Especializado en enrutamiento y conmutación, seguridad de red y administración de dispositivos Cisco.\\n\\nExperiencia Laboral:\\n\\nIngeniero de Redes en ABC Solutions (2018 - Presente)\\nLideró el diseño e implementación de una red empresarial basada en Cisco para una empresa de manufactura.\\nRealizó la configuración de dispositivos Cisco ISR, switches Catalyst y firewalls ASA.\\nTécnico de Redes en XYZ Networking (2015 - 2018)\\nProporcionó soporte técnico y mantenimiento preventivo a la infraestructura de red de clientes, incluida la resolución de problemas y actualizaciones de firmware.\\nEducación:\\n\\nLicenciatura en Ingeniería de Telecomunicaciones, Universidad Nacional (2014)\\nCertificaciones:\\n\\nCisco Certified Network Professional (CCNP)\\nCisco Certified Network Associate (CCNA)\\nCisco Certified Design Associate (CCDA)\\nHabilidades Técnicas:\\n\\nRouting y Switching: OSPF, EIGRP, VLANs, STP\\nSeguridad de Red: Firewalls Cisco ASA, VPN\\nHerramientas: Cisco Packet Tracer, Wireshark\\n\\n\\n',\n",
       " '2: Enfoque en experiencia en redes inalámbricas\\n\\nNombre: María García\\n\\nResumen: Ingeniera de Redes con experiencia en diseño, implementación y optimización de redes inalámbricas. Especializada en tecnologías Wi-Fi y soluciones de movilidad empresarial.\\n\\nExperiencia Laboral:\\n\\nIngeniera de Redes en WirelessTech Solutions (2017 - Presente)\\nLideró proyectos de implementación de redes Wi-Fi empresariales para clientes en diversos sectores, incluyendo educación y hospitalidad.\\nRealizó encuestas de sitio, diseño de cobertura y configuración de controladores inalámbricos Cisco y Aruba.\\nIngeniera de Soporte en TechSupport Inc. (2015 - 2017)\\nBrindó soporte técnico de nivel 3 para problemas de conectividad Wi-Fi, incluida la resolución de problemas de interferencia y congestión de canales.\\nEducación:\\n\\nIngeniería en Telecomunicaciones, Universidad Politécnica (2015)\\nCertificaciones:\\n\\nCertified Wireless Network Professional (CWNP)\\nCisco Certified Network Associate (CCNA)\\nHabilidades Técnicas:\\n\\nTecnologías Wi-Fi: 802.11ac, WPA2, roaming rápido\\nControladores WLAN: Cisco Wireless LAN Controller, Aruba Mobility Controller\\nHerramientas: Ekahau Site Survey, AirMagnet WiFi Analyzer\\n\\n\\n',\n",
       " '3: Recién graduado con experiencia de proyecto\\n\\nNombre: Ana López\\n\\nResumen: Recién graduada en Ingeniería de Redes con habilidades en diseño, configuración y administración de redes. Apasionada por la resolución de problemas y el aprendizaje continuo. Experiencia práctica a través de proyectos universitarios y pasantías.\\n\\nExperiencia Laboral:\\n\\nPasante en Redes en XYZ Tech (Verano 2023)\\nColaboró en la configuración y mantenimiento de dispositivos de red, incluidos switches y routers.\\nParticipó en la resolución de problemas de conectividad y seguridad de red bajo la supervisión del equipo de ingeniería.\\nEducación:\\n\\nLicenciatura en Ingeniería de Redes, Universidad Nacional (2023)\\nProyectos Universitarios:\\n\\nDiseño e implementación de una red empresarial simulada utilizando enrutadores Cisco y switches Catalyst.\\nConfiguración de una red inalámbrica segura utilizando tecnologías WPA2 y autenticación 802.1X.\\nHabilidades Técnicas:\\n\\nConocimiento básico en enrutamiento y conmutación: VLANs, enrutamiento estático.\\nFamiliaridad con tecnologías inalámbricas: estándares 802.11, seguridad Wi-Fi.\\nHerramientas: Cisco Packet Tracer, GNS3, Wireshark.\\n\\n\\n',\n",
       " '4: Graduado con certificaciones y proyectos personales\\n\\nNombre: Carlos Martínez\\n\\nResumen: Graduado en Ingeniería de Redes con pasión por la tecnología y el diseño de redes. Certificaciones relevantes y experiencia práctica a través de proyectos personales. Buscando oportunidades para aplicar y ampliar mis conocimientos en un entorno profesional.\\n\\nEducación:\\n\\nLicenciatura en Ingeniería de Redes, Instituto Tecnológico (2022)\\nCertificaciones:\\n\\nCisco Certified Network Associate (CCNA)\\nCompTIA Network+\\nProyectos Personales:\\n\\nConfiguración de una red doméstica utilizando routers y switches Cisco.\\nImplementación de un servidor DHCP y DNS en un entorno de laboratorio.\\nHabilidades Técnicas:\\n\\nConocimiento en enrutamiento y conmutación básicos.\\nFamiliaridad con conceptos de seguridad de red.\\nHerramientas: Cisco Packet Tracer, VirtualBox, Linux.',\n",
       " '1: Ingeniero de Datos Experimentado\\n\\nNombre: Ana García\\n\\nResumen Profesional: Ingeniera de Datos con más de 6 años de experiencia en la gestión, procesamiento y análisis de grandes volúmenes de datos. Especializada en el diseño e implementación de pipelines de datos utilizando herramientas como Apache Spark, Hadoop y Kafka. Amplios conocimientos en lenguajes de programación como Python, R y Scala, así como en bases de datos SQL y NoSQL. Capacidad para trabajar en equipo y comunicar resultados técnicos de manera efectiva.\\n\\nExperiencia Laboral:\\n\\nIngeniero de Datos Senior, DataTech Solutions\\nLideré la implementación de pipelines de datos en tiempo real utilizando Apache Kafka, mejorando la eficiencia del procesamiento de datos en un 40%.\\nAnalista de Datos, Analytic Corp.\\nDesarrollé modelos de machine learning para la predicción de demanda utilizando Python y TensorFlow, lo que resultó en una mejora del 25% en la precisión de las predicciones.\\nEducación:\\n\\nIngeniería en Sistemas de Información, Universidad Politécnica\\nAptitudes:\\n\\nGestión de Datos\\nProcesamiento de Datos a Gran Escala\\nMachine Learning\\nComunicación Técnica\\n\\n\\n',\n",
       " '2: Ingeniero de Datos y Científico de Datos\\n\\nNombre: Javier Martínez\\n\\nResumen Profesional: Ingeniero de Datos y Científico de Datos con más de 7 años de experiencia en el diseño, desarrollo y despliegue de soluciones analíticas. Especializado en el procesamiento y análisis de grandes volúmenes de datos utilizando tecnologías como Python, Apache Spark y Hadoop. Experiencia en la implementación de modelos de machine learning y deep learning para la extracción de insights y la toma de decisiones basada en datos.\\n\\nExperiencia Laboral:\\n\\nIngeniero de Datos, DataTech Solutions\\nLideré el diseño e implementación de pipelines de datos utilizando Apache Spark y Hadoop, mejorando la eficiencia del procesamiento de datos en un 50%.\\nCientífico de Datos, Analytics Corp.\\nDesarrollé modelos predictivos utilizando técnicas de machine learning y deep learning para predecir la demanda de productos, lo que resultó en una reducción del 20% en los costos de inventario.\\nEducación:\\n\\nMaestría en Ciencia de Datos, Universidad de Ciencias Aplicadas\\nAptitudes:\\n\\nProcesamiento de Grandes Volúmenes de Datos\\nModelado Predictivo\\nMachine Learning y Deep Learning\\n\\n\\n',\n",
       " '3: Ingeniera de Datos con Experiencia en Cloud Computing\\n\\nNombre: María Fernández\\n\\nResumen Profesional: Ingeniera de Datos con experiencia en la implementación de soluciones de datos en entornos de nube. Amplios conocimientos en tecnologías como AWS, Google Cloud Platform y Azure, así como en herramientas para el almacenamiento y procesamiento de datos a escala. Experiencia en el diseño e implementación de pipelines de datos utilizando Apache Airflow y AWS Glue.\\n\\nExperiencia Laboral:\\n\\nIngeniera de Datos, Cloud Data Solutions\\nDiseñé e implementé pipelines de datos en la nube utilizando servicios como AWS Glue y Amazon Redshift, mejorando la escalabilidad y la eficiencia del procesamiento de datos.\\nAnalista de Datos, CloudTech Co.\\nMigré la infraestructura de datos a la nube utilizando Google BigQuery y Google Cloud Storage, reduciendo los costos operativos en un 30%.\\nEducación:\\n\\nIngeniería en Sistemas de Información, Universidad Nacional\\nAptitudes:\\n\\nCloud Computing\\nAWS, Google Cloud Platform, Azure\\nApache Airflow, AWS Glue\\n\\n\\n',\n",
       " '4: Científico de Datos Especializado en NLP\\n\\nNombre: Laura Rodríguez\\n\\nResumen Profesional: Científico de Datos con especialización en Procesamiento de Lenguaje Natural (NLP). Amplia experiencia en el desarrollo de modelos de NLP para la extracción de información, análisis de sentimientos y clasificación de textos. Competente en el uso de herramientas y bibliotecas como NLTK, spaCy y TensorFlow para el procesamiento y análisis de texto.\\n\\nExperiencia Laboral:\\n\\nCientífico de Datos, NLP Analytics\\nDesarrollé modelos de NLP para la extracción de información de textos médicos, mejorando la precisión en un 25%.\\nAnalista de Datos, TextTech Solutions\\nImplementé un sistema de análisis de sentimientos en redes sociales utilizando técnicas de NLP, lo que permitió a la empresa tomar decisiones estratégicas basadas en la opinión de los clientes.\\nEducación:\\n\\nMaestría en Ciencia de Datos, Universidad de Ciencias Aplicadas\\nAptitudes:\\n\\nProcesamiento de Lenguaje Natural (NLP)\\nAnálisis de Sentimientos\\nModelado de Texto\\n\\n\\n',\n",
       " '5: Analista de Datos con Experiencia en Visualización\\n\\nNombre: Carlos Gómez\\n\\nResumen Profesional: Analista de Datos con experiencia en la creación de visualizaciones interactivas y paneles de control para comunicar insights derivados del análisis de datos. Competente en herramientas como Tableau, Power BI y D3.js para la creación de visualizaciones efectivas. Habilidades en el análisis exploratorio de datos y la identificación de tendencias utilizando técnicas estadísticas y herramientas de visualización.\\n\\nExperiencia Laboral:\\n\\nAnalista de Datos, Visual Analytics Co.\\nDesarrollé paneles de control interactivos utilizando Tableau para proporcionar insights en tiempo real sobre el rendimiento de las operaciones de la empresa.\\nCientífico de Datos Junior, Data Insights Ltd.\\nRealicé análisis exploratorio de datos utilizando Python y R para identificar patrones y tendencias en conjuntos de datos complejos.\\nEducación:\\n\\nLicenciatura en Estadística, Universidad Nacional\\nAptitudes:\\n\\nVisualización de Datos\\nTableau, Power BI, D3.js\\nAnálisis Exploratorio de Datos\\n\\n\\n',\n",
       " '6: Ingeniero de Datos con Experiencia en Big Data\\n\\nNombre: Marta Martínez\\n\\nResumen Profesional: Ingeniera de Datos con experiencia en el procesamiento y análisis de grandes volúmenes de datos utilizando tecnologías de Big Data como Apache Spark y Hadoop. Experiencia en el diseño e implementación de pipelines de datos escalables y eficientes para el procesamiento de datos en tiempo real y por lotes.\\n\\nExperiencia Laboral:\\n\\nIngeniera de Datos, Big Data Solutions\\nDiseñé e implementé pipelines de datos utilizando Apache Spark y Hadoop para el procesamiento de datos en tiempo real y por lotes, mejorando la eficiencia en un 40%.\\nAnalista de Datos, DataTech Co.\\nDesarrollé algoritmos de machine learning para la detección de fraudes en transacciones financieras utilizando datos de gran volumen, lo que resultó en una reducción del 30% en los casos de fraude.\\nEducación:\\n\\nIngeniería en Informática, Universidad Politécnica\\nAptitudes:\\n\\nProcesamiento de Big Data\\nApache Spark, Hadoop\\nMachine Learning\\n\\n\\n',\n",
       " '7: Analista de Datos con Experiencia en Minería de Datos\\n\\nNombre: Sofía Martínez\\n\\nResumen Profesional: Analista de Datos con experiencia en la minería de datos y el descubrimiento de patrones en conjuntos de datos complejos. Amplios conocimientos en técnicas de minería de datos y aprendizaje automático, así como en herramientas como Python, R y Weka. Experiencia en la identificación de patrones, tendencias y correlaciones en datos para la toma de decisiones empresariales.\\n\\nExperiencia Laboral:\\n\\nAnalista de Datos, Data Mining Co.\\nDesarrollé modelos predictivos utilizando técnicas de minería de datos y aprendizaje automático para predecir el comportamiento del cliente, lo que resultó en un aumento del 20% en las ventas.\\nCientífico de Datos Junior, Analytics Corp.\\nRealicé análisis exploratorio de datos utilizando Python y R para identificar patrones y tendencias en conjuntos de datos complejos.\\nEducación:\\n\\nMaestría en Minería de Datos, Universidad de Ciencias Aplicadas\\nAptitudes:\\n\\nMinería de Datos\\nAprendizaje Automático\\nAnálisis Exploratorio de Datos\\n\\n\\n',\n",
       " '8: Ingeniero de Datos con Experiencia en IoT\\n\\nNombre: David Gómez\\n\\nResumen Profesional: Ingeniero de Datos con experiencia en el procesamiento y análisis de datos provenientes de dispositivos IoT (Internet de las Cosas). Especializado en la implementación de soluciones de IoT para la recopilación, almacenamiento y análisis de datos en tiempo real. Amplios conocimientos en tecnologías de IoT, bases de datos distribuidas y análisis de datos a gran escala.\\n\\nExperiencia Laboral:\\n\\nIngeniero de Datos, IoT Solutions\\nDiseñé e implementé soluciones de IoT para la recopilación y análisis de datos en tiempo real, mejorando la eficiencia operativa en un 30%.\\nDesarrollador Full-Stack, WebTech Co.\\nDesarrollé aplicaciones web para la visualización de datos provenientes de dispositivos IoT, utilizando tecnologías como React.js y Node.js.\\nEducación:\\n\\nIngeniería en Sistemas de Información, Universidad Nacional\\nAptitudes:\\n\\nInternet de las Cosas (IoT)\\nProcesamiento de Datos en Tiempo Real\\nDesarrollo Full-Stack\\n\\n\\n',\n",
       " '9: Aspirante a Científico de Datos\\n\\nNombre: Andrea Sánchez\\n\\nResumen Profesional: Recién graduada en Ciencia de Datos con una pasión por el análisis de datos y el desarrollo de modelos predictivos. Conocimientos en lenguajes de programación como Python y R, así como en herramientas de análisis de datos como Pandas, NumPy y scikit-learn. Interesada en aprender y aplicar técnicas de machine learning y estadística para resolver problemas del mundo real.\\n\\nEducación:\\n\\nLicenciatura en Ciencia de Datos, Universidad Nacional\\nProyectos Destacados:\\n\\nDesarrollo de un modelo de clasificación utilizando el conjunto de datos Iris para predecir especies de flores utilizando Python y scikit-learn.\\nAnálisis exploratorio de datos de un conjunto de datos de viviendas utilizando Pandas y Matplotlib para identificar patrones y tendencias.\\nAptitudes:\\n\\nAnálisis de Datos\\nPython y R\\nMachine Learning\\n\\n\\n',\n",
       " '10: Aspirante a Analista de Datos\\n\\nNombre: Alejandro Martínez\\n\\nResumen Profesional: Graduado recientemente en Estadística con un fuerte interés en el análisis de datos y la visualización de datos. Conocimientos en herramientas estadísticas como R y Python, así como en técnicas de visualización de datos utilizando ggplot2 y Matplotlib. En busca de oportunidades para aplicar habilidades analíticas en entornos empresariales y adquirir experiencia práctica en el campo del análisis de datos.\\n\\nEducación:\\n\\nLicenciatura en Estadística, Universidad Politécnica\\nProyectos Destacados:\\n\\nAnálisis exploratorio de datos utilizando R y ggplot2 para visualizar patrones y tendencias en un conjunto de datos de accidentes de tráfico.\\nDesarrollo de un panel interactivo de visualización de datos utilizando Python y Matplotlib para representar datos económicos.\\nAptitudes:\\n\\nAnálisis de Datos\\nVisualización de Datos\\nR y Python']"
      ]
     },
     "execution_count": 98,
     "metadata": {},
     "output_type": "execute_result"
    }
   ],
   "source": [
    "merged_texts = merge_cvs(div_cv_SoftwareDev, div_cv_NetworkEng, div_cv_IADev)\n",
    "merged_texts"
   ]
  },
  {
   "cell_type": "markdown",
   "metadata": {},
   "source": [
    "**Operaciones de borrado y insercion**"
   ]
  },
  {
   "cell_type": "code",
   "execution_count": 99,
   "metadata": {},
   "outputs": [],
   "source": [
    "# Borramos numeros correspondiente a cada cv ej. 1: Desarrollador,2: Desarrollador, etc.\n",
    "def delete_numbersCV (texts):\n",
    "    new_texts = []\n",
    "    for text in texts:\n",
    "        # Revisar si primer caracter es un digito\n",
    "        if text[0].isdigit():\n",
    "            # Si son dos sigitos seguidos de : eliminamos los tres primeros caracteres\n",
    "            if len(text) >= 3 and text[2] == ':':\n",
    "                new_texts.append(text[4:])\n",
    "            # Si es un digito seguido de :, eliminamos los dos primeros caracteres\n",
    "            elif len(text) >= 2 and text[1] == ':':\n",
    "                new_texts.append(text[3:])\n",
    "            else:\n",
    "                # Si el primer caracter es un digito pero no le sigue :, mantener texto original\n",
    "                new_texts.append(text)\n",
    "        else:\n",
    "            # Si el primer caracter no es digito, mantener texto original\n",
    "            new_texts.append(text)\n",
    "    return new_texts"
   ]
  },
  {
   "cell_type": "code",
   "execution_count": 100,
   "metadata": {},
   "outputs": [
    {
     "data": {
      "text/plain": [
       "['Desarrollador Full-Stack Experimentado\\nNombre: Juan Pérez\\n\\nResumen Profesional: Desarrollador Full-Stack con más de 8 años de experiencia en el diseño, desarrollo y despliegue de aplicaciones web y móviles. Expertise en tecnologías como JavaScript (Node.js, React.js, Angular), HTML5, CSS3 y bases de datos SQL y NoSQL. Amplia experiencia en trabajo en equipo y liderazgo técnico.\\n\\nExperiencia Laboral:\\n\\nSenior Full-Stack Developer, Tech Solutions Inc.\\nLideré el desarrollo de una plataforma de gestión de proyectos utilizando Node.js y React.js, reduciendo los tiempos de entrega en un 30%.\\nDesarrollador Front-End, WebTech Co.\\nContribuí al diseño y desarrollo de una aplicación web de e-commerce utilizando Angular y MongoDB.\\nEducación:\\n\\nIngeniería Informática, Universidad Nacional de Ingeniería (UNI)\\nAptitudes:\\n\\nDesarrollo Full-Stack\\nLiderazgo Técnico\\nResolución de Problemas\\n\\n\\n',\n",
       " 'Desarrollador Móvil Junior\\nNombre: Ana García\\n\\nResumen Profesional: Desarrolladora Móvil con experiencia en el diseño y desarrollo de aplicaciones nativas para Android e iOS. Conocimientos en Kotlin, Java, Swift y experiencia en el uso de APIs y servicios web.\\n\\nExperiencia Laboral:\\n\\nDesarrolladora Móvil Junior, AppDev Solutions\\nContribuí al desarrollo de aplicaciones móviles utilizando Kotlin y Swift.\\nEducación:\\n\\nIngeniería en Sistemas de Información, Universidad Tecnológica Nacional (UTN)\\nAptitudes:\\n\\nDesarrollo Móvil (Android e iOS)\\nColaboración en Equipo\\nAprendizaje Rápido\\n\\n\\n',\n",
       " 'Desarrollador Back-End Especializado\\nNombre: María López\\n\\nResumen Profesional: Desarrolladora Back-End con experiencia en el diseño e implementación de APIs y servicios web escalables y seguros. Experta en lenguajes como Python, Java y frameworks como Flask y Spring Boot.\\n\\nExperiencia Laboral:\\n\\nDesarrolladora Back-End, DataTech Solutions\\nDiseñé e implementé APIs RESTful utilizando Python y Flask, mejorando la eficiencia en el intercambio de datos en un 40%.\\nEducación:\\n\\nIngeniería en Informática, Universidad de Buenos Aires (UBA)\\nAptitudes:\\n\\nDesarrollo Back-End\\nSeguridad Informática\\nAnálisis de Rendimiento\\n\\n\\n',\n",
       " 'Desarrollador Web Front-End Creativo\\nNombre: David Martínez\\n\\nResumen Profesional: Desarrollador Front-End con pasión por el diseño y la experiencia de usuario. Experto en HTML5, CSS3 y JavaScript, con conocimientos en frameworks como React.js y Vue.js. Capacidad demostrada para traducir diseños creativos en interfaces web funcionales y atractivas.\\n\\nExperiencia Laboral:\\n\\nDesarrollador Front-End, CreativeWeb Agency\\nLideré la implementación de interfaces web interactivas utilizando React.js, mejorando la experiencia del usuario y aumentando la retención en un 20%.\\nEducación:\\n\\nLicenciatura en Diseño Web, Universidad Autónoma de Barcelona (UAB)\\nAptitudes:\\n\\nDesarrollo Front-End\\nDiseño de Interfaces de Usuario (UI)\\nCreatividad\\n\\n\\n',\n",
       " 'Desarrollador de Juegos Independiente\\nNombre: Pedro Ramírez\\n\\nResumen Profesional: Desarrollador independiente con experiencia en el diseño y desarrollo de videojuegos multiplataforma. Conocimientos en Unity3D, C#, y experiencia en el ciclo completo de desarrollo de juegos, desde la conceptualización hasta el lanzamiento.\\n\\nExperiencia Laboral:\\n\\nDesarrollador de Juegos Independiente\\nLanzamiento exitoso de dos juegos móviles en iOS y Android, con más de 100,000 descargas combinadas.\\nEducación:\\n\\nIngeniería de Videojuegos, Universidad Politécnica de Madrid (UPM)\\nAptitudes:\\n\\nDesarrollo de Videojuegos\\nAutogestión\\nCreatividad y Originalidad\\n\\n\\n',\n",
       " 'Desarrollador Front-End Senior\\nNombre: Laura Fernández\\n\\nResumen Profesional: Desarrolladora Front-End con más de 6 años de experiencia en la creación de interfaces web interactivas y amigables. Experta en HTML, CSS, JavaScript y frameworks como React.js y Angular. Capacidad demostrada para trabajar en equipo y gestionar proyectos de principio a fin.\\n\\nExperiencia Laboral:\\n\\nDesarrolladora Front-End Senior, WebDev Solutions\\nDirigí el equipo de desarrollo en la implementación de una plataforma de gestión de contenidos utilizando React.js, mejorando la velocidad de carga en un 50%.\\nEducación:\\n\\nIngeniería Informática, Universidad Politécnica de Madrid (UPM)\\nAptitudes:\\n\\nDesarrollo Front-End\\nGestión de Proyectos\\nColaboración en Equipo\\n\\n\\n',\n",
       " 'Desarrollador Back-End Junior\\nNombre: Carlos Sánchez\\n\\nResumen Profesional: Desarrollador Back-End con experiencia en el diseño y desarrollo de aplicaciones escalables y seguras. Conocimientos en Python, Django y bases de datos SQL. Capacidad para aprender rápidamente nuevas tecnologías y resolver problemas de manera eficiente.\\n\\nExperiencia Laboral:\\n\\nDesarrollador Back-End Junior, TechStartUp Co.\\nContribuí al desarrollo de un sistema de gestión de inventario utilizando Python y Django, reduciendo los errores de almacenamiento en un 20%.\\nEducación:\\n\\nIngeniería de Sistemas, Universidad Nacional de Colombia (UNAL)\\nAptitudes:\\n\\nDesarrollo Back-End\\nResolución de Problemas\\nAprendizaje Rápido\\n\\n\\n',\n",
       " 'Desarrollador Web Junior\\nNombre: Marta López\\n\\nResumen Profesional: Desarrolladora web junior apasionada por aprender y crecer en el campo del desarrollo web. Recién graduada con un título en Desarrollo de Aplicaciones Web. Conocimientos básicos en HTML, CSS y JavaScript. Busco oportunidades para adquirir experiencia práctica y contribuir al desarrollo de proyectos web.\\n\\nEducación:\\n\\nGrado en Desarrollo de Aplicaciones Web, Universidad Politécnica de Valencia (UPV)\\nProyectos Destacados:\\n\\nDesarrollo de una página web estática utilizando HTML, CSS y JavaScript para la presentación de un negocio local.\\nAptitudes:\\n\\nAprendizaje Rápido\\nTrabajo en Equipo\\nResolución de Problemas\\n\\n\\n',\n",
       " 'Desarrollador Web Senior\\nNombre: Andrés Martínez\\n\\nResumen Profesional: Desarrollador web senior con más de 10 años de experiencia en el diseño y desarrollo de sitios web dinámicos y aplicaciones web. Expertise en HTML5, CSS3, JavaScript y frameworks como React.js y Vue.js. Demostrada capacidad para liderar equipos y gestionar proyectos de principio a fin.\\n\\nExperiencia Laboral:\\n\\nDesarrollador Web Senior, WebTech Solutions\\nLideré el equipo de desarrollo en la implementación de una plataforma de comercio electrónico utilizando React.js, incrementando las ventas en un 40%.\\nEducación:\\n\\nIngeniería Informática, Universidad Autónoma de Madrid (UAM)\\nAptitudes:\\n\\nDesarrollo Web Full-Stack\\nGestión de Proyectos\\nLiderazgo Técnico\\n\\n\\n',\n",
       " 'Desarrollador Web Full-Stack con Experiencia en E-Commerce\\nNombre: María González\\n\\nResumen Profesional: Desarrolladora web full-stack con experiencia en el diseño, desarrollo y mantenimiento de sitios web de comercio electrónico. Conocimientos en HTML, CSS, JavaScript, PHP y experiencia en el uso de CMS como WordPress y plataformas de e-commerce como WooCommerce. Enfoque en la creación de experiencias de usuario intuitivas y seguras.\\n\\nExperiencia Laboral:\\n\\nDesarrolladora Web Full-Stack, E-Commerce Solutions Ltd.\\nContribuí al desarrollo y mantenimiento de múltiples sitios web de comercio electrónico utilizando WordPress y WooCommerce, mejorando la experiencia del usuario y aumentando las conversiones.\\nEducación:\\n\\nLicenciatura en Ingeniería de Sistemas, Universidad Nacional de Educación a Distancia (UNED)\\nAptitudes:\\n\\nDesarrollo Web Full-Stack\\nE-Commerce\\nExperiencia de Usuario (UX)',\n",
       " 'Enfoque en la experiencia en Cisco\\n\\nNombre: Juan Pérez\\n\\nResumen: Ingeniero de Redes con más de 5 años de experiencia en diseño, implementación y mantenimiento de redes Cisco. Especializado en enrutamiento y conmutación, seguridad de red y administración de dispositivos Cisco.\\n\\nExperiencia Laboral:\\n\\nIngeniero de Redes en ABC Solutions (2018 - Presente)\\nLideró el diseño e implementación de una red empresarial basada en Cisco para una empresa de manufactura.\\nRealizó la configuración de dispositivos Cisco ISR, switches Catalyst y firewalls ASA.\\nTécnico de Redes en XYZ Networking (2015 - 2018)\\nProporcionó soporte técnico y mantenimiento preventivo a la infraestructura de red de clientes, incluida la resolución de problemas y actualizaciones de firmware.\\nEducación:\\n\\nLicenciatura en Ingeniería de Telecomunicaciones, Universidad Nacional (2014)\\nCertificaciones:\\n\\nCisco Certified Network Professional (CCNP)\\nCisco Certified Network Associate (CCNA)\\nCisco Certified Design Associate (CCDA)\\nHabilidades Técnicas:\\n\\nRouting y Switching: OSPF, EIGRP, VLANs, STP\\nSeguridad de Red: Firewalls Cisco ASA, VPN\\nHerramientas: Cisco Packet Tracer, Wireshark\\n\\n\\n',\n",
       " 'Enfoque en experiencia en redes inalámbricas\\n\\nNombre: María García\\n\\nResumen: Ingeniera de Redes con experiencia en diseño, implementación y optimización de redes inalámbricas. Especializada en tecnologías Wi-Fi y soluciones de movilidad empresarial.\\n\\nExperiencia Laboral:\\n\\nIngeniera de Redes en WirelessTech Solutions (2017 - Presente)\\nLideró proyectos de implementación de redes Wi-Fi empresariales para clientes en diversos sectores, incluyendo educación y hospitalidad.\\nRealizó encuestas de sitio, diseño de cobertura y configuración de controladores inalámbricos Cisco y Aruba.\\nIngeniera de Soporte en TechSupport Inc. (2015 - 2017)\\nBrindó soporte técnico de nivel 3 para problemas de conectividad Wi-Fi, incluida la resolución de problemas de interferencia y congestión de canales.\\nEducación:\\n\\nIngeniería en Telecomunicaciones, Universidad Politécnica (2015)\\nCertificaciones:\\n\\nCertified Wireless Network Professional (CWNP)\\nCisco Certified Network Associate (CCNA)\\nHabilidades Técnicas:\\n\\nTecnologías Wi-Fi: 802.11ac, WPA2, roaming rápido\\nControladores WLAN: Cisco Wireless LAN Controller, Aruba Mobility Controller\\nHerramientas: Ekahau Site Survey, AirMagnet WiFi Analyzer\\n\\n\\n',\n",
       " 'Recién graduado con experiencia de proyecto\\n\\nNombre: Ana López\\n\\nResumen: Recién graduada en Ingeniería de Redes con habilidades en diseño, configuración y administración de redes. Apasionada por la resolución de problemas y el aprendizaje continuo. Experiencia práctica a través de proyectos universitarios y pasantías.\\n\\nExperiencia Laboral:\\n\\nPasante en Redes en XYZ Tech (Verano 2023)\\nColaboró en la configuración y mantenimiento de dispositivos de red, incluidos switches y routers.\\nParticipó en la resolución de problemas de conectividad y seguridad de red bajo la supervisión del equipo de ingeniería.\\nEducación:\\n\\nLicenciatura en Ingeniería de Redes, Universidad Nacional (2023)\\nProyectos Universitarios:\\n\\nDiseño e implementación de una red empresarial simulada utilizando enrutadores Cisco y switches Catalyst.\\nConfiguración de una red inalámbrica segura utilizando tecnologías WPA2 y autenticación 802.1X.\\nHabilidades Técnicas:\\n\\nConocimiento básico en enrutamiento y conmutación: VLANs, enrutamiento estático.\\nFamiliaridad con tecnologías inalámbricas: estándares 802.11, seguridad Wi-Fi.\\nHerramientas: Cisco Packet Tracer, GNS3, Wireshark.\\n\\n\\n',\n",
       " 'Graduado con certificaciones y proyectos personales\\n\\nNombre: Carlos Martínez\\n\\nResumen: Graduado en Ingeniería de Redes con pasión por la tecnología y el diseño de redes. Certificaciones relevantes y experiencia práctica a través de proyectos personales. Buscando oportunidades para aplicar y ampliar mis conocimientos en un entorno profesional.\\n\\nEducación:\\n\\nLicenciatura en Ingeniería de Redes, Instituto Tecnológico (2022)\\nCertificaciones:\\n\\nCisco Certified Network Associate (CCNA)\\nCompTIA Network+\\nProyectos Personales:\\n\\nConfiguración de una red doméstica utilizando routers y switches Cisco.\\nImplementación de un servidor DHCP y DNS en un entorno de laboratorio.\\nHabilidades Técnicas:\\n\\nConocimiento en enrutamiento y conmutación básicos.\\nFamiliaridad con conceptos de seguridad de red.\\nHerramientas: Cisco Packet Tracer, VirtualBox, Linux.',\n",
       " 'Ingeniero de Datos Experimentado\\n\\nNombre: Ana García\\n\\nResumen Profesional: Ingeniera de Datos con más de 6 años de experiencia en la gestión, procesamiento y análisis de grandes volúmenes de datos. Especializada en el diseño e implementación de pipelines de datos utilizando herramientas como Apache Spark, Hadoop y Kafka. Amplios conocimientos en lenguajes de programación como Python, R y Scala, así como en bases de datos SQL y NoSQL. Capacidad para trabajar en equipo y comunicar resultados técnicos de manera efectiva.\\n\\nExperiencia Laboral:\\n\\nIngeniero de Datos Senior, DataTech Solutions\\nLideré la implementación de pipelines de datos en tiempo real utilizando Apache Kafka, mejorando la eficiencia del procesamiento de datos en un 40%.\\nAnalista de Datos, Analytic Corp.\\nDesarrollé modelos de machine learning para la predicción de demanda utilizando Python y TensorFlow, lo que resultó en una mejora del 25% en la precisión de las predicciones.\\nEducación:\\n\\nIngeniería en Sistemas de Información, Universidad Politécnica\\nAptitudes:\\n\\nGestión de Datos\\nProcesamiento de Datos a Gran Escala\\nMachine Learning\\nComunicación Técnica\\n\\n\\n',\n",
       " 'Ingeniero de Datos y Científico de Datos\\n\\nNombre: Javier Martínez\\n\\nResumen Profesional: Ingeniero de Datos y Científico de Datos con más de 7 años de experiencia en el diseño, desarrollo y despliegue de soluciones analíticas. Especializado en el procesamiento y análisis de grandes volúmenes de datos utilizando tecnologías como Python, Apache Spark y Hadoop. Experiencia en la implementación de modelos de machine learning y deep learning para la extracción de insights y la toma de decisiones basada en datos.\\n\\nExperiencia Laboral:\\n\\nIngeniero de Datos, DataTech Solutions\\nLideré el diseño e implementación de pipelines de datos utilizando Apache Spark y Hadoop, mejorando la eficiencia del procesamiento de datos en un 50%.\\nCientífico de Datos, Analytics Corp.\\nDesarrollé modelos predictivos utilizando técnicas de machine learning y deep learning para predecir la demanda de productos, lo que resultó en una reducción del 20% en los costos de inventario.\\nEducación:\\n\\nMaestría en Ciencia de Datos, Universidad de Ciencias Aplicadas\\nAptitudes:\\n\\nProcesamiento de Grandes Volúmenes de Datos\\nModelado Predictivo\\nMachine Learning y Deep Learning\\n\\n\\n',\n",
       " 'Ingeniera de Datos con Experiencia en Cloud Computing\\n\\nNombre: María Fernández\\n\\nResumen Profesional: Ingeniera de Datos con experiencia en la implementación de soluciones de datos en entornos de nube. Amplios conocimientos en tecnologías como AWS, Google Cloud Platform y Azure, así como en herramientas para el almacenamiento y procesamiento de datos a escala. Experiencia en el diseño e implementación de pipelines de datos utilizando Apache Airflow y AWS Glue.\\n\\nExperiencia Laboral:\\n\\nIngeniera de Datos, Cloud Data Solutions\\nDiseñé e implementé pipelines de datos en la nube utilizando servicios como AWS Glue y Amazon Redshift, mejorando la escalabilidad y la eficiencia del procesamiento de datos.\\nAnalista de Datos, CloudTech Co.\\nMigré la infraestructura de datos a la nube utilizando Google BigQuery y Google Cloud Storage, reduciendo los costos operativos en un 30%.\\nEducación:\\n\\nIngeniería en Sistemas de Información, Universidad Nacional\\nAptitudes:\\n\\nCloud Computing\\nAWS, Google Cloud Platform, Azure\\nApache Airflow, AWS Glue\\n\\n\\n',\n",
       " 'Científico de Datos Especializado en NLP\\n\\nNombre: Laura Rodríguez\\n\\nResumen Profesional: Científico de Datos con especialización en Procesamiento de Lenguaje Natural (NLP). Amplia experiencia en el desarrollo de modelos de NLP para la extracción de información, análisis de sentimientos y clasificación de textos. Competente en el uso de herramientas y bibliotecas como NLTK, spaCy y TensorFlow para el procesamiento y análisis de texto.\\n\\nExperiencia Laboral:\\n\\nCientífico de Datos, NLP Analytics\\nDesarrollé modelos de NLP para la extracción de información de textos médicos, mejorando la precisión en un 25%.\\nAnalista de Datos, TextTech Solutions\\nImplementé un sistema de análisis de sentimientos en redes sociales utilizando técnicas de NLP, lo que permitió a la empresa tomar decisiones estratégicas basadas en la opinión de los clientes.\\nEducación:\\n\\nMaestría en Ciencia de Datos, Universidad de Ciencias Aplicadas\\nAptitudes:\\n\\nProcesamiento de Lenguaje Natural (NLP)\\nAnálisis de Sentimientos\\nModelado de Texto\\n\\n\\n',\n",
       " 'Analista de Datos con Experiencia en Visualización\\n\\nNombre: Carlos Gómez\\n\\nResumen Profesional: Analista de Datos con experiencia en la creación de visualizaciones interactivas y paneles de control para comunicar insights derivados del análisis de datos. Competente en herramientas como Tableau, Power BI y D3.js para la creación de visualizaciones efectivas. Habilidades en el análisis exploratorio de datos y la identificación de tendencias utilizando técnicas estadísticas y herramientas de visualización.\\n\\nExperiencia Laboral:\\n\\nAnalista de Datos, Visual Analytics Co.\\nDesarrollé paneles de control interactivos utilizando Tableau para proporcionar insights en tiempo real sobre el rendimiento de las operaciones de la empresa.\\nCientífico de Datos Junior, Data Insights Ltd.\\nRealicé análisis exploratorio de datos utilizando Python y R para identificar patrones y tendencias en conjuntos de datos complejos.\\nEducación:\\n\\nLicenciatura en Estadística, Universidad Nacional\\nAptitudes:\\n\\nVisualización de Datos\\nTableau, Power BI, D3.js\\nAnálisis Exploratorio de Datos\\n\\n\\n',\n",
       " 'Ingeniero de Datos con Experiencia en Big Data\\n\\nNombre: Marta Martínez\\n\\nResumen Profesional: Ingeniera de Datos con experiencia en el procesamiento y análisis de grandes volúmenes de datos utilizando tecnologías de Big Data como Apache Spark y Hadoop. Experiencia en el diseño e implementación de pipelines de datos escalables y eficientes para el procesamiento de datos en tiempo real y por lotes.\\n\\nExperiencia Laboral:\\n\\nIngeniera de Datos, Big Data Solutions\\nDiseñé e implementé pipelines de datos utilizando Apache Spark y Hadoop para el procesamiento de datos en tiempo real y por lotes, mejorando la eficiencia en un 40%.\\nAnalista de Datos, DataTech Co.\\nDesarrollé algoritmos de machine learning para la detección de fraudes en transacciones financieras utilizando datos de gran volumen, lo que resultó en una reducción del 30% en los casos de fraude.\\nEducación:\\n\\nIngeniería en Informática, Universidad Politécnica\\nAptitudes:\\n\\nProcesamiento de Big Data\\nApache Spark, Hadoop\\nMachine Learning\\n\\n\\n',\n",
       " 'Analista de Datos con Experiencia en Minería de Datos\\n\\nNombre: Sofía Martínez\\n\\nResumen Profesional: Analista de Datos con experiencia en la minería de datos y el descubrimiento de patrones en conjuntos de datos complejos. Amplios conocimientos en técnicas de minería de datos y aprendizaje automático, así como en herramientas como Python, R y Weka. Experiencia en la identificación de patrones, tendencias y correlaciones en datos para la toma de decisiones empresariales.\\n\\nExperiencia Laboral:\\n\\nAnalista de Datos, Data Mining Co.\\nDesarrollé modelos predictivos utilizando técnicas de minería de datos y aprendizaje automático para predecir el comportamiento del cliente, lo que resultó en un aumento del 20% en las ventas.\\nCientífico de Datos Junior, Analytics Corp.\\nRealicé análisis exploratorio de datos utilizando Python y R para identificar patrones y tendencias en conjuntos de datos complejos.\\nEducación:\\n\\nMaestría en Minería de Datos, Universidad de Ciencias Aplicadas\\nAptitudes:\\n\\nMinería de Datos\\nAprendizaje Automático\\nAnálisis Exploratorio de Datos\\n\\n\\n',\n",
       " 'Ingeniero de Datos con Experiencia en IoT\\n\\nNombre: David Gómez\\n\\nResumen Profesional: Ingeniero de Datos con experiencia en el procesamiento y análisis de datos provenientes de dispositivos IoT (Internet de las Cosas). Especializado en la implementación de soluciones de IoT para la recopilación, almacenamiento y análisis de datos en tiempo real. Amplios conocimientos en tecnologías de IoT, bases de datos distribuidas y análisis de datos a gran escala.\\n\\nExperiencia Laboral:\\n\\nIngeniero de Datos, IoT Solutions\\nDiseñé e implementé soluciones de IoT para la recopilación y análisis de datos en tiempo real, mejorando la eficiencia operativa en un 30%.\\nDesarrollador Full-Stack, WebTech Co.\\nDesarrollé aplicaciones web para la visualización de datos provenientes de dispositivos IoT, utilizando tecnologías como React.js y Node.js.\\nEducación:\\n\\nIngeniería en Sistemas de Información, Universidad Nacional\\nAptitudes:\\n\\nInternet de las Cosas (IoT)\\nProcesamiento de Datos en Tiempo Real\\nDesarrollo Full-Stack\\n\\n\\n',\n",
       " 'Aspirante a Científico de Datos\\n\\nNombre: Andrea Sánchez\\n\\nResumen Profesional: Recién graduada en Ciencia de Datos con una pasión por el análisis de datos y el desarrollo de modelos predictivos. Conocimientos en lenguajes de programación como Python y R, así como en herramientas de análisis de datos como Pandas, NumPy y scikit-learn. Interesada en aprender y aplicar técnicas de machine learning y estadística para resolver problemas del mundo real.\\n\\nEducación:\\n\\nLicenciatura en Ciencia de Datos, Universidad Nacional\\nProyectos Destacados:\\n\\nDesarrollo de un modelo de clasificación utilizando el conjunto de datos Iris para predecir especies de flores utilizando Python y scikit-learn.\\nAnálisis exploratorio de datos de un conjunto de datos de viviendas utilizando Pandas y Matplotlib para identificar patrones y tendencias.\\nAptitudes:\\n\\nAnálisis de Datos\\nPython y R\\nMachine Learning\\n\\n\\n',\n",
       " 'Aspirante a Analista de Datos\\n\\nNombre: Alejandro Martínez\\n\\nResumen Profesional: Graduado recientemente en Estadística con un fuerte interés en el análisis de datos y la visualización de datos. Conocimientos en herramientas estadísticas como R y Python, así como en técnicas de visualización de datos utilizando ggplot2 y Matplotlib. En busca de oportunidades para aplicar habilidades analíticas en entornos empresariales y adquirir experiencia práctica en el campo del análisis de datos.\\n\\nEducación:\\n\\nLicenciatura en Estadística, Universidad Politécnica\\nProyectos Destacados:\\n\\nAnálisis exploratorio de datos utilizando R y ggplot2 para visualizar patrones y tendencias en un conjunto de datos de accidentes de tráfico.\\nDesarrollo de un panel interactivo de visualización de datos utilizando Python y Matplotlib para representar datos económicos.\\nAptitudes:\\n\\nAnálisis de Datos\\nVisualización de Datos\\nR y Python']"
      ]
     },
     "execution_count": 100,
     "metadata": {},
     "output_type": "execute_result"
    }
   ],
   "source": [
    "merged_texts= delete_numbersCV(merged_texts)\n",
    "merged_texts"
   ]
  },
  {
   "cell_type": "code",
   "execution_count": 101,
   "metadata": {},
   "outputs": [],
   "source": [
    "# Agregar ID a cada registro (cv)\n",
    "def set_id(texts):\n",
    "    new_texts = [(id_, text) for id_, text in enumerate(texts)]\n",
    "    return new_texts"
   ]
  },
  {
   "cell_type": "code",
   "execution_count": 102,
   "metadata": {},
   "outputs": [
    {
     "data": {
      "text/plain": [
       "[(0,\n",
       "  'Desarrollador Full-Stack Experimentado\\nNombre: Juan Pérez\\n\\nResumen Profesional: Desarrollador Full-Stack con más de 8 años de experiencia en el diseño, desarrollo y despliegue de aplicaciones web y móviles. Expertise en tecnologías como JavaScript (Node.js, React.js, Angular), HTML5, CSS3 y bases de datos SQL y NoSQL. Amplia experiencia en trabajo en equipo y liderazgo técnico.\\n\\nExperiencia Laboral:\\n\\nSenior Full-Stack Developer, Tech Solutions Inc.\\nLideré el desarrollo de una plataforma de gestión de proyectos utilizando Node.js y React.js, reduciendo los tiempos de entrega en un 30%.\\nDesarrollador Front-End, WebTech Co.\\nContribuí al diseño y desarrollo de una aplicación web de e-commerce utilizando Angular y MongoDB.\\nEducación:\\n\\nIngeniería Informática, Universidad Nacional de Ingeniería (UNI)\\nAptitudes:\\n\\nDesarrollo Full-Stack\\nLiderazgo Técnico\\nResolución de Problemas\\n\\n\\n'),\n",
       " (1,\n",
       "  'Desarrollador Móvil Junior\\nNombre: Ana García\\n\\nResumen Profesional: Desarrolladora Móvil con experiencia en el diseño y desarrollo de aplicaciones nativas para Android e iOS. Conocimientos en Kotlin, Java, Swift y experiencia en el uso de APIs y servicios web.\\n\\nExperiencia Laboral:\\n\\nDesarrolladora Móvil Junior, AppDev Solutions\\nContribuí al desarrollo de aplicaciones móviles utilizando Kotlin y Swift.\\nEducación:\\n\\nIngeniería en Sistemas de Información, Universidad Tecnológica Nacional (UTN)\\nAptitudes:\\n\\nDesarrollo Móvil (Android e iOS)\\nColaboración en Equipo\\nAprendizaje Rápido\\n\\n\\n'),\n",
       " (2,\n",
       "  'Desarrollador Back-End Especializado\\nNombre: María López\\n\\nResumen Profesional: Desarrolladora Back-End con experiencia en el diseño e implementación de APIs y servicios web escalables y seguros. Experta en lenguajes como Python, Java y frameworks como Flask y Spring Boot.\\n\\nExperiencia Laboral:\\n\\nDesarrolladora Back-End, DataTech Solutions\\nDiseñé e implementé APIs RESTful utilizando Python y Flask, mejorando la eficiencia en el intercambio de datos en un 40%.\\nEducación:\\n\\nIngeniería en Informática, Universidad de Buenos Aires (UBA)\\nAptitudes:\\n\\nDesarrollo Back-End\\nSeguridad Informática\\nAnálisis de Rendimiento\\n\\n\\n'),\n",
       " (3,\n",
       "  'Desarrollador Web Front-End Creativo\\nNombre: David Martínez\\n\\nResumen Profesional: Desarrollador Front-End con pasión por el diseño y la experiencia de usuario. Experto en HTML5, CSS3 y JavaScript, con conocimientos en frameworks como React.js y Vue.js. Capacidad demostrada para traducir diseños creativos en interfaces web funcionales y atractivas.\\n\\nExperiencia Laboral:\\n\\nDesarrollador Front-End, CreativeWeb Agency\\nLideré la implementación de interfaces web interactivas utilizando React.js, mejorando la experiencia del usuario y aumentando la retención en un 20%.\\nEducación:\\n\\nLicenciatura en Diseño Web, Universidad Autónoma de Barcelona (UAB)\\nAptitudes:\\n\\nDesarrollo Front-End\\nDiseño de Interfaces de Usuario (UI)\\nCreatividad\\n\\n\\n'),\n",
       " (4,\n",
       "  'Desarrollador de Juegos Independiente\\nNombre: Pedro Ramírez\\n\\nResumen Profesional: Desarrollador independiente con experiencia en el diseño y desarrollo de videojuegos multiplataforma. Conocimientos en Unity3D, C#, y experiencia en el ciclo completo de desarrollo de juegos, desde la conceptualización hasta el lanzamiento.\\n\\nExperiencia Laboral:\\n\\nDesarrollador de Juegos Independiente\\nLanzamiento exitoso de dos juegos móviles en iOS y Android, con más de 100,000 descargas combinadas.\\nEducación:\\n\\nIngeniería de Videojuegos, Universidad Politécnica de Madrid (UPM)\\nAptitudes:\\n\\nDesarrollo de Videojuegos\\nAutogestión\\nCreatividad y Originalidad\\n\\n\\n'),\n",
       " (5,\n",
       "  'Desarrollador Front-End Senior\\nNombre: Laura Fernández\\n\\nResumen Profesional: Desarrolladora Front-End con más de 6 años de experiencia en la creación de interfaces web interactivas y amigables. Experta en HTML, CSS, JavaScript y frameworks como React.js y Angular. Capacidad demostrada para trabajar en equipo y gestionar proyectos de principio a fin.\\n\\nExperiencia Laboral:\\n\\nDesarrolladora Front-End Senior, WebDev Solutions\\nDirigí el equipo de desarrollo en la implementación de una plataforma de gestión de contenidos utilizando React.js, mejorando la velocidad de carga en un 50%.\\nEducación:\\n\\nIngeniería Informática, Universidad Politécnica de Madrid (UPM)\\nAptitudes:\\n\\nDesarrollo Front-End\\nGestión de Proyectos\\nColaboración en Equipo\\n\\n\\n'),\n",
       " (6,\n",
       "  'Desarrollador Back-End Junior\\nNombre: Carlos Sánchez\\n\\nResumen Profesional: Desarrollador Back-End con experiencia en el diseño y desarrollo de aplicaciones escalables y seguras. Conocimientos en Python, Django y bases de datos SQL. Capacidad para aprender rápidamente nuevas tecnologías y resolver problemas de manera eficiente.\\n\\nExperiencia Laboral:\\n\\nDesarrollador Back-End Junior, TechStartUp Co.\\nContribuí al desarrollo de un sistema de gestión de inventario utilizando Python y Django, reduciendo los errores de almacenamiento en un 20%.\\nEducación:\\n\\nIngeniería de Sistemas, Universidad Nacional de Colombia (UNAL)\\nAptitudes:\\n\\nDesarrollo Back-End\\nResolución de Problemas\\nAprendizaje Rápido\\n\\n\\n'),\n",
       " (7,\n",
       "  'Desarrollador Web Junior\\nNombre: Marta López\\n\\nResumen Profesional: Desarrolladora web junior apasionada por aprender y crecer en el campo del desarrollo web. Recién graduada con un título en Desarrollo de Aplicaciones Web. Conocimientos básicos en HTML, CSS y JavaScript. Busco oportunidades para adquirir experiencia práctica y contribuir al desarrollo de proyectos web.\\n\\nEducación:\\n\\nGrado en Desarrollo de Aplicaciones Web, Universidad Politécnica de Valencia (UPV)\\nProyectos Destacados:\\n\\nDesarrollo de una página web estática utilizando HTML, CSS y JavaScript para la presentación de un negocio local.\\nAptitudes:\\n\\nAprendizaje Rápido\\nTrabajo en Equipo\\nResolución de Problemas\\n\\n\\n'),\n",
       " (8,\n",
       "  'Desarrollador Web Senior\\nNombre: Andrés Martínez\\n\\nResumen Profesional: Desarrollador web senior con más de 10 años de experiencia en el diseño y desarrollo de sitios web dinámicos y aplicaciones web. Expertise en HTML5, CSS3, JavaScript y frameworks como React.js y Vue.js. Demostrada capacidad para liderar equipos y gestionar proyectos de principio a fin.\\n\\nExperiencia Laboral:\\n\\nDesarrollador Web Senior, WebTech Solutions\\nLideré el equipo de desarrollo en la implementación de una plataforma de comercio electrónico utilizando React.js, incrementando las ventas en un 40%.\\nEducación:\\n\\nIngeniería Informática, Universidad Autónoma de Madrid (UAM)\\nAptitudes:\\n\\nDesarrollo Web Full-Stack\\nGestión de Proyectos\\nLiderazgo Técnico\\n\\n\\n'),\n",
       " (9,\n",
       "  'Desarrollador Web Full-Stack con Experiencia en E-Commerce\\nNombre: María González\\n\\nResumen Profesional: Desarrolladora web full-stack con experiencia en el diseño, desarrollo y mantenimiento de sitios web de comercio electrónico. Conocimientos en HTML, CSS, JavaScript, PHP y experiencia en el uso de CMS como WordPress y plataformas de e-commerce como WooCommerce. Enfoque en la creación de experiencias de usuario intuitivas y seguras.\\n\\nExperiencia Laboral:\\n\\nDesarrolladora Web Full-Stack, E-Commerce Solutions Ltd.\\nContribuí al desarrollo y mantenimiento de múltiples sitios web de comercio electrónico utilizando WordPress y WooCommerce, mejorando la experiencia del usuario y aumentando las conversiones.\\nEducación:\\n\\nLicenciatura en Ingeniería de Sistemas, Universidad Nacional de Educación a Distancia (UNED)\\nAptitudes:\\n\\nDesarrollo Web Full-Stack\\nE-Commerce\\nExperiencia de Usuario (UX)'),\n",
       " (10,\n",
       "  'Enfoque en la experiencia en Cisco\\n\\nNombre: Juan Pérez\\n\\nResumen: Ingeniero de Redes con más de 5 años de experiencia en diseño, implementación y mantenimiento de redes Cisco. Especializado en enrutamiento y conmutación, seguridad de red y administración de dispositivos Cisco.\\n\\nExperiencia Laboral:\\n\\nIngeniero de Redes en ABC Solutions (2018 - Presente)\\nLideró el diseño e implementación de una red empresarial basada en Cisco para una empresa de manufactura.\\nRealizó la configuración de dispositivos Cisco ISR, switches Catalyst y firewalls ASA.\\nTécnico de Redes en XYZ Networking (2015 - 2018)\\nProporcionó soporte técnico y mantenimiento preventivo a la infraestructura de red de clientes, incluida la resolución de problemas y actualizaciones de firmware.\\nEducación:\\n\\nLicenciatura en Ingeniería de Telecomunicaciones, Universidad Nacional (2014)\\nCertificaciones:\\n\\nCisco Certified Network Professional (CCNP)\\nCisco Certified Network Associate (CCNA)\\nCisco Certified Design Associate (CCDA)\\nHabilidades Técnicas:\\n\\nRouting y Switching: OSPF, EIGRP, VLANs, STP\\nSeguridad de Red: Firewalls Cisco ASA, VPN\\nHerramientas: Cisco Packet Tracer, Wireshark\\n\\n\\n'),\n",
       " (11,\n",
       "  'Enfoque en experiencia en redes inalámbricas\\n\\nNombre: María García\\n\\nResumen: Ingeniera de Redes con experiencia en diseño, implementación y optimización de redes inalámbricas. Especializada en tecnologías Wi-Fi y soluciones de movilidad empresarial.\\n\\nExperiencia Laboral:\\n\\nIngeniera de Redes en WirelessTech Solutions (2017 - Presente)\\nLideró proyectos de implementación de redes Wi-Fi empresariales para clientes en diversos sectores, incluyendo educación y hospitalidad.\\nRealizó encuestas de sitio, diseño de cobertura y configuración de controladores inalámbricos Cisco y Aruba.\\nIngeniera de Soporte en TechSupport Inc. (2015 - 2017)\\nBrindó soporte técnico de nivel 3 para problemas de conectividad Wi-Fi, incluida la resolución de problemas de interferencia y congestión de canales.\\nEducación:\\n\\nIngeniería en Telecomunicaciones, Universidad Politécnica (2015)\\nCertificaciones:\\n\\nCertified Wireless Network Professional (CWNP)\\nCisco Certified Network Associate (CCNA)\\nHabilidades Técnicas:\\n\\nTecnologías Wi-Fi: 802.11ac, WPA2, roaming rápido\\nControladores WLAN: Cisco Wireless LAN Controller, Aruba Mobility Controller\\nHerramientas: Ekahau Site Survey, AirMagnet WiFi Analyzer\\n\\n\\n'),\n",
       " (12,\n",
       "  'Recién graduado con experiencia de proyecto\\n\\nNombre: Ana López\\n\\nResumen: Recién graduada en Ingeniería de Redes con habilidades en diseño, configuración y administración de redes. Apasionada por la resolución de problemas y el aprendizaje continuo. Experiencia práctica a través de proyectos universitarios y pasantías.\\n\\nExperiencia Laboral:\\n\\nPasante en Redes en XYZ Tech (Verano 2023)\\nColaboró en la configuración y mantenimiento de dispositivos de red, incluidos switches y routers.\\nParticipó en la resolución de problemas de conectividad y seguridad de red bajo la supervisión del equipo de ingeniería.\\nEducación:\\n\\nLicenciatura en Ingeniería de Redes, Universidad Nacional (2023)\\nProyectos Universitarios:\\n\\nDiseño e implementación de una red empresarial simulada utilizando enrutadores Cisco y switches Catalyst.\\nConfiguración de una red inalámbrica segura utilizando tecnologías WPA2 y autenticación 802.1X.\\nHabilidades Técnicas:\\n\\nConocimiento básico en enrutamiento y conmutación: VLANs, enrutamiento estático.\\nFamiliaridad con tecnologías inalámbricas: estándares 802.11, seguridad Wi-Fi.\\nHerramientas: Cisco Packet Tracer, GNS3, Wireshark.\\n\\n\\n'),\n",
       " (13,\n",
       "  'Graduado con certificaciones y proyectos personales\\n\\nNombre: Carlos Martínez\\n\\nResumen: Graduado en Ingeniería de Redes con pasión por la tecnología y el diseño de redes. Certificaciones relevantes y experiencia práctica a través de proyectos personales. Buscando oportunidades para aplicar y ampliar mis conocimientos en un entorno profesional.\\n\\nEducación:\\n\\nLicenciatura en Ingeniería de Redes, Instituto Tecnológico (2022)\\nCertificaciones:\\n\\nCisco Certified Network Associate (CCNA)\\nCompTIA Network+\\nProyectos Personales:\\n\\nConfiguración de una red doméstica utilizando routers y switches Cisco.\\nImplementación de un servidor DHCP y DNS en un entorno de laboratorio.\\nHabilidades Técnicas:\\n\\nConocimiento en enrutamiento y conmutación básicos.\\nFamiliaridad con conceptos de seguridad de red.\\nHerramientas: Cisco Packet Tracer, VirtualBox, Linux.'),\n",
       " (14,\n",
       "  'Ingeniero de Datos Experimentado\\n\\nNombre: Ana García\\n\\nResumen Profesional: Ingeniera de Datos con más de 6 años de experiencia en la gestión, procesamiento y análisis de grandes volúmenes de datos. Especializada en el diseño e implementación de pipelines de datos utilizando herramientas como Apache Spark, Hadoop y Kafka. Amplios conocimientos en lenguajes de programación como Python, R y Scala, así como en bases de datos SQL y NoSQL. Capacidad para trabajar en equipo y comunicar resultados técnicos de manera efectiva.\\n\\nExperiencia Laboral:\\n\\nIngeniero de Datos Senior, DataTech Solutions\\nLideré la implementación de pipelines de datos en tiempo real utilizando Apache Kafka, mejorando la eficiencia del procesamiento de datos en un 40%.\\nAnalista de Datos, Analytic Corp.\\nDesarrollé modelos de machine learning para la predicción de demanda utilizando Python y TensorFlow, lo que resultó en una mejora del 25% en la precisión de las predicciones.\\nEducación:\\n\\nIngeniería en Sistemas de Información, Universidad Politécnica\\nAptitudes:\\n\\nGestión de Datos\\nProcesamiento de Datos a Gran Escala\\nMachine Learning\\nComunicación Técnica\\n\\n\\n'),\n",
       " (15,\n",
       "  'Ingeniero de Datos y Científico de Datos\\n\\nNombre: Javier Martínez\\n\\nResumen Profesional: Ingeniero de Datos y Científico de Datos con más de 7 años de experiencia en el diseño, desarrollo y despliegue de soluciones analíticas. Especializado en el procesamiento y análisis de grandes volúmenes de datos utilizando tecnologías como Python, Apache Spark y Hadoop. Experiencia en la implementación de modelos de machine learning y deep learning para la extracción de insights y la toma de decisiones basada en datos.\\n\\nExperiencia Laboral:\\n\\nIngeniero de Datos, DataTech Solutions\\nLideré el diseño e implementación de pipelines de datos utilizando Apache Spark y Hadoop, mejorando la eficiencia del procesamiento de datos en un 50%.\\nCientífico de Datos, Analytics Corp.\\nDesarrollé modelos predictivos utilizando técnicas de machine learning y deep learning para predecir la demanda de productos, lo que resultó en una reducción del 20% en los costos de inventario.\\nEducación:\\n\\nMaestría en Ciencia de Datos, Universidad de Ciencias Aplicadas\\nAptitudes:\\n\\nProcesamiento de Grandes Volúmenes de Datos\\nModelado Predictivo\\nMachine Learning y Deep Learning\\n\\n\\n'),\n",
       " (16,\n",
       "  'Ingeniera de Datos con Experiencia en Cloud Computing\\n\\nNombre: María Fernández\\n\\nResumen Profesional: Ingeniera de Datos con experiencia en la implementación de soluciones de datos en entornos de nube. Amplios conocimientos en tecnologías como AWS, Google Cloud Platform y Azure, así como en herramientas para el almacenamiento y procesamiento de datos a escala. Experiencia en el diseño e implementación de pipelines de datos utilizando Apache Airflow y AWS Glue.\\n\\nExperiencia Laboral:\\n\\nIngeniera de Datos, Cloud Data Solutions\\nDiseñé e implementé pipelines de datos en la nube utilizando servicios como AWS Glue y Amazon Redshift, mejorando la escalabilidad y la eficiencia del procesamiento de datos.\\nAnalista de Datos, CloudTech Co.\\nMigré la infraestructura de datos a la nube utilizando Google BigQuery y Google Cloud Storage, reduciendo los costos operativos en un 30%.\\nEducación:\\n\\nIngeniería en Sistemas de Información, Universidad Nacional\\nAptitudes:\\n\\nCloud Computing\\nAWS, Google Cloud Platform, Azure\\nApache Airflow, AWS Glue\\n\\n\\n'),\n",
       " (17,\n",
       "  'Científico de Datos Especializado en NLP\\n\\nNombre: Laura Rodríguez\\n\\nResumen Profesional: Científico de Datos con especialización en Procesamiento de Lenguaje Natural (NLP). Amplia experiencia en el desarrollo de modelos de NLP para la extracción de información, análisis de sentimientos y clasificación de textos. Competente en el uso de herramientas y bibliotecas como NLTK, spaCy y TensorFlow para el procesamiento y análisis de texto.\\n\\nExperiencia Laboral:\\n\\nCientífico de Datos, NLP Analytics\\nDesarrollé modelos de NLP para la extracción de información de textos médicos, mejorando la precisión en un 25%.\\nAnalista de Datos, TextTech Solutions\\nImplementé un sistema de análisis de sentimientos en redes sociales utilizando técnicas de NLP, lo que permitió a la empresa tomar decisiones estratégicas basadas en la opinión de los clientes.\\nEducación:\\n\\nMaestría en Ciencia de Datos, Universidad de Ciencias Aplicadas\\nAptitudes:\\n\\nProcesamiento de Lenguaje Natural (NLP)\\nAnálisis de Sentimientos\\nModelado de Texto\\n\\n\\n'),\n",
       " (18,\n",
       "  'Analista de Datos con Experiencia en Visualización\\n\\nNombre: Carlos Gómez\\n\\nResumen Profesional: Analista de Datos con experiencia en la creación de visualizaciones interactivas y paneles de control para comunicar insights derivados del análisis de datos. Competente en herramientas como Tableau, Power BI y D3.js para la creación de visualizaciones efectivas. Habilidades en el análisis exploratorio de datos y la identificación de tendencias utilizando técnicas estadísticas y herramientas de visualización.\\n\\nExperiencia Laboral:\\n\\nAnalista de Datos, Visual Analytics Co.\\nDesarrollé paneles de control interactivos utilizando Tableau para proporcionar insights en tiempo real sobre el rendimiento de las operaciones de la empresa.\\nCientífico de Datos Junior, Data Insights Ltd.\\nRealicé análisis exploratorio de datos utilizando Python y R para identificar patrones y tendencias en conjuntos de datos complejos.\\nEducación:\\n\\nLicenciatura en Estadística, Universidad Nacional\\nAptitudes:\\n\\nVisualización de Datos\\nTableau, Power BI, D3.js\\nAnálisis Exploratorio de Datos\\n\\n\\n'),\n",
       " (19,\n",
       "  'Ingeniero de Datos con Experiencia en Big Data\\n\\nNombre: Marta Martínez\\n\\nResumen Profesional: Ingeniera de Datos con experiencia en el procesamiento y análisis de grandes volúmenes de datos utilizando tecnologías de Big Data como Apache Spark y Hadoop. Experiencia en el diseño e implementación de pipelines de datos escalables y eficientes para el procesamiento de datos en tiempo real y por lotes.\\n\\nExperiencia Laboral:\\n\\nIngeniera de Datos, Big Data Solutions\\nDiseñé e implementé pipelines de datos utilizando Apache Spark y Hadoop para el procesamiento de datos en tiempo real y por lotes, mejorando la eficiencia en un 40%.\\nAnalista de Datos, DataTech Co.\\nDesarrollé algoritmos de machine learning para la detección de fraudes en transacciones financieras utilizando datos de gran volumen, lo que resultó en una reducción del 30% en los casos de fraude.\\nEducación:\\n\\nIngeniería en Informática, Universidad Politécnica\\nAptitudes:\\n\\nProcesamiento de Big Data\\nApache Spark, Hadoop\\nMachine Learning\\n\\n\\n'),\n",
       " (20,\n",
       "  'Analista de Datos con Experiencia en Minería de Datos\\n\\nNombre: Sofía Martínez\\n\\nResumen Profesional: Analista de Datos con experiencia en la minería de datos y el descubrimiento de patrones en conjuntos de datos complejos. Amplios conocimientos en técnicas de minería de datos y aprendizaje automático, así como en herramientas como Python, R y Weka. Experiencia en la identificación de patrones, tendencias y correlaciones en datos para la toma de decisiones empresariales.\\n\\nExperiencia Laboral:\\n\\nAnalista de Datos, Data Mining Co.\\nDesarrollé modelos predictivos utilizando técnicas de minería de datos y aprendizaje automático para predecir el comportamiento del cliente, lo que resultó en un aumento del 20% en las ventas.\\nCientífico de Datos Junior, Analytics Corp.\\nRealicé análisis exploratorio de datos utilizando Python y R para identificar patrones y tendencias en conjuntos de datos complejos.\\nEducación:\\n\\nMaestría en Minería de Datos, Universidad de Ciencias Aplicadas\\nAptitudes:\\n\\nMinería de Datos\\nAprendizaje Automático\\nAnálisis Exploratorio de Datos\\n\\n\\n'),\n",
       " (21,\n",
       "  'Ingeniero de Datos con Experiencia en IoT\\n\\nNombre: David Gómez\\n\\nResumen Profesional: Ingeniero de Datos con experiencia en el procesamiento y análisis de datos provenientes de dispositivos IoT (Internet de las Cosas). Especializado en la implementación de soluciones de IoT para la recopilación, almacenamiento y análisis de datos en tiempo real. Amplios conocimientos en tecnologías de IoT, bases de datos distribuidas y análisis de datos a gran escala.\\n\\nExperiencia Laboral:\\n\\nIngeniero de Datos, IoT Solutions\\nDiseñé e implementé soluciones de IoT para la recopilación y análisis de datos en tiempo real, mejorando la eficiencia operativa en un 30%.\\nDesarrollador Full-Stack, WebTech Co.\\nDesarrollé aplicaciones web para la visualización de datos provenientes de dispositivos IoT, utilizando tecnologías como React.js y Node.js.\\nEducación:\\n\\nIngeniería en Sistemas de Información, Universidad Nacional\\nAptitudes:\\n\\nInternet de las Cosas (IoT)\\nProcesamiento de Datos en Tiempo Real\\nDesarrollo Full-Stack\\n\\n\\n'),\n",
       " (22,\n",
       "  'Aspirante a Científico de Datos\\n\\nNombre: Andrea Sánchez\\n\\nResumen Profesional: Recién graduada en Ciencia de Datos con una pasión por el análisis de datos y el desarrollo de modelos predictivos. Conocimientos en lenguajes de programación como Python y R, así como en herramientas de análisis de datos como Pandas, NumPy y scikit-learn. Interesada en aprender y aplicar técnicas de machine learning y estadística para resolver problemas del mundo real.\\n\\nEducación:\\n\\nLicenciatura en Ciencia de Datos, Universidad Nacional\\nProyectos Destacados:\\n\\nDesarrollo de un modelo de clasificación utilizando el conjunto de datos Iris para predecir especies de flores utilizando Python y scikit-learn.\\nAnálisis exploratorio de datos de un conjunto de datos de viviendas utilizando Pandas y Matplotlib para identificar patrones y tendencias.\\nAptitudes:\\n\\nAnálisis de Datos\\nPython y R\\nMachine Learning\\n\\n\\n'),\n",
       " (23,\n",
       "  'Aspirante a Analista de Datos\\n\\nNombre: Alejandro Martínez\\n\\nResumen Profesional: Graduado recientemente en Estadística con un fuerte interés en el análisis de datos y la visualización de datos. Conocimientos en herramientas estadísticas como R y Python, así como en técnicas de visualización de datos utilizando ggplot2 y Matplotlib. En busca de oportunidades para aplicar habilidades analíticas en entornos empresariales y adquirir experiencia práctica en el campo del análisis de datos.\\n\\nEducación:\\n\\nLicenciatura en Estadística, Universidad Politécnica\\nProyectos Destacados:\\n\\nAnálisis exploratorio de datos utilizando R y ggplot2 para visualizar patrones y tendencias en un conjunto de datos de accidentes de tráfico.\\nDesarrollo de un panel interactivo de visualización de datos utilizando Python y Matplotlib para representar datos económicos.\\nAptitudes:\\n\\nAnálisis de Datos\\nVisualización de Datos\\nR y Python')]"
      ]
     },
     "execution_count": 102,
     "metadata": {},
     "output_type": "execute_result"
    }
   ],
   "source": [
    "texts_ = set_id(merged_texts)\n",
    "texts_"
   ]
  },
  {
   "cell_type": "markdown",
   "metadata": {},
   "source": [
    "**Convertir a dataframe**"
   ]
  },
  {
   "cell_type": "code",
   "execution_count": 129,
   "metadata": {},
   "outputs": [
    {
     "data": {
      "text/html": [
       "<div>\n",
       "<style scoped>\n",
       "    .dataframe tbody tr th:only-of-type {\n",
       "        vertical-align: middle;\n",
       "    }\n",
       "\n",
       "    .dataframe tbody tr th {\n",
       "        vertical-align: top;\n",
       "    }\n",
       "\n",
       "    .dataframe thead th {\n",
       "        text-align: right;\n",
       "    }\n",
       "</style>\n",
       "<table border=\"1\" class=\"dataframe\">\n",
       "  <thead>\n",
       "    <tr style=\"text-align: right;\">\n",
       "      <th></th>\n",
       "      <th>id</th>\n",
       "      <th>cv</th>\n",
       "    </tr>\n",
       "  </thead>\n",
       "  <tbody>\n",
       "    <tr>\n",
       "      <th>0</th>\n",
       "      <td>0</td>\n",
       "      <td>Desarrollador Full-Stack Experimentado\\nNombre...</td>\n",
       "    </tr>\n",
       "    <tr>\n",
       "      <th>1</th>\n",
       "      <td>1</td>\n",
       "      <td>Desarrollador Móvil Junior\\nNombre: Ana García...</td>\n",
       "    </tr>\n",
       "    <tr>\n",
       "      <th>2</th>\n",
       "      <td>2</td>\n",
       "      <td>Desarrollador Back-End Especializado\\nNombre: ...</td>\n",
       "    </tr>\n",
       "    <tr>\n",
       "      <th>3</th>\n",
       "      <td>3</td>\n",
       "      <td>Desarrollador Web Front-End Creativo\\nNombre: ...</td>\n",
       "    </tr>\n",
       "    <tr>\n",
       "      <th>4</th>\n",
       "      <td>4</td>\n",
       "      <td>Desarrollador de Juegos Independiente\\nNombre:...</td>\n",
       "    </tr>\n",
       "    <tr>\n",
       "      <th>5</th>\n",
       "      <td>5</td>\n",
       "      <td>Desarrollador Front-End Senior\\nNombre: Laura ...</td>\n",
       "    </tr>\n",
       "    <tr>\n",
       "      <th>6</th>\n",
       "      <td>6</td>\n",
       "      <td>Desarrollador Back-End Junior\\nNombre: Carlos ...</td>\n",
       "    </tr>\n",
       "    <tr>\n",
       "      <th>7</th>\n",
       "      <td>7</td>\n",
       "      <td>Desarrollador Web Junior\\nNombre: Marta López\\...</td>\n",
       "    </tr>\n",
       "    <tr>\n",
       "      <th>8</th>\n",
       "      <td>8</td>\n",
       "      <td>Desarrollador Web Senior\\nNombre: Andrés Martí...</td>\n",
       "    </tr>\n",
       "    <tr>\n",
       "      <th>9</th>\n",
       "      <td>9</td>\n",
       "      <td>Desarrollador Web Full-Stack con Experiencia e...</td>\n",
       "    </tr>\n",
       "    <tr>\n",
       "      <th>10</th>\n",
       "      <td>10</td>\n",
       "      <td>Enfoque en la experiencia en Cisco\\n\\nNombre: ...</td>\n",
       "    </tr>\n",
       "    <tr>\n",
       "      <th>11</th>\n",
       "      <td>11</td>\n",
       "      <td>Enfoque en experiencia en redes inalámbricas\\n...</td>\n",
       "    </tr>\n",
       "    <tr>\n",
       "      <th>12</th>\n",
       "      <td>12</td>\n",
       "      <td>Recién graduado con experiencia de proyecto\\n\\...</td>\n",
       "    </tr>\n",
       "    <tr>\n",
       "      <th>13</th>\n",
       "      <td>13</td>\n",
       "      <td>Graduado con certificaciones y proyectos perso...</td>\n",
       "    </tr>\n",
       "    <tr>\n",
       "      <th>14</th>\n",
       "      <td>14</td>\n",
       "      <td>Ingeniero de Datos Experimentado\\n\\nNombre: An...</td>\n",
       "    </tr>\n",
       "    <tr>\n",
       "      <th>15</th>\n",
       "      <td>15</td>\n",
       "      <td>Ingeniero de Datos y Científico de Datos\\n\\nNo...</td>\n",
       "    </tr>\n",
       "    <tr>\n",
       "      <th>16</th>\n",
       "      <td>16</td>\n",
       "      <td>Ingeniera de Datos con Experiencia en Cloud Co...</td>\n",
       "    </tr>\n",
       "    <tr>\n",
       "      <th>17</th>\n",
       "      <td>17</td>\n",
       "      <td>Científico de Datos Especializado en NLP\\n\\nNo...</td>\n",
       "    </tr>\n",
       "    <tr>\n",
       "      <th>18</th>\n",
       "      <td>18</td>\n",
       "      <td>Analista de Datos con Experiencia en Visualiza...</td>\n",
       "    </tr>\n",
       "    <tr>\n",
       "      <th>19</th>\n",
       "      <td>19</td>\n",
       "      <td>Ingeniero de Datos con Experiencia en Big Data...</td>\n",
       "    </tr>\n",
       "    <tr>\n",
       "      <th>20</th>\n",
       "      <td>20</td>\n",
       "      <td>Analista de Datos con Experiencia en Minería d...</td>\n",
       "    </tr>\n",
       "    <tr>\n",
       "      <th>21</th>\n",
       "      <td>21</td>\n",
       "      <td>Ingeniero de Datos con Experiencia en IoT\\n\\nN...</td>\n",
       "    </tr>\n",
       "    <tr>\n",
       "      <th>22</th>\n",
       "      <td>22</td>\n",
       "      <td>Aspirante a Científico de Datos\\n\\nNombre: And...</td>\n",
       "    </tr>\n",
       "    <tr>\n",
       "      <th>23</th>\n",
       "      <td>23</td>\n",
       "      <td>Aspirante a Analista de Datos\\n\\nNombre: Aleja...</td>\n",
       "    </tr>\n",
       "  </tbody>\n",
       "</table>\n",
       "</div>"
      ],
      "text/plain": [
       "    id                                                 cv\n",
       "0    0  Desarrollador Full-Stack Experimentado\\nNombre...\n",
       "1    1  Desarrollador Móvil Junior\\nNombre: Ana García...\n",
       "2    2  Desarrollador Back-End Especializado\\nNombre: ...\n",
       "3    3  Desarrollador Web Front-End Creativo\\nNombre: ...\n",
       "4    4  Desarrollador de Juegos Independiente\\nNombre:...\n",
       "5    5  Desarrollador Front-End Senior\\nNombre: Laura ...\n",
       "6    6  Desarrollador Back-End Junior\\nNombre: Carlos ...\n",
       "7    7  Desarrollador Web Junior\\nNombre: Marta López\\...\n",
       "8    8  Desarrollador Web Senior\\nNombre: Andrés Martí...\n",
       "9    9  Desarrollador Web Full-Stack con Experiencia e...\n",
       "10  10  Enfoque en la experiencia en Cisco\\n\\nNombre: ...\n",
       "11  11  Enfoque en experiencia en redes inalámbricas\\n...\n",
       "12  12  Recién graduado con experiencia de proyecto\\n\\...\n",
       "13  13  Graduado con certificaciones y proyectos perso...\n",
       "14  14  Ingeniero de Datos Experimentado\\n\\nNombre: An...\n",
       "15  15  Ingeniero de Datos y Científico de Datos\\n\\nNo...\n",
       "16  16  Ingeniera de Datos con Experiencia en Cloud Co...\n",
       "17  17  Científico de Datos Especializado en NLP\\n\\nNo...\n",
       "18  18  Analista de Datos con Experiencia en Visualiza...\n",
       "19  19  Ingeniero de Datos con Experiencia en Big Data...\n",
       "20  20  Analista de Datos con Experiencia en Minería d...\n",
       "21  21  Ingeniero de Datos con Experiencia en IoT\\n\\nN...\n",
       "22  22  Aspirante a Científico de Datos\\n\\nNombre: And...\n",
       "23  23  Aspirante a Analista de Datos\\n\\nNombre: Aleja..."
      ]
     },
     "execution_count": 129,
     "metadata": {},
     "output_type": "execute_result"
    }
   ],
   "source": [
    "df_data = pd.DataFrame(texts_, columns=['id', 'cv'])\n",
    "df_data"
   ]
  },
  {
   "cell_type": "markdown",
   "metadata": {},
   "source": [
    "**Limpieza de datos**"
   ]
  },
  {
   "cell_type": "code",
   "execution_count": 132,
   "metadata": {},
   "outputs": [],
   "source": [
    "def clean_texts(df):\n",
    "    df_copy = df.copy()\n",
    "    words_split = []\n",
    "    # Separamos en palabras eliminando caracteres especiales\n",
    "    for text in df_copy['cv']:\n",
    "        words = re.split(r'\\W+', text)\n",
    "        words = [word.lower() for word in words]\n",
    "        words_split.append(words)\n",
    "    # Eliminar columna cv y añadir nueva columna con tokens limpios\n",
    "    df_copy.drop('cv', axis=1, inplace=True)\n",
    "    df_copy['cv_tokens'] = words_split\n",
    "\n",
    "    return df_copy"
   ]
  },
  {
   "cell_type": "code",
   "execution_count": 133,
   "metadata": {},
   "outputs": [],
   "source": [
    "df_clean = clean_texts(df_data)"
   ]
  },
  {
   "cell_type": "code",
   "execution_count": 135,
   "metadata": {},
   "outputs": [
    {
     "data": {
      "text/html": [
       "<div>\n",
       "<style scoped>\n",
       "    .dataframe tbody tr th:only-of-type {\n",
       "        vertical-align: middle;\n",
       "    }\n",
       "\n",
       "    .dataframe tbody tr th {\n",
       "        vertical-align: top;\n",
       "    }\n",
       "\n",
       "    .dataframe thead th {\n",
       "        text-align: right;\n",
       "    }\n",
       "</style>\n",
       "<table border=\"1\" class=\"dataframe\">\n",
       "  <thead>\n",
       "    <tr style=\"text-align: right;\">\n",
       "      <th></th>\n",
       "      <th>id</th>\n",
       "      <th>cv_tokens</th>\n",
       "    </tr>\n",
       "  </thead>\n",
       "  <tbody>\n",
       "    <tr>\n",
       "      <th>0</th>\n",
       "      <td>0</td>\n",
       "      <td>[desarrollador, full, stack, experimentado, no...</td>\n",
       "    </tr>\n",
       "    <tr>\n",
       "      <th>1</th>\n",
       "      <td>1</td>\n",
       "      <td>[desarrollador, móvil, junior, nombre, ana, ga...</td>\n",
       "    </tr>\n",
       "    <tr>\n",
       "      <th>2</th>\n",
       "      <td>2</td>\n",
       "      <td>[desarrollador, back, end, especializado, nomb...</td>\n",
       "    </tr>\n",
       "    <tr>\n",
       "      <th>3</th>\n",
       "      <td>3</td>\n",
       "      <td>[desarrollador, web, front, end, creativo, nom...</td>\n",
       "    </tr>\n",
       "    <tr>\n",
       "      <th>4</th>\n",
       "      <td>4</td>\n",
       "      <td>[desarrollador, de, juegos, independiente, nom...</td>\n",
       "    </tr>\n",
       "    <tr>\n",
       "      <th>5</th>\n",
       "      <td>5</td>\n",
       "      <td>[desarrollador, front, end, senior, nombre, la...</td>\n",
       "    </tr>\n",
       "    <tr>\n",
       "      <th>6</th>\n",
       "      <td>6</td>\n",
       "      <td>[desarrollador, back, end, junior, nombre, car...</td>\n",
       "    </tr>\n",
       "    <tr>\n",
       "      <th>7</th>\n",
       "      <td>7</td>\n",
       "      <td>[desarrollador, web, junior, nombre, marta, ló...</td>\n",
       "    </tr>\n",
       "    <tr>\n",
       "      <th>8</th>\n",
       "      <td>8</td>\n",
       "      <td>[desarrollador, web, senior, nombre, andrés, m...</td>\n",
       "    </tr>\n",
       "    <tr>\n",
       "      <th>9</th>\n",
       "      <td>9</td>\n",
       "      <td>[desarrollador, web, full, stack, con, experie...</td>\n",
       "    </tr>\n",
       "    <tr>\n",
       "      <th>10</th>\n",
       "      <td>10</td>\n",
       "      <td>[enfoque, en, la, experiencia, en, cisco, nomb...</td>\n",
       "    </tr>\n",
       "    <tr>\n",
       "      <th>11</th>\n",
       "      <td>11</td>\n",
       "      <td>[enfoque, en, experiencia, en, redes, inalámbr...</td>\n",
       "    </tr>\n",
       "    <tr>\n",
       "      <th>12</th>\n",
       "      <td>12</td>\n",
       "      <td>[recién, graduado, con, experiencia, de, proye...</td>\n",
       "    </tr>\n",
       "    <tr>\n",
       "      <th>13</th>\n",
       "      <td>13</td>\n",
       "      <td>[graduado, con, certificaciones, y, proyectos,...</td>\n",
       "    </tr>\n",
       "    <tr>\n",
       "      <th>14</th>\n",
       "      <td>14</td>\n",
       "      <td>[ingeniero, de, datos, experimentado, nombre, ...</td>\n",
       "    </tr>\n",
       "    <tr>\n",
       "      <th>15</th>\n",
       "      <td>15</td>\n",
       "      <td>[ingeniero, de, datos, y, científico, de, dato...</td>\n",
       "    </tr>\n",
       "    <tr>\n",
       "      <th>16</th>\n",
       "      <td>16</td>\n",
       "      <td>[ingeniera, de, datos, con, experiencia, en, c...</td>\n",
       "    </tr>\n",
       "    <tr>\n",
       "      <th>17</th>\n",
       "      <td>17</td>\n",
       "      <td>[científico, de, datos, especializado, en, nlp...</td>\n",
       "    </tr>\n",
       "    <tr>\n",
       "      <th>18</th>\n",
       "      <td>18</td>\n",
       "      <td>[analista, de, datos, con, experiencia, en, vi...</td>\n",
       "    </tr>\n",
       "    <tr>\n",
       "      <th>19</th>\n",
       "      <td>19</td>\n",
       "      <td>[ingeniero, de, datos, con, experiencia, en, b...</td>\n",
       "    </tr>\n",
       "    <tr>\n",
       "      <th>20</th>\n",
       "      <td>20</td>\n",
       "      <td>[analista, de, datos, con, experiencia, en, mi...</td>\n",
       "    </tr>\n",
       "    <tr>\n",
       "      <th>21</th>\n",
       "      <td>21</td>\n",
       "      <td>[ingeniero, de, datos, con, experiencia, en, i...</td>\n",
       "    </tr>\n",
       "    <tr>\n",
       "      <th>22</th>\n",
       "      <td>22</td>\n",
       "      <td>[aspirante, a, científico, de, datos, nombre, ...</td>\n",
       "    </tr>\n",
       "    <tr>\n",
       "      <th>23</th>\n",
       "      <td>23</td>\n",
       "      <td>[aspirante, a, analista, de, datos, nombre, al...</td>\n",
       "    </tr>\n",
       "  </tbody>\n",
       "</table>\n",
       "</div>"
      ],
      "text/plain": [
       "    id                                          cv_tokens\n",
       "0    0  [desarrollador, full, stack, experimentado, no...\n",
       "1    1  [desarrollador, móvil, junior, nombre, ana, ga...\n",
       "2    2  [desarrollador, back, end, especializado, nomb...\n",
       "3    3  [desarrollador, web, front, end, creativo, nom...\n",
       "4    4  [desarrollador, de, juegos, independiente, nom...\n",
       "5    5  [desarrollador, front, end, senior, nombre, la...\n",
       "6    6  [desarrollador, back, end, junior, nombre, car...\n",
       "7    7  [desarrollador, web, junior, nombre, marta, ló...\n",
       "8    8  [desarrollador, web, senior, nombre, andrés, m...\n",
       "9    9  [desarrollador, web, full, stack, con, experie...\n",
       "10  10  [enfoque, en, la, experiencia, en, cisco, nomb...\n",
       "11  11  [enfoque, en, experiencia, en, redes, inalámbr...\n",
       "12  12  [recién, graduado, con, experiencia, de, proye...\n",
       "13  13  [graduado, con, certificaciones, y, proyectos,...\n",
       "14  14  [ingeniero, de, datos, experimentado, nombre, ...\n",
       "15  15  [ingeniero, de, datos, y, científico, de, dato...\n",
       "16  16  [ingeniera, de, datos, con, experiencia, en, c...\n",
       "17  17  [científico, de, datos, especializado, en, nlp...\n",
       "18  18  [analista, de, datos, con, experiencia, en, vi...\n",
       "19  19  [ingeniero, de, datos, con, experiencia, en, b...\n",
       "20  20  [analista, de, datos, con, experiencia, en, mi...\n",
       "21  21  [ingeniero, de, datos, con, experiencia, en, i...\n",
       "22  22  [aspirante, a, científico, de, datos, nombre, ...\n",
       "23  23  [aspirante, a, analista, de, datos, nombre, al..."
      ]
     },
     "execution_count": 135,
     "metadata": {},
     "output_type": "execute_result"
    }
   ],
   "source": [
    "df_clean"
   ]
  }
 ],
 "metadata": {
  "kernelspec": {
   "display_name": "Python 3",
   "language": "python",
   "name": "python3"
  },
  "language_info": {
   "codemirror_mode": {
    "name": "ipython",
    "version": 3
   },
   "file_extension": ".py",
   "mimetype": "text/x-python",
   "name": "python",
   "nbconvert_exporter": "python",
   "pygments_lexer": "ipython3",
   "version": "3.11.7"
  }
 },
 "nbformat": 4,
 "nbformat_minor": 2
}
