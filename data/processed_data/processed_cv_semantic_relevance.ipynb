{
 "cells": [
  {
   "cell_type": "code",
   "execution_count": 2,
   "metadata": {},
   "outputs": [],
   "source": [
    "import pandas as pd\n",
    "import numpy as np\n",
    "import re\n",
    "import ast\n",
    "import nltk\n",
    "from nltk.corpus import stopwords\n",
    "from nltk.stem import WordNetLemmatizer"
   ]
  },
  {
   "cell_type": "code",
   "execution_count": 47,
   "metadata": {},
   "outputs": [],
   "source": [
    "df = pd.read_csv('../raw_data/datasets/cv_clean_V0')"
   ]
  },
  {
   "cell_type": "code",
   "execution_count": 18,
   "metadata": {},
   "outputs": [
    {
     "data": {
      "text/plain": [
       "1237"
      ]
     },
     "execution_count": 18,
     "metadata": {},
     "output_type": "execute_result"
    }
   ],
   "source": [
    "len(df['cv_tokens'][0]) # longitud de palabras antes de limpieza"
   ]
  },
  {
   "cell_type": "markdown",
   "metadata": {},
   "source": [
    "**Limpieza de datos**"
   ]
  },
  {
   "cell_type": "code",
   "execution_count": 22,
   "metadata": {},
   "outputs": [],
   "source": [
    "stop_words = set(stopwords.words('spanish'))\n",
    "lemmatizer = WordNetLemmatizer()"
   ]
  },
  {
   "cell_type": "code",
   "execution_count": 48,
   "metadata": {},
   "outputs": [],
   "source": [
    "def clean_data(df):\n",
    "    df_copy = df.copy()\n",
    "    # Convertir las cadenas de texto a lista de token real (pasamos de [\"[...]\"] a [[]])\n",
    "    df_copy['cv_tokens'] = df_copy['cv_tokens'].apply(lambda x: ast.literal_eval(x))\n",
    "    # Stopwords\n",
    "    df_copy['cv_tokens'] = df_copy['cv_tokens'].apply(lambda tokens: [token for token in tokens if token not in stop_words])\n",
    "    # Lematizacion de sustantivos\n",
    "    df_copy['cv_tokens'] = df_copy['cv_tokens'].apply(lambda tokens: [lemmatizer.lemmatize(token, pos='n') for token in tokens])\n",
    "    # Lematizacion de verbos\n",
    "    df_copy['cv_tokens'] = df_copy['cv_tokens'].apply(lambda tokens: [lemmatizer.lemmatize(token, pos='v') for token in tokens])\n",
    "    return df_copy"
   ]
  },
  {
   "cell_type": "code",
   "execution_count": 49,
   "metadata": {},
   "outputs": [],
   "source": [
    "df=clean_data(df)"
   ]
  },
  {
   "cell_type": "code",
   "execution_count": 50,
   "metadata": {},
   "outputs": [
    {
     "data": {
      "text/plain": [
       "93"
      ]
     },
     "execution_count": 50,
     "metadata": {},
     "output_type": "execute_result"
    }
   ],
   "source": [
    "len(df['cv_tokens'][0])# longitud de palabras despues de limpieza"
   ]
  },
  {
   "cell_type": "code",
   "execution_count": 51,
   "metadata": {},
   "outputs": [],
   "source": [
    "# Unimos tokens separados por espacios ' '\n",
    "def join_tokens(df):\n",
    "    df_copy = df.copy()\n",
    "\n",
    "    df_copy['cv_tokens'] = df_copy['cv_tokens'].apply(lambda tokens: ' '.join(tokens))\n",
    "    return df_copy"
   ]
  },
  {
   "cell_type": "code",
   "execution_count": 52,
   "metadata": {},
   "outputs": [],
   "source": [
    "df = join_tokens(df)"
   ]
  },
  {
   "cell_type": "code",
   "execution_count": 53,
   "metadata": {},
   "outputs": [
    {
     "data": {
      "text/html": [
       "<div>\n",
       "<style scoped>\n",
       "    .dataframe tbody tr th:only-of-type {\n",
       "        vertical-align: middle;\n",
       "    }\n",
       "\n",
       "    .dataframe tbody tr th {\n",
       "        vertical-align: top;\n",
       "    }\n",
       "\n",
       "    .dataframe thead th {\n",
       "        text-align: right;\n",
       "    }\n",
       "</style>\n",
       "<table border=\"1\" class=\"dataframe\">\n",
       "  <thead>\n",
       "    <tr style=\"text-align: right;\">\n",
       "      <th></th>\n",
       "      <th>id</th>\n",
       "      <th>cv_tokens</th>\n",
       "    </tr>\n",
       "  </thead>\n",
       "  <tbody>\n",
       "    <tr>\n",
       "      <th>0</th>\n",
       "      <td>0</td>\n",
       "      <td>desarrollador full stack experimentado nombre ...</td>\n",
       "    </tr>\n",
       "    <tr>\n",
       "      <th>1</th>\n",
       "      <td>1</td>\n",
       "      <td>desarrollador móvil junior nombre ana garcía r...</td>\n",
       "    </tr>\n",
       "    <tr>\n",
       "      <th>2</th>\n",
       "      <td>2</td>\n",
       "      <td>desarrollador back end especializado nombre ma...</td>\n",
       "    </tr>\n",
       "    <tr>\n",
       "      <th>3</th>\n",
       "      <td>3</td>\n",
       "      <td>desarrollador web front end creativo nombre da...</td>\n",
       "    </tr>\n",
       "    <tr>\n",
       "      <th>4</th>\n",
       "      <td>4</td>\n",
       "      <td>desarrollador juegos independiente nombre pedr...</td>\n",
       "    </tr>\n",
       "    <tr>\n",
       "      <th>5</th>\n",
       "      <td>5</td>\n",
       "      <td>desarrollador front end senior nombre laura fe...</td>\n",
       "    </tr>\n",
       "    <tr>\n",
       "      <th>6</th>\n",
       "      <td>6</td>\n",
       "      <td>desarrollador back end junior nombre carlos sá...</td>\n",
       "    </tr>\n",
       "    <tr>\n",
       "      <th>7</th>\n",
       "      <td>7</td>\n",
       "      <td>desarrollador web junior nombre marta lópez re...</td>\n",
       "    </tr>\n",
       "    <tr>\n",
       "      <th>8</th>\n",
       "      <td>8</td>\n",
       "      <td>desarrollador web senior nombre andrés martíne...</td>\n",
       "    </tr>\n",
       "    <tr>\n",
       "      <th>9</th>\n",
       "      <td>9</td>\n",
       "      <td>desarrollador web full stack experiencia comme...</td>\n",
       "    </tr>\n",
       "    <tr>\n",
       "      <th>10</th>\n",
       "      <td>10</td>\n",
       "      <td>enfoque experiencia cisco nombre juan pérez re...</td>\n",
       "    </tr>\n",
       "    <tr>\n",
       "      <th>11</th>\n",
       "      <td>11</td>\n",
       "      <td>enfoque experiencia rede inalámbricas nombre m...</td>\n",
       "    </tr>\n",
       "    <tr>\n",
       "      <th>12</th>\n",
       "      <td>12</td>\n",
       "      <td>recién graduado experiencia proyecto nombre an...</td>\n",
       "    </tr>\n",
       "    <tr>\n",
       "      <th>13</th>\n",
       "      <td>13</td>\n",
       "      <td>graduado certificaciones proyectos personales ...</td>\n",
       "    </tr>\n",
       "    <tr>\n",
       "      <th>14</th>\n",
       "      <td>14</td>\n",
       "      <td>ingeniero datos experimentado nombre ana garcí...</td>\n",
       "    </tr>\n",
       "    <tr>\n",
       "      <th>15</th>\n",
       "      <td>15</td>\n",
       "      <td>ingeniero datos científico datos nombre javier...</td>\n",
       "    </tr>\n",
       "    <tr>\n",
       "      <th>16</th>\n",
       "      <td>16</td>\n",
       "      <td>ingeniera datos experiencia cloud compute nomb...</td>\n",
       "    </tr>\n",
       "    <tr>\n",
       "      <th>17</th>\n",
       "      <td>17</td>\n",
       "      <td>científico datos especializado nlp nombre laur...</td>\n",
       "    </tr>\n",
       "    <tr>\n",
       "      <th>18</th>\n",
       "      <td>18</td>\n",
       "      <td>analista datos experiencia visualización nombr...</td>\n",
       "    </tr>\n",
       "    <tr>\n",
       "      <th>19</th>\n",
       "      <td>19</td>\n",
       "      <td>ingeniero datos experiencia big data nombre ma...</td>\n",
       "    </tr>\n",
       "    <tr>\n",
       "      <th>20</th>\n",
       "      <td>20</td>\n",
       "      <td>analista datos experiencia minería datos nombr...</td>\n",
       "    </tr>\n",
       "    <tr>\n",
       "      <th>21</th>\n",
       "      <td>21</td>\n",
       "      <td>ingeniero datos experiencia iot nombre david g...</td>\n",
       "    </tr>\n",
       "    <tr>\n",
       "      <th>22</th>\n",
       "      <td>22</td>\n",
       "      <td>aspirante científico datos nombre andrea sánch...</td>\n",
       "    </tr>\n",
       "    <tr>\n",
       "      <th>23</th>\n",
       "      <td>23</td>\n",
       "      <td>aspirante analista datos nombre alejandro mart...</td>\n",
       "    </tr>\n",
       "  </tbody>\n",
       "</table>\n",
       "</div>"
      ],
      "text/plain": [
       "    id                                          cv_tokens\n",
       "0    0  desarrollador full stack experimentado nombre ...\n",
       "1    1  desarrollador móvil junior nombre ana garcía r...\n",
       "2    2  desarrollador back end especializado nombre ma...\n",
       "3    3  desarrollador web front end creativo nombre da...\n",
       "4    4  desarrollador juegos independiente nombre pedr...\n",
       "5    5  desarrollador front end senior nombre laura fe...\n",
       "6    6  desarrollador back end junior nombre carlos sá...\n",
       "7    7  desarrollador web junior nombre marta lópez re...\n",
       "8    8  desarrollador web senior nombre andrés martíne...\n",
       "9    9  desarrollador web full stack experiencia comme...\n",
       "10  10  enfoque experiencia cisco nombre juan pérez re...\n",
       "11  11  enfoque experiencia rede inalámbricas nombre m...\n",
       "12  12  recién graduado experiencia proyecto nombre an...\n",
       "13  13  graduado certificaciones proyectos personales ...\n",
       "14  14  ingeniero datos experimentado nombre ana garcí...\n",
       "15  15  ingeniero datos científico datos nombre javier...\n",
       "16  16  ingeniera datos experiencia cloud compute nomb...\n",
       "17  17  científico datos especializado nlp nombre laur...\n",
       "18  18  analista datos experiencia visualización nombr...\n",
       "19  19  ingeniero datos experiencia big data nombre ma...\n",
       "20  20  analista datos experiencia minería datos nombr...\n",
       "21  21  ingeniero datos experiencia iot nombre david g...\n",
       "22  22  aspirante científico datos nombre andrea sánch...\n",
       "23  23  aspirante analista datos nombre alejandro mart..."
      ]
     },
     "execution_count": 53,
     "metadata": {},
     "output_type": "execute_result"
    }
   ],
   "source": [
    "df"
   ]
  }
 ],
 "metadata": {
  "kernelspec": {
   "display_name": "Python 3",
   "language": "python",
   "name": "python3"
  },
  "language_info": {
   "codemirror_mode": {
    "name": "ipython",
    "version": 3
   },
   "file_extension": ".py",
   "mimetype": "text/x-python",
   "name": "python",
   "nbconvert_exporter": "python",
   "pygments_lexer": "ipython3",
   "version": "3.11.7"
  }
 },
 "nbformat": 4,
 "nbformat_minor": 2
}
