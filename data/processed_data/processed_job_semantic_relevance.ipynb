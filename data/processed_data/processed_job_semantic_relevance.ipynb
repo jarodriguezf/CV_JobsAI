{
 "cells": [
  {
   "cell_type": "code",
   "execution_count": 1,
   "metadata": {},
   "outputs": [],
   "source": [
    "import pandas as pd\n",
    "import numpy as np\n",
    "import re\n",
    "import ast\n",
    "import nltk\n",
    "from nltk.corpus import stopwords\n",
    "from nltk.stem import WordNetLemmatizer"
   ]
  },
  {
   "cell_type": "code",
   "execution_count": 2,
   "metadata": {},
   "outputs": [],
   "source": [
    "df = pd.read_csv('../raw_data/datasets/job_clean_V0')"
   ]
  },
  {
   "cell_type": "code",
   "execution_count": 6,
   "metadata": {},
   "outputs": [
    {
     "data": {
      "text/plain": [
       "1442"
      ]
     },
     "execution_count": 6,
     "metadata": {},
     "output_type": "execute_result"
    }
   ],
   "source": [
    "len(df['job_tokens'][0]) # longitud de palabras antes de limpieza"
   ]
  },
  {
   "cell_type": "markdown",
   "metadata": {},
   "source": [
    "**Limpieza de datos**"
   ]
  },
  {
   "cell_type": "code",
   "execution_count": 3,
   "metadata": {},
   "outputs": [],
   "source": [
    "stop_words = set(stopwords.words('spanish'))\n",
    "lemmatizer = WordNetLemmatizer()"
   ]
  },
  {
   "cell_type": "code",
   "execution_count": 4,
   "metadata": {},
   "outputs": [],
   "source": [
    "def clean_data(df):\n",
    "    df_copy = df.copy()\n",
    "    # Convertir las cadenas de texto a lista de token real (pasamos de [\"[...]\"] a [[]])\n",
    "    df_copy['job_tokens'] = df_copy['job_tokens'].apply(lambda x: ast.literal_eval(x))\n",
    "    # Stopwords\n",
    "    df_copy['job_tokens'] = df_copy['job_tokens'].apply(lambda tokens: [token for token in tokens if token not in stop_words])\n",
    "    # Lematizacion de sustantivos\n",
    "    df_copy['job_tokens'] = df_copy['job_tokens'].apply(lambda tokens: [lemmatizer.lemmatize(token, pos='n') for token in tokens])\n",
    "    # Lematizacion de verbos\n",
    "    df_copy['job_tokens'] = df_copy['job_tokens'].apply(lambda tokens: [lemmatizer.lemmatize(token, pos='v') for token in tokens])\n",
    "    return df_copy"
   ]
  },
  {
   "cell_type": "code",
   "execution_count": 5,
   "metadata": {},
   "outputs": [],
   "source": [
    "df=clean_data(df)"
   ]
  },
  {
   "cell_type": "code",
   "execution_count": 6,
   "metadata": {},
   "outputs": [
    {
     "data": {
      "text/plain": [
       "88"
      ]
     },
     "execution_count": 6,
     "metadata": {},
     "output_type": "execute_result"
    }
   ],
   "source": [
    "len(df['job_tokens'][0]) # longitud de palabras antes de limpieza"
   ]
  },
  {
   "cell_type": "code",
   "execution_count": 7,
   "metadata": {},
   "outputs": [],
   "source": [
    "# Unimos tokens separados por espacios ' '\n",
    "def join_tokens(df):\n",
    "    df_copy = df.copy()\n",
    "\n",
    "    df_copy['job_tokens'] = df_copy['job_tokens'].apply(lambda tokens: ' '.join(tokens))\n",
    "    return df_copy"
   ]
  },
  {
   "cell_type": "code",
   "execution_count": 8,
   "metadata": {},
   "outputs": [],
   "source": [
    "df = join_tokens(df)"
   ]
  },
  {
   "cell_type": "code",
   "execution_count": 9,
   "metadata": {},
   "outputs": [
    {
     "data": {
      "text/html": [
       "<div>\n",
       "<style scoped>\n",
       "    .dataframe tbody tr th:only-of-type {\n",
       "        vertical-align: middle;\n",
       "    }\n",
       "\n",
       "    .dataframe tbody tr th {\n",
       "        vertical-align: top;\n",
       "    }\n",
       "\n",
       "    .dataframe thead th {\n",
       "        text-align: right;\n",
       "    }\n",
       "</style>\n",
       "<table border=\"1\" class=\"dataframe\">\n",
       "  <thead>\n",
       "    <tr style=\"text-align: right;\">\n",
       "      <th></th>\n",
       "      <th>id</th>\n",
       "      <th>job_tokens</th>\n",
       "    </tr>\n",
       "  </thead>\n",
       "  <tbody>\n",
       "    <tr>\n",
       "      <th>0</th>\n",
       "      <td>0</td>\n",
       "      <td>desarrollador software junior aplicaciones móv...</td>\n",
       "    </tr>\n",
       "    <tr>\n",
       "      <th>1</th>\n",
       "      <td>1</td>\n",
       "      <td>ingeniero software full stack tecnologías web ...</td>\n",
       "    </tr>\n",
       "    <tr>\n",
       "      <th>2</th>\n",
       "      <td>2</td>\n",
       "      <td>desarrollador software frontend experiencia us...</td>\n",
       "    </tr>\n",
       "    <tr>\n",
       "      <th>3</th>\n",
       "      <td>3</td>\n",
       "      <td>desarrollador software backend arquitectura mi...</td>\n",
       "    </tr>\n",
       "    <tr>\n",
       "      <th>4</th>\n",
       "      <td>4</td>\n",
       "      <td>ingeniero software juegos desarrollo videojueg...</td>\n",
       "    </tr>\n",
       "    <tr>\n",
       "      <th>5</th>\n",
       "      <td>5</td>\n",
       "      <td>desarrollador software devops automatización i...</td>\n",
       "    </tr>\n",
       "    <tr>\n",
       "      <th>6</th>\n",
       "      <td>6</td>\n",
       "      <td>ingeniero software full stack desarrollo aplic...</td>\n",
       "    </tr>\n",
       "    <tr>\n",
       "      <th>7</th>\n",
       "      <td>7</td>\n",
       "      <td>desarrollador software sénior experiencia inte...</td>\n",
       "    </tr>\n",
       "    <tr>\n",
       "      <th>8</th>\n",
       "      <td>8</td>\n",
       "      <td>desarrollador wordpress implementación sitios ...</td>\n",
       "    </tr>\n",
       "    <tr>\n",
       "      <th>9</th>\n",
       "      <td>9</td>\n",
       "      <td>ingeniero desarrollo java desarrollo aplicacio...</td>\n",
       "    </tr>\n",
       "    <tr>\n",
       "      <th>10</th>\n",
       "      <td>10</td>\n",
       "      <td>ingeniero rede senior acerca empleo buscando i...</td>\n",
       "    </tr>\n",
       "    <tr>\n",
       "      <th>11</th>\n",
       "      <td>11</td>\n",
       "      <td>ingeniero rede principal acerca empleo busca i...</td>\n",
       "    </tr>\n",
       "    <tr>\n",
       "      <th>12</th>\n",
       "      <td>12</td>\n",
       "      <td>ingeniero rede junior acerca empleo buscando i...</td>\n",
       "    </tr>\n",
       "    <tr>\n",
       "      <th>13</th>\n",
       "      <td>13</td>\n",
       "      <td>técnico rede formación acerca empleo buscando ...</td>\n",
       "    </tr>\n",
       "    <tr>\n",
       "      <th>14</th>\n",
       "      <td>14</td>\n",
       "      <td>científico datos senior acerca empleo únete eq...</td>\n",
       "    </tr>\n",
       "    <tr>\n",
       "      <th>15</th>\n",
       "      <td>15</td>\n",
       "      <td>ingeniero datos junior acerca empleo buscando ...</td>\n",
       "    </tr>\n",
       "    <tr>\n",
       "      <th>16</th>\n",
       "      <td>16</td>\n",
       "      <td>analista datos market digital acerca empleo ún...</td>\n",
       "    </tr>\n",
       "    <tr>\n",
       "      <th>17</th>\n",
       "      <td>17</td>\n",
       "      <td>científico datos bioinformática acerca empleo ...</td>\n",
       "    </tr>\n",
       "    <tr>\n",
       "      <th>18</th>\n",
       "      <td>18</td>\n",
       "      <td>científico datos retail especializado deep lea...</td>\n",
       "    </tr>\n",
       "    <tr>\n",
       "      <th>19</th>\n",
       "      <td>19</td>\n",
       "      <td>asistente ciencia datos junior acerca empleo b...</td>\n",
       "    </tr>\n",
       "    <tr>\n",
       "      <th>20</th>\n",
       "      <td>20</td>\n",
       "      <td>ingeniero datos senior acerca empleo buscando ...</td>\n",
       "    </tr>\n",
       "    <tr>\n",
       "      <th>21</th>\n",
       "      <td>21</td>\n",
       "      <td>asistente analista datos acerca empleo buscand...</td>\n",
       "    </tr>\n",
       "    <tr>\n",
       "      <th>22</th>\n",
       "      <td>22</td>\n",
       "      <td>científico datos experto procesamiento lenguaj...</td>\n",
       "    </tr>\n",
       "    <tr>\n",
       "      <th>23</th>\n",
       "      <td>23</td>\n",
       "      <td>científico datos experiencia plataformas cloud...</td>\n",
       "    </tr>\n",
       "  </tbody>\n",
       "</table>\n",
       "</div>"
      ],
      "text/plain": [
       "    id                                         job_tokens\n",
       "0    0  desarrollador software junior aplicaciones móv...\n",
       "1    1  ingeniero software full stack tecnologías web ...\n",
       "2    2  desarrollador software frontend experiencia us...\n",
       "3    3  desarrollador software backend arquitectura mi...\n",
       "4    4  ingeniero software juegos desarrollo videojueg...\n",
       "5    5  desarrollador software devops automatización i...\n",
       "6    6  ingeniero software full stack desarrollo aplic...\n",
       "7    7  desarrollador software sénior experiencia inte...\n",
       "8    8  desarrollador wordpress implementación sitios ...\n",
       "9    9  ingeniero desarrollo java desarrollo aplicacio...\n",
       "10  10  ingeniero rede senior acerca empleo buscando i...\n",
       "11  11  ingeniero rede principal acerca empleo busca i...\n",
       "12  12  ingeniero rede junior acerca empleo buscando i...\n",
       "13  13  técnico rede formación acerca empleo buscando ...\n",
       "14  14  científico datos senior acerca empleo únete eq...\n",
       "15  15  ingeniero datos junior acerca empleo buscando ...\n",
       "16  16  analista datos market digital acerca empleo ún...\n",
       "17  17  científico datos bioinformática acerca empleo ...\n",
       "18  18  científico datos retail especializado deep lea...\n",
       "19  19  asistente ciencia datos junior acerca empleo b...\n",
       "20  20  ingeniero datos senior acerca empleo buscando ...\n",
       "21  21  asistente analista datos acerca empleo buscand...\n",
       "22  22  científico datos experto procesamiento lenguaj...\n",
       "23  23  científico datos experiencia plataformas cloud..."
      ]
     },
     "execution_count": 9,
     "metadata": {},
     "output_type": "execute_result"
    }
   ],
   "source": [
    "df"
   ]
  }
 ],
 "metadata": {
  "kernelspec": {
   "display_name": "Python 3",
   "language": "python",
   "name": "python3"
  },
  "language_info": {
   "codemirror_mode": {
    "name": "ipython",
    "version": 3
   },
   "file_extension": ".py",
   "mimetype": "text/x-python",
   "name": "python",
   "nbconvert_exporter": "python",
   "pygments_lexer": "ipython3",
   "version": "3.11.7"
  }
 },
 "nbformat": 4,
 "nbformat_minor": 2
}
