{
 "cells": [
  {
   "cell_type": "code",
   "execution_count": 19,
   "metadata": {},
   "outputs": [],
   "source": [
    "import pandas as pd\n",
    "import numpy as np\n",
    "import ast\n",
    "from gensim.models import Word2Vec"
   ]
  },
  {
   "cell_type": "code",
   "execution_count": 5,
   "metadata": {},
   "outputs": [
    {
     "data": {
      "text/html": [
       "<div>\n",
       "<style scoped>\n",
       "    .dataframe tbody tr th:only-of-type {\n",
       "        vertical-align: middle;\n",
       "    }\n",
       "\n",
       "    .dataframe tbody tr th {\n",
       "        vertical-align: top;\n",
       "    }\n",
       "\n",
       "    .dataframe thead th {\n",
       "        text-align: right;\n",
       "    }\n",
       "</style>\n",
       "<table border=\"1\" class=\"dataframe\">\n",
       "  <thead>\n",
       "    <tr style=\"text-align: right;\">\n",
       "      <th></th>\n",
       "      <th>id</th>\n",
       "      <th>cv_tokens</th>\n",
       "    </tr>\n",
       "  </thead>\n",
       "  <tbody>\n",
       "    <tr>\n",
       "      <th>0</th>\n",
       "      <td>0</td>\n",
       "      <td>['desarrollador', 'full', 'stack', 'experiment...</td>\n",
       "    </tr>\n",
       "    <tr>\n",
       "      <th>1</th>\n",
       "      <td>1</td>\n",
       "      <td>['desarrollador', 'móvil', 'junior', 'nombre',...</td>\n",
       "    </tr>\n",
       "    <tr>\n",
       "      <th>2</th>\n",
       "      <td>2</td>\n",
       "      <td>['desarrollador', 'back', 'end', 'especializad...</td>\n",
       "    </tr>\n",
       "    <tr>\n",
       "      <th>3</th>\n",
       "      <td>3</td>\n",
       "      <td>['desarrollador', 'web', 'front', 'end', 'crea...</td>\n",
       "    </tr>\n",
       "    <tr>\n",
       "      <th>4</th>\n",
       "      <td>4</td>\n",
       "      <td>['desarrollador', 'de', 'juegos', 'independien...</td>\n",
       "    </tr>\n",
       "    <tr>\n",
       "      <th>5</th>\n",
       "      <td>5</td>\n",
       "      <td>['desarrollador', 'front', 'end', 'senior', 'n...</td>\n",
       "    </tr>\n",
       "    <tr>\n",
       "      <th>6</th>\n",
       "      <td>6</td>\n",
       "      <td>['desarrollador', 'back', 'end', 'junior', 'no...</td>\n",
       "    </tr>\n",
       "    <tr>\n",
       "      <th>7</th>\n",
       "      <td>7</td>\n",
       "      <td>['desarrollador', 'web', 'junior', 'nombre', '...</td>\n",
       "    </tr>\n",
       "    <tr>\n",
       "      <th>8</th>\n",
       "      <td>8</td>\n",
       "      <td>['desarrollador', 'web', 'senior', 'nombre', '...</td>\n",
       "    </tr>\n",
       "    <tr>\n",
       "      <th>9</th>\n",
       "      <td>9</td>\n",
       "      <td>['desarrollador', 'web', 'full', 'stack', 'con...</td>\n",
       "    </tr>\n",
       "    <tr>\n",
       "      <th>10</th>\n",
       "      <td>10</td>\n",
       "      <td>['enfoque', 'en', 'la', 'experiencia', 'en', '...</td>\n",
       "    </tr>\n",
       "    <tr>\n",
       "      <th>11</th>\n",
       "      <td>11</td>\n",
       "      <td>['enfoque', 'en', 'experiencia', 'en', 'redes'...</td>\n",
       "    </tr>\n",
       "    <tr>\n",
       "      <th>12</th>\n",
       "      <td>12</td>\n",
       "      <td>['recién', 'graduado', 'con', 'experiencia', '...</td>\n",
       "    </tr>\n",
       "    <tr>\n",
       "      <th>13</th>\n",
       "      <td>13</td>\n",
       "      <td>['graduado', 'con', 'certificaciones', 'y', 'p...</td>\n",
       "    </tr>\n",
       "    <tr>\n",
       "      <th>14</th>\n",
       "      <td>14</td>\n",
       "      <td>['ingeniero', 'de', 'datos', 'experimentado', ...</td>\n",
       "    </tr>\n",
       "    <tr>\n",
       "      <th>15</th>\n",
       "      <td>15</td>\n",
       "      <td>['ingeniero', 'de', 'datos', 'y', 'científico'...</td>\n",
       "    </tr>\n",
       "    <tr>\n",
       "      <th>16</th>\n",
       "      <td>16</td>\n",
       "      <td>['ingeniera', 'de', 'datos', 'con', 'experienc...</td>\n",
       "    </tr>\n",
       "    <tr>\n",
       "      <th>17</th>\n",
       "      <td>17</td>\n",
       "      <td>['científico', 'de', 'datos', 'especializado',...</td>\n",
       "    </tr>\n",
       "    <tr>\n",
       "      <th>18</th>\n",
       "      <td>18</td>\n",
       "      <td>['analista', 'de', 'datos', 'con', 'experienci...</td>\n",
       "    </tr>\n",
       "    <tr>\n",
       "      <th>19</th>\n",
       "      <td>19</td>\n",
       "      <td>['ingeniero', 'de', 'datos', 'con', 'experienc...</td>\n",
       "    </tr>\n",
       "    <tr>\n",
       "      <th>20</th>\n",
       "      <td>20</td>\n",
       "      <td>['analista', 'de', 'datos', 'con', 'experienci...</td>\n",
       "    </tr>\n",
       "    <tr>\n",
       "      <th>21</th>\n",
       "      <td>21</td>\n",
       "      <td>['ingeniero', 'de', 'datos', 'con', 'experienc...</td>\n",
       "    </tr>\n",
       "    <tr>\n",
       "      <th>22</th>\n",
       "      <td>22</td>\n",
       "      <td>['aspirante', 'a', 'científico', 'de', 'datos'...</td>\n",
       "    </tr>\n",
       "    <tr>\n",
       "      <th>23</th>\n",
       "      <td>23</td>\n",
       "      <td>['aspirante', 'a', 'analista', 'de', 'datos', ...</td>\n",
       "    </tr>\n",
       "  </tbody>\n",
       "</table>\n",
       "</div>"
      ],
      "text/plain": [
       "    id                                          cv_tokens\n",
       "0    0  ['desarrollador', 'full', 'stack', 'experiment...\n",
       "1    1  ['desarrollador', 'móvil', 'junior', 'nombre',...\n",
       "2    2  ['desarrollador', 'back', 'end', 'especializad...\n",
       "3    3  ['desarrollador', 'web', 'front', 'end', 'crea...\n",
       "4    4  ['desarrollador', 'de', 'juegos', 'independien...\n",
       "5    5  ['desarrollador', 'front', 'end', 'senior', 'n...\n",
       "6    6  ['desarrollador', 'back', 'end', 'junior', 'no...\n",
       "7    7  ['desarrollador', 'web', 'junior', 'nombre', '...\n",
       "8    8  ['desarrollador', 'web', 'senior', 'nombre', '...\n",
       "9    9  ['desarrollador', 'web', 'full', 'stack', 'con...\n",
       "10  10  ['enfoque', 'en', 'la', 'experiencia', 'en', '...\n",
       "11  11  ['enfoque', 'en', 'experiencia', 'en', 'redes'...\n",
       "12  12  ['recién', 'graduado', 'con', 'experiencia', '...\n",
       "13  13  ['graduado', 'con', 'certificaciones', 'y', 'p...\n",
       "14  14  ['ingeniero', 'de', 'datos', 'experimentado', ...\n",
       "15  15  ['ingeniero', 'de', 'datos', 'y', 'científico'...\n",
       "16  16  ['ingeniera', 'de', 'datos', 'con', 'experienc...\n",
       "17  17  ['científico', 'de', 'datos', 'especializado',...\n",
       "18  18  ['analista', 'de', 'datos', 'con', 'experienci...\n",
       "19  19  ['ingeniero', 'de', 'datos', 'con', 'experienc...\n",
       "20  20  ['analista', 'de', 'datos', 'con', 'experienci...\n",
       "21  21  ['ingeniero', 'de', 'datos', 'con', 'experienc...\n",
       "22  22  ['aspirante', 'a', 'científico', 'de', 'datos'...\n",
       "23  23  ['aspirante', 'a', 'analista', 'de', 'datos', ..."
      ]
     },
     "execution_count": 5,
     "metadata": {},
     "output_type": "execute_result"
    }
   ],
   "source": [
    "df_data_cv = pd.read_csv('../../data/raw_data/datasets/cv_clean_V0')\n",
    "df_data_cv"
   ]
  },
  {
   "cell_type": "markdown",
   "metadata": {},
   "source": [
    "**Entrenamos modelo (Word2Vec) con datos del df**"
   ]
  },
  {
   "cell_type": "code",
   "execution_count": 39,
   "metadata": {},
   "outputs": [],
   "source": [
    "# Convertir las cadenas de texto a lista de token real (pasamos de [\"[...]\"] a [[]])\n",
    "df_data_cv['cv_tokens'] = df_data_cv['cv_tokens'].apply(lambda x: ast.literal_eval(x))"
   ]
  },
  {
   "cell_type": "code",
   "execution_count": 65,
   "metadata": {},
   "outputs": [],
   "source": [
    "# WORD2VEC\n",
    "# Entrenamos el modelo\n",
    "model = Word2Vec(df_data_cv['cv_tokens'], min_count=2)"
   ]
  },
  {
   "cell_type": "code",
   "execution_count": 66,
   "metadata": {},
   "outputs": [
    {
     "name": "stdout",
     "output_type": "stream",
     "text": [
      "Word2Vec<vocab=345, vector_size=100, alpha=0.025>\n"
     ]
    }
   ],
   "source": [
    "print(model)"
   ]
  },
  {
   "cell_type": "code",
   "execution_count": 67,
   "metadata": {},
   "outputs": [
    {
     "name": "stdout",
     "output_type": "stream",
     "text": [
      "Longitud de palabras totales: 345\n"
     ]
    }
   ],
   "source": [
    "#Imprimir longitud de palabras totales\n",
    "print('Longitud de palabras totales:',len(model.wv))"
   ]
  },
  {
   "cell_type": "code",
   "execution_count": 68,
   "metadata": {},
   "outputs": [
    {
     "name": "stdout",
     "output_type": "stream",
     "text": [
      "Acceder al vector de una palabra\n",
      "[ 8.6002154e-03  1.0716454e-02 -5.0609079e-03  7.7408114e-03\n",
      " -7.2409553e-03 -2.7205614e-02  2.5797620e-02  3.8711261e-02\n",
      " -6.5935571e-03 -5.5487831e-03 -1.4861847e-02 -2.8969949e-02\n",
      "  6.7257583e-03  1.5160569e-02 -4.2839721e-03 -1.0638704e-02\n",
      "  1.8885987e-02 -2.1929592e-02 -8.1426902e-03 -5.2802846e-02\n",
      "  2.1674708e-02  3.7469382e-03  2.6509764e-02 -2.9777144e-03\n",
      " -3.4259062e-03 -8.7760901e-03 -2.3060743e-02 -1.9173870e-02\n",
      " -1.1757587e-02  1.0706856e-02  3.7708089e-02  6.0769855e-03\n",
      "  2.7595207e-02 -2.8805969e-02 -1.5994033e-02  2.2788003e-02\n",
      "  1.2914106e-02 -1.1965019e-02 -2.1620082e-02 -3.3042878e-02\n",
      " -6.4579789e-03 -1.2347895e-02 -7.5122439e-03  1.4330804e-03\n",
      "  2.2104900e-02  1.3978266e-03 -1.7960029e-02 -1.9915165e-02\n",
      "  2.2066133e-02  2.1099342e-02  1.9075664e-03 -2.0435475e-02\n",
      " -9.4027817e-03 -8.0334768e-03 -3.5404372e-03  1.5598507e-02\n",
      "  6.1846790e-03 -3.4259516e-03 -3.6602415e-02  2.6646819e-02\n",
      "  2.8531175e-04 -1.3314698e-02  8.7102251e-03 -9.1912905e-03\n",
      " -3.7761789e-02  1.6270116e-02 -8.4792708e-05  1.4487573e-02\n",
      " -1.9959122e-02  3.0323610e-02 -1.9179944e-02  5.2177450e-03\n",
      "  2.6889959e-02  9.1679571e-03  2.3854600e-02  5.7090614e-03\n",
      "  7.3512867e-03 -9.2358412e-03 -3.3284910e-02  1.3735437e-02\n",
      " -1.0556447e-02 -6.4725182e-03 -3.8239162e-02  3.5531744e-02\n",
      " -2.6748220e-02 -1.8794803e-02  1.7609168e-02  1.4084119e-02\n",
      "  1.9778052e-02  4.6481760e-03  3.4128081e-02  2.2100484e-02\n",
      " -5.2869529e-03 -2.2639714e-03  2.2625407e-02  9.2704035e-03\n",
      "  7.2036358e-03 -2.2827376e-02  1.6830930e-02 -3.1877849e-03]\n"
     ]
    }
   ],
   "source": [
    "print('Acceder al vector de una palabra')\n",
    "print(model.wv['redes'])"
   ]
  },
  {
   "cell_type": "code",
   "execution_count": 69,
   "metadata": {},
   "outputs": [],
   "source": [
    "# Guardar modelo baseline\n",
    "model.save('../../data/raw_data/baseline_model/model.bin')"
   ]
  },
  {
   "cell_type": "markdown",
   "metadata": {},
   "source": [
    "Este modelo no es el oficial, no siquiera esta optimizado. Se utilizara para tener un punto de arranque en los siguientes modelos entrenados."
   ]
  }
 ],
 "metadata": {
  "kernelspec": {
   "display_name": "Python 3",
   "language": "python",
   "name": "python3"
  },
  "language_info": {
   "codemirror_mode": {
    "name": "ipython",
    "version": 3
   },
   "file_extension": ".py",
   "mimetype": "text/x-python",
   "name": "python",
   "nbconvert_exporter": "python",
   "pygments_lexer": "ipython3",
   "version": "3.11.7"
  }
 },
 "nbformat": 4,
 "nbformat_minor": 2
}
