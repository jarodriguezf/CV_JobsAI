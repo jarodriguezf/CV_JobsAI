{
 "cells": [
  {
   "cell_type": "code",
   "execution_count": 1,
   "metadata": {},
   "outputs": [],
   "source": [
    "import pandas as pd\n",
    "import numpy as np\n",
    "import ast\n",
    "from gensim.models import Word2Vec"
   ]
  },
  {
   "cell_type": "code",
   "execution_count": 4,
   "metadata": {},
   "outputs": [
    {
     "data": {
      "text/html": [
       "<div>\n",
       "<style scoped>\n",
       "    .dataframe tbody tr th:only-of-type {\n",
       "        vertical-align: middle;\n",
       "    }\n",
       "\n",
       "    .dataframe tbody tr th {\n",
       "        vertical-align: top;\n",
       "    }\n",
       "\n",
       "    .dataframe thead th {\n",
       "        text-align: right;\n",
       "    }\n",
       "</style>\n",
       "<table border=\"1\" class=\"dataframe\">\n",
       "  <thead>\n",
       "    <tr style=\"text-align: right;\">\n",
       "      <th></th>\n",
       "      <th>id</th>\n",
       "      <th>job_tokens</th>\n",
       "    </tr>\n",
       "  </thead>\n",
       "  <tbody>\n",
       "    <tr>\n",
       "      <th>0</th>\n",
       "      <td>0</td>\n",
       "      <td>['desarrollador', 'de', 'software', 'junior', ...</td>\n",
       "    </tr>\n",
       "    <tr>\n",
       "      <th>1</th>\n",
       "      <td>1</td>\n",
       "      <td>['ingeniero', 'de', 'software', 'full', 'stack...</td>\n",
       "    </tr>\n",
       "    <tr>\n",
       "      <th>2</th>\n",
       "      <td>2</td>\n",
       "      <td>['desarrollador', 'de', 'software', 'frontend'...</td>\n",
       "    </tr>\n",
       "    <tr>\n",
       "      <th>3</th>\n",
       "      <td>3</td>\n",
       "      <td>['desarrollador', 'de', 'software', 'backend',...</td>\n",
       "    </tr>\n",
       "    <tr>\n",
       "      <th>4</th>\n",
       "      <td>4</td>\n",
       "      <td>['ingeniero', 'de', 'software', 'de', 'juegos'...</td>\n",
       "    </tr>\n",
       "    <tr>\n",
       "      <th>5</th>\n",
       "      <td>5</td>\n",
       "      <td>['desarrollador', 'de', 'software', 'devops', ...</td>\n",
       "    </tr>\n",
       "    <tr>\n",
       "      <th>6</th>\n",
       "      <td>6</td>\n",
       "      <td>['ingeniero', 'de', 'software', 'full', 'stack...</td>\n",
       "    </tr>\n",
       "    <tr>\n",
       "      <th>7</th>\n",
       "      <td>7</td>\n",
       "      <td>['desarrollador', 'de', 'software', 'sénior', ...</td>\n",
       "    </tr>\n",
       "    <tr>\n",
       "      <th>8</th>\n",
       "      <td>8</td>\n",
       "      <td>['desarrollador', 'de', 'wordpress', 'implemen...</td>\n",
       "    </tr>\n",
       "    <tr>\n",
       "      <th>9</th>\n",
       "      <td>9</td>\n",
       "      <td>['ingeniero', 'de', 'desarrollo', 'java', 'des...</td>\n",
       "    </tr>\n",
       "    <tr>\n",
       "      <th>10</th>\n",
       "      <td>10</td>\n",
       "      <td>['ingeniero', 'de', 'redes', 'senior', 'acerca...</td>\n",
       "    </tr>\n",
       "    <tr>\n",
       "      <th>11</th>\n",
       "      <td>11</td>\n",
       "      <td>['ingeniero', 'de', 'redes', 'principal', 'ace...</td>\n",
       "    </tr>\n",
       "    <tr>\n",
       "      <th>12</th>\n",
       "      <td>12</td>\n",
       "      <td>['ingeniero', 'de', 'redes', 'junior', 'acerca...</td>\n",
       "    </tr>\n",
       "    <tr>\n",
       "      <th>13</th>\n",
       "      <td>13</td>\n",
       "      <td>['técnico', 'de', 'redes', 'en', 'formación', ...</td>\n",
       "    </tr>\n",
       "    <tr>\n",
       "      <th>14</th>\n",
       "      <td>14</td>\n",
       "      <td>['científico', 'de', 'datos', 'senior', 'acerc...</td>\n",
       "    </tr>\n",
       "    <tr>\n",
       "      <th>15</th>\n",
       "      <td>15</td>\n",
       "      <td>['ingeniero', 'de', 'datos', 'junior', 'acerca...</td>\n",
       "    </tr>\n",
       "    <tr>\n",
       "      <th>16</th>\n",
       "      <td>16</td>\n",
       "      <td>['analista', 'de', 'datos', 'de', 'marketing',...</td>\n",
       "    </tr>\n",
       "    <tr>\n",
       "      <th>17</th>\n",
       "      <td>17</td>\n",
       "      <td>['científico', 'de', 'datos', 'en', 'bioinform...</td>\n",
       "    </tr>\n",
       "    <tr>\n",
       "      <th>18</th>\n",
       "      <td>18</td>\n",
       "      <td>['científico', 'de', 'datos', 'en', 'retail', ...</td>\n",
       "    </tr>\n",
       "    <tr>\n",
       "      <th>19</th>\n",
       "      <td>19</td>\n",
       "      <td>['asistente', 'de', 'ciencia', 'de', 'datos', ...</td>\n",
       "    </tr>\n",
       "    <tr>\n",
       "      <th>20</th>\n",
       "      <td>20</td>\n",
       "      <td>['ingeniero', 'de', 'datos', 'senior', 'acerca...</td>\n",
       "    </tr>\n",
       "    <tr>\n",
       "      <th>21</th>\n",
       "      <td>21</td>\n",
       "      <td>['asistente', 'de', 'analista', 'de', 'datos',...</td>\n",
       "    </tr>\n",
       "    <tr>\n",
       "      <th>22</th>\n",
       "      <td>22</td>\n",
       "      <td>['científico', 'de', 'datos', 'experto', 'en',...</td>\n",
       "    </tr>\n",
       "    <tr>\n",
       "      <th>23</th>\n",
       "      <td>23</td>\n",
       "      <td>['científico', 'de', 'datos', 'con', 'experien...</td>\n",
       "    </tr>\n",
       "  </tbody>\n",
       "</table>\n",
       "</div>"
      ],
      "text/plain": [
       "    id                                         job_tokens\n",
       "0    0  ['desarrollador', 'de', 'software', 'junior', ...\n",
       "1    1  ['ingeniero', 'de', 'software', 'full', 'stack...\n",
       "2    2  ['desarrollador', 'de', 'software', 'frontend'...\n",
       "3    3  ['desarrollador', 'de', 'software', 'backend',...\n",
       "4    4  ['ingeniero', 'de', 'software', 'de', 'juegos'...\n",
       "5    5  ['desarrollador', 'de', 'software', 'devops', ...\n",
       "6    6  ['ingeniero', 'de', 'software', 'full', 'stack...\n",
       "7    7  ['desarrollador', 'de', 'software', 'sénior', ...\n",
       "8    8  ['desarrollador', 'de', 'wordpress', 'implemen...\n",
       "9    9  ['ingeniero', 'de', 'desarrollo', 'java', 'des...\n",
       "10  10  ['ingeniero', 'de', 'redes', 'senior', 'acerca...\n",
       "11  11  ['ingeniero', 'de', 'redes', 'principal', 'ace...\n",
       "12  12  ['ingeniero', 'de', 'redes', 'junior', 'acerca...\n",
       "13  13  ['técnico', 'de', 'redes', 'en', 'formación', ...\n",
       "14  14  ['científico', 'de', 'datos', 'senior', 'acerc...\n",
       "15  15  ['ingeniero', 'de', 'datos', 'junior', 'acerca...\n",
       "16  16  ['analista', 'de', 'datos', 'de', 'marketing',...\n",
       "17  17  ['científico', 'de', 'datos', 'en', 'bioinform...\n",
       "18  18  ['científico', 'de', 'datos', 'en', 'retail', ...\n",
       "19  19  ['asistente', 'de', 'ciencia', 'de', 'datos', ...\n",
       "20  20  ['ingeniero', 'de', 'datos', 'senior', 'acerca...\n",
       "21  21  ['asistente', 'de', 'analista', 'de', 'datos',...\n",
       "22  22  ['científico', 'de', 'datos', 'experto', 'en',...\n",
       "23  23  ['científico', 'de', 'datos', 'con', 'experien..."
      ]
     },
     "execution_count": 4,
     "metadata": {},
     "output_type": "execute_result"
    }
   ],
   "source": [
    "df_data_job = pd.read_csv('../../data/raw_data/datasets/job_clean_V0')\n",
    "df_data_job"
   ]
  },
  {
   "cell_type": "markdown",
   "metadata": {},
   "source": [
    "**Entrenamos modelo (Word2vec)**"
   ]
  },
  {
   "cell_type": "code",
   "execution_count": 5,
   "metadata": {},
   "outputs": [],
   "source": [
    "# Convertir las cadenas de texto a lista de token real (pasamos de [\"[...]\"] a [[]])\n",
    "df_data_job['job_tokens'] = df_data_job['job_tokens'].apply(lambda x: ast.literal_eval(x))"
   ]
  },
  {
   "cell_type": "code",
   "execution_count": 6,
   "metadata": {},
   "outputs": [],
   "source": [
    "# WORD2VEC\n",
    "# Entrenamos el modelo\n",
    "model = Word2Vec(df_data_job['job_tokens'], min_count=2)"
   ]
  },
  {
   "cell_type": "code",
   "execution_count": 7,
   "metadata": {},
   "outputs": [
    {
     "name": "stdout",
     "output_type": "stream",
     "text": [
      "Word2Vec<vocab=370, vector_size=100, alpha=0.025>\n"
     ]
    }
   ],
   "source": [
    "print(model)"
   ]
  },
  {
   "cell_type": "code",
   "execution_count": 8,
   "metadata": {},
   "outputs": [
    {
     "name": "stdout",
     "output_type": "stream",
     "text": [
      "Longitud de palabras totales: 370\n"
     ]
    }
   ],
   "source": [
    "#Imprimir longitud de palabras totales\n",
    "print('Longitud de palabras totales:',len(model.wv))"
   ]
  },
  {
   "cell_type": "code",
   "execution_count": 9,
   "metadata": {},
   "outputs": [
    {
     "name": "stdout",
     "output_type": "stream",
     "text": [
      "Acceder al vector de una palabra\n",
      "[-0.03954842  0.05452554  0.01179701 -0.01577609  0.03597156 -0.08997377\n",
      "  0.02189713  0.09894647 -0.03984358 -0.03224113 -0.01956701 -0.06798931\n",
      " -0.01484371  0.00939281  0.0163119  -0.03389978 -0.00064588 -0.06495143\n",
      " -0.04503425 -0.13077901  0.02954991  0.03737513  0.01226514 -0.01970815\n",
      " -0.00427712  0.02343142 -0.01833652 -0.03939423 -0.068051    0.01377652\n",
      "  0.05192529 -0.01388006  0.03350763 -0.07175876 -0.02071661  0.06712236\n",
      "  0.01194551 -0.03606696 -0.02313256 -0.08234657  0.00836326 -0.03405325\n",
      " -0.01112693  0.00326794  0.06810383 -0.01911869 -0.02178754 -0.00077254\n",
      "  0.03720464  0.01871834  0.06980534 -0.0381438   0.00244274  0.00251067\n",
      " -0.02439493  0.0419692  -0.00706877  0.01373679 -0.05508657  0.02883819\n",
      "  0.02107356 -0.00260595  0.00465202 -0.02705108 -0.03351072  0.03798165\n",
      "  0.03539497  0.06786422 -0.07330628  0.08284291 -0.04369122  0.04841592\n",
      "  0.07423871  0.00113675  0.06544612  0.03708179 -0.00115876 -0.00900372\n",
      " -0.04767852  0.00574425 -0.03662878 -0.00208067 -0.09059109  0.0733411\n",
      " -0.03374108  0.0066409   0.03795763  0.05180328  0.06033162  0.0122176\n",
      "  0.08320523  0.05295655  0.00026338 -0.00216277  0.0802393   0.05012298\n",
      "  0.03336112 -0.05267489  0.0001726  -0.01690059]\n"
     ]
    }
   ],
   "source": [
    "print('Acceder al vector de una palabra')\n",
    "print(model.wv['científico'])"
   ]
  },
  {
   "cell_type": "code",
   "execution_count": 10,
   "metadata": {},
   "outputs": [],
   "source": [
    "# Guardar modelo baseline\n",
    "model.save('../../data/raw_data/baseline_model/model_job.bin')"
   ]
  },
  {
   "cell_type": "markdown",
   "metadata": {},
   "source": [
    "El modelo no es el oficial, representa una base por la cual escalar a modelos mas avanzados"
   ]
  }
 ],
 "metadata": {
  "kernelspec": {
   "display_name": "Python 3",
   "language": "python",
   "name": "python3"
  },
  "language_info": {
   "codemirror_mode": {
    "name": "ipython",
    "version": 3
   },
   "file_extension": ".py",
   "mimetype": "text/x-python",
   "name": "python",
   "nbconvert_exporter": "python",
   "pygments_lexer": "ipython3",
   "version": "3.11.7"
  }
 },
 "nbformat": 4,
 "nbformat_minor": 2
}
