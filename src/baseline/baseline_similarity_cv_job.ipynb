{
 "cells": [
  {
   "cell_type": "code",
   "execution_count": 9,
   "metadata": {},
   "outputs": [],
   "source": [
    "import pandas as pd\n",
    "import numpy as np\n",
    "import ast\n",
    "from gensim.models import Word2Vec\n",
    "from sklearn.metrics.pairwise import cosine_similarity"
   ]
  },
  {
   "cell_type": "code",
   "execution_count": 2,
   "metadata": {},
   "outputs": [],
   "source": [
    "df_data_cv = pd.read_csv('../../data/raw_data/datasets/cv_clean_V0')\n",
    "df_data_job = pd.read_csv('../../data/raw_data/datasets/job_clean_V0')"
   ]
  },
  {
   "cell_type": "code",
   "execution_count": 3,
   "metadata": {},
   "outputs": [],
   "source": [
    "# Convertir las cadenas de texto a lista de token real (pasamos de [\"[...]\"] a [[]])\n",
    "df_data_cv['cv_tokens'] = df_data_cv['cv_tokens'].apply(lambda x: ast.literal_eval(x))\n",
    "df_data_job['job_tokens'] = df_data_job['job_tokens'].apply(lambda x: ast.literal_eval(x))"
   ]
  },
  {
   "cell_type": "markdown",
   "metadata": {},
   "source": [
    "**Carga de modelos**"
   ]
  },
  {
   "cell_type": "code",
   "execution_count": 5,
   "metadata": {},
   "outputs": [],
   "source": [
    "model_cv=Word2Vec.load('../../data/raw_data/baseline_model/model_cv.bin')\n",
    "model_job=Word2Vec.load('../../data/raw_data/baseline_model/model_job.bin')"
   ]
  },
  {
   "cell_type": "code",
   "execution_count": 8,
   "metadata": {},
   "outputs": [
    {
     "name": "stdout",
     "output_type": "stream",
     "text": [
      "Longitud de palabras totales modelo CV: 345\n",
      "Longitud de palabras totales modelo Jobs: 370\n"
     ]
    }
   ],
   "source": [
    "#Imprimir longitud de palabras totales\n",
    "print('Longitud de palabras totales modelo CV:',len(model_cv.wv))\n",
    "print('Longitud de palabras totales modelo Jobs:',len(model_job.wv))"
   ]
  },
  {
   "cell_type": "code",
   "execution_count": 13,
   "metadata": {},
   "outputs": [],
   "source": [
    "# Obtenemos las palabras coreespondientes a cada vector en ambos modelos\n",
    "vocab_cv = model_cv.wv.key_to_index\n",
    "vocab_job = model_job.wv.key_to_index"
   ]
  },
  {
   "cell_type": "code",
   "execution_count": 16,
   "metadata": {},
   "outputs": [],
   "source": [
    "# Obtenemos los vectores de las palabras correspondientes\n",
    "vector_cv_words = model_cv.wv[vocab_cv].reshape(1,-1)\n",
    "vector_job_words= model_job.wv[vocab_job].reshape(1,-1)"
   ]
  },
  {
   "cell_type": "code",
   "execution_count": 23,
   "metadata": {},
   "outputs": [],
   "source": [
    "# Obtenemos la longitud maximo de los vectores\n",
    "max_len = max(len(vector_cv_words[0]), len(vector_job_words[0]))"
   ]
  },
  {
   "cell_type": "code",
   "execution_count": 32,
   "metadata": {},
   "outputs": [],
   "source": [
    "# Rellena los vectores más cortos con ceros\n",
    "def pad_vectors(vector_words, max_len):\n",
    "    padded_vectors = []\n",
    "    for vector in vector_words:\n",
    "        if len(vector) < max_len:\n",
    "            pad_width = max_len - len(vector)\n",
    "            padded_vector = np.pad(vector, (0, pad_width), mode='constant', constant_values=0)\n",
    "            padded_vectors.append(padded_vector)\n",
    "        else:\n",
    "            padded_vectors.append(vector)\n",
    "    return np.array(padded_vectors)"
   ]
  },
  {
   "cell_type": "code",
   "execution_count": 33,
   "metadata": {},
   "outputs": [],
   "source": [
    "vector_cv_words = pad_vectors(vector_cv_words, max_len)\n",
    "vector_job_words = pad_vectors(vector_job_words, max_len)"
   ]
  },
  {
   "cell_type": "code",
   "execution_count": 38,
   "metadata": {},
   "outputs": [],
   "source": [
    "# Calculo de similitud entre vectores\n",
    "similarity_cosine = cosine_similarity(vector_cv_words, vector_job_words)"
   ]
  },
  {
   "cell_type": "code",
   "execution_count": 39,
   "metadata": {},
   "outputs": [
    {
     "name": "stdout",
     "output_type": "stream",
     "text": [
      "Similitud del coseno entre ambos modelos: 0.8542696833610535\n"
     ]
    }
   ],
   "source": [
    "print(f\"Similitud del coseno entre ambos modelos: {similarity_cosine[0][0]}\")"
   ]
  },
  {
   "cell_type": "markdown",
   "metadata": {},
   "source": [
    "A nivel global, los textos encontrados en CV y Jobs son bastante parecidos.\n",
    "\n",
    "Utilizaremos este indicador para futuros modelos mas avanzados, entrenados con deep learning."
   ]
  }
 ],
 "metadata": {
  "kernelspec": {
   "display_name": "Python 3",
   "language": "python",
   "name": "python3"
  },
  "language_info": {
   "codemirror_mode": {
    "name": "ipython",
    "version": 3
   },
   "file_extension": ".py",
   "mimetype": "text/x-python",
   "name": "python",
   "nbconvert_exporter": "python",
   "pygments_lexer": "ipython3",
   "version": "3.11.7"
  }
 },
 "nbformat": 4,
 "nbformat_minor": 2
}
