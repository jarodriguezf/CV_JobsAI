{
 "cells": [
  {
   "cell_type": "code",
   "execution_count": 1,
   "metadata": {},
   "outputs": [
    {
     "name": "stderr",
     "output_type": "stream",
     "text": [
      "c:\\Users\\jarod\\AppData\\Local\\Programs\\Python\\Python311\\Lib\\site-packages\\transformers\\utils\\hub.py:124: FutureWarning: Using `TRANSFORMERS_CACHE` is deprecated and will be removed in v5 of Transformers. Use `HF_HOME` instead.\n",
      "  warnings.warn(\n"
     ]
    },
    {
     "name": "stdout",
     "output_type": "stream",
     "text": [
      "WARNING:tensorflow:From c:\\Users\\jarod\\AppData\\Local\\Programs\\Python\\Python311\\Lib\\site-packages\\keras\\src\\losses.py:2976: The name tf.losses.sparse_softmax_cross_entropy is deprecated. Please use tf.compat.v1.losses.sparse_softmax_cross_entropy instead.\n",
      "\n"
     ]
    }
   ],
   "source": [
    "import pandas as pd\n",
    "import numpy as np\n",
    "from transformers import AutoTokenizer, TFAutoModel\n",
    "import tensorflow as tf\n",
    "from sklearn.metrics.pairwise import cosine_similarity"
   ]
  },
  {
   "cell_type": "code",
   "execution_count": 3,
   "metadata": {},
   "outputs": [],
   "source": [
    "df_jobs = pd.read_csv('../../data/raw_data/datasets/job_raw_V0')"
   ]
  },
  {
   "cell_type": "code",
   "execution_count": 4,
   "metadata": {},
   "outputs": [
    {
     "data": {
      "text/html": [
       "<div>\n",
       "<style scoped>\n",
       "    .dataframe tbody tr th:only-of-type {\n",
       "        vertical-align: middle;\n",
       "    }\n",
       "\n",
       "    .dataframe tbody tr th {\n",
       "        vertical-align: top;\n",
       "    }\n",
       "\n",
       "    .dataframe thead th {\n",
       "        text-align: right;\n",
       "    }\n",
       "</style>\n",
       "<table border=\"1\" class=\"dataframe\">\n",
       "  <thead>\n",
       "    <tr style=\"text-align: right;\">\n",
       "      <th></th>\n",
       "      <th>id</th>\n",
       "      <th>job</th>\n",
       "    </tr>\n",
       "  </thead>\n",
       "  <tbody>\n",
       "    <tr>\n",
       "      <th>0</th>\n",
       "      <td>0</td>\n",
       "      <td>Desarrollador de Software Junior - Aplicacione...</td>\n",
       "    </tr>\n",
       "    <tr>\n",
       "      <th>1</th>\n",
       "      <td>1</td>\n",
       "      <td>Ingeniero de Software Full Stack - Tecnologías...</td>\n",
       "    </tr>\n",
       "    <tr>\n",
       "      <th>2</th>\n",
       "      <td>2</td>\n",
       "      <td>Desarrollador de Software Frontend - Experienc...</td>\n",
       "    </tr>\n",
       "    <tr>\n",
       "      <th>3</th>\n",
       "      <td>3</td>\n",
       "      <td>Desarrollador de Software Backend - Arquitectu...</td>\n",
       "    </tr>\n",
       "    <tr>\n",
       "      <th>4</th>\n",
       "      <td>4</td>\n",
       "      <td>Ingeniero de Software de Juegos - Desarrollo d...</td>\n",
       "    </tr>\n",
       "  </tbody>\n",
       "</table>\n",
       "</div>"
      ],
      "text/plain": [
       "   id                                                job\n",
       "0   0  Desarrollador de Software Junior - Aplicacione...\n",
       "1   1  Ingeniero de Software Full Stack - Tecnologías...\n",
       "2   2  Desarrollador de Software Frontend - Experienc...\n",
       "3   3  Desarrollador de Software Backend - Arquitectu...\n",
       "4   4  Ingeniero de Software de Juegos - Desarrollo d..."
      ]
     },
     "execution_count": 4,
     "metadata": {},
     "output_type": "execute_result"
    }
   ],
   "source": [
    "df_jobs.head()"
   ]
  },
  {
   "cell_type": "markdown",
   "metadata": {},
   "source": [
    "**Eliminar caracter especial salto de linea '\\n'**"
   ]
  },
  {
   "cell_type": "code",
   "execution_count": 5,
   "metadata": {},
   "outputs": [],
   "source": [
    "def delete_line_break(df):\n",
    "    df_copy = df.copy()\n",
    "    df_copy.iloc[:, 1] = df_copy.iloc[:, 1].apply(lambda x: x.replace('\\n', ' '))\n",
    "    return df_copy"
   ]
  },
  {
   "cell_type": "code",
   "execution_count": 6,
   "metadata": {},
   "outputs": [],
   "source": [
    "df_jobs=delete_line_break(df_jobs)"
   ]
  },
  {
   "cell_type": "code",
   "execution_count": 9,
   "metadata": {},
   "outputs": [
    {
     "data": {
      "text/html": [
       "<div>\n",
       "<style scoped>\n",
       "    .dataframe tbody tr th:only-of-type {\n",
       "        vertical-align: middle;\n",
       "    }\n",
       "\n",
       "    .dataframe tbody tr th {\n",
       "        vertical-align: top;\n",
       "    }\n",
       "\n",
       "    .dataframe thead th {\n",
       "        text-align: right;\n",
       "    }\n",
       "</style>\n",
       "<table border=\"1\" class=\"dataframe\">\n",
       "  <thead>\n",
       "    <tr style=\"text-align: right;\">\n",
       "      <th></th>\n",
       "      <th>id</th>\n",
       "      <th>job</th>\n",
       "    </tr>\n",
       "  </thead>\n",
       "  <tbody>\n",
       "    <tr>\n",
       "      <th>0</th>\n",
       "      <td>0</td>\n",
       "      <td>Desarrollador de Software Junior - Aplicacione...</td>\n",
       "    </tr>\n",
       "    <tr>\n",
       "      <th>1</th>\n",
       "      <td>1</td>\n",
       "      <td>Ingeniero de Software Full Stack - Tecnologías...</td>\n",
       "    </tr>\n",
       "    <tr>\n",
       "      <th>2</th>\n",
       "      <td>2</td>\n",
       "      <td>Desarrollador de Software Frontend - Experienc...</td>\n",
       "    </tr>\n",
       "    <tr>\n",
       "      <th>3</th>\n",
       "      <td>3</td>\n",
       "      <td>Desarrollador de Software Backend - Arquitectu...</td>\n",
       "    </tr>\n",
       "    <tr>\n",
       "      <th>4</th>\n",
       "      <td>4</td>\n",
       "      <td>Ingeniero de Software de Juegos - Desarrollo d...</td>\n",
       "    </tr>\n",
       "  </tbody>\n",
       "</table>\n",
       "</div>"
      ],
      "text/plain": [
       "   id                                                job\n",
       "0   0  Desarrollador de Software Junior - Aplicacione...\n",
       "1   1  Ingeniero de Software Full Stack - Tecnologías...\n",
       "2   2  Desarrollador de Software Frontend - Experienc...\n",
       "3   3  Desarrollador de Software Backend - Arquitectu...\n",
       "4   4  Ingeniero de Software de Juegos - Desarrollo d..."
      ]
     },
     "execution_count": 9,
     "metadata": {},
     "output_type": "execute_result"
    }
   ],
   "source": [
    "df_jobs.head()"
   ]
  },
  {
   "cell_type": "markdown",
   "metadata": {},
   "source": [
    "**Modelado**"
   ]
  },
  {
   "cell_type": "code",
   "execution_count": 10,
   "metadata": {},
   "outputs": [
    {
     "name": "stdout",
     "output_type": "stream",
     "text": [
      "WARNING:tensorflow:From c:\\Users\\jarod\\AppData\\Local\\Programs\\Python\\Python311\\Lib\\site-packages\\keras\\src\\backend.py:873: The name tf.get_default_graph is deprecated. Please use tf.compat.v1.get_default_graph instead.\n",
      "\n"
     ]
    },
    {
     "name": "stderr",
     "output_type": "stream",
     "text": [
      "Some weights of the PyTorch model were not used when initializing the TF 2.0 model TFBertModel: ['embeddings.position_ids']\n",
      "- This IS expected if you are initializing TFBertModel from a PyTorch model trained on another task or with another architecture (e.g. initializing a TFBertForSequenceClassification model from a BertForPreTraining model).\n",
      "- This IS NOT expected if you are initializing TFBertModel from a PyTorch model that you expect to be exactly identical (e.g. initializing a TFBertForSequenceClassification model from a BertForSequenceClassification model).\n",
      "All the weights of TFBertModel were initialized from the PyTorch model.\n",
      "If your task is similar to the task the model of the checkpoint was trained on, you can already use TFBertModel for predictions without further training.\n"
     ]
    }
   ],
   "source": [
    "# Carga del modelo y tokenizador\n",
    "model_name = 'sentence-transformers/paraphrase-multilingual-MiniLM-L12-v2'\n",
    "tokenizer = AutoTokenizer.from_pretrained(model_name)\n",
    "model = TFAutoModel.from_pretrained(model_name)"
   ]
  },
  {
   "cell_type": "code",
   "execution_count": 11,
   "metadata": {},
   "outputs": [],
   "source": [
    "# Tokenizamos los textos\n",
    "tokenized_inputs = tokenizer(df_jobs['job'].to_list(), padding=True, \n",
    "                             truncation=True, max_length=768, return_tensors=\"tf\")"
   ]
  },
  {
   "cell_type": "code",
   "execution_count": 12,
   "metadata": {},
   "outputs": [],
   "source": [
    "# Extraemos el resultado en funcion de las representaciones de MiniLM\n",
    "outputs = model(tokenized_inputs)"
   ]
  },
  {
   "cell_type": "code",
   "execution_count": 13,
   "metadata": {},
   "outputs": [],
   "source": [
    "# Capturamos los embeddings\n",
    "embeddings = outputs.last_hidden_state"
   ]
  },
  {
   "cell_type": "code",
   "execution_count": 14,
   "metadata": {},
   "outputs": [],
   "source": [
    "# Normaliza los vectores de embedding para asegurarte de que tengan longitud unitaria\n",
    "normalized_embeddings = embeddings / np.linalg.norm(embeddings, axis=1, keepdims=True)"
   ]
  },
  {
   "cell_type": "code",
   "execution_count": 15,
   "metadata": {},
   "outputs": [],
   "source": [
    "def calculate_cosine(mean_embedding_1,mean_embedding_2):\n",
    "    similarity_score = cosine_similarity([mean_embedding_1], [mean_embedding_2])[0, 0]\n",
    "    return similarity_score"
   ]
  },
  {
   "cell_type": "code",
   "execution_count": 17,
   "metadata": {},
   "outputs": [],
   "source": [
    "def similitud_job(job_1, job_2):\n",
    "    \n",
    "    # Calcular la media de los embeddings\n",
    "    mean_embedding_1 = np.mean(normalized_embeddings[job_1], axis=0)\n",
    "    mean_embedding_2 = np.mean(normalized_embeddings[job_2], axis=0)\n",
    "\n",
    "    # Calcular la similitud coseno entre los embeddings\n",
    "    similarity_score = calculate_cosine(mean_embedding_1,mean_embedding_2)\n",
    "\n",
    "    # Mostrar en pantalla resultados\n",
    "    print(f\"La similaridad entre la oferta {job_1} y {job_2} es de:\", similarity_score)\n",
    "    print('\\n------------')\n",
    "    print(f'Oferta con id {job_1}')\n",
    "    print(df_jobs['job'][job_1])\n",
    "    print('\\n------------')\n",
    "    print(f'Oferta con id {job_2}')\n",
    "    print(df_jobs['job'][job_2])"
   ]
  },
  {
   "cell_type": "code",
   "execution_count": 22,
   "metadata": {},
   "outputs": [
    {
     "name": "stdout",
     "output_type": "stream",
     "text": [
      "La similaridad entre la oferta 10 y 23 es de: 0.6735363\n",
      "\n",
      "------------\n",
      "Oferta con id 10\n",
      "Ingeniero de Redes Senior Acerca del Empleo: Estamos buscando un Ingeniero de Redes Senior para unirse a nuestro equipo dinámico. En este papel, serás responsable de diseñar, implementar y mantener nuestra infraestructura de red para garantizar la conectividad y la seguridad de nuestros sistemas.  Responsabilidades:  Diseñar y configurar redes LAN/WAN para garantizar un rendimiento óptimo. Implementar medidas de seguridad de red, como firewalls y sistemas de detección de intrusiones. Colaborar con otros equipos para resolver problemas de red y optimizar el rendimiento. Realizar pruebas de rendimiento y diagnóstico para identificar y resolver problemas de red. Mantener la documentación técnica actualizada sobre la infraestructura de red. Cualificaciones:  Licenciatura en Ingeniería Informática, Telecomunicaciones o campo relacionado. Experiencia previa en la configuración y administración de dispositivos de red (switches, routers, firewalls). Conocimiento sólido de protocolos de red, como TCP/IP, DNS, DHCP. Capacidad para resolver problemas de manera efectiva y trabajar en equipo. Certificaciones relevantes, como CCNA, CCNP, serán valoradas. Lo que Ofrecemos:  Oportunidad de trabajar en un entorno colaborativo y desafiante. Capacitación continua y desarrollo profesional. Salario competitivo y beneficios adicionales. Posibilidad de crecimiento dentro de la empresa.   \n",
      "\n",
      "------------\n",
      "Oferta con id 23\n",
      "Científico de Datos con Experiencia en Plataformas Cloud Acerca del empleo: Estamos buscando un Científico de Datos con experiencia en el manejo y análisis de datos en entornos de computación en la nube para liderar proyectos de análisis de datos escalables y eficientes.  Responsabilidades:  Diseñar y desarrollar soluciones de análisis de datos en plataformas en la nube como AWS, Azure o Google Cloud Platform. Implementar pipelines de datos eficientes y escalables utilizando servicios de almacenamiento y procesamiento en la nube. Optimizar el rendimiento y la eficiencia de los procesos de análisis de datos en entornos de nube distribuida. Cualificación:  Experiencia previa en el diseño y desarrollo de soluciones de análisis de datos en plataformas en la nube. Conocimiento profundo de servicios en la nube como AWS S3, EC2, Lambda, Azure Blob Storage, Google BigQuery, etc. Habilidades avanzadas en programación en Python, SQL y herramientas de análisis de datos. Experiencia en la implementación de arquitecturas de datos escalables y seguras en entornos de nube. Lo que ofrecemos:  Oportunidad de liderar proyectos de análisis de datos en entornos de nube de clase mundial. Salario competitivo y beneficios adicionales. Ambiente de trabajo colaborativo y enfocado en la innovación tecnológica en la nube.\n"
     ]
    }
   ],
   "source": [
    "similitud_job(10, 23)"
   ]
  }
 ],
 "metadata": {
  "kernelspec": {
   "display_name": "Python 3",
   "language": "python",
   "name": "python3"
  },
  "language_info": {
   "codemirror_mode": {
    "name": "ipython",
    "version": 3
   },
   "file_extension": ".py",
   "mimetype": "text/x-python",
   "name": "python",
   "nbconvert_exporter": "python",
   "pygments_lexer": "ipython3",
   "version": "3.11.7"
  }
 },
 "nbformat": 4,
 "nbformat_minor": 2
}
