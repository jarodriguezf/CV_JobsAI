{
 "cells": [
  {
   "cell_type": "code",
   "execution_count": 1,
   "metadata": {},
   "outputs": [
    {
     "name": "stderr",
     "output_type": "stream",
     "text": [
      "c:\\Users\\jarod\\AppData\\Local\\Programs\\Python\\Python311\\Lib\\site-packages\\transformers\\utils\\hub.py:124: FutureWarning: Using `TRANSFORMERS_CACHE` is deprecated and will be removed in v5 of Transformers. Use `HF_HOME` instead.\n",
      "  warnings.warn(\n"
     ]
    },
    {
     "name": "stdout",
     "output_type": "stream",
     "text": [
      "WARNING:tensorflow:From c:\\Users\\jarod\\AppData\\Local\\Programs\\Python\\Python311\\Lib\\site-packages\\keras\\src\\losses.py:2976: The name tf.losses.sparse_softmax_cross_entropy is deprecated. Please use tf.compat.v1.losses.sparse_softmax_cross_entropy instead.\n",
      "\n",
      "WARNING:tensorflow:From c:\\Users\\jarod\\AppData\\Local\\Programs\\Python\\Python311\\Lib\\site-packages\\keras\\src\\backend.py:873: The name tf.get_default_graph is deprecated. Please use tf.compat.v1.get_default_graph instead.\n",
      "\n"
     ]
    },
    {
     "name": "stderr",
     "output_type": "stream",
     "text": [
      "Some weights of the PyTorch model were not used when initializing the TF 2.0 model TFBertModel: ['embeddings.position_ids']\n",
      "- This IS expected if you are initializing TFBertModel from a PyTorch model trained on another task or with another architecture (e.g. initializing a TFBertForSequenceClassification model from a BertForPreTraining model).\n",
      "- This IS NOT expected if you are initializing TFBertModel from a PyTorch model that you expect to be exactly identical (e.g. initializing a TFBertForSequenceClassification model from a BertForSequenceClassification model).\n",
      "All the weights of TFBertModel were initialized from the PyTorch model.\n",
      "If your task is similar to the task the model of the checkpoint was trained on, you can already use TFBertModel for predictions without further training.\n",
      "Some weights of the PyTorch model were not used when initializing the TF 2.0 model TFBertModel: ['embeddings.position_ids']\n",
      "- This IS expected if you are initializing TFBertModel from a PyTorch model trained on another task or with another architecture (e.g. initializing a TFBertForSequenceClassification model from a BertForPreTraining model).\n",
      "- This IS NOT expected if you are initializing TFBertModel from a PyTorch model that you expect to be exactly identical (e.g. initializing a TFBertForSequenceClassification model from a BertForSequenceClassification model).\n",
      "All the weights of TFBertModel were initialized from the PyTorch model.\n",
      "If your task is similar to the task the model of the checkpoint was trained on, you can already use TFBertModel for predictions without further training.\n"
     ]
    }
   ],
   "source": [
    "import sys\n",
    "sys.path.append('../../data/automation_scripts_data/')\n",
    "from automation_cv_data_processing import run_processing_data_cv\n",
    "from automation_job_data_processing import run_processing_data_job\n",
    "from automation_scripts_model.automation_cv_modelling import run_automation_modelling_cv\n",
    "from automation_scripts_model.automation_job_modelling import run_automation_modelling_job\n",
    "import pandas as pd\n",
    "import numpy as np\n",
    "from sklearn.metrics.pairwise import cosine_similarity"
   ]
  },
  {
   "cell_type": "code",
   "execution_count": 2,
   "metadata": {},
   "outputs": [],
   "source": [
    "# Cargamos txt de cv\n",
    "raw_cvs_SoftwareDev = open('../../data/raw_data/Data_CV_SoftwareDeveloper.txt',encoding='utf-8').read()\n",
    "raw_cvs_NetworkEng = open('../../data/raw_data/Data_CV_NetworkEngineer.txt',encoding='utf-8').read()\n",
    "raw_cvs_IADev= open('../../data/raw_data/Data_CV_IADeveloper.txt',encoding='utf-8').read()"
   ]
  },
  {
   "cell_type": "code",
   "execution_count": 3,
   "metadata": {},
   "outputs": [],
   "source": [
    "# Cargamos txt de jobs\n",
    "raw_jobs_SoftwareDev = open('../../data/raw_data/Data_Jobs_SoftwareDeveloper.txt',encoding='utf-8').read()\n",
    "raw_jobs_NetworkEng = open('../../data/raw_data/Data_Jobs_NetworkEngineer.txt',encoding='utf-8').read()\n",
    "raw_jobs_IADev= open('../../data/raw_data/Data_Jobs_IADeveloper.txt',encoding='utf-8').read()"
   ]
  },
  {
   "cell_type": "code",
   "execution_count": 4,
   "metadata": {},
   "outputs": [
    {
     "name": "stdout",
     "output_type": "stream",
     "text": [
      "--INICIANDO PROCESAMIENTO DE DATOS CVS--\n",
      "Analizando CVs y extraccion de categorias...\n",
      "Fusionando categorias procesadas...\n",
      "Eliminando valores innecesarios...\n",
      "Estableciendo id de posicion...\n",
      "Convirtiendo a Dataframe...\n",
      "Limpieza inicial de datos...\n",
      "Limpieza semantica de datos...\n",
      "Aplicando mejoras...\n",
      "--FIN DEL PROCESAMIENTO--\n",
      "--INICIANDO PROCESAMIENTO DE DATOS JOBS--\n",
      "Analizando Jobs y extraccion de categorias...\n",
      "Fusionando categorias procesadas...\n",
      "Eliminando valores innecesarios...\n",
      "Estableciendo id de posicion...\n",
      "Convirtiendo a Dataframe...\n",
      "Limpieza inicial de datos...\n",
      "Limpieza semantica de datos...\n",
      "Aplicando mejoras...\n",
      "--FIN DEL PROCESAMIENTO--\n"
     ]
    }
   ],
   "source": [
    "# Llamamos al script de procesamiento de datos\n",
    "df_cv_processed, df_cv_original = run_processing_data_cv(raw_cvs_SoftwareDev,raw_cvs_NetworkEng,raw_cvs_IADev)\n",
    "df_jobs_processed, df_job_original = run_processing_data_job(raw_jobs_SoftwareDev,raw_jobs_NetworkEng,raw_jobs_IADev)"
   ]
  },
  {
   "cell_type": "code",
   "execution_count": 6,
   "metadata": {},
   "outputs": [
    {
     "data": {
      "text/html": [
       "<div>\n",
       "<style scoped>\n",
       "    .dataframe tbody tr th:only-of-type {\n",
       "        vertical-align: middle;\n",
       "    }\n",
       "\n",
       "    .dataframe tbody tr th {\n",
       "        vertical-align: top;\n",
       "    }\n",
       "\n",
       "    .dataframe thead th {\n",
       "        text-align: right;\n",
       "    }\n",
       "</style>\n",
       "<table border=\"1\" class=\"dataframe\">\n",
       "  <thead>\n",
       "    <tr style=\"text-align: right;\">\n",
       "      <th></th>\n",
       "      <th>id</th>\n",
       "      <th>cv_tokens</th>\n",
       "    </tr>\n",
       "  </thead>\n",
       "  <tbody>\n",
       "    <tr>\n",
       "      <th>0</th>\n",
       "      <td>0</td>\n",
       "      <td>desarrollador full stack experimentado nombre ...</td>\n",
       "    </tr>\n",
       "    <tr>\n",
       "      <th>1</th>\n",
       "      <td>1</td>\n",
       "      <td>desarrollador móvil junior nombre ana garcía r...</td>\n",
       "    </tr>\n",
       "    <tr>\n",
       "      <th>2</th>\n",
       "      <td>2</td>\n",
       "      <td>desarrollador back end especializado nombre ma...</td>\n",
       "    </tr>\n",
       "    <tr>\n",
       "      <th>3</th>\n",
       "      <td>3</td>\n",
       "      <td>desarrollador web front end creativo nombre da...</td>\n",
       "    </tr>\n",
       "    <tr>\n",
       "      <th>4</th>\n",
       "      <td>4</td>\n",
       "      <td>desarrollador juegos independiente nombre pedr...</td>\n",
       "    </tr>\n",
       "  </tbody>\n",
       "</table>\n",
       "</div>"
      ],
      "text/plain": [
       "   id                                          cv_tokens\n",
       "0   0  desarrollador full stack experimentado nombre ...\n",
       "1   1  desarrollador móvil junior nombre ana garcía r...\n",
       "2   2  desarrollador back end especializado nombre ma...\n",
       "3   3  desarrollador web front end creativo nombre da...\n",
       "4   4  desarrollador juegos independiente nombre pedr..."
      ]
     },
     "execution_count": 6,
     "metadata": {},
     "output_type": "execute_result"
    }
   ],
   "source": [
    "df_cv_processed.head()"
   ]
  },
  {
   "cell_type": "code",
   "execution_count": 6,
   "metadata": {},
   "outputs": [
    {
     "data": {
      "text/html": [
       "<div>\n",
       "<style scoped>\n",
       "    .dataframe tbody tr th:only-of-type {\n",
       "        vertical-align: middle;\n",
       "    }\n",
       "\n",
       "    .dataframe tbody tr th {\n",
       "        vertical-align: top;\n",
       "    }\n",
       "\n",
       "    .dataframe thead th {\n",
       "        text-align: right;\n",
       "    }\n",
       "</style>\n",
       "<table border=\"1\" class=\"dataframe\">\n",
       "  <thead>\n",
       "    <tr style=\"text-align: right;\">\n",
       "      <th></th>\n",
       "      <th>id</th>\n",
       "      <th>job_tokens</th>\n",
       "    </tr>\n",
       "  </thead>\n",
       "  <tbody>\n",
       "    <tr>\n",
       "      <th>0</th>\n",
       "      <td>0</td>\n",
       "      <td>desarrollador software junior aplicaciones móv...</td>\n",
       "    </tr>\n",
       "    <tr>\n",
       "      <th>1</th>\n",
       "      <td>1</td>\n",
       "      <td>ingeniero software full stack tecnologías web ...</td>\n",
       "    </tr>\n",
       "    <tr>\n",
       "      <th>2</th>\n",
       "      <td>2</td>\n",
       "      <td>desarrollador software frontend experiencia us...</td>\n",
       "    </tr>\n",
       "    <tr>\n",
       "      <th>3</th>\n",
       "      <td>3</td>\n",
       "      <td>desarrollador software backend arquitectura mi...</td>\n",
       "    </tr>\n",
       "    <tr>\n",
       "      <th>4</th>\n",
       "      <td>4</td>\n",
       "      <td>ingeniero software juegos desarrollo videojueg...</td>\n",
       "    </tr>\n",
       "  </tbody>\n",
       "</table>\n",
       "</div>"
      ],
      "text/plain": [
       "   id                                         job_tokens\n",
       "0   0  desarrollador software junior aplicaciones móv...\n",
       "1   1  ingeniero software full stack tecnologías web ...\n",
       "2   2  desarrollador software frontend experiencia us...\n",
       "3   3  desarrollador software backend arquitectura mi...\n",
       "4   4  ingeniero software juegos desarrollo videojueg..."
      ]
     },
     "execution_count": 6,
     "metadata": {},
     "output_type": "execute_result"
    }
   ],
   "source": [
    "df_jobs_processed.head()"
   ]
  },
  {
   "cell_type": "code",
   "execution_count": 11,
   "metadata": {},
   "outputs": [],
   "source": [
    "# Carga modelo y generar embeddings\n",
    "embeddings_cv, df_cvs = run_automation_modelling_cv(df_cv_processed)\n",
    "embeddings_job, df_jobs = run_automation_modelling_job(df_jobs_processed)"
   ]
  },
  {
   "cell_type": "markdown",
   "metadata": {},
   "source": [
    "**Calculo similitud del coseno**"
   ]
  },
  {
   "cell_type": "code",
   "execution_count": 12,
   "metadata": {},
   "outputs": [],
   "source": [
    "def calculate_cosine(mean_embedding_1,mean_embedding_2):\n",
    "    similarity_score = cosine_similarity([mean_embedding_1], [mean_embedding_2])[0, 0]\n",
    "    return similarity_score"
   ]
  },
  {
   "cell_type": "code",
   "execution_count": 13,
   "metadata": {},
   "outputs": [],
   "source": [
    "def clean_df_original(df_cv, df_job):\n",
    "    df_cv.iloc[:, 1] = df_cv.iloc[:, 1].apply(lambda x: x.replace('\\n', ' '))\n",
    "    df_job.iloc[:, 1] = df_job.iloc[:, 1].apply(lambda x: x.replace('\\n', ' '))\n",
    "    return df_cv, df_job"
   ]
  },
  {
   "cell_type": "code",
   "execution_count": 16,
   "metadata": {},
   "outputs": [],
   "source": [
    "def similitud_cv(id_cv, id_job):\n",
    "    \n",
    "    # Calcular la media de los embeddings\n",
    "    mean_embedding_1 = np.mean(embeddings_cv[id_cv], axis=0)\n",
    "    mean_embedding_2 = np.mean(embeddings_job[id_job], axis=0)\n",
    "\n",
    "    # Calcular la similitud coseno entre los embeddings\n",
    "    similarity_score = calculate_cosine(mean_embedding_1,mean_embedding_2)\n",
    "\n",
    "    # Limpiamos los saltos de lineas '\\n' de los dataframes originales (sin procesar previamente)\n",
    "    df_cvs, df_jobs = clean_df_original(df_cv_original, df_job_original)\n",
    "    \n",
    "    # Mostrar en pantalla resultados\n",
    "    print(f\"La similaridad entre el CV {id_cv} y la oferta de trabajo {id_job} es de:\", similarity_score)\n",
    "    print('\\n------------')\n",
    "    print(f'CV con id {id_cv}')\n",
    "    print(df_cvs['cv'][id_cv])\n",
    "    print('\\n------------')\n",
    "    print(f'Oferta con id {id_job}')\n",
    "    print(df_jobs['job'][id_job])"
   ]
  },
  {
   "cell_type": "code",
   "execution_count": 17,
   "metadata": {},
   "outputs": [
    {
     "name": "stdout",
     "output_type": "stream",
     "text": [
      "La similaridad entre el CV 8 y la oferta de trabajo 2 es de: 0.6756893\n",
      "\n",
      "------------\n",
      "CV con id 8\n",
      "Desarrollador Web Senior Nombre: Andrés Martínez  Resumen Profesional: Desarrollador web senior con más de 10 años de experiencia en el diseño y desarrollo de sitios web dinámicos y aplicaciones web. Expertise en HTML5, CSS3, JavaScript y frameworks como React.js y Vue.js. Demostrada capacidad para liderar equipos y gestionar proyectos de principio a fin.  Experiencia Laboral:  Desarrollador Web Senior, WebTech Solutions Lideré el equipo de desarrollo en la implementación de una plataforma de comercio electrónico utilizando React.js, incrementando las ventas en un 40%. Educación:  Ingeniería Informática, Universidad Autónoma de Madrid (UAM) Aptitudes:  Desarrollo Web Full-Stack Gestión de Proyectos Liderazgo Técnico   \n",
      "\n",
      "------------\n",
      "Oferta con id 2\n",
      "Desarrollador de Software Frontend - Experiencia de Usuario (UX)  Acerca del empleo: Estamos en busca de un Desarrollador de Software Frontend apasionado por la experiencia de usuario para unirse a nuestro equipo. Esta posición ofrece la oportunidad de trabajar en la creación de interfaces de usuario intuitivas y atractivas para aplicaciones web y móviles.  Responsabilidades:  Desarrollar interfaces de usuario responsivas y visualmente atractivas utilizando HTML, CSS y JavaScript. Colaborar con diseñadores UX/UI para implementar soluciones que mejoren la experiencia del usuario. Optimizar el rendimiento de las aplicaciones frontend y asegurar la compatibilidad con diferentes dispositivos y navegadores. Cualificación:  Mínimo de 2 años de experiencia en desarrollo frontend. Profundo conocimiento de HTML, CSS y JavaScript. Experiencia en frameworks modernos como React, Vue.js o Angular. Lo que ofrecemos:  Proyectos emocionantes con un enfoque en la experiencia del usuario. Oportunidades de crecimiento profesional y desarrollo de habilidades. Ambiente de trabajo colaborativo y creativo.   \n"
     ]
    }
   ],
   "source": [
    "similitud_cv(8, 2)"
   ]
  },
  {
   "cell_type": "markdown",
   "metadata": {},
   "source": [
    "**Extraer en funcion de una oferta de trabajo los cv mas similares**"
   ]
  },
  {
   "cell_type": "code",
   "execution_count": 18,
   "metadata": {},
   "outputs": [],
   "source": [
    "def mean_embedding_job_id(id_job):\n",
    "    # Calcular la media de los embeddings\n",
    "    mean_embedding_job = np.mean(embeddings_job[id_job], axis=0)\n",
    "    return mean_embedding_job"
   ]
  },
  {
   "cell_type": "code",
   "execution_count": 22,
   "metadata": {},
   "outputs": [],
   "source": [
    "def id_to_textCV(list_cv_id_simil, df_cvs):\n",
    "    id_cv = [id_[0] for id_ in list_cv_id_simil]\n",
    "    text_cv = df_cvs.loc[id_cv, 'cv']\n",
    "    return text_cv"
   ]
  },
  {
   "cell_type": "code",
   "execution_count": 23,
   "metadata": {},
   "outputs": [],
   "source": [
    "def shows_cvs_for_this_job(id_job, threshold):\n",
    "    # retornamos el embedding de la oferta de trabajo con id dado\n",
    "    embedding_job=mean_embedding_job_id(id_job)\n",
    "\n",
    "    # Iteramos sobre todos los cv de nuestros embeddings, almacenando la similitud dada por la oferta pasada por parametro\n",
    "    list_cosine_cv = []\n",
    "    for cv in range(len(embeddings_cv)):\n",
    "        # Calcular la media de los embeddings\n",
    "        mean_embedding_cv = np.mean(embeddings_cv[cv], axis=0)\n",
    "        list_cosine_cv.append(cosine_similarity([embedding_job], [mean_embedding_cv])[0, 0])\n",
    "\n",
    "    # Almacenamos unicamente los cv cuya similitud sea mayor o igual al umbral dado por parametro, ordenado descendentemente\n",
    "    values_cv_threshold = sorted([[i,value] for i,value in enumerate(list_cosine_cv) if value >= threshold],\n",
    "                                key=lambda x: x[1], reverse=True)\n",
    "    \n",
    "    # Limpiamos los saltos de lineas '\\n' de los dataframes originales (sin procesar previamente)\n",
    "    df_cvs, df_jobs = clean_df_original(df_cv_original, df_job_original)\n",
    "\n",
    "    # Extraemos el texto correspondiente al id de los cv con el umbral retornado\n",
    "    text_cv = id_to_textCV(values_cv_threshold, df_cvs)\n",
    "    text_job = df_jobs['job'][id_job]\n",
    "\n",
    "    # Pintamos el resultado\n",
    "    print(f'Para la oferta con id {id_job}:')\n",
    "    print(text_job)\n",
    "    print(f'------------\\nSe han encontrado {len(values_cv_threshold)} CV que podrian ser aptos para dicha oferta:')\n",
    "    for i, value in enumerate(text_cv):\n",
    "        print(f'CV {i+1}: {value}')"
   ]
  },
  {
   "cell_type": "code",
   "execution_count": 36,
   "metadata": {},
   "outputs": [
    {
     "name": "stdout",
     "output_type": "stream",
     "text": [
      "Para la oferta con id 18:\n",
      "Científico de Datos en Retail - Especializado en Deep Learning Acerca del empleo: Únete a nuestro equipo como Científico de Datos especializado en Deep Learning para impulsar la innovación en el sector minorista y mejorar la experiencia del cliente.  Responsabilidades:  Investigar, desarrollar y desplegar modelos de deep learning para mejorar la personalización de recomendaciones de productos. Analizar grandes volúmenes de datos transaccionales para identificar patrones de comportamiento del cliente y tendencias de mercado. Colaborar con equipos de negocio para traducir insights de datos en estrategias comerciales efectivas. Cualificación:  Maestría o Doctorado en Ciencia de Datos, Inteligencia Artificial o campo relacionado. Experiencia demostrada en el desarrollo y despliegue de modelos de deep learning en entornos comerciales. Dominio de herramientas y bibliotecas como TensorFlow, PyTorch y Keras. Experiencia previa en el sector minorista o de comercio electrónico es una ventaja. Lo que ofrecemos:  Oportunidad de trabajar en un entorno minorista dinámico y en crecimiento. Colaboración con equipos multidisciplinarios y acceso a tecnologías de vanguardia. Compensación competitiva y beneficios adicionales.   \n",
      "------------\n",
      "Se han encontrado 1 CV que podrian ser aptos para dicha oferta:\n",
      "CV 1: Ingeniero de Datos y Científico de Datos  Nombre: Javier Martínez  Resumen Profesional: Ingeniero de Datos y Científico de Datos con más de 7 años de experiencia en el diseño, desarrollo y despliegue de soluciones analíticas. Especializado en el procesamiento y análisis de grandes volúmenes de datos utilizando tecnologías como Python, Apache Spark y Hadoop. Experiencia en la implementación de modelos de machine learning y deep learning para la extracción de insights y la toma de decisiones basada en datos.  Experiencia Laboral:  Ingeniero de Datos, DataTech Solutions Lideré el diseño e implementación de pipelines de datos utilizando Apache Spark y Hadoop, mejorando la eficiencia del procesamiento de datos en un 50%. Científico de Datos, Analytics Corp. Desarrollé modelos predictivos utilizando técnicas de machine learning y deep learning para predecir la demanda de productos, lo que resultó en una reducción del 20% en los costos de inventario. Educación:  Maestría en Ciencia de Datos, Universidad de Ciencias Aplicadas Aptitudes:  Procesamiento de Grandes Volúmenes de Datos Modelado Predictivo Machine Learning y Deep Learning   \n"
     ]
    }
   ],
   "source": [
    "shows_cvs_for_this_job(id_job=18,threshold=0.7)# id de la oferta de trabajo/umbral de similitud (0-1)"
   ]
  }
 ],
 "metadata": {
  "kernelspec": {
   "display_name": "Python 3",
   "language": "python",
   "name": "python3"
  },
  "language_info": {
   "codemirror_mode": {
    "name": "ipython",
    "version": 3
   },
   "file_extension": ".py",
   "mimetype": "text/x-python",
   "name": "python",
   "nbconvert_exporter": "python",
   "pygments_lexer": "ipython3",
   "version": "3.11.7"
  }
 },
 "nbformat": 4,
 "nbformat_minor": 2
}
