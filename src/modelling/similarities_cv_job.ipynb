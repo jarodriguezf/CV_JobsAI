{
 "cells": [
  {
   "cell_type": "code",
   "execution_count": null,
   "metadata": {},
   "outputs": [],
   "source": [
    "import sys\n",
    "sys.path.append('../../data/automation_scripts_data/')\n",
    "from automation_cv_data_processing import run_processing_data_cv\n",
    "from automation_job_data_processing import run_processing_data_job\n",
    "from automation_scripts_model.automation_cv_modelling import run_automation_modelling_cv\n",
    "from automation_scripts_model.automation_job_modelling import run_automation_modelling_job\n",
    "import pandas as pd\n",
    "import numpy as np\n",
    "from sklearn.metrics.pairwise import cosine_similarity"
   ]
  },
  {
   "cell_type": "code",
   "execution_count": 2,
   "metadata": {},
   "outputs": [],
   "source": [
    "# Cargamos txt de cv\n",
    "raw_cvs_SoftwareDev = open('../../data/raw_data/Data_CV_SoftwareDeveloper.txt',encoding='utf-8').read()\n",
    "raw_cvs_NetworkEng = open('../../data/raw_data/Data_CV_NetworkEngineer.txt',encoding='utf-8').read()\n",
    "raw_cvs_IADev= open('../../data/raw_data/Data_CV_IADeveloper.txt',encoding='utf-8').read()"
   ]
  },
  {
   "cell_type": "code",
   "execution_count": 3,
   "metadata": {},
   "outputs": [],
   "source": [
    "# Cargamos txt de jobs\n",
    "raw_jobs_SoftwareDev = open('../../data/raw_data/Data_Jobs_SoftwareDeveloper.txt',encoding='utf-8').read()\n",
    "raw_jobs_NetworkEng = open('../../data/raw_data/Data_Jobs_NetworkEngineer.txt',encoding='utf-8').read()\n",
    "raw_jobs_IADev= open('../../data/raw_data/Data_Jobs_IADeveloper.txt',encoding='utf-8').read()"
   ]
  },
  {
   "cell_type": "code",
   "execution_count": 4,
   "metadata": {},
   "outputs": [
    {
     "name": "stdout",
     "output_type": "stream",
     "text": [
      "--INICIANDO PROCESAMIENTO--\n",
      "Analizando CVs y extraccion de categorias...\n",
      "Fusionando categorias procesadas...\n",
      "Eliminando valores innecesarios...\n",
      "Estableciendo id de posicion...\n",
      "Convirtiendo a Dataframe...\n",
      "Limpieza inicial de datos...\n",
      "Limpieza semantica de datos...\n",
      "Aplicando mejoras...\n",
      "--FIN DEL PROCESAMIENTO--\n",
      "--INICIANDO PROCESAMIENTO--\n",
      "Analizando Jobs y extraccion de categorias...\n",
      "Fusionando categorias procesadas...\n",
      "Eliminando valores innecesarios...\n",
      "Estableciendo id de posicion...\n",
      "Convirtiendo a Dataframe...\n",
      "Limpieza inicial de datos...\n",
      "Limpieza semantica de datos...\n",
      "Aplicando mejoras...\n",
      "--FIN DEL PROCESAMIENTO--\n"
     ]
    }
   ],
   "source": [
    "# Llamamos al script de procesamiento de datos\n",
    "df_cv_processed = run_processing_data_cv(raw_cvs_SoftwareDev,raw_cvs_NetworkEng,raw_cvs_IADev)\n",
    "df_jobs_processed = run_processing_data_job(raw_jobs_SoftwareDev,raw_jobs_NetworkEng,raw_jobs_IADev)"
   ]
  },
  {
   "cell_type": "code",
   "execution_count": 6,
   "metadata": {},
   "outputs": [
    {
     "data": {
      "text/html": [
       "<div>\n",
       "<style scoped>\n",
       "    .dataframe tbody tr th:only-of-type {\n",
       "        vertical-align: middle;\n",
       "    }\n",
       "\n",
       "    .dataframe tbody tr th {\n",
       "        vertical-align: top;\n",
       "    }\n",
       "\n",
       "    .dataframe thead th {\n",
       "        text-align: right;\n",
       "    }\n",
       "</style>\n",
       "<table border=\"1\" class=\"dataframe\">\n",
       "  <thead>\n",
       "    <tr style=\"text-align: right;\">\n",
       "      <th></th>\n",
       "      <th>id</th>\n",
       "      <th>cv_tokens</th>\n",
       "    </tr>\n",
       "  </thead>\n",
       "  <tbody>\n",
       "    <tr>\n",
       "      <th>0</th>\n",
       "      <td>0</td>\n",
       "      <td>desarrollador full stack experimentado nombre ...</td>\n",
       "    </tr>\n",
       "    <tr>\n",
       "      <th>1</th>\n",
       "      <td>1</td>\n",
       "      <td>desarrollador móvil junior nombre ana garcía r...</td>\n",
       "    </tr>\n",
       "    <tr>\n",
       "      <th>2</th>\n",
       "      <td>2</td>\n",
       "      <td>desarrollador back end especializado nombre ma...</td>\n",
       "    </tr>\n",
       "    <tr>\n",
       "      <th>3</th>\n",
       "      <td>3</td>\n",
       "      <td>desarrollador web front end creativo nombre da...</td>\n",
       "    </tr>\n",
       "    <tr>\n",
       "      <th>4</th>\n",
       "      <td>4</td>\n",
       "      <td>desarrollador juegos independiente nombre pedr...</td>\n",
       "    </tr>\n",
       "  </tbody>\n",
       "</table>\n",
       "</div>"
      ],
      "text/plain": [
       "   id                                          cv_tokens\n",
       "0   0  desarrollador full stack experimentado nombre ...\n",
       "1   1  desarrollador móvil junior nombre ana garcía r...\n",
       "2   2  desarrollador back end especializado nombre ma...\n",
       "3   3  desarrollador web front end creativo nombre da...\n",
       "4   4  desarrollador juegos independiente nombre pedr..."
      ]
     },
     "execution_count": 6,
     "metadata": {},
     "output_type": "execute_result"
    }
   ],
   "source": [
    "df_cv_processed.head()"
   ]
  },
  {
   "cell_type": "code",
   "execution_count": 7,
   "metadata": {},
   "outputs": [
    {
     "data": {
      "text/html": [
       "<div>\n",
       "<style scoped>\n",
       "    .dataframe tbody tr th:only-of-type {\n",
       "        vertical-align: middle;\n",
       "    }\n",
       "\n",
       "    .dataframe tbody tr th {\n",
       "        vertical-align: top;\n",
       "    }\n",
       "\n",
       "    .dataframe thead th {\n",
       "        text-align: right;\n",
       "    }\n",
       "</style>\n",
       "<table border=\"1\" class=\"dataframe\">\n",
       "  <thead>\n",
       "    <tr style=\"text-align: right;\">\n",
       "      <th></th>\n",
       "      <th>id</th>\n",
       "      <th>job_tokens</th>\n",
       "    </tr>\n",
       "  </thead>\n",
       "  <tbody>\n",
       "    <tr>\n",
       "      <th>0</th>\n",
       "      <td>0</td>\n",
       "      <td>desarrollador software junior aplicaciones móv...</td>\n",
       "    </tr>\n",
       "    <tr>\n",
       "      <th>1</th>\n",
       "      <td>1</td>\n",
       "      <td>ingeniero software full stack tecnologías web ...</td>\n",
       "    </tr>\n",
       "    <tr>\n",
       "      <th>2</th>\n",
       "      <td>2</td>\n",
       "      <td>desarrollador software frontend experiencia us...</td>\n",
       "    </tr>\n",
       "    <tr>\n",
       "      <th>3</th>\n",
       "      <td>3</td>\n",
       "      <td>desarrollador software backend arquitectura mi...</td>\n",
       "    </tr>\n",
       "    <tr>\n",
       "      <th>4</th>\n",
       "      <td>4</td>\n",
       "      <td>ingeniero software juegos desarrollo videojueg...</td>\n",
       "    </tr>\n",
       "  </tbody>\n",
       "</table>\n",
       "</div>"
      ],
      "text/plain": [
       "   id                                         job_tokens\n",
       "0   0  desarrollador software junior aplicaciones móv...\n",
       "1   1  ingeniero software full stack tecnologías web ...\n",
       "2   2  desarrollador software frontend experiencia us...\n",
       "3   3  desarrollador software backend arquitectura mi...\n",
       "4   4  ingeniero software juegos desarrollo videojueg..."
      ]
     },
     "execution_count": 7,
     "metadata": {},
     "output_type": "execute_result"
    }
   ],
   "source": [
    "df_jobs_processed.head()"
   ]
  },
  {
   "cell_type": "code",
   "execution_count": 8,
   "metadata": {},
   "outputs": [],
   "source": [
    "# Carga modelo y generar embeddings\n",
    "embeddings_cv, df_cvs = run_automation_modelling_cv(df_cv_processed)\n",
    "embeddings_job, df_jobs = run_automation_modelling_job(df_jobs_processed)"
   ]
  },
  {
   "cell_type": "markdown",
   "metadata": {},
   "source": [
    "**Calculo similitud del coseno**"
   ]
  },
  {
   "cell_type": "code",
   "execution_count": 8,
   "metadata": {},
   "outputs": [],
   "source": [
    "def calculate_cosine(mean_embedding_1,mean_embedding_2):\n",
    "    similarity_score = cosine_similarity([mean_embedding_1], [mean_embedding_2])[0, 0]\n",
    "    return similarity_score"
   ]
  },
  {
   "cell_type": "code",
   "execution_count": 9,
   "metadata": {},
   "outputs": [],
   "source": [
    "def similitud_cv(id_cv, id_job):\n",
    "    \n",
    "    # Calcular la media de los embeddings\n",
    "    mean_embedding_1 = np.mean(embeddings_cv[id_cv], axis=0)\n",
    "    mean_embedding_2 = np.mean(embeddings_job[id_job], axis=0)\n",
    "\n",
    "    # Calcular la similitud coseno entre los embeddings\n",
    "    similarity_score = calculate_cosine(mean_embedding_1,mean_embedding_2)\n",
    "\n",
    "    # Mostrar en pantalla resultados\n",
    "    print(f\"La similaridad entre el CV {id_cv} y la oferta de trabajo {id_job} es de:\", similarity_score)\n",
    "    print('\\n------------')\n",
    "    print(f'CV con id {id_cv}')\n",
    "    print(df_cvs['cv_tokens'][id_cv])\n",
    "    print('\\n------------')\n",
    "    print(f'Oferta con id {id_job}')\n",
    "    print(df_jobs['job_tokens'][id_job])"
   ]
  },
  {
   "cell_type": "code",
   "execution_count": 10,
   "metadata": {},
   "outputs": [
    {
     "name": "stdout",
     "output_type": "stream",
     "text": [
      "La similaridad entre el CV 8 y la oferta de trabajo 2 es de: 0.6782929\n",
      "\n",
      "------------\n",
      "CV con id 8\n",
      "desarrollador web senior nombre andrés martínez resumen profesional desarrollador web senior 10 años experiencia diseño desarrollo sitios web dinámicos aplicaciones web expertise html5 css3 javascript framework react j vue j demostrada capacidad liderar equipos gestionar proyectos principio fin experiencia laboral desarrollador web senior webtech solution lideré equipo desarrollo implementación plataforma comercio electrónico utilizando react j incrementando ventas 40 educación ingeniería informática universidad autónoma madrid uam aptitude desarrollo web full stack gestión proyectos liderazgo técnico\n",
      "\n",
      "------------\n",
      "Oferta con id 2\n",
      "desarrollador software frontend experiencia usuario ux acerca empleo busca desarrollador software frontend apasionado experiencia usuario unirse equipo posición ofrece oportunidad trabajar creación interface usuario intuitivas atractivas aplicaciones web móviles responsabilidades desarrollar interface usuario responsivas visualmente atractivas utilizando html cs javascript colaborar diseñadores ux ui implementar soluciones mejoren experiencia usuario optimizar rendimiento aplicaciones frontend asegurar compatibilidad diferentes dispositivos navegadores cualificación mínimo 2 años experiencia desarrollo frontend profundo conocimiento html cs javascript experiencia framework modernos react vue j angular ofrecemos proyectos emocionantes enfoque experiencia usuario oportunidades crecimiento profesional desarrollo habilidades ambiente trabajo colaborativo creativo\n"
     ]
    }
   ],
   "source": [
    "similitud_cv(8, 2)"
   ]
  },
  {
   "cell_type": "markdown",
   "metadata": {},
   "source": [
    "**Extraer en funcion de una oferta de trabajo los cv mas similares**"
   ]
  },
  {
   "cell_type": "code",
   "execution_count": 9,
   "metadata": {},
   "outputs": [],
   "source": [
    "def mean_embedding_job_id(id_job):\n",
    "    # Calcular la media de los embeddings\n",
    "    mean_embedding_job = np.mean(embeddings_job[id_job], axis=0)\n",
    "    return mean_embedding_job"
   ]
  },
  {
   "cell_type": "code",
   "execution_count": 10,
   "metadata": {},
   "outputs": [],
   "source": [
    "def id_to_textCV(list_cv_id_simil):\n",
    "    id_cv = [id_[0] for id_ in list_cv_id_simil]\n",
    "    text_cv = df_cvs.loc[id_cv, 'cv_tokens']\n",
    "    return text_cv"
   ]
  },
  {
   "cell_type": "code",
   "execution_count": 11,
   "metadata": {},
   "outputs": [],
   "source": [
    "def shows_cvs_for_this_job(id_job, threshold):\n",
    "    # retornamos el embedding de la oferta de trabajo con id dado\n",
    "    embedding_job=mean_embedding_job_id(id_job)\n",
    "\n",
    "    # Iteramos sobre todos los cv de nuestros embeddings, almacenando la similitud dada por la oferta pasada por parametro\n",
    "    list_cosine_cv = []\n",
    "    for cv in range(len(embeddings_cv)):\n",
    "        # Calcular la media de los embeddings\n",
    "        mean_embedding_cv = np.mean(embeddings_cv[cv], axis=0)\n",
    "        list_cosine_cv.append(cosine_similarity([embedding_job], [mean_embedding_cv])[0, 0])\n",
    "\n",
    "    # Almacenamos unicamente los cv cuya similitud sea mayor o igual al umbral dado por parametro, ordenado descendentemente\n",
    "    values_cv_threshold = sorted([[i,value] for i,value in enumerate(list_cosine_cv) if value >= threshold],\n",
    "                                key=lambda x: x[1], reverse=True)\n",
    "  \n",
    "    # Extraemos el texto correspondiente al id de los cv con el umbral retornado\n",
    "    text_cv = id_to_textCV(values_cv_threshold)\n",
    "    text_job = df_jobs['job_tokens'][id_job]\n",
    "\n",
    "    # Pintamos el resultado\n",
    "    print(f'Para la oferta con id {id_job}:')\n",
    "    print(text_job)\n",
    "    print(f'------------\\nSe han encontrado {len(values_cv_threshold)} CV que podrian ser aptos para dicha oferta:')\n",
    "    for i, value in enumerate(text_cv):\n",
    "        print(f'CV {i+1}: {value}')"
   ]
  },
  {
   "cell_type": "code",
   "execution_count": 30,
   "metadata": {},
   "outputs": [
    {
     "name": "stdout",
     "output_type": "stream",
     "text": [
      "Para la oferta con id 2:\n",
      "desarrollador software frontend experiencia usuario ux acerca empleo busca desarrollador software frontend apasionado experiencia usuario unirse equipo posición ofrece oportunidad trabajar creación interface usuario intuitivas atractivas aplicaciones web móviles responsabilidades desarrollar interface usuario responsivas visualmente atractivas utilizando html cs javascript colaborar diseñadores ux ui implementar soluciones mejoren experiencia usuario optimizar rendimiento aplicaciones frontend asegurar compatibilidad diferentes dispositivos navegadores cualificación mínimo 2 años experiencia desarrollo frontend profundo conocimiento html cs javascript experiencia framework modernos react vue j angular ofrecemos proyectos emocionantes enfoque experiencia usuario oportunidades crecimiento profesional desarrollo habilidades ambiente trabajo colaborativo creativo\n",
      "------------\n",
      "Se han encontrado 5 CV que podrian ser aptos para dicha oferta:\n",
      "CV 1: desarrollador web front end creativo nombre david martínez resumen profesional desarrollador front end pasión diseño experiencia usuario experto html5 css3 javascript conocimientos framework react j vue j capacidad demostrada traducir diseños creativos interface web funcionales atractivas experiencia laboral desarrollador front end creativeweb agency lideré implementación interface web interactivas utilizando react j mejorando experiencia usuario aumentando retención 20 educación licenciatura diseño web universidad autónoma barcelona uab aptitude desarrollo front end diseño interface usuario ui creatividad\n",
      "CV 2: diseñadora desarrolladora web nombre sofía guerrero resumen profesional diseñadora desarrolladora web 5 años experiencia habilidades diseño gráfico html cs javascript framework bootstrap tailwind cs pasión diseño creativo funcional experiencia laboral diseñadora web creative design studio desarrollé conceptos visuales sitios web mejoraron identidad marca clientes desarrolladora front end techart solution implementé diseños web responsivos aumentaron retención usuarios educación diploma diseño web instituto europeo diseño ied aptitude diseño web creativo desarrollo front end brand identidad visual\n",
      "CV 3: desarrollador web front end junior nombre andrés ramírez resumen profesional desarrollador web front end 2 años experiencia conocimientos html cs javascript react entusiasta tecnología enfoque creación sitios web responsivos accesibles experiencia laboral desarrollador front end startweb solution participé desarrollo interface usuario aplicaciones web startup tecnológicas asistente desarrollo web freelance colaboré varios proyectos freelance mejorando habilidades diseño web codificación educación técnico superior desarrollo aplicaciones web centro estudios tecnológicos aptitude desarrollo front end responsive design trabajo equipo\n",
      "CV 4: desarrollador web full stack experiencia commerce nombre maría gonzález resumen profesional desarrolladora web full stack experiencia diseño desarrollo mantenimiento sitios web comercio electrónico conocimientos html cs javascript php experiencia uso cm wordpress plataformas commerce woocommerce enfoque creación experiencias usuario intuitivas seguras experiencia laboral desarrolladora web full stack commerce solution ltd contribuí desarrollo mantenimiento múltiples sitios web comercio electrónico utilizando wordpress woocommerce mejorando experiencia usuario aumentando conversiones educación licenciatura ingeniería sistemas universidad nacional educación distancia uned aptitude desarrollo web full stack commerce experiencia usuario ux\n",
      "CV 5: desarrollador front end senior nombre laura fernández resumen profesional desarrolladora front end 6 años experiencia creación interface web interactivas amigables experta html cs javascript framework react j angular capacidad demostrada trabajar equipo gestionar proyectos principio fin experiencia laboral desarrolladora front end senior webdev solution dirigí equipo desarrollo implementación plataforma gestión contenidos utilizando react j mejorando velocidad carga 50 educación ingeniería informática universidad politécnica madrid upm aptitude desarrollo front end gestión proyectos colaboración equipo\n"
     ]
    }
   ],
   "source": [
    "shows_cvs_for_this_job(id_job=2,threshold=0.7)# id de la oferta de trabajo/umbral de similitud (0-1)"
   ]
  }
 ],
 "metadata": {
  "kernelspec": {
   "display_name": "Python 3",
   "language": "python",
   "name": "python3"
  },
  "language_info": {
   "codemirror_mode": {
    "name": "ipython",
    "version": 3
   },
   "file_extension": ".py",
   "mimetype": "text/x-python",
   "name": "python",
   "nbconvert_exporter": "python",
   "pygments_lexer": "ipython3",
   "version": "3.11.7"
  }
 },
 "nbformat": 4,
 "nbformat_minor": 2
}
