{
 "cells": [
  {
   "cell_type": "code",
   "execution_count": null,
   "metadata": {},
   "outputs": [],
   "source": [
    "import pandas as pd\n",
    "import numpy as np\n",
    "from sklearn.metrics.pairwise import cosine_similarity\n",
    "from automation_cv_modelling import run_automation_modelling_cv\n",
    "from automation_job_modelling import run_automation_modelling_job"
   ]
  },
  {
   "cell_type": "code",
   "execution_count": 2,
   "metadata": {},
   "outputs": [],
   "source": [
    "df_cvs = pd.read_csv('../../data/raw_data/datasets/cv_raw_V0')\n",
    "df_jobs = pd.read_csv('../../data/raw_data/datasets/job_raw_V0')"
   ]
  },
  {
   "cell_type": "code",
   "execution_count": 3,
   "metadata": {},
   "outputs": [],
   "source": [
    "# Carga de script modelos y procesamiento de embeddings\n",
    "embeddings_cv, df_cvs = run_automation_modelling_cv(df_cvs)\n",
    "embeddings_job, df_jobs = run_automation_modelling_job(df_jobs)"
   ]
  },
  {
   "cell_type": "markdown",
   "metadata": {},
   "source": [
    "**Calculo del coseno**"
   ]
  },
  {
   "cell_type": "code",
   "execution_count": 6,
   "metadata": {},
   "outputs": [],
   "source": [
    "def calculate_cosine(mean_embedding_1,mean_embedding_2):\n",
    "    similarity_score = cosine_similarity([mean_embedding_1], [mean_embedding_2])[0, 0]\n",
    "    return similarity_score"
   ]
  },
  {
   "cell_type": "code",
   "execution_count": 7,
   "metadata": {},
   "outputs": [],
   "source": [
    "def similitud_cv(id_cv, id_job):\n",
    "    \n",
    "    # Calcular la media de los embeddings\n",
    "    mean_embedding_1 = np.mean(embeddings_cv[id_cv], axis=0)\n",
    "    mean_embedding_2 = np.mean(embeddings_job[id_job], axis=0)\n",
    "\n",
    "    # Calcular la similitud coseno entre los embeddings\n",
    "    similarity_score = calculate_cosine(mean_embedding_1,mean_embedding_2)\n",
    "\n",
    "    # Mostrar en pantalla resultados\n",
    "    print(f\"La similaridad entre el CV {id_cv} y la oferta de trabajo {id_job} es de:\", similarity_score)\n",
    "    print('\\n------------')\n",
    "    print(f'CV con id {id_cv}')\n",
    "    print(df_cvs['cv'][id_cv])\n",
    "    print('\\n------------')\n",
    "    print(f'Oferta con id {id_job}')\n",
    "    print(df_jobs['job'][id_job])"
   ]
  },
  {
   "cell_type": "code",
   "execution_count": 51,
   "metadata": {},
   "outputs": [
    {
     "name": "stdout",
     "output_type": "stream",
     "text": [
      "La similaridad entre el CV 8 y la oferta de trabajo 1 es de: 0.65362847\n",
      "\n",
      "------------\n",
      "CV con id 8\n",
      "Desarrollador Web Senior Nombre: Andrés Martínez  Resumen Profesional: Desarrollador web senior con más de 10 años de experiencia en el diseño y desarrollo de sitios web dinámicos y aplicaciones web. Expertise en HTML5, CSS3, JavaScript y frameworks como React.js y Vue.js. Demostrada capacidad para liderar equipos y gestionar proyectos de principio a fin.  Experiencia Laboral:  Desarrollador Web Senior, WebTech Solutions Lideré el equipo de desarrollo en la implementación de una plataforma de comercio electrónico utilizando React.js, incrementando las ventas en un 40%. Educación:  Ingeniería Informática, Universidad Autónoma de Madrid (UAM) Aptitudes:  Desarrollo Web Full-Stack Gestión de Proyectos Liderazgo Técnico   \n",
      "\n",
      "------------\n",
      "Oferta con id 1\n",
      "Ingeniero de Software Full Stack - Tecnologías Web Modernas  Acerca del empleo: Estamos buscando un Ingeniero de Software Full Stack para unirse a nuestro equipo y trabajar en proyectos emocionantes que utilicen las últimas tecnologías web. Esta posición ofrece la oportunidad de contribuir al desarrollo completo de soluciones digitales y mejorar tus habilidades técnicas.  Responsabilidades:  Desarrollar aplicaciones web utilizando tecnologías frontend y backend. Colaborar con diseñadores y otros desarrolladores para implementar interfaces de usuario atractivas y funcionales. Participar en el diseño de arquitecturas de software escalables y eficientes. Cualificación:  Grado en Ciencias de la Computación, Ingeniería de Software o similar. Experiencia demostrable de al menos 3 años en desarrollo full stack. Profundo conocimiento de tecnologías web modernas como JavaScript, Node.js, React.js, Angular, y bases de datos relacionales y no relacionales. Lo que ofrecemos:  Proyectos desafiantes y ambiente de trabajo dinámico. Oportunidades de formación y desarrollo profesional. Remuneración competitiva y beneficios adicionales.   \n"
     ]
    }
   ],
   "source": [
    "similitud_cv(8, 1)"
   ]
  }
 ],
 "metadata": {
  "kernelspec": {
   "display_name": "Python 3",
   "language": "python",
   "name": "python3"
  },
  "language_info": {
   "codemirror_mode": {
    "name": "ipython",
    "version": 3
   },
   "file_extension": ".py",
   "mimetype": "text/x-python",
   "name": "python",
   "nbconvert_exporter": "python",
   "pygments_lexer": "ipython3",
   "version": "3.11.7"
  }
 },
 "nbformat": 4,
 "nbformat_minor": 2
}
